{
  "nbformat": 4,
  "nbformat_minor": 0,
  "metadata": {
    "colab": {
      "name": "(Andhi Hamzah) BikeShare.ipynb",
      "provenance": [],
      "collapsed_sections": [
        "cJQyjbAjHqK9",
        "cGCIt2sWIghM",
        "ULQz1INTNIdH",
        "MUe6T1piOfIq",
        "z6tYCUDEQoPb",
        "MvCmGh7ERR90"
      ],
      "mount_file_id": "1xGQz7pl1AvlxpMjLjGEo42Ox0XLhiV1U",
      "authorship_tag": "ABX9TyPQQJ2O0DQcXYJpT4QgO/Y+",
      "include_colab_link": true
    },
    "kernelspec": {
      "name": "python3",
      "display_name": "Python 3"
    }
  },
  "cells": [
    {
      "cell_type": "markdown",
      "metadata": {
        "id": "view-in-github",
        "colab_type": "text"
      },
      "source": [
        "<a href=\"https://colab.research.google.com/github/Andhi1710/python/blob/main/(Andhi_Hamzah)_BikeShare.ipynb\" target=\"_parent\"><img src=\"https://colab.research.google.com/assets/colab-badge.svg\" alt=\"Open In Colab\"/></a>"
      ]
    },
    {
      "cell_type": "markdown",
      "metadata": {
        "id": "jRU0AF3vG1QW"
      },
      "source": [
        " Bikeshares\n",
        "\n",
        "a) Find out what percentage of bikes are\n",
        "returned to its initial location?\n",
        "\n",
        "b) How many bikeshare trips usually\n",
        "visit more than just start/end points,\n",
        "but visited some other points before\n",
        "the end of the day?"
      ]
    },
    {
      "cell_type": "markdown",
      "metadata": {
        "id": "cJQyjbAjHqK9"
      },
      "source": [
        "# Data Import"
      ]
    },
    {
      "cell_type": "code",
      "metadata": {
        "id": "cH4XwKLCs9ZT",
        "outputId": "0a512958-3353-4ae5-c4c8-b1ca7dfea368",
        "colab": {
          "base_uri": "https://localhost:8080/",
          "height": 241
        }
      },
      "source": [
        "!pip install kaggle"
      ],
      "execution_count": 3,
      "outputs": [
        {
          "output_type": "stream",
          "text": [
            "Requirement already satisfied: kaggle in /usr/local/lib/python3.6/dist-packages (1.5.8)\n",
            "Requirement already satisfied: urllib3<1.25,>=1.21.1 in /usr/local/lib/python3.6/dist-packages (from kaggle) (1.24.3)\n",
            "Requirement already satisfied: certifi in /usr/local/lib/python3.6/dist-packages (from kaggle) (2020.6.20)\n",
            "Requirement already satisfied: requests in /usr/local/lib/python3.6/dist-packages (from kaggle) (2.23.0)\n",
            "Requirement already satisfied: tqdm in /usr/local/lib/python3.6/dist-packages (from kaggle) (4.41.1)\n",
            "Requirement already satisfied: python-slugify in /usr/local/lib/python3.6/dist-packages (from kaggle) (4.0.1)\n",
            "Requirement already satisfied: six>=1.10 in /usr/local/lib/python3.6/dist-packages (from kaggle) (1.15.0)\n",
            "Requirement already satisfied: slugify in /usr/local/lib/python3.6/dist-packages (from kaggle) (0.0.1)\n",
            "Requirement already satisfied: python-dateutil in /usr/local/lib/python3.6/dist-packages (from kaggle) (2.8.1)\n",
            "Requirement already satisfied: chardet<4,>=3.0.2 in /usr/local/lib/python3.6/dist-packages (from requests->kaggle) (3.0.4)\n",
            "Requirement already satisfied: idna<3,>=2.5 in /usr/local/lib/python3.6/dist-packages (from requests->kaggle) (2.10)\n",
            "Requirement already satisfied: text-unidecode>=1.3 in /usr/local/lib/python3.6/dist-packages (from python-slugify->kaggle) (1.3)\n"
          ],
          "name": "stdout"
        }
      ]
    },
    {
      "cell_type": "code",
      "metadata": {
        "id": "EBLYBq4Us_cm",
        "outputId": "17efbf10-71b3-42b5-95bf-e8e3ba7c475a",
        "colab": {
          "resources": {
            "http://localhost:8080/nbextensions/google.colab/files.js": {
              "data": "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",
              "ok": true,
              "headers": [
                [
                  "content-type",
                  "application/javascript"
                ]
              ],
              "status": 200,
              "status_text": ""
            }
          },
          "base_uri": "https://localhost:8080/",
          "height": 89
        }
      },
      "source": [
        "from google.colab import files\n",
        "files.upload()"
      ],
      "execution_count": 4,
      "outputs": [
        {
          "output_type": "display_data",
          "data": {
            "text/html": [
              "\n",
              "     <input type=\"file\" id=\"files-cfa8683e-3d5e-44fc-a1c0-58c906f8460d\" name=\"files[]\" multiple disabled\n",
              "        style=\"border:none\" />\n",
              "     <output id=\"result-cfa8683e-3d5e-44fc-a1c0-58c906f8460d\">\n",
              "      Upload widget is only available when the cell has been executed in the\n",
              "      current browser session. Please rerun this cell to enable.\n",
              "      </output>\n",
              "      <script src=\"/nbextensions/google.colab/files.js\"></script> "
            ],
            "text/plain": [
              "<IPython.core.display.HTML object>"
            ]
          },
          "metadata": {
            "tags": []
          }
        },
        {
          "output_type": "stream",
          "text": [
            "Saving kaggle.json to kaggle.json\n"
          ],
          "name": "stdout"
        },
        {
          "output_type": "execute_result",
          "data": {
            "text/plain": [
              "{'kaggle.json': b'{\"username\":\"andhihamzah\",\"key\":\"b3afadbe6663a10cdcd7032c54f70376\"}'}"
            ]
          },
          "metadata": {
            "tags": []
          },
          "execution_count": 4
        }
      ]
    },
    {
      "cell_type": "code",
      "metadata": {
        "id": "sACxvK5-tBak"
      },
      "source": [
        "!mkdir -p ~/.kaggle\n",
        "!cp kaggle.json ~/.kaggle/\n",
        "!chmod 600 ~/.kaggle/kaggle.json"
      ],
      "execution_count": 5,
      "outputs": []
    },
    {
      "cell_type": "code",
      "metadata": {
        "id": "RLPiSpKBtDQO",
        "outputId": "d04fe6cf-2bcb-423f-e9e5-8d5c1206eabe",
        "colab": {
          "base_uri": "https://localhost:8080/",
          "height": 68
        }
      },
      "source": [
        "!kaggle datasets download -d jackywang529/toronto-bikeshare-data"
      ],
      "execution_count": 6,
      "outputs": [
        {
          "output_type": "stream",
          "text": [
            "Downloading toronto-bikeshare-data.zip to /content\n",
            " 98% 57.0M/58.4M [00:03<00:00, 11.5MB/s]\n",
            "100% 58.4M/58.4M [00:03<00:00, 19.6MB/s]\n"
          ],
          "name": "stdout"
        }
      ]
    },
    {
      "cell_type": "code",
      "metadata": {
        "id": "2okiEXVotXbp",
        "outputId": "979fcc2a-13cb-4c09-ee55-3459b50791a9",
        "colab": {
          "base_uri": "https://localhost:8080/",
          "height": 34
        }
      },
      "source": [
        "!ls"
      ],
      "execution_count": 7,
      "outputs": [
        {
          "output_type": "stream",
          "text": [
            "drive  kaggle.json  sample_data  toronto-bikeshare-data.zip\n"
          ],
          "name": "stdout"
        }
      ]
    },
    {
      "cell_type": "code",
      "metadata": {
        "id": "VjSeQZaytgaj"
      },
      "source": [
        "import zipfile\n",
        "zip_ref = zipfile.ZipFile('toronto-bikeshare-data.zip', 'r')\n",
        "zip_ref.extractall('files')\n",
        "zip_ref.close()"
      ],
      "execution_count": 9,
      "outputs": []
    },
    {
      "cell_type": "code",
      "metadata": {
        "id": "RpidOgAKG_ki",
        "outputId": "99a80c47-dc30-44da-f36f-335fd9185585",
        "colab": {
          "base_uri": "https://localhost:8080/",
          "height": 326
        }
      },
      "source": [
        "#memasukkan data \n",
        "import pandas as pd\n",
        "import numpy as np\n",
        "df1 = pd.read_csv(\"/content/files/bikeshare2018/bikeshare2018/Bike Share Toronto Ridership_Q1 2018.csv\")\n",
        "df2 = pd.read_csv(\"/content/files/bikeshare2018/bikeshare2018/Bike Share Toronto Ridership_Q1 2018.csv\")\n",
        "df3 = pd.read_csv(\"/content/files/bikeshare2018/bikeshare2018/Bike Share Toronto Ridership_Q1 2018.csv\")\n",
        "df4 = pd.read_csv(\"/content/files/bikeshare2018/bikeshare2018/Bike Share Toronto Ridership_Q1 2018.csv\")\n",
        "df = df1.copy()\n",
        "df = df.append([df2, df3, df4], sort=False)\n",
        "df.head()"
      ],
      "execution_count": 10,
      "outputs": [
        {
          "output_type": "execute_result",
          "data": {
            "text/html": [
              "<div>\n",
              "<style scoped>\n",
              "    .dataframe tbody tr th:only-of-type {\n",
              "        vertical-align: middle;\n",
              "    }\n",
              "\n",
              "    .dataframe tbody tr th {\n",
              "        vertical-align: top;\n",
              "    }\n",
              "\n",
              "    .dataframe thead th {\n",
              "        text-align: right;\n",
              "    }\n",
              "</style>\n",
              "<table border=\"1\" class=\"dataframe\">\n",
              "  <thead>\n",
              "    <tr style=\"text-align: right;\">\n",
              "      <th></th>\n",
              "      <th>trip_id</th>\n",
              "      <th>trip_duration_seconds</th>\n",
              "      <th>from_station_id</th>\n",
              "      <th>trip_start_time</th>\n",
              "      <th>from_station_name</th>\n",
              "      <th>trip_stop_time</th>\n",
              "      <th>to_station_id</th>\n",
              "      <th>to_station_name</th>\n",
              "      <th>user_type</th>\n",
              "    </tr>\n",
              "  </thead>\n",
              "  <tbody>\n",
              "    <tr>\n",
              "      <th>0</th>\n",
              "      <td>2383648</td>\n",
              "      <td>393</td>\n",
              "      <td>7018</td>\n",
              "      <td>1/1/2018 0:47</td>\n",
              "      <td>Bremner Blvd / Rees St</td>\n",
              "      <td>1/1/2018 0:54</td>\n",
              "      <td>7176</td>\n",
              "      <td>Bathurst St / Fort York Blvd</td>\n",
              "      <td>Annual Member</td>\n",
              "    </tr>\n",
              "    <tr>\n",
              "      <th>1</th>\n",
              "      <td>2383649</td>\n",
              "      <td>625</td>\n",
              "      <td>7184</td>\n",
              "      <td>1/1/2018 0:52</td>\n",
              "      <td>Ossington Ave / College St</td>\n",
              "      <td>1/1/2018 1:03</td>\n",
              "      <td>7191</td>\n",
              "      <td>Central Tech  (Harbord St)</td>\n",
              "      <td>Annual Member</td>\n",
              "    </tr>\n",
              "    <tr>\n",
              "      <th>2</th>\n",
              "      <td>2383650</td>\n",
              "      <td>233</td>\n",
              "      <td>7235</td>\n",
              "      <td>1/1/2018 0:55</td>\n",
              "      <td>Bay St / College St (West Side) - SMART</td>\n",
              "      <td>1/1/2018 0:59</td>\n",
              "      <td>7021</td>\n",
              "      <td>Bay St / Albert St</td>\n",
              "      <td>Annual Member</td>\n",
              "    </tr>\n",
              "    <tr>\n",
              "      <th>3</th>\n",
              "      <td>2383651</td>\n",
              "      <td>1138</td>\n",
              "      <td>7202</td>\n",
              "      <td>1/1/2018 0:57</td>\n",
              "      <td>Queen St W / York St (City Hall)</td>\n",
              "      <td>1/1/2018 1:16</td>\n",
              "      <td>7020</td>\n",
              "      <td>Phoebe St / Spadina Ave</td>\n",
              "      <td>Annual Member</td>\n",
              "    </tr>\n",
              "    <tr>\n",
              "      <th>4</th>\n",
              "      <td>2383652</td>\n",
              "      <td>703</td>\n",
              "      <td>7004</td>\n",
              "      <td>1/1/2018 1:00</td>\n",
              "      <td>University Ave / Elm St</td>\n",
              "      <td>1/1/2018 1:12</td>\n",
              "      <td>7060</td>\n",
              "      <td>Princess St / Adelaide St E</td>\n",
              "      <td>Annual Member</td>\n",
              "    </tr>\n",
              "  </tbody>\n",
              "</table>\n",
              "</div>"
            ],
            "text/plain": [
              "   trip_id  trip_duration_seconds  ...               to_station_name      user_type\n",
              "0  2383648                    393  ...  Bathurst St / Fort York Blvd  Annual Member\n",
              "1  2383649                    625  ...    Central Tech  (Harbord St)  Annual Member\n",
              "2  2383650                    233  ...            Bay St / Albert St  Annual Member\n",
              "3  2383651                   1138  ...       Phoebe St / Spadina Ave  Annual Member\n",
              "4  2383652                    703  ...   Princess St / Adelaide St E  Annual Member\n",
              "\n",
              "[5 rows x 9 columns]"
            ]
          },
          "metadata": {
            "tags": []
          },
          "execution_count": 10
        }
      ]
    },
    {
      "cell_type": "code",
      "metadata": {
        "id": "l7LiN-29H2OV",
        "outputId": "33f0aff6-61a6-40fc-9cd1-8ae7a8fa2aa0",
        "colab": {
          "base_uri": "https://localhost:8080/",
          "height": 427
        }
      },
      "source": [
        "#melihat statistik deskriptif\n",
        "df.describe(include='all')"
      ],
      "execution_count": 11,
      "outputs": [
        {
          "output_type": "execute_result",
          "data": {
            "text/html": [
              "<div>\n",
              "<style scoped>\n",
              "    .dataframe tbody tr th:only-of-type {\n",
              "        vertical-align: middle;\n",
              "    }\n",
              "\n",
              "    .dataframe tbody tr th {\n",
              "        vertical-align: top;\n",
              "    }\n",
              "\n",
              "    .dataframe thead th {\n",
              "        text-align: right;\n",
              "    }\n",
              "</style>\n",
              "<table border=\"1\" class=\"dataframe\">\n",
              "  <thead>\n",
              "    <tr style=\"text-align: right;\">\n",
              "      <th></th>\n",
              "      <th>trip_id</th>\n",
              "      <th>trip_duration_seconds</th>\n",
              "      <th>from_station_id</th>\n",
              "      <th>trip_start_time</th>\n",
              "      <th>from_station_name</th>\n",
              "      <th>trip_stop_time</th>\n",
              "      <th>to_station_id</th>\n",
              "      <th>to_station_name</th>\n",
              "      <th>user_type</th>\n",
              "    </tr>\n",
              "  </thead>\n",
              "  <tbody>\n",
              "    <tr>\n",
              "      <th>count</th>\n",
              "      <td>7.142360e+05</td>\n",
              "      <td>714236.000000</td>\n",
              "      <td>714236.000000</td>\n",
              "      <td>714236</td>\n",
              "      <td>714236</td>\n",
              "      <td>714236</td>\n",
              "      <td>714236.000000</td>\n",
              "      <td>714236</td>\n",
              "      <td>714236</td>\n",
              "    </tr>\n",
              "    <tr>\n",
              "      <th>unique</th>\n",
              "      <td>NaN</td>\n",
              "      <td>NaN</td>\n",
              "      <td>NaN</td>\n",
              "      <td>69859</td>\n",
              "      <td>270</td>\n",
              "      <td>69634</td>\n",
              "      <td>NaN</td>\n",
              "      <td>270</td>\n",
              "      <td>2</td>\n",
              "    </tr>\n",
              "    <tr>\n",
              "      <th>top</th>\n",
              "      <td>NaN</td>\n",
              "      <td>NaN</td>\n",
              "      <td>NaN</td>\n",
              "      <td>3/28/2018 8:52</td>\n",
              "      <td>Sherbourne St / Wellesley St E</td>\n",
              "      <td>2/27/2018 8:55</td>\n",
              "      <td>NaN</td>\n",
              "      <td>Union Station</td>\n",
              "      <td>Annual Member</td>\n",
              "    </tr>\n",
              "    <tr>\n",
              "      <th>freq</th>\n",
              "      <td>NaN</td>\n",
              "      <td>NaN</td>\n",
              "      <td>NaN</td>\n",
              "      <td>76</td>\n",
              "      <td>11284</td>\n",
              "      <td>96</td>\n",
              "      <td>NaN</td>\n",
              "      <td>16192</td>\n",
              "      <td>673236</td>\n",
              "    </tr>\n",
              "    <tr>\n",
              "      <th>mean</th>\n",
              "      <td>2.497156e+06</td>\n",
              "      <td>696.457479</td>\n",
              "      <td>7111.200931</td>\n",
              "      <td>NaN</td>\n",
              "      <td>NaN</td>\n",
              "      <td>NaN</td>\n",
              "      <td>7109.080192</td>\n",
              "      <td>NaN</td>\n",
              "      <td>NaN</td>\n",
              "    </tr>\n",
              "    <tr>\n",
              "      <th>std</th>\n",
              "      <td>6.296187e+04</td>\n",
              "      <td>907.875489</td>\n",
              "      <td>88.876208</td>\n",
              "      <td>NaN</td>\n",
              "      <td>NaN</td>\n",
              "      <td>NaN</td>\n",
              "      <td>88.199105</td>\n",
              "      <td>NaN</td>\n",
              "      <td>NaN</td>\n",
              "    </tr>\n",
              "    <tr>\n",
              "      <th>min</th>\n",
              "      <td>2.383648e+06</td>\n",
              "      <td>60.000000</td>\n",
              "      <td>7000.000000</td>\n",
              "      <td>NaN</td>\n",
              "      <td>NaN</td>\n",
              "      <td>NaN</td>\n",
              "      <td>7000.000000</td>\n",
              "      <td>NaN</td>\n",
              "      <td>NaN</td>\n",
              "    </tr>\n",
              "    <tr>\n",
              "      <th>25%</th>\n",
              "      <td>2.443541e+06</td>\n",
              "      <td>365.000000</td>\n",
              "      <td>7034.000000</td>\n",
              "      <td>NaN</td>\n",
              "      <td>NaN</td>\n",
              "      <td>NaN</td>\n",
              "      <td>7034.000000</td>\n",
              "      <td>NaN</td>\n",
              "      <td>NaN</td>\n",
              "    </tr>\n",
              "    <tr>\n",
              "      <th>50%</th>\n",
              "      <td>2.498112e+06</td>\n",
              "      <td>555.000000</td>\n",
              "      <td>7077.000000</td>\n",
              "      <td>NaN</td>\n",
              "      <td>NaN</td>\n",
              "      <td>NaN</td>\n",
              "      <td>7076.000000</td>\n",
              "      <td>NaN</td>\n",
              "      <td>NaN</td>\n",
              "    </tr>\n",
              "    <tr>\n",
              "      <th>75%</th>\n",
              "      <td>2.551270e+06</td>\n",
              "      <td>837.000000</td>\n",
              "      <td>7180.000000</td>\n",
              "      <td>NaN</td>\n",
              "      <td>NaN</td>\n",
              "      <td>NaN</td>\n",
              "      <td>7177.000000</td>\n",
              "      <td>NaN</td>\n",
              "      <td>NaN</td>\n",
              "    </tr>\n",
              "    <tr>\n",
              "      <th>max</th>\n",
              "      <td>2.605023e+06</td>\n",
              "      <td>55077.000000</td>\n",
              "      <td>7289.000000</td>\n",
              "      <td>NaN</td>\n",
              "      <td>NaN</td>\n",
              "      <td>NaN</td>\n",
              "      <td>7289.000000</td>\n",
              "      <td>NaN</td>\n",
              "      <td>NaN</td>\n",
              "    </tr>\n",
              "  </tbody>\n",
              "</table>\n",
              "</div>"
            ],
            "text/plain": [
              "             trip_id  trip_duration_seconds  ...  to_station_name      user_type\n",
              "count   7.142360e+05          714236.000000  ...           714236         714236\n",
              "unique           NaN                    NaN  ...              270              2\n",
              "top              NaN                    NaN  ...    Union Station  Annual Member\n",
              "freq             NaN                    NaN  ...            16192         673236\n",
              "mean    2.497156e+06             696.457479  ...              NaN            NaN\n",
              "std     6.296187e+04             907.875489  ...              NaN            NaN\n",
              "min     2.383648e+06              60.000000  ...              NaN            NaN\n",
              "25%     2.443541e+06             365.000000  ...              NaN            NaN\n",
              "50%     2.498112e+06             555.000000  ...              NaN            NaN\n",
              "75%     2.551270e+06             837.000000  ...              NaN            NaN\n",
              "max     2.605023e+06           55077.000000  ...              NaN            NaN\n",
              "\n",
              "[11 rows x 9 columns]"
            ]
          },
          "metadata": {
            "tags": []
          },
          "execution_count": 11
        }
      ]
    },
    {
      "cell_type": "code",
      "metadata": {
        "id": "JWae4Pj2IClQ",
        "outputId": "85a856ec-bec8-487d-dcb1-d71c6bf49c5e",
        "colab": {
          "base_uri": "https://localhost:8080/",
          "height": 289
        }
      },
      "source": [
        "df.info()"
      ],
      "execution_count": null,
      "outputs": [
        {
          "output_type": "stream",
          "text": [
            "<class 'pandas.core.frame.DataFrame'>\n",
            "RangeIndex: 178559 entries, 0 to 178558\n",
            "Data columns (total 9 columns):\n",
            " #   Column                 Non-Null Count   Dtype \n",
            "---  ------                 --------------   ----- \n",
            " 0   trip_id                178559 non-null  int64 \n",
            " 1   trip_duration_seconds  178559 non-null  int64 \n",
            " 2   from_station_id        178559 non-null  int64 \n",
            " 3   trip_start_time        178559 non-null  object\n",
            " 4   from_station_name      178559 non-null  object\n",
            " 5   trip_stop_time         178559 non-null  object\n",
            " 6   to_station_id          178559 non-null  int64 \n",
            " 7   to_station_name        178559 non-null  object\n",
            " 8   user_type              178559 non-null  object\n",
            "dtypes: int64(4), object(5)\n",
            "memory usage: 12.3+ MB\n"
          ],
          "name": "stdout"
        }
      ]
    },
    {
      "cell_type": "code",
      "metadata": {
        "id": "dpLRcMXLIM3D",
        "outputId": "f195b53f-33d9-4958-9ea9-4e0b3d7f25ec",
        "colab": {
          "base_uri": "https://localhost:8080/",
          "height": 88
        }
      },
      "source": [
        "feature_numerik = [col for col in df.columns if df[col].dtype!='object'] \n",
        "feature_kategorik = [col for col in df.columns if df[col].dtype=='object']\n",
        "print('feature numerik antara lain : ', feature_numerik)\n",
        "print()\n",
        "print('feature kategorik antara lain : ', feature_kategorik)"
      ],
      "execution_count": null,
      "outputs": [
        {
          "output_type": "stream",
          "text": [
            "feature numerik antara lain :  ['trip_id', 'trip_duration_seconds', 'from_station_id', 'to_station_id']\n",
            "\n",
            "feature kategorik antara lain :  ['trip_start_time', 'from_station_name', 'trip_stop_time', 'to_station_name', 'user_type']\n"
          ],
          "name": "stdout"
        }
      ]
    },
    {
      "cell_type": "markdown",
      "metadata": {
        "id": "cGCIt2sWIghM"
      },
      "source": [
        "# Data Preparation"
      ]
    },
    {
      "cell_type": "code",
      "metadata": {
        "id": "w7aX_dd8Ikhz",
        "outputId": "0e944342-22e8-4b2e-f2e4-779cffe1ec7f",
        "colab": {
          "base_uri": "https://localhost:8080/",
          "height": 379
        }
      },
      "source": [
        "#@title Dealing with missing values\n",
        "missing_data = df.isnull()\n",
        "missing_data.head(10)"
      ],
      "execution_count": null,
      "outputs": [
        {
          "output_type": "execute_result",
          "data": {
            "text/html": [
              "<div>\n",
              "<style scoped>\n",
              "    .dataframe tbody tr th:only-of-type {\n",
              "        vertical-align: middle;\n",
              "    }\n",
              "\n",
              "    .dataframe tbody tr th {\n",
              "        vertical-align: top;\n",
              "    }\n",
              "\n",
              "    .dataframe thead th {\n",
              "        text-align: right;\n",
              "    }\n",
              "</style>\n",
              "<table border=\"1\" class=\"dataframe\">\n",
              "  <thead>\n",
              "    <tr style=\"text-align: right;\">\n",
              "      <th></th>\n",
              "      <th>trip_id</th>\n",
              "      <th>trip_duration_seconds</th>\n",
              "      <th>from_station_id</th>\n",
              "      <th>trip_start_time</th>\n",
              "      <th>from_station_name</th>\n",
              "      <th>trip_stop_time</th>\n",
              "      <th>to_station_id</th>\n",
              "      <th>to_station_name</th>\n",
              "      <th>user_type</th>\n",
              "    </tr>\n",
              "  </thead>\n",
              "  <tbody>\n",
              "    <tr>\n",
              "      <th>0</th>\n",
              "      <td>False</td>\n",
              "      <td>False</td>\n",
              "      <td>False</td>\n",
              "      <td>False</td>\n",
              "      <td>False</td>\n",
              "      <td>False</td>\n",
              "      <td>False</td>\n",
              "      <td>False</td>\n",
              "      <td>False</td>\n",
              "    </tr>\n",
              "    <tr>\n",
              "      <th>1</th>\n",
              "      <td>False</td>\n",
              "      <td>False</td>\n",
              "      <td>False</td>\n",
              "      <td>False</td>\n",
              "      <td>False</td>\n",
              "      <td>False</td>\n",
              "      <td>False</td>\n",
              "      <td>False</td>\n",
              "      <td>False</td>\n",
              "    </tr>\n",
              "    <tr>\n",
              "      <th>2</th>\n",
              "      <td>False</td>\n",
              "      <td>False</td>\n",
              "      <td>False</td>\n",
              "      <td>False</td>\n",
              "      <td>False</td>\n",
              "      <td>False</td>\n",
              "      <td>False</td>\n",
              "      <td>False</td>\n",
              "      <td>False</td>\n",
              "    </tr>\n",
              "    <tr>\n",
              "      <th>3</th>\n",
              "      <td>False</td>\n",
              "      <td>False</td>\n",
              "      <td>False</td>\n",
              "      <td>False</td>\n",
              "      <td>False</td>\n",
              "      <td>False</td>\n",
              "      <td>False</td>\n",
              "      <td>False</td>\n",
              "      <td>False</td>\n",
              "    </tr>\n",
              "    <tr>\n",
              "      <th>4</th>\n",
              "      <td>False</td>\n",
              "      <td>False</td>\n",
              "      <td>False</td>\n",
              "      <td>False</td>\n",
              "      <td>False</td>\n",
              "      <td>False</td>\n",
              "      <td>False</td>\n",
              "      <td>False</td>\n",
              "      <td>False</td>\n",
              "    </tr>\n",
              "    <tr>\n",
              "      <th>5</th>\n",
              "      <td>False</td>\n",
              "      <td>False</td>\n",
              "      <td>False</td>\n",
              "      <td>False</td>\n",
              "      <td>False</td>\n",
              "      <td>False</td>\n",
              "      <td>False</td>\n",
              "      <td>False</td>\n",
              "      <td>False</td>\n",
              "    </tr>\n",
              "    <tr>\n",
              "      <th>6</th>\n",
              "      <td>False</td>\n",
              "      <td>False</td>\n",
              "      <td>False</td>\n",
              "      <td>False</td>\n",
              "      <td>False</td>\n",
              "      <td>False</td>\n",
              "      <td>False</td>\n",
              "      <td>False</td>\n",
              "      <td>False</td>\n",
              "    </tr>\n",
              "    <tr>\n",
              "      <th>7</th>\n",
              "      <td>False</td>\n",
              "      <td>False</td>\n",
              "      <td>False</td>\n",
              "      <td>False</td>\n",
              "      <td>False</td>\n",
              "      <td>False</td>\n",
              "      <td>False</td>\n",
              "      <td>False</td>\n",
              "      <td>False</td>\n",
              "    </tr>\n",
              "    <tr>\n",
              "      <th>8</th>\n",
              "      <td>False</td>\n",
              "      <td>False</td>\n",
              "      <td>False</td>\n",
              "      <td>False</td>\n",
              "      <td>False</td>\n",
              "      <td>False</td>\n",
              "      <td>False</td>\n",
              "      <td>False</td>\n",
              "      <td>False</td>\n",
              "    </tr>\n",
              "    <tr>\n",
              "      <th>9</th>\n",
              "      <td>False</td>\n",
              "      <td>False</td>\n",
              "      <td>False</td>\n",
              "      <td>False</td>\n",
              "      <td>False</td>\n",
              "      <td>False</td>\n",
              "      <td>False</td>\n",
              "      <td>False</td>\n",
              "      <td>False</td>\n",
              "    </tr>\n",
              "  </tbody>\n",
              "</table>\n",
              "</div>"
            ],
            "text/plain": [
              "   trip_id  trip_duration_seconds  ...  to_station_name  user_type\n",
              "0    False                  False  ...            False      False\n",
              "1    False                  False  ...            False      False\n",
              "2    False                  False  ...            False      False\n",
              "3    False                  False  ...            False      False\n",
              "4    False                  False  ...            False      False\n",
              "5    False                  False  ...            False      False\n",
              "6    False                  False  ...            False      False\n",
              "7    False                  False  ...            False      False\n",
              "8    False                  False  ...            False      False\n",
              "9    False                  False  ...            False      False\n",
              "\n",
              "[10 rows x 9 columns]"
            ]
          },
          "metadata": {
            "tags": []
          },
          "execution_count": 6
        }
      ]
    },
    {
      "cell_type": "code",
      "metadata": {
        "id": "GlAf2KLqItVI",
        "outputId": "4faf7b5b-771f-40a9-bd46-86c6a4374c1a",
        "colab": {
          "base_uri": "https://localhost:8080/",
          "height": 629
        }
      },
      "source": [
        "for column in missing_data.columns.values.tolist():\n",
        "    print(column)\n",
        "    print (missing_data[column].value_counts())\n",
        "    print(\"\") "
      ],
      "execution_count": null,
      "outputs": [
        {
          "output_type": "stream",
          "text": [
            "trip_id\n",
            "False    178559\n",
            "Name: trip_id, dtype: int64\n",
            "\n",
            "trip_duration_seconds\n",
            "False    178559\n",
            "Name: trip_duration_seconds, dtype: int64\n",
            "\n",
            "from_station_id\n",
            "False    178559\n",
            "Name: from_station_id, dtype: int64\n",
            "\n",
            "trip_start_time\n",
            "False    178559\n",
            "Name: trip_start_time, dtype: int64\n",
            "\n",
            "from_station_name\n",
            "False    178559\n",
            "Name: from_station_name, dtype: int64\n",
            "\n",
            "trip_stop_time\n",
            "False    178559\n",
            "Name: trip_stop_time, dtype: int64\n",
            "\n",
            "to_station_id\n",
            "False    178559\n",
            "Name: to_station_id, dtype: int64\n",
            "\n",
            "to_station_name\n",
            "False    178559\n",
            "Name: to_station_name, dtype: int64\n",
            "\n",
            "user_type\n",
            "False    178559\n",
            "Name: user_type, dtype: int64\n",
            "\n"
          ],
          "name": "stdout"
        }
      ]
    },
    {
      "cell_type": "code",
      "metadata": {
        "id": "Q5LG6DdKIvhQ",
        "outputId": "60c939d9-ebf9-4e01-9a30-20e12395b996",
        "colab": {
          "base_uri": "https://localhost:8080/",
          "height": 297
        }
      },
      "source": [
        "df= pd.read_csv(path,nrows=10)\n",
        "df.describe()"
      ],
      "execution_count": null,
      "outputs": [
        {
          "output_type": "execute_result",
          "data": {
            "text/html": [
              "<div>\n",
              "<style scoped>\n",
              "    .dataframe tbody tr th:only-of-type {\n",
              "        vertical-align: middle;\n",
              "    }\n",
              "\n",
              "    .dataframe tbody tr th {\n",
              "        vertical-align: top;\n",
              "    }\n",
              "\n",
              "    .dataframe thead th {\n",
              "        text-align: right;\n",
              "    }\n",
              "</style>\n",
              "<table border=\"1\" class=\"dataframe\">\n",
              "  <thead>\n",
              "    <tr style=\"text-align: right;\">\n",
              "      <th></th>\n",
              "      <th>trip_id</th>\n",
              "      <th>trip_duration_seconds</th>\n",
              "      <th>from_station_id</th>\n",
              "      <th>to_station_id</th>\n",
              "    </tr>\n",
              "  </thead>\n",
              "  <tbody>\n",
              "    <tr>\n",
              "      <th>count</th>\n",
              "      <td>10.000</td>\n",
              "      <td>10.000000</td>\n",
              "      <td>10.00000</td>\n",
              "      <td>10.000000</td>\n",
              "    </tr>\n",
              "    <tr>\n",
              "      <th>mean</th>\n",
              "      <td>2383652.700</td>\n",
              "      <td>557.300000</td>\n",
              "      <td>7103.00000</td>\n",
              "      <td>7112.700000</td>\n",
              "    </tr>\n",
              "    <tr>\n",
              "      <th>std</th>\n",
              "      <td>3.335</td>\n",
              "      <td>346.858937</td>\n",
              "      <td>90.62499</td>\n",
              "      <td>92.214786</td>\n",
              "    </tr>\n",
              "    <tr>\n",
              "      <th>min</th>\n",
              "      <td>2383648.000</td>\n",
              "      <td>180.000000</td>\n",
              "      <td>7004.00000</td>\n",
              "      <td>7020.000000</td>\n",
              "    </tr>\n",
              "    <tr>\n",
              "      <th>25%</th>\n",
              "      <td>2383650.250</td>\n",
              "      <td>246.250000</td>\n",
              "      <td>7026.75000</td>\n",
              "      <td>7029.250000</td>\n",
              "    </tr>\n",
              "    <tr>\n",
              "      <th>50%</th>\n",
              "      <td>2383652.500</td>\n",
              "      <td>509.000000</td>\n",
              "      <td>7062.00000</td>\n",
              "      <td>7095.000000</td>\n",
              "    </tr>\n",
              "    <tr>\n",
              "      <th>75%</th>\n",
              "      <td>2383654.750</td>\n",
              "      <td>748.750000</td>\n",
              "      <td>7194.50000</td>\n",
              "      <td>7187.250000</td>\n",
              "    </tr>\n",
              "    <tr>\n",
              "      <th>max</th>\n",
              "      <td>2383658.000</td>\n",
              "      <td>1138.000000</td>\n",
              "      <td>7235.00000</td>\n",
              "      <td>7275.000000</td>\n",
              "    </tr>\n",
              "  </tbody>\n",
              "</table>\n",
              "</div>"
            ],
            "text/plain": [
              "           trip_id  trip_duration_seconds  from_station_id  to_station_id\n",
              "count       10.000              10.000000         10.00000      10.000000\n",
              "mean   2383652.700             557.300000       7103.00000    7112.700000\n",
              "std          3.335             346.858937         90.62499      92.214786\n",
              "min    2383648.000             180.000000       7004.00000    7020.000000\n",
              "25%    2383650.250             246.250000       7026.75000    7029.250000\n",
              "50%    2383652.500             509.000000       7062.00000    7095.000000\n",
              "75%    2383654.750             748.750000       7194.50000    7187.250000\n",
              "max    2383658.000            1138.000000       7235.00000    7275.000000"
            ]
          },
          "metadata": {
            "tags": []
          },
          "execution_count": 8
        }
      ]
    },
    {
      "cell_type": "code",
      "metadata": {
        "id": "W3-Z1Y6mJq19"
      },
      "source": [
        "kolum = [\"trip_id\",\"trip_duration_seconds\",\"from_station_id\",\"to_station_id\"]\n",
        "df= pd.read_csv(path, usecols=kolum)"
      ],
      "execution_count": null,
      "outputs": []
    },
    {
      "cell_type": "code",
      "metadata": {
        "id": "zK7nOdGIKZ9c",
        "outputId": "625fe5c1-d88f-4212-a973-f078fd8b2c8d",
        "colab": {
          "base_uri": "https://localhost:8080/",
          "height": 297
        }
      },
      "source": [
        "df.describe()"
      ],
      "execution_count": null,
      "outputs": [
        {
          "output_type": "execute_result",
          "data": {
            "text/html": [
              "<div>\n",
              "<style scoped>\n",
              "    .dataframe tbody tr th:only-of-type {\n",
              "        vertical-align: middle;\n",
              "    }\n",
              "\n",
              "    .dataframe tbody tr th {\n",
              "        vertical-align: top;\n",
              "    }\n",
              "\n",
              "    .dataframe thead th {\n",
              "        text-align: right;\n",
              "    }\n",
              "</style>\n",
              "<table border=\"1\" class=\"dataframe\">\n",
              "  <thead>\n",
              "    <tr style=\"text-align: right;\">\n",
              "      <th></th>\n",
              "      <th>trip_id</th>\n",
              "      <th>trip_duration_seconds</th>\n",
              "      <th>from_station_id</th>\n",
              "      <th>to_station_id</th>\n",
              "    </tr>\n",
              "  </thead>\n",
              "  <tbody>\n",
              "    <tr>\n",
              "      <th>count</th>\n",
              "      <td>1.785590e+05</td>\n",
              "      <td>178559.000000</td>\n",
              "      <td>178559.000000</td>\n",
              "      <td>178559.000000</td>\n",
              "    </tr>\n",
              "    <tr>\n",
              "      <th>mean</th>\n",
              "      <td>2.497156e+06</td>\n",
              "      <td>696.457479</td>\n",
              "      <td>7111.200931</td>\n",
              "      <td>7109.080192</td>\n",
              "    </tr>\n",
              "    <tr>\n",
              "      <th>std</th>\n",
              "      <td>6.296201e+04</td>\n",
              "      <td>907.877396</td>\n",
              "      <td>88.876395</td>\n",
              "      <td>88.199290</td>\n",
              "    </tr>\n",
              "    <tr>\n",
              "      <th>min</th>\n",
              "      <td>2.383648e+06</td>\n",
              "      <td>60.000000</td>\n",
              "      <td>7000.000000</td>\n",
              "      <td>7000.000000</td>\n",
              "    </tr>\n",
              "    <tr>\n",
              "      <th>25%</th>\n",
              "      <td>2.443544e+06</td>\n",
              "      <td>365.000000</td>\n",
              "      <td>7034.000000</td>\n",
              "      <td>7034.000000</td>\n",
              "    </tr>\n",
              "    <tr>\n",
              "      <th>50%</th>\n",
              "      <td>2.498112e+06</td>\n",
              "      <td>555.000000</td>\n",
              "      <td>7077.000000</td>\n",
              "      <td>7076.000000</td>\n",
              "    </tr>\n",
              "    <tr>\n",
              "      <th>75%</th>\n",
              "      <td>2.551270e+06</td>\n",
              "      <td>837.000000</td>\n",
              "      <td>7180.000000</td>\n",
              "      <td>7177.000000</td>\n",
              "    </tr>\n",
              "    <tr>\n",
              "      <th>max</th>\n",
              "      <td>2.605023e+06</td>\n",
              "      <td>55077.000000</td>\n",
              "      <td>7289.000000</td>\n",
              "      <td>7289.000000</td>\n",
              "    </tr>\n",
              "  </tbody>\n",
              "</table>\n",
              "</div>"
            ],
            "text/plain": [
              "            trip_id  trip_duration_seconds  from_station_id  to_station_id\n",
              "count  1.785590e+05          178559.000000    178559.000000  178559.000000\n",
              "mean   2.497156e+06             696.457479      7111.200931    7109.080192\n",
              "std    6.296201e+04             907.877396        88.876395      88.199290\n",
              "min    2.383648e+06              60.000000      7000.000000    7000.000000\n",
              "25%    2.443544e+06             365.000000      7034.000000    7034.000000\n",
              "50%    2.498112e+06             555.000000      7077.000000    7076.000000\n",
              "75%    2.551270e+06             837.000000      7180.000000    7177.000000\n",
              "max    2.605023e+06           55077.000000      7289.000000    7289.000000"
            ]
          },
          "metadata": {
            "tags": []
          },
          "execution_count": 10
        }
      ]
    },
    {
      "cell_type": "code",
      "metadata": {
        "id": "2ao7KKSjKetA",
        "outputId": "01559595-852a-451e-a477-f530429de80e",
        "colab": {
          "base_uri": "https://localhost:8080/",
          "height": 102
        }
      },
      "source": [
        "df.dtypes"
      ],
      "execution_count": null,
      "outputs": [
        {
          "output_type": "execute_result",
          "data": {
            "text/plain": [
              "trip_id                  int64\n",
              "trip_duration_seconds    int64\n",
              "from_station_id          int64\n",
              "to_station_id            int64\n",
              "dtype: object"
            ]
          },
          "metadata": {
            "tags": []
          },
          "execution_count": 11
        }
      ]
    },
    {
      "cell_type": "code",
      "metadata": {
        "id": "ol8cdLM0KiFq",
        "outputId": "4d21cde0-eb6c-4b42-9dd6-03a83571f496",
        "colab": {
          "base_uri": "https://localhost:8080/",
          "height": 204
        }
      },
      "source": [
        "df.info()"
      ],
      "execution_count": null,
      "outputs": [
        {
          "output_type": "stream",
          "text": [
            "<class 'pandas.core.frame.DataFrame'>\n",
            "RangeIndex: 178559 entries, 0 to 178558\n",
            "Data columns (total 4 columns):\n",
            " #   Column                 Non-Null Count   Dtype\n",
            "---  ------                 --------------   -----\n",
            " 0   trip_id                178559 non-null  int64\n",
            " 1   trip_duration_seconds  178559 non-null  int64\n",
            " 2   from_station_id        178559 non-null  int64\n",
            " 3   to_station_id          178559 non-null  int64\n",
            "dtypes: int64(4)\n",
            "memory usage: 5.4 MB\n"
          ],
          "name": "stdout"
        }
      ]
    },
    {
      "cell_type": "code",
      "metadata": {
        "id": "rAgOY11_KlVn",
        "outputId": "7693d98b-0970-4b3e-c233-d5af500604a0",
        "colab": {
          "base_uri": "https://localhost:8080/",
          "height": 979
        }
      },
      "source": [
        "df.replace(\"?\", np.nan, inplace = True)\n",
        "df.head(30)"
      ],
      "execution_count": null,
      "outputs": [
        {
          "output_type": "execute_result",
          "data": {
            "text/html": [
              "<div>\n",
              "<style scoped>\n",
              "    .dataframe tbody tr th:only-of-type {\n",
              "        vertical-align: middle;\n",
              "    }\n",
              "\n",
              "    .dataframe tbody tr th {\n",
              "        vertical-align: top;\n",
              "    }\n",
              "\n",
              "    .dataframe thead th {\n",
              "        text-align: right;\n",
              "    }\n",
              "</style>\n",
              "<table border=\"1\" class=\"dataframe\">\n",
              "  <thead>\n",
              "    <tr style=\"text-align: right;\">\n",
              "      <th></th>\n",
              "      <th>trip_id</th>\n",
              "      <th>trip_duration_seconds</th>\n",
              "      <th>from_station_id</th>\n",
              "      <th>to_station_id</th>\n",
              "    </tr>\n",
              "  </thead>\n",
              "  <tbody>\n",
              "    <tr>\n",
              "      <th>0</th>\n",
              "      <td>2383648</td>\n",
              "      <td>393</td>\n",
              "      <td>7018</td>\n",
              "      <td>7176</td>\n",
              "    </tr>\n",
              "    <tr>\n",
              "      <th>1</th>\n",
              "      <td>2383649</td>\n",
              "      <td>625</td>\n",
              "      <td>7184</td>\n",
              "      <td>7191</td>\n",
              "    </tr>\n",
              "    <tr>\n",
              "      <th>2</th>\n",
              "      <td>2383650</td>\n",
              "      <td>233</td>\n",
              "      <td>7235</td>\n",
              "      <td>7021</td>\n",
              "    </tr>\n",
              "    <tr>\n",
              "      <th>3</th>\n",
              "      <td>2383651</td>\n",
              "      <td>1138</td>\n",
              "      <td>7202</td>\n",
              "      <td>7020</td>\n",
              "    </tr>\n",
              "    <tr>\n",
              "      <th>4</th>\n",
              "      <td>2383652</td>\n",
              "      <td>703</td>\n",
              "      <td>7004</td>\n",
              "      <td>7060</td>\n",
              "    </tr>\n",
              "    <tr>\n",
              "      <th>5</th>\n",
              "      <td>2383653</td>\n",
              "      <td>1026</td>\n",
              "      <td>7078</td>\n",
              "      <td>7130</td>\n",
              "    </tr>\n",
              "    <tr>\n",
              "      <th>6</th>\n",
              "      <td>2383654</td>\n",
              "      <td>274</td>\n",
              "      <td>7021</td>\n",
              "      <td>7033</td>\n",
              "    </tr>\n",
              "    <tr>\n",
              "      <th>7</th>\n",
              "      <td>2383655</td>\n",
              "      <td>764</td>\n",
              "      <td>7046</td>\n",
              "      <td>7275</td>\n",
              "    </tr>\n",
              "    <tr>\n",
              "      <th>8</th>\n",
              "      <td>2383657</td>\n",
              "      <td>237</td>\n",
              "      <td>7044</td>\n",
              "      <td>7028</td>\n",
              "    </tr>\n",
              "    <tr>\n",
              "      <th>9</th>\n",
              "      <td>2383658</td>\n",
              "      <td>180</td>\n",
              "      <td>7198</td>\n",
              "      <td>7193</td>\n",
              "    </tr>\n",
              "    <tr>\n",
              "      <th>10</th>\n",
              "      <td>2383659</td>\n",
              "      <td>957</td>\n",
              "      <td>7061</td>\n",
              "      <td>7002</td>\n",
              "    </tr>\n",
              "    <tr>\n",
              "      <th>11</th>\n",
              "      <td>2383660</td>\n",
              "      <td>898</td>\n",
              "      <td>7177</td>\n",
              "      <td>7206</td>\n",
              "    </tr>\n",
              "    <tr>\n",
              "      <th>12</th>\n",
              "      <td>2383661</td>\n",
              "      <td>1529</td>\n",
              "      <td>7107</td>\n",
              "      <td>7211</td>\n",
              "    </tr>\n",
              "    <tr>\n",
              "      <th>13</th>\n",
              "      <td>2383662</td>\n",
              "      <td>253</td>\n",
              "      <td>7078</td>\n",
              "      <td>7195</td>\n",
              "    </tr>\n",
              "    <tr>\n",
              "      <th>14</th>\n",
              "      <td>2383663</td>\n",
              "      <td>348</td>\n",
              "      <td>7095</td>\n",
              "      <td>7117</td>\n",
              "    </tr>\n",
              "    <tr>\n",
              "      <th>15</th>\n",
              "      <td>2383664</td>\n",
              "      <td>797</td>\n",
              "      <td>7160</td>\n",
              "      <td>7136</td>\n",
              "    </tr>\n",
              "    <tr>\n",
              "      <th>16</th>\n",
              "      <td>2383665</td>\n",
              "      <td>352</td>\n",
              "      <td>7140</td>\n",
              "      <td>7003</td>\n",
              "    </tr>\n",
              "    <tr>\n",
              "      <th>17</th>\n",
              "      <td>2383666</td>\n",
              "      <td>382</td>\n",
              "      <td>7149</td>\n",
              "      <td>7153</td>\n",
              "    </tr>\n",
              "    <tr>\n",
              "      <th>18</th>\n",
              "      <td>2383667</td>\n",
              "      <td>433</td>\n",
              "      <td>7111</td>\n",
              "      <td>7176</td>\n",
              "    </tr>\n",
              "    <tr>\n",
              "      <th>19</th>\n",
              "      <td>2383668</td>\n",
              "      <td>589</td>\n",
              "      <td>7067</td>\n",
              "      <td>7259</td>\n",
              "    </tr>\n",
              "    <tr>\n",
              "      <th>20</th>\n",
              "      <td>2383669</td>\n",
              "      <td>846</td>\n",
              "      <td>7103</td>\n",
              "      <td>7118</td>\n",
              "    </tr>\n",
              "    <tr>\n",
              "      <th>21</th>\n",
              "      <td>2383670</td>\n",
              "      <td>259</td>\n",
              "      <td>7135</td>\n",
              "      <td>7148</td>\n",
              "    </tr>\n",
              "    <tr>\n",
              "      <th>22</th>\n",
              "      <td>2383671</td>\n",
              "      <td>401</td>\n",
              "      <td>7033</td>\n",
              "      <td>7101</td>\n",
              "    </tr>\n",
              "    <tr>\n",
              "      <th>23</th>\n",
              "      <td>2383672</td>\n",
              "      <td>821</td>\n",
              "      <td>7153</td>\n",
              "      <td>7204</td>\n",
              "    </tr>\n",
              "    <tr>\n",
              "      <th>24</th>\n",
              "      <td>2383673</td>\n",
              "      <td>555</td>\n",
              "      <td>7078</td>\n",
              "      <td>7044</td>\n",
              "    </tr>\n",
              "    <tr>\n",
              "      <th>25</th>\n",
              "      <td>2383674</td>\n",
              "      <td>1102</td>\n",
              "      <td>7055</td>\n",
              "      <td>7017</td>\n",
              "    </tr>\n",
              "    <tr>\n",
              "      <th>26</th>\n",
              "      <td>2383675</td>\n",
              "      <td>239</td>\n",
              "      <td>7211</td>\n",
              "      <td>7000</td>\n",
              "    </tr>\n",
              "    <tr>\n",
              "      <th>27</th>\n",
              "      <td>2383676</td>\n",
              "      <td>478</td>\n",
              "      <td>7156</td>\n",
              "      <td>7249</td>\n",
              "    </tr>\n",
              "    <tr>\n",
              "      <th>28</th>\n",
              "      <td>2383677</td>\n",
              "      <td>180</td>\n",
              "      <td>7158</td>\n",
              "      <td>7177</td>\n",
              "    </tr>\n",
              "    <tr>\n",
              "      <th>29</th>\n",
              "      <td>2383678</td>\n",
              "      <td>1216</td>\n",
              "      <td>7063</td>\n",
              "      <td>7093</td>\n",
              "    </tr>\n",
              "  </tbody>\n",
              "</table>\n",
              "</div>"
            ],
            "text/plain": [
              "    trip_id  trip_duration_seconds  from_station_id  to_station_id\n",
              "0   2383648                    393             7018           7176\n",
              "1   2383649                    625             7184           7191\n",
              "2   2383650                    233             7235           7021\n",
              "3   2383651                   1138             7202           7020\n",
              "4   2383652                    703             7004           7060\n",
              "5   2383653                   1026             7078           7130\n",
              "6   2383654                    274             7021           7033\n",
              "7   2383655                    764             7046           7275\n",
              "8   2383657                    237             7044           7028\n",
              "9   2383658                    180             7198           7193\n",
              "10  2383659                    957             7061           7002\n",
              "11  2383660                    898             7177           7206\n",
              "12  2383661                   1529             7107           7211\n",
              "13  2383662                    253             7078           7195\n",
              "14  2383663                    348             7095           7117\n",
              "15  2383664                    797             7160           7136\n",
              "16  2383665                    352             7140           7003\n",
              "17  2383666                    382             7149           7153\n",
              "18  2383667                    433             7111           7176\n",
              "19  2383668                    589             7067           7259\n",
              "20  2383669                    846             7103           7118\n",
              "21  2383670                    259             7135           7148\n",
              "22  2383671                    401             7033           7101\n",
              "23  2383672                    821             7153           7204\n",
              "24  2383673                    555             7078           7044\n",
              "25  2383674                   1102             7055           7017\n",
              "26  2383675                    239             7211           7000\n",
              "27  2383676                    478             7156           7249\n",
              "28  2383677                    180             7158           7177\n",
              "29  2383678                   1216             7063           7093"
            ]
          },
          "metadata": {
            "tags": []
          },
          "execution_count": 13
        }
      ]
    },
    {
      "cell_type": "code",
      "metadata": {
        "id": "UCrYwL0KKqWi",
        "outputId": "9addb682-5a5b-402b-b1c9-4662104463df",
        "colab": {
          "base_uri": "https://localhost:8080/",
          "height": 979
        }
      },
      "source": [
        "missing_data = df.isnull()\n",
        "missing_data.head(30)"
      ],
      "execution_count": null,
      "outputs": [
        {
          "output_type": "execute_result",
          "data": {
            "text/html": [
              "<div>\n",
              "<style scoped>\n",
              "    .dataframe tbody tr th:only-of-type {\n",
              "        vertical-align: middle;\n",
              "    }\n",
              "\n",
              "    .dataframe tbody tr th {\n",
              "        vertical-align: top;\n",
              "    }\n",
              "\n",
              "    .dataframe thead th {\n",
              "        text-align: right;\n",
              "    }\n",
              "</style>\n",
              "<table border=\"1\" class=\"dataframe\">\n",
              "  <thead>\n",
              "    <tr style=\"text-align: right;\">\n",
              "      <th></th>\n",
              "      <th>trip_id</th>\n",
              "      <th>trip_duration_seconds</th>\n",
              "      <th>from_station_id</th>\n",
              "      <th>to_station_id</th>\n",
              "    </tr>\n",
              "  </thead>\n",
              "  <tbody>\n",
              "    <tr>\n",
              "      <th>0</th>\n",
              "      <td>False</td>\n",
              "      <td>False</td>\n",
              "      <td>False</td>\n",
              "      <td>False</td>\n",
              "    </tr>\n",
              "    <tr>\n",
              "      <th>1</th>\n",
              "      <td>False</td>\n",
              "      <td>False</td>\n",
              "      <td>False</td>\n",
              "      <td>False</td>\n",
              "    </tr>\n",
              "    <tr>\n",
              "      <th>2</th>\n",
              "      <td>False</td>\n",
              "      <td>False</td>\n",
              "      <td>False</td>\n",
              "      <td>False</td>\n",
              "    </tr>\n",
              "    <tr>\n",
              "      <th>3</th>\n",
              "      <td>False</td>\n",
              "      <td>False</td>\n",
              "      <td>False</td>\n",
              "      <td>False</td>\n",
              "    </tr>\n",
              "    <tr>\n",
              "      <th>4</th>\n",
              "      <td>False</td>\n",
              "      <td>False</td>\n",
              "      <td>False</td>\n",
              "      <td>False</td>\n",
              "    </tr>\n",
              "    <tr>\n",
              "      <th>5</th>\n",
              "      <td>False</td>\n",
              "      <td>False</td>\n",
              "      <td>False</td>\n",
              "      <td>False</td>\n",
              "    </tr>\n",
              "    <tr>\n",
              "      <th>6</th>\n",
              "      <td>False</td>\n",
              "      <td>False</td>\n",
              "      <td>False</td>\n",
              "      <td>False</td>\n",
              "    </tr>\n",
              "    <tr>\n",
              "      <th>7</th>\n",
              "      <td>False</td>\n",
              "      <td>False</td>\n",
              "      <td>False</td>\n",
              "      <td>False</td>\n",
              "    </tr>\n",
              "    <tr>\n",
              "      <th>8</th>\n",
              "      <td>False</td>\n",
              "      <td>False</td>\n",
              "      <td>False</td>\n",
              "      <td>False</td>\n",
              "    </tr>\n",
              "    <tr>\n",
              "      <th>9</th>\n",
              "      <td>False</td>\n",
              "      <td>False</td>\n",
              "      <td>False</td>\n",
              "      <td>False</td>\n",
              "    </tr>\n",
              "    <tr>\n",
              "      <th>10</th>\n",
              "      <td>False</td>\n",
              "      <td>False</td>\n",
              "      <td>False</td>\n",
              "      <td>False</td>\n",
              "    </tr>\n",
              "    <tr>\n",
              "      <th>11</th>\n",
              "      <td>False</td>\n",
              "      <td>False</td>\n",
              "      <td>False</td>\n",
              "      <td>False</td>\n",
              "    </tr>\n",
              "    <tr>\n",
              "      <th>12</th>\n",
              "      <td>False</td>\n",
              "      <td>False</td>\n",
              "      <td>False</td>\n",
              "      <td>False</td>\n",
              "    </tr>\n",
              "    <tr>\n",
              "      <th>13</th>\n",
              "      <td>False</td>\n",
              "      <td>False</td>\n",
              "      <td>False</td>\n",
              "      <td>False</td>\n",
              "    </tr>\n",
              "    <tr>\n",
              "      <th>14</th>\n",
              "      <td>False</td>\n",
              "      <td>False</td>\n",
              "      <td>False</td>\n",
              "      <td>False</td>\n",
              "    </tr>\n",
              "    <tr>\n",
              "      <th>15</th>\n",
              "      <td>False</td>\n",
              "      <td>False</td>\n",
              "      <td>False</td>\n",
              "      <td>False</td>\n",
              "    </tr>\n",
              "    <tr>\n",
              "      <th>16</th>\n",
              "      <td>False</td>\n",
              "      <td>False</td>\n",
              "      <td>False</td>\n",
              "      <td>False</td>\n",
              "    </tr>\n",
              "    <tr>\n",
              "      <th>17</th>\n",
              "      <td>False</td>\n",
              "      <td>False</td>\n",
              "      <td>False</td>\n",
              "      <td>False</td>\n",
              "    </tr>\n",
              "    <tr>\n",
              "      <th>18</th>\n",
              "      <td>False</td>\n",
              "      <td>False</td>\n",
              "      <td>False</td>\n",
              "      <td>False</td>\n",
              "    </tr>\n",
              "    <tr>\n",
              "      <th>19</th>\n",
              "      <td>False</td>\n",
              "      <td>False</td>\n",
              "      <td>False</td>\n",
              "      <td>False</td>\n",
              "    </tr>\n",
              "    <tr>\n",
              "      <th>20</th>\n",
              "      <td>False</td>\n",
              "      <td>False</td>\n",
              "      <td>False</td>\n",
              "      <td>False</td>\n",
              "    </tr>\n",
              "    <tr>\n",
              "      <th>21</th>\n",
              "      <td>False</td>\n",
              "      <td>False</td>\n",
              "      <td>False</td>\n",
              "      <td>False</td>\n",
              "    </tr>\n",
              "    <tr>\n",
              "      <th>22</th>\n",
              "      <td>False</td>\n",
              "      <td>False</td>\n",
              "      <td>False</td>\n",
              "      <td>False</td>\n",
              "    </tr>\n",
              "    <tr>\n",
              "      <th>23</th>\n",
              "      <td>False</td>\n",
              "      <td>False</td>\n",
              "      <td>False</td>\n",
              "      <td>False</td>\n",
              "    </tr>\n",
              "    <tr>\n",
              "      <th>24</th>\n",
              "      <td>False</td>\n",
              "      <td>False</td>\n",
              "      <td>False</td>\n",
              "      <td>False</td>\n",
              "    </tr>\n",
              "    <tr>\n",
              "      <th>25</th>\n",
              "      <td>False</td>\n",
              "      <td>False</td>\n",
              "      <td>False</td>\n",
              "      <td>False</td>\n",
              "    </tr>\n",
              "    <tr>\n",
              "      <th>26</th>\n",
              "      <td>False</td>\n",
              "      <td>False</td>\n",
              "      <td>False</td>\n",
              "      <td>False</td>\n",
              "    </tr>\n",
              "    <tr>\n",
              "      <th>27</th>\n",
              "      <td>False</td>\n",
              "      <td>False</td>\n",
              "      <td>False</td>\n",
              "      <td>False</td>\n",
              "    </tr>\n",
              "    <tr>\n",
              "      <th>28</th>\n",
              "      <td>False</td>\n",
              "      <td>False</td>\n",
              "      <td>False</td>\n",
              "      <td>False</td>\n",
              "    </tr>\n",
              "    <tr>\n",
              "      <th>29</th>\n",
              "      <td>False</td>\n",
              "      <td>False</td>\n",
              "      <td>False</td>\n",
              "      <td>False</td>\n",
              "    </tr>\n",
              "  </tbody>\n",
              "</table>\n",
              "</div>"
            ],
            "text/plain": [
              "    trip_id  trip_duration_seconds  from_station_id  to_station_id\n",
              "0     False                  False            False          False\n",
              "1     False                  False            False          False\n",
              "2     False                  False            False          False\n",
              "3     False                  False            False          False\n",
              "4     False                  False            False          False\n",
              "5     False                  False            False          False\n",
              "6     False                  False            False          False\n",
              "7     False                  False            False          False\n",
              "8     False                  False            False          False\n",
              "9     False                  False            False          False\n",
              "10    False                  False            False          False\n",
              "11    False                  False            False          False\n",
              "12    False                  False            False          False\n",
              "13    False                  False            False          False\n",
              "14    False                  False            False          False\n",
              "15    False                  False            False          False\n",
              "16    False                  False            False          False\n",
              "17    False                  False            False          False\n",
              "18    False                  False            False          False\n",
              "19    False                  False            False          False\n",
              "20    False                  False            False          False\n",
              "21    False                  False            False          False\n",
              "22    False                  False            False          False\n",
              "23    False                  False            False          False\n",
              "24    False                  False            False          False\n",
              "25    False                  False            False          False\n",
              "26    False                  False            False          False\n",
              "27    False                  False            False          False\n",
              "28    False                  False            False          False\n",
              "29    False                  False            False          False"
            ]
          },
          "metadata": {
            "tags": []
          },
          "execution_count": 14
        }
      ]
    },
    {
      "cell_type": "code",
      "metadata": {
        "id": "M5u7mFbyKtwA"
      },
      "source": [
        "#@title Data Normalisasi\n",
        "df[\"trip_id\"] = df[\"trip_id\"].astype(\"float\")\n",
        "df[\"trip_duration_seconds\"] = df[\"trip_duration_seconds\"].astype(\"float\")\n",
        "df[\"from_station_id\"] = df[\"from_station_id\"].astype(\"float\")\n",
        "df[\"to_station_id\"] = df[\"to_station_id\"].astype(\"float\")"
      ],
      "execution_count": null,
      "outputs": []
    },
    {
      "cell_type": "code",
      "metadata": {
        "id": "VbfFWJhOLJQR"
      },
      "source": [
        "df[\"trip_id\"] = df[\"trip_id\"]/df[\"trip_id\"].max()\n",
        "df[\"trip_duration_seconds\"] = df[\"trip_duration_seconds\"]/df[\"trip_duration_seconds\"].max()\n",
        "df[\"from_station_id\"] = df[\"from_station_id\"]/df[\"from_station_id\"].max()\n",
        "df[\"to_station_id\"] = df[\"to_station_id\"]/df[\"to_station_id\"].max()"
      ],
      "execution_count": null,
      "outputs": []
    },
    {
      "cell_type": "code",
      "metadata": {
        "id": "T9q3VKoXLY0l",
        "outputId": "74d3cc82-7d99-40c1-a14b-5a8020414996",
        "colab": {
          "base_uri": "https://localhost:8080/",
          "height": 297
        }
      },
      "source": [
        "df.describe()"
      ],
      "execution_count": null,
      "outputs": [
        {
          "output_type": "execute_result",
          "data": {
            "text/html": [
              "<div>\n",
              "<style scoped>\n",
              "    .dataframe tbody tr th:only-of-type {\n",
              "        vertical-align: middle;\n",
              "    }\n",
              "\n",
              "    .dataframe tbody tr th {\n",
              "        vertical-align: top;\n",
              "    }\n",
              "\n",
              "    .dataframe thead th {\n",
              "        text-align: right;\n",
              "    }\n",
              "</style>\n",
              "<table border=\"1\" class=\"dataframe\">\n",
              "  <thead>\n",
              "    <tr style=\"text-align: right;\">\n",
              "      <th></th>\n",
              "      <th>trip_id</th>\n",
              "      <th>trip_duration_seconds</th>\n",
              "      <th>from_station_id</th>\n",
              "      <th>to_station_id</th>\n",
              "    </tr>\n",
              "  </thead>\n",
              "  <tbody>\n",
              "    <tr>\n",
              "      <th>count</th>\n",
              "      <td>178559.000000</td>\n",
              "      <td>178559.000000</td>\n",
              "      <td>178559.000000</td>\n",
              "      <td>178559.000000</td>\n",
              "    </tr>\n",
              "    <tr>\n",
              "      <th>mean</th>\n",
              "      <td>0.958593</td>\n",
              "      <td>0.012645</td>\n",
              "      <td>0.975607</td>\n",
              "      <td>0.975316</td>\n",
              "    </tr>\n",
              "    <tr>\n",
              "      <th>std</th>\n",
              "      <td>0.024169</td>\n",
              "      <td>0.016484</td>\n",
              "      <td>0.012193</td>\n",
              "      <td>0.012100</td>\n",
              "    </tr>\n",
              "    <tr>\n",
              "      <th>min</th>\n",
              "      <td>0.915020</td>\n",
              "      <td>0.001089</td>\n",
              "      <td>0.960351</td>\n",
              "      <td>0.960351</td>\n",
              "    </tr>\n",
              "    <tr>\n",
              "      <th>25%</th>\n",
              "      <td>0.938012</td>\n",
              "      <td>0.006627</td>\n",
              "      <td>0.965016</td>\n",
              "      <td>0.965016</td>\n",
              "    </tr>\n",
              "    <tr>\n",
              "      <th>50%</th>\n",
              "      <td>0.958960</td>\n",
              "      <td>0.010077</td>\n",
              "      <td>0.970915</td>\n",
              "      <td>0.970778</td>\n",
              "    </tr>\n",
              "    <tr>\n",
              "      <th>75%</th>\n",
              "      <td>0.979365</td>\n",
              "      <td>0.015197</td>\n",
              "      <td>0.985046</td>\n",
              "      <td>0.984634</td>\n",
              "    </tr>\n",
              "    <tr>\n",
              "      <th>max</th>\n",
              "      <td>1.000000</td>\n",
              "      <td>1.000000</td>\n",
              "      <td>1.000000</td>\n",
              "      <td>1.000000</td>\n",
              "    </tr>\n",
              "  </tbody>\n",
              "</table>\n",
              "</div>"
            ],
            "text/plain": [
              "             trip_id  trip_duration_seconds  from_station_id  to_station_id\n",
              "count  178559.000000          178559.000000    178559.000000  178559.000000\n",
              "mean        0.958593               0.012645         0.975607       0.975316\n",
              "std         0.024169               0.016484         0.012193       0.012100\n",
              "min         0.915020               0.001089         0.960351       0.960351\n",
              "25%         0.938012               0.006627         0.965016       0.965016\n",
              "50%         0.958960               0.010077         0.970915       0.970778\n",
              "75%         0.979365               0.015197         0.985046       0.984634\n",
              "max         1.000000               1.000000         1.000000       1.000000"
            ]
          },
          "metadata": {
            "tags": []
          },
          "execution_count": 17
        }
      ]
    },
    {
      "cell_type": "code",
      "metadata": {
        "id": "Hh23QKIbLhnR",
        "outputId": "87eea809-7759-43db-c67d-04dcd492f3d6",
        "colab": {
          "base_uri": "https://localhost:8080/",
          "height": 204
        }
      },
      "source": [
        "df.info()"
      ],
      "execution_count": null,
      "outputs": [
        {
          "output_type": "stream",
          "text": [
            "<class 'pandas.core.frame.DataFrame'>\n",
            "RangeIndex: 178559 entries, 0 to 178558\n",
            "Data columns (total 4 columns):\n",
            " #   Column                 Non-Null Count   Dtype  \n",
            "---  ------                 --------------   -----  \n",
            " 0   trip_id                178559 non-null  float64\n",
            " 1   trip_duration_seconds  178559 non-null  float64\n",
            " 2   from_station_id        178559 non-null  float64\n",
            " 3   to_station_id          178559 non-null  float64\n",
            "dtypes: float64(4)\n",
            "memory usage: 5.4 MB\n"
          ],
          "name": "stdout"
        }
      ]
    },
    {
      "cell_type": "code",
      "metadata": {
        "id": "ALIBC1P8LpHo"
      },
      "source": [
        "df[\"trip_id\"] = (df[\"trip_id\"]-df[\"trip_id\"].min())/(df[\"trip_id\"].max()-df[\"trip_id\"].min())\n",
        "df[\"trip_duration_seconds\"] = (df[\"trip_duration_seconds\"]-df[\"trip_duration_seconds\"].min())/(df[\"trip_duration_seconds\"].max()-df[\"trip_duration_seconds\"].min())\n",
        "df[\"from_station_id\"] = (df[\"from_station_id\"]-df[\"from_station_id\"].min())/(df[\"from_station_id\"].max()-df[\"from_station_id\"].min())\n",
        "df[\"to_station_id\"] = (df[\"to_station_id\"]-df[\"to_station_id\"].min())/(df[\"to_station_id\"].max()-df[\"to_station_id\"].min())"
      ],
      "execution_count": null,
      "outputs": []
    },
    {
      "cell_type": "code",
      "metadata": {
        "id": "CgYhLqvhMEBt",
        "outputId": "63fa21da-9fdc-4968-b785-f756cf2e5ac4",
        "colab": {
          "base_uri": "https://localhost:8080/",
          "height": 297
        }
      },
      "source": [
        "df.describe()"
      ],
      "execution_count": null,
      "outputs": [
        {
          "output_type": "execute_result",
          "data": {
            "text/html": [
              "<div>\n",
              "<style scoped>\n",
              "    .dataframe tbody tr th:only-of-type {\n",
              "        vertical-align: middle;\n",
              "    }\n",
              "\n",
              "    .dataframe tbody tr th {\n",
              "        vertical-align: top;\n",
              "    }\n",
              "\n",
              "    .dataframe thead th {\n",
              "        text-align: right;\n",
              "    }\n",
              "</style>\n",
              "<table border=\"1\" class=\"dataframe\">\n",
              "  <thead>\n",
              "    <tr style=\"text-align: right;\">\n",
              "      <th></th>\n",
              "      <th>trip_id</th>\n",
              "      <th>trip_duration_seconds</th>\n",
              "      <th>from_station_id</th>\n",
              "      <th>to_station_id</th>\n",
              "    </tr>\n",
              "  </thead>\n",
              "  <tbody>\n",
              "    <tr>\n",
              "      <th>count</th>\n",
              "      <td>178559.000000</td>\n",
              "      <td>178559.000000</td>\n",
              "      <td>178559.000000</td>\n",
              "      <td>178559.000000</td>\n",
              "    </tr>\n",
              "    <tr>\n",
              "      <th>mean</th>\n",
              "      <td>0.512740</td>\n",
              "      <td>0.011568</td>\n",
              "      <td>0.384778</td>\n",
              "      <td>0.377440</td>\n",
              "    </tr>\n",
              "    <tr>\n",
              "      <th>std</th>\n",
              "      <td>0.284413</td>\n",
              "      <td>0.016502</td>\n",
              "      <td>0.307531</td>\n",
              "      <td>0.305188</td>\n",
              "    </tr>\n",
              "    <tr>\n",
              "      <th>min</th>\n",
              "      <td>0.000000</td>\n",
              "      <td>0.000000</td>\n",
              "      <td>0.000000</td>\n",
              "      <td>0.000000</td>\n",
              "    </tr>\n",
              "    <tr>\n",
              "      <th>25%</th>\n",
              "      <td>0.270561</td>\n",
              "      <td>0.005544</td>\n",
              "      <td>0.117647</td>\n",
              "      <td>0.117647</td>\n",
              "    </tr>\n",
              "    <tr>\n",
              "      <th>50%</th>\n",
              "      <td>0.517059</td>\n",
              "      <td>0.008997</td>\n",
              "      <td>0.266436</td>\n",
              "      <td>0.262976</td>\n",
              "    </tr>\n",
              "    <tr>\n",
              "      <th>75%</th>\n",
              "      <td>0.757184</td>\n",
              "      <td>0.014123</td>\n",
              "      <td>0.622837</td>\n",
              "      <td>0.612457</td>\n",
              "    </tr>\n",
              "    <tr>\n",
              "      <th>max</th>\n",
              "      <td>1.000000</td>\n",
              "      <td>1.000000</td>\n",
              "      <td>1.000000</td>\n",
              "      <td>1.000000</td>\n",
              "    </tr>\n",
              "  </tbody>\n",
              "</table>\n",
              "</div>"
            ],
            "text/plain": [
              "             trip_id  trip_duration_seconds  from_station_id  to_station_id\n",
              "count  178559.000000          178559.000000    178559.000000  178559.000000\n",
              "mean        0.512740               0.011568         0.384778       0.377440\n",
              "std         0.284413               0.016502         0.307531       0.305188\n",
              "min         0.000000               0.000000         0.000000       0.000000\n",
              "25%         0.270561               0.005544         0.117647       0.117647\n",
              "50%         0.517059               0.008997         0.266436       0.262976\n",
              "75%         0.757184               0.014123         0.622837       0.612457\n",
              "max         1.000000               1.000000         1.000000       1.000000"
            ]
          },
          "metadata": {
            "tags": []
          },
          "execution_count": 20
        }
      ]
    },
    {
      "cell_type": "code",
      "metadata": {
        "id": "pdP105AAMJdT"
      },
      "source": [
        "df[\"trip_id\"] = (df[\"trip_id\"]-df[\"trip_id\"].mean())/df[\"trip_id\"].std()\n",
        "df[\"trip_duration_seconds\"] = (df[\"trip_duration_seconds\"]-df[\"trip_duration_seconds\"].mean())/df[\"trip_duration_seconds\"].std()\n",
        "df[\"from_station_id\"] = (df[\"from_station_id\"]-df[\"from_station_id\"].mean())/df[\"from_station_id\"].std()\n",
        "df[\"to_station_id\"] = (df[\"to_station_id\"]-df[\"to_station_id\"].mean())/df[\"to_station_id\"].std()"
      ],
      "execution_count": null,
      "outputs": []
    },
    {
      "cell_type": "code",
      "metadata": {
        "id": "2jmcMN6qMbcG",
        "outputId": "6cc8fbd0-76a6-4ab8-85c7-8b3d6ffae8ed",
        "colab": {
          "base_uri": "https://localhost:8080/",
          "height": 297
        }
      },
      "source": [
        "df.describe()"
      ],
      "execution_count": null,
      "outputs": [
        {
          "output_type": "execute_result",
          "data": {
            "text/html": [
              "<div>\n",
              "<style scoped>\n",
              "    .dataframe tbody tr th:only-of-type {\n",
              "        vertical-align: middle;\n",
              "    }\n",
              "\n",
              "    .dataframe tbody tr th {\n",
              "        vertical-align: top;\n",
              "    }\n",
              "\n",
              "    .dataframe thead th {\n",
              "        text-align: right;\n",
              "    }\n",
              "</style>\n",
              "<table border=\"1\" class=\"dataframe\">\n",
              "  <thead>\n",
              "    <tr style=\"text-align: right;\">\n",
              "      <th></th>\n",
              "      <th>trip_id</th>\n",
              "      <th>trip_duration_seconds</th>\n",
              "      <th>from_station_id</th>\n",
              "      <th>to_station_id</th>\n",
              "    </tr>\n",
              "  </thead>\n",
              "  <tbody>\n",
              "    <tr>\n",
              "      <th>count</th>\n",
              "      <td>1.785590e+05</td>\n",
              "      <td>1.785590e+05</td>\n",
              "      <td>1.785590e+05</td>\n",
              "      <td>1.785590e+05</td>\n",
              "    </tr>\n",
              "    <tr>\n",
              "      <th>mean</th>\n",
              "      <td>-9.045657e-16</td>\n",
              "      <td>2.621518e-15</td>\n",
              "      <td>1.099599e-13</td>\n",
              "      <td>1.327794e-13</td>\n",
              "    </tr>\n",
              "    <tr>\n",
              "      <th>std</th>\n",
              "      <td>1.000000e+00</td>\n",
              "      <td>1.000000e+00</td>\n",
              "      <td>1.000000e+00</td>\n",
              "      <td>1.000000e+00</td>\n",
              "    </tr>\n",
              "    <tr>\n",
              "      <th>min</th>\n",
              "      <td>-1.802799e+00</td>\n",
              "      <td>-7.010390e-01</td>\n",
              "      <td>-1.251186e+00</td>\n",
              "      <td>-1.236747e+00</td>\n",
              "    </tr>\n",
              "    <tr>\n",
              "      <th>25%</th>\n",
              "      <td>-8.515029e-01</td>\n",
              "      <td>-3.650906e-01</td>\n",
              "      <td>-8.686326e-01</td>\n",
              "      <td>-8.512562e-01</td>\n",
              "    </tr>\n",
              "    <tr>\n",
              "      <th>50%</th>\n",
              "      <td>1.518644e-02</td>\n",
              "      <td>-1.558112e-01</td>\n",
              "      <td>-3.848146e-01</td>\n",
              "      <td>-3.750619e-01</td>\n",
              "    </tr>\n",
              "    <tr>\n",
              "      <th>75%</th>\n",
              "      <td>8.594654e-01</td>\n",
              "      <td>1.548034e-01</td>\n",
              "      <td>7.740983e-01</td>\n",
              "      <td>7.700720e-01</td>\n",
              "    </tr>\n",
              "    <tr>\n",
              "      <th>max</th>\n",
              "      <td>1.713210e+00</td>\n",
              "      <td>5.989855e+01</td>\n",
              "      <td>2.000521e+00</td>\n",
              "      <td>2.039924e+00</td>\n",
              "    </tr>\n",
              "  </tbody>\n",
              "</table>\n",
              "</div>"
            ],
            "text/plain": [
              "            trip_id  trip_duration_seconds  from_station_id  to_station_id\n",
              "count  1.785590e+05           1.785590e+05     1.785590e+05   1.785590e+05\n",
              "mean  -9.045657e-16           2.621518e-15     1.099599e-13   1.327794e-13\n",
              "std    1.000000e+00           1.000000e+00     1.000000e+00   1.000000e+00\n",
              "min   -1.802799e+00          -7.010390e-01    -1.251186e+00  -1.236747e+00\n",
              "25%   -8.515029e-01          -3.650906e-01    -8.686326e-01  -8.512562e-01\n",
              "50%    1.518644e-02          -1.558112e-01    -3.848146e-01  -3.750619e-01\n",
              "75%    8.594654e-01           1.548034e-01     7.740983e-01   7.700720e-01\n",
              "max    1.713210e+00           5.989855e+01     2.000521e+00   2.039924e+00"
            ]
          },
          "metadata": {
            "tags": []
          },
          "execution_count": 22
        }
      ]
    },
    {
      "cell_type": "code",
      "metadata": {
        "id": "4gYb1C7cMftX",
        "outputId": "b56ba077-c181-46a1-e0a5-c16a70531b02",
        "colab": {
          "base_uri": "https://localhost:8080/",
          "height": 34
        }
      },
      "source": [
        "#@title Binning\n",
        "bins = np.linspace(min(df[\"trip_id\"]), max(df[\"trip_id\"]), 4)\n",
        "bins"
      ],
      "execution_count": null,
      "outputs": [
        {
          "output_type": "execute_result",
          "data": {
            "text/plain": [
              "array([-1.80279881, -0.63079572,  0.54120737,  1.71321046])"
            ]
          },
          "metadata": {
            "tags": []
          },
          "execution_count": 23
        }
      ]
    },
    {
      "cell_type": "code",
      "metadata": {
        "id": "UWPUntn2MoUQ"
      },
      "source": [
        "group_names = ['Low', 'Medium', 'High']"
      ],
      "execution_count": null,
      "outputs": []
    },
    {
      "cell_type": "code",
      "metadata": {
        "id": "SreB_ozQMzjd",
        "outputId": "ccc3a9ed-df60-424b-d235-02ef7761a708",
        "colab": {
          "base_uri": "https://localhost:8080/",
          "height": 1000
        }
      },
      "source": [
        "df['trip_id-binned'] = pd.cut(df['trip_id'], bins, labels=group_names, include_lowest=True )\n",
        "df[['trip_id','trip_id-binned']].head(50)"
      ],
      "execution_count": null,
      "outputs": [
        {
          "output_type": "execute_result",
          "data": {
            "text/html": [
              "<div>\n",
              "<style scoped>\n",
              "    .dataframe tbody tr th:only-of-type {\n",
              "        vertical-align: middle;\n",
              "    }\n",
              "\n",
              "    .dataframe tbody tr th {\n",
              "        vertical-align: top;\n",
              "    }\n",
              "\n",
              "    .dataframe thead th {\n",
              "        text-align: right;\n",
              "    }\n",
              "</style>\n",
              "<table border=\"1\" class=\"dataframe\">\n",
              "  <thead>\n",
              "    <tr style=\"text-align: right;\">\n",
              "      <th></th>\n",
              "      <th>trip_id</th>\n",
              "      <th>trip_id-binned</th>\n",
              "    </tr>\n",
              "  </thead>\n",
              "  <tbody>\n",
              "    <tr>\n",
              "      <th>0</th>\n",
              "      <td>-1.802799</td>\n",
              "      <td>Low</td>\n",
              "    </tr>\n",
              "    <tr>\n",
              "      <th>1</th>\n",
              "      <td>-1.802783</td>\n",
              "      <td>Low</td>\n",
              "    </tr>\n",
              "    <tr>\n",
              "      <th>2</th>\n",
              "      <td>-1.802767</td>\n",
              "      <td>Low</td>\n",
              "    </tr>\n",
              "    <tr>\n",
              "      <th>3</th>\n",
              "      <td>-1.802751</td>\n",
              "      <td>Low</td>\n",
              "    </tr>\n",
              "    <tr>\n",
              "      <th>4</th>\n",
              "      <td>-1.802735</td>\n",
              "      <td>Low</td>\n",
              "    </tr>\n",
              "    <tr>\n",
              "      <th>5</th>\n",
              "      <td>-1.802719</td>\n",
              "      <td>Low</td>\n",
              "    </tr>\n",
              "    <tr>\n",
              "      <th>6</th>\n",
              "      <td>-1.802704</td>\n",
              "      <td>Low</td>\n",
              "    </tr>\n",
              "    <tr>\n",
              "      <th>7</th>\n",
              "      <td>-1.802688</td>\n",
              "      <td>Low</td>\n",
              "    </tr>\n",
              "    <tr>\n",
              "      <th>8</th>\n",
              "      <td>-1.802656</td>\n",
              "      <td>Low</td>\n",
              "    </tr>\n",
              "    <tr>\n",
              "      <th>9</th>\n",
              "      <td>-1.802640</td>\n",
              "      <td>Low</td>\n",
              "    </tr>\n",
              "    <tr>\n",
              "      <th>10</th>\n",
              "      <td>-1.802624</td>\n",
              "      <td>Low</td>\n",
              "    </tr>\n",
              "    <tr>\n",
              "      <th>11</th>\n",
              "      <td>-1.802608</td>\n",
              "      <td>Low</td>\n",
              "    </tr>\n",
              "    <tr>\n",
              "      <th>12</th>\n",
              "      <td>-1.802592</td>\n",
              "      <td>Low</td>\n",
              "    </tr>\n",
              "    <tr>\n",
              "      <th>13</th>\n",
              "      <td>-1.802576</td>\n",
              "      <td>Low</td>\n",
              "    </tr>\n",
              "    <tr>\n",
              "      <th>14</th>\n",
              "      <td>-1.802561</td>\n",
              "      <td>Low</td>\n",
              "    </tr>\n",
              "    <tr>\n",
              "      <th>15</th>\n",
              "      <td>-1.802545</td>\n",
              "      <td>Low</td>\n",
              "    </tr>\n",
              "    <tr>\n",
              "      <th>16</th>\n",
              "      <td>-1.802529</td>\n",
              "      <td>Low</td>\n",
              "    </tr>\n",
              "    <tr>\n",
              "      <th>17</th>\n",
              "      <td>-1.802513</td>\n",
              "      <td>Low</td>\n",
              "    </tr>\n",
              "    <tr>\n",
              "      <th>18</th>\n",
              "      <td>-1.802497</td>\n",
              "      <td>Low</td>\n",
              "    </tr>\n",
              "    <tr>\n",
              "      <th>19</th>\n",
              "      <td>-1.802481</td>\n",
              "      <td>Low</td>\n",
              "    </tr>\n",
              "    <tr>\n",
              "      <th>20</th>\n",
              "      <td>-1.802465</td>\n",
              "      <td>Low</td>\n",
              "    </tr>\n",
              "    <tr>\n",
              "      <th>21</th>\n",
              "      <td>-1.802449</td>\n",
              "      <td>Low</td>\n",
              "    </tr>\n",
              "    <tr>\n",
              "      <th>22</th>\n",
              "      <td>-1.802434</td>\n",
              "      <td>Low</td>\n",
              "    </tr>\n",
              "    <tr>\n",
              "      <th>23</th>\n",
              "      <td>-1.802418</td>\n",
              "      <td>Low</td>\n",
              "    </tr>\n",
              "    <tr>\n",
              "      <th>24</th>\n",
              "      <td>-1.802402</td>\n",
              "      <td>Low</td>\n",
              "    </tr>\n",
              "    <tr>\n",
              "      <th>25</th>\n",
              "      <td>-1.802386</td>\n",
              "      <td>Low</td>\n",
              "    </tr>\n",
              "    <tr>\n",
              "      <th>26</th>\n",
              "      <td>-1.802370</td>\n",
              "      <td>Low</td>\n",
              "    </tr>\n",
              "    <tr>\n",
              "      <th>27</th>\n",
              "      <td>-1.802354</td>\n",
              "      <td>Low</td>\n",
              "    </tr>\n",
              "    <tr>\n",
              "      <th>28</th>\n",
              "      <td>-1.802338</td>\n",
              "      <td>Low</td>\n",
              "    </tr>\n",
              "    <tr>\n",
              "      <th>29</th>\n",
              "      <td>-1.802322</td>\n",
              "      <td>Low</td>\n",
              "    </tr>\n",
              "    <tr>\n",
              "      <th>30</th>\n",
              "      <td>-1.802306</td>\n",
              "      <td>Low</td>\n",
              "    </tr>\n",
              "    <tr>\n",
              "      <th>31</th>\n",
              "      <td>-1.802291</td>\n",
              "      <td>Low</td>\n",
              "    </tr>\n",
              "    <tr>\n",
              "      <th>32</th>\n",
              "      <td>-1.802275</td>\n",
              "      <td>Low</td>\n",
              "    </tr>\n",
              "    <tr>\n",
              "      <th>33</th>\n",
              "      <td>-1.802259</td>\n",
              "      <td>Low</td>\n",
              "    </tr>\n",
              "    <tr>\n",
              "      <th>34</th>\n",
              "      <td>-1.802243</td>\n",
              "      <td>Low</td>\n",
              "    </tr>\n",
              "    <tr>\n",
              "      <th>35</th>\n",
              "      <td>-1.802227</td>\n",
              "      <td>Low</td>\n",
              "    </tr>\n",
              "    <tr>\n",
              "      <th>36</th>\n",
              "      <td>-1.802211</td>\n",
              "      <td>Low</td>\n",
              "    </tr>\n",
              "    <tr>\n",
              "      <th>37</th>\n",
              "      <td>-1.802195</td>\n",
              "      <td>Low</td>\n",
              "    </tr>\n",
              "    <tr>\n",
              "      <th>38</th>\n",
              "      <td>-1.802179</td>\n",
              "      <td>Low</td>\n",
              "    </tr>\n",
              "    <tr>\n",
              "      <th>39</th>\n",
              "      <td>-1.802164</td>\n",
              "      <td>Low</td>\n",
              "    </tr>\n",
              "    <tr>\n",
              "      <th>40</th>\n",
              "      <td>-1.802148</td>\n",
              "      <td>Low</td>\n",
              "    </tr>\n",
              "    <tr>\n",
              "      <th>41</th>\n",
              "      <td>-1.802132</td>\n",
              "      <td>Low</td>\n",
              "    </tr>\n",
              "    <tr>\n",
              "      <th>42</th>\n",
              "      <td>-1.802116</td>\n",
              "      <td>Low</td>\n",
              "    </tr>\n",
              "    <tr>\n",
              "      <th>43</th>\n",
              "      <td>-1.802100</td>\n",
              "      <td>Low</td>\n",
              "    </tr>\n",
              "    <tr>\n",
              "      <th>44</th>\n",
              "      <td>-1.802068</td>\n",
              "      <td>Low</td>\n",
              "    </tr>\n",
              "    <tr>\n",
              "      <th>45</th>\n",
              "      <td>-1.802052</td>\n",
              "      <td>Low</td>\n",
              "    </tr>\n",
              "    <tr>\n",
              "      <th>46</th>\n",
              "      <td>-1.802021</td>\n",
              "      <td>Low</td>\n",
              "    </tr>\n",
              "    <tr>\n",
              "      <th>47</th>\n",
              "      <td>-1.802036</td>\n",
              "      <td>Low</td>\n",
              "    </tr>\n",
              "    <tr>\n",
              "      <th>48</th>\n",
              "      <td>-1.802005</td>\n",
              "      <td>Low</td>\n",
              "    </tr>\n",
              "    <tr>\n",
              "      <th>49</th>\n",
              "      <td>-1.801989</td>\n",
              "      <td>Low</td>\n",
              "    </tr>\n",
              "  </tbody>\n",
              "</table>\n",
              "</div>"
            ],
            "text/plain": [
              "     trip_id trip_id-binned\n",
              "0  -1.802799            Low\n",
              "1  -1.802783            Low\n",
              "2  -1.802767            Low\n",
              "3  -1.802751            Low\n",
              "4  -1.802735            Low\n",
              "5  -1.802719            Low\n",
              "6  -1.802704            Low\n",
              "7  -1.802688            Low\n",
              "8  -1.802656            Low\n",
              "9  -1.802640            Low\n",
              "10 -1.802624            Low\n",
              "11 -1.802608            Low\n",
              "12 -1.802592            Low\n",
              "13 -1.802576            Low\n",
              "14 -1.802561            Low\n",
              "15 -1.802545            Low\n",
              "16 -1.802529            Low\n",
              "17 -1.802513            Low\n",
              "18 -1.802497            Low\n",
              "19 -1.802481            Low\n",
              "20 -1.802465            Low\n",
              "21 -1.802449            Low\n",
              "22 -1.802434            Low\n",
              "23 -1.802418            Low\n",
              "24 -1.802402            Low\n",
              "25 -1.802386            Low\n",
              "26 -1.802370            Low\n",
              "27 -1.802354            Low\n",
              "28 -1.802338            Low\n",
              "29 -1.802322            Low\n",
              "30 -1.802306            Low\n",
              "31 -1.802291            Low\n",
              "32 -1.802275            Low\n",
              "33 -1.802259            Low\n",
              "34 -1.802243            Low\n",
              "35 -1.802227            Low\n",
              "36 -1.802211            Low\n",
              "37 -1.802195            Low\n",
              "38 -1.802179            Low\n",
              "39 -1.802164            Low\n",
              "40 -1.802148            Low\n",
              "41 -1.802132            Low\n",
              "42 -1.802116            Low\n",
              "43 -1.802100            Low\n",
              "44 -1.802068            Low\n",
              "45 -1.802052            Low\n",
              "46 -1.802021            Low\n",
              "47 -1.802036            Low\n",
              "48 -1.802005            Low\n",
              "49 -1.801989            Low"
            ]
          },
          "metadata": {
            "tags": []
          },
          "execution_count": 29
        }
      ]
    },
    {
      "cell_type": "markdown",
      "metadata": {
        "id": "ULQz1INTNIdH"
      },
      "source": [
        "# Exploratory Data Analysis"
      ]
    },
    {
      "cell_type": "code",
      "metadata": {
        "id": "vyyvP479NM66",
        "outputId": "6657527b-4b1a-40b0-a7be-883063908edd",
        "colab": {
          "base_uri": "https://localhost:8080/",
          "height": 282
        }
      },
      "source": [
        "#@title Scatter Plot\n",
        "import matplotlib.pyplot as plt\n",
        "y=df[\"trip_id\"]\n",
        "x=df[\"trip_duration_seconds\"]\n",
        "plt.scatter(x,y)"
      ],
      "execution_count": null,
      "outputs": [
        {
          "output_type": "execute_result",
          "data": {
            "text/plain": [
              "<matplotlib.collections.PathCollection at 0x7fe2322d7a20>"
            ]
          },
          "metadata": {
            "tags": []
          },
          "execution_count": 31
        },
        {
          "output_type": "display_data",
          "data": {
            "image/png": "[encoded data removed]",
            "text/plain": [
              "<Figure size 432x288 with 1 Axes>"
            ]
          },
          "metadata": {
            "tags": [],
            "needs_background": "light"
          }
        }
      ]
    },
    {
      "cell_type": "code",
      "metadata": {
        "id": "J168a5aeNlGl",
        "outputId": "f66494fa-1e2c-4d34-cc3c-c9f15cc2045e",
        "colab": {
          "base_uri": "https://localhost:8080/",
          "height": 297
        }
      },
      "source": [
        "#@title Correlation\n",
        "import seaborn as sns\n",
        "import matplotlib.pyplot as plt\n",
        "sns.regplot(x=\"trip_id\", y=\"trip_duration_seconds\", data=df)\n",
        "plt.ylim(0,)"
      ],
      "execution_count": null,
      "outputs": [
        {
          "output_type": "execute_result",
          "data": {
            "text/plain": [
              "(0.0, 62.9285328516449)"
            ]
          },
          "metadata": {
            "tags": []
          },
          "execution_count": 32
        },
        {
          "output_type": "display_data",
          "data": {
            "image/png": "[encoded data removed]",
            "text/plain": [
              "<Figure size 432x288 with 1 Axes>"
            ]
          },
          "metadata": {
            "tags": [],
            "needs_background": "light"
          }
        }
      ]
    },
    {
      "cell_type": "markdown",
      "metadata": {
        "id": "MUe6T1piOfIq"
      },
      "source": [
        "# Data Visualisation"
      ]
    },
    {
      "cell_type": "code",
      "metadata": {
        "id": "DUsZ9ba-OipQ",
        "outputId": "94a59e53-7c7b-48e2-d60c-b109ce00580d",
        "colab": {
          "base_uri": "https://localhost:8080/",
          "height": 313
        }
      },
      "source": [
        "%matplotlib inline\n",
        "import matplotlib as plt\n",
        "from matplotlib import pyplot\n",
        "plt.pyplot.hist(df[\"trip_id\"])\n",
        "\n",
        "# set x/y labels and plot title\n",
        "plt.pyplot.xlabel(\"trip_id\")\n",
        "plt.pyplot.ylabel(\"count\")\n",
        "plt.pyplot.title(\"trip_id bins\")"
      ],
      "execution_count": null,
      "outputs": [
        {
          "output_type": "execute_result",
          "data": {
            "text/plain": [
              "Text(0.5, 1.0, 'trip_id bins')"
            ]
          },
          "metadata": {
            "tags": []
          },
          "execution_count": 33
        },
        {
          "output_type": "display_data",
          "data": {
            "image/png": "[encoded data removed]",
            "text/plain": [
              "<Figure size 432x288 with 1 Axes>"
            ]
          },
          "metadata": {
            "tags": [],
            "needs_background": "light"
          }
        }
      ]
    },
    {
      "cell_type": "code",
      "metadata": {
        "id": "HGNnAZAiOovk",
        "outputId": "0fae5536-3837-4945-fa1a-71fc68724f4f",
        "colab": {
          "base_uri": "https://localhost:8080/",
          "height": 282
        }
      },
      "source": [
        "df.plot(kind=\"line\")"
      ],
      "execution_count": null,
      "outputs": [
        {
          "output_type": "execute_result",
          "data": {
            "text/plain": [
              "<matplotlib.axes._subplots.AxesSubplot at 0x7fe2246a5748>"
            ]
          },
          "metadata": {
            "tags": []
          },
          "execution_count": 34
        },
        {
          "output_type": "display_data",
          "data": {
            "image/png": "[encoded data removed]",
            "text/plain": [
              "<Figure size 432x288 with 1 Axes>"
            ]
          },
          "metadata": {
            "tags": [],
            "needs_background": "light"
          }
        }
      ]
    },
    {
      "cell_type": "code",
      "metadata": {
        "id": "BcXj5J0nOr0n",
        "outputId": "4edac56a-1e2f-44a1-bb07-408f31670465",
        "colab": {
          "base_uri": "https://localhost:8080/",
          "height": 204
        }
      },
      "source": [
        "df.head()"
      ],
      "execution_count": null,
      "outputs": [
        {
          "output_type": "execute_result",
          "data": {
            "text/html": [
              "<div>\n",
              "<style scoped>\n",
              "    .dataframe tbody tr th:only-of-type {\n",
              "        vertical-align: middle;\n",
              "    }\n",
              "\n",
              "    .dataframe tbody tr th {\n",
              "        vertical-align: top;\n",
              "    }\n",
              "\n",
              "    .dataframe thead th {\n",
              "        text-align: right;\n",
              "    }\n",
              "</style>\n",
              "<table border=\"1\" class=\"dataframe\">\n",
              "  <thead>\n",
              "    <tr style=\"text-align: right;\">\n",
              "      <th></th>\n",
              "      <th>trip_id</th>\n",
              "      <th>trip_duration_seconds</th>\n",
              "      <th>from_station_id</th>\n",
              "      <th>to_station_id</th>\n",
              "      <th>trip_id-binned</th>\n",
              "    </tr>\n",
              "  </thead>\n",
              "  <tbody>\n",
              "    <tr>\n",
              "      <th>0</th>\n",
              "      <td>-1.802799</td>\n",
              "      <td>-0.334249</td>\n",
              "      <td>-1.048658</td>\n",
              "      <td>0.758734</td>\n",
              "      <td>Low</td>\n",
              "    </tr>\n",
              "    <tr>\n",
              "      <th>1</th>\n",
              "      <td>-1.802783</td>\n",
              "      <td>-0.078708</td>\n",
              "      <td>0.819105</td>\n",
              "      <td>0.928803</td>\n",
              "      <td>Low</td>\n",
              "    </tr>\n",
              "    <tr>\n",
              "      <th>2</th>\n",
              "      <td>-1.802767</td>\n",
              "      <td>-0.510485</td>\n",
              "      <td>1.392935</td>\n",
              "      <td>-0.998650</td>\n",
              "      <td>Low</td>\n",
              "    </tr>\n",
              "    <tr>\n",
              "      <th>3</th>\n",
              "      <td>-1.802751</td>\n",
              "      <td>0.486346</td>\n",
              "      <td>1.021633</td>\n",
              "      <td>-1.009988</td>\n",
              "      <td>Low</td>\n",
              "    </tr>\n",
              "    <tr>\n",
              "      <th>4</th>\n",
              "      <td>-1.802735</td>\n",
              "      <td>0.007206</td>\n",
              "      <td>-1.206180</td>\n",
              "      <td>-0.556469</td>\n",
              "      <td>Low</td>\n",
              "    </tr>\n",
              "  </tbody>\n",
              "</table>\n",
              "</div>"
            ],
            "text/plain": [
              "    trip_id  trip_duration_seconds  ...  to_station_id  trip_id-binned\n",
              "0 -1.802799              -0.334249  ...       0.758734             Low\n",
              "1 -1.802783              -0.078708  ...       0.928803             Low\n",
              "2 -1.802767              -0.510485  ...      -0.998650             Low\n",
              "3 -1.802751               0.486346  ...      -1.009988             Low\n",
              "4 -1.802735               0.007206  ...      -0.556469             Low\n",
              "\n",
              "[5 rows x 5 columns]"
            ]
          },
          "metadata": {
            "tags": []
          },
          "execution_count": 35
        }
      ]
    },
    {
      "cell_type": "code",
      "metadata": {
        "id": "0KvwuWZNOwKb",
        "outputId": "583deddc-03d0-4d43-e3aa-fc9bc77e5210",
        "colab": {
          "base_uri": "https://localhost:8080/",
          "height": 221
        }
      },
      "source": [
        "df[\"trip_id\"].value_counts()"
      ],
      "execution_count": null,
      "outputs": [
        {
          "output_type": "execute_result",
          "data": {
            "text/plain": [
              "-0.002253    1\n",
              " 0.671122    1\n",
              " 1.461551    1\n",
              "-1.671084    1\n",
              " 0.972923    1\n",
              "            ..\n",
              " 0.615072    1\n",
              "-0.277498    1\n",
              " 0.283094    1\n",
              " 0.706985    1\n",
              "-1.286948    1\n",
              "Name: trip_id, Length: 178559, dtype: int64"
            ]
          },
          "metadata": {
            "tags": []
          },
          "execution_count": 36
        }
      ]
    },
    {
      "cell_type": "code",
      "metadata": {
        "id": "WaqcycjKO0Lc",
        "outputId": "40ee3b23-85de-4c6b-b713-d23cdfcd84c1",
        "colab": {
          "base_uri": "https://localhost:8080/",
          "height": 313
        }
      },
      "source": [
        "%matplotlib inline\n",
        "import matplotlib as plt\n",
        "from matplotlib import pyplot\n",
        "pyplot.bar(group_names, df[\"trip_id-binned\"].value_counts())\n",
        "\n",
        "# set x/y labels and plot title\n",
        "plt.pyplot.xlabel(\"trip_id\")\n",
        "plt.pyplot.ylabel(\"count\")\n",
        "plt.pyplot.title(\"trip_id bins\")"
      ],
      "execution_count": null,
      "outputs": [
        {
          "output_type": "execute_result",
          "data": {
            "text/plain": [
              "Text(0.5, 1.0, 'trip_id bins')"
            ]
          },
          "metadata": {
            "tags": []
          },
          "execution_count": 37
        },
        {
          "output_type": "display_data",
          "data": {
            "image/png": "[encoded data removed]",
            "text/plain": [
              "<Figure size 432x288 with 1 Axes>"
            ]
          },
          "metadata": {
            "tags": [],
            "needs_background": "light"
          }
        }
      ]
    },
    {
      "cell_type": "code",
      "metadata": {
        "id": "KOYL7P8kPIyD",
        "outputId": "e6176893-9ace-4039-bd10-205730eedb04",
        "colab": {
          "base_uri": "https://localhost:8080/",
          "height": 119
        }
      },
      "source": [
        "#@title Area Plots\n",
        "df.sort_values(['trip_duration_seconds'], ascending=False, axis=0, inplace=True)\n",
        "\n",
        "# get the top 5 entries\n",
        "df_top5 = df.head()\n",
        "\n",
        "# transpose the dataframe\n",
        "df_top5 = df_top5['trip_id'].transpose() \n",
        "\n",
        "df_top5.head()"
      ],
      "execution_count": null,
      "outputs": [
        {
          "output_type": "execute_result",
          "data": {
            "text/plain": [
              "7750     -1.641686\n",
              "57543    -0.578219\n",
              "96682     0.151697\n",
              "153774    1.237336\n",
              "85801    -0.047804\n",
              "Name: trip_id, dtype: float64"
            ]
          },
          "metadata": {
            "tags": []
          },
          "execution_count": 38
        }
      ]
    },
    {
      "cell_type": "code",
      "metadata": {
        "id": "4qU4fyW4PpHI",
        "outputId": "ba8f6895-8efb-45f5-c642-df0972a0b625",
        "colab": {
          "base_uri": "https://localhost:8080/",
          "height": 498
        }
      },
      "source": [
        "import matplotlib.pyplot as plt\n",
        "df_top5.index = df_top5.index.map(int) # let's change the index values of df_top5 to type integer for plotting\n",
        "df_top5.plot(kind='area', \n",
        "             stacked=False,\n",
        "             figsize=(20, 10), # pass a tuple (x, y) size\n",
        "             )\n",
        "\n",
        "plt.title('Top 5 Trip')\n",
        "plt.ylabel('Number of Trip')\n",
        "plt.xlabel('trip_duration_seconds')\n",
        "\n",
        "plt.show()"
      ],
      "execution_count": null,
      "outputs": [
        {
          "output_type": "display_data",
          "data": {
            "image/png": "[encoded data removed]",
            "text/plain": [
              "<Figure size 1440x720 with 1 Axes>"
            ]
          },
          "metadata": {
            "tags": [],
            "needs_background": "light"
          }
        }
      ]
    },
    {
      "cell_type": "code",
      "metadata": {
        "id": "-TMoHDxZP2Wy",
        "outputId": "946f19c0-2fa0-4cae-c16c-a2f7db1d5c84",
        "colab": {
          "base_uri": "https://localhost:8080/",
          "height": 313
        }
      },
      "source": [
        "#@title Histogram\n",
        "%matplotlib inline\n",
        "import matplotlib as plt\n",
        "from matplotlib import pyplot\n",
        "\n",
        "a = (0,1,2)\n",
        "\n",
        "# draw historgram of attribute \"horsepower\" with bins = 3\n",
        "plt.pyplot.hist(df[\"trip_id\"], bins = 3)\n",
        "\n",
        "# set x/y labels and plot title\n",
        "plt.pyplot.xlabel(\"trip_id\")\n",
        "plt.pyplot.ylabel(\"count\")\n",
        "plt.pyplot.title(\"trip_id bins\")"
      ],
      "execution_count": null,
      "outputs": [
        {
          "output_type": "execute_result",
          "data": {
            "text/plain": [
              "Text(0.5, 1.0, 'trip_id bins')"
            ]
          },
          "metadata": {
            "tags": []
          },
          "execution_count": 42
        },
        {
          "output_type": "display_data",
          "data": {
            "image/png": "[encoded data removed]",
            "text/plain": [
              "<Figure size 432x288 with 1 Axes>"
            ]
          },
          "metadata": {
            "tags": [],
            "needs_background": "light"
          }
        }
      ]
    },
    {
      "cell_type": "code",
      "metadata": {
        "id": "r9YcAylbQBXu",
        "outputId": "4eadc3e1-0126-4d72-b71f-9f420b3bf950",
        "colab": {
          "base_uri": "https://localhost:8080/",
          "height": 204
        }
      },
      "source": [
        "df.head()"
      ],
      "execution_count": null,
      "outputs": [
        {
          "output_type": "execute_result",
          "data": {
            "text/html": [
              "<div>\n",
              "<style scoped>\n",
              "    .dataframe tbody tr th:only-of-type {\n",
              "        vertical-align: middle;\n",
              "    }\n",
              "\n",
              "    .dataframe tbody tr th {\n",
              "        vertical-align: top;\n",
              "    }\n",
              "\n",
              "    .dataframe thead th {\n",
              "        text-align: right;\n",
              "    }\n",
              "</style>\n",
              "<table border=\"1\" class=\"dataframe\">\n",
              "  <thead>\n",
              "    <tr style=\"text-align: right;\">\n",
              "      <th></th>\n",
              "      <th>trip_id</th>\n",
              "      <th>trip_duration_seconds</th>\n",
              "      <th>from_station_id</th>\n",
              "      <th>to_station_id</th>\n",
              "      <th>trip_id-binned</th>\n",
              "    </tr>\n",
              "  </thead>\n",
              "  <tbody>\n",
              "    <tr>\n",
              "      <th>7750</th>\n",
              "      <td>-1.641686</td>\n",
              "      <td>59.898553</td>\n",
              "      <td>-0.587343</td>\n",
              "      <td>1.575067</td>\n",
              "      <td>Low</td>\n",
              "    </tr>\n",
              "    <tr>\n",
              "      <th>57543</th>\n",
              "      <td>-0.578219</td>\n",
              "      <td>58.678124</td>\n",
              "      <td>-0.092273</td>\n",
              "      <td>-0.511117</td>\n",
              "      <td>Medium</td>\n",
              "    </tr>\n",
              "    <tr>\n",
              "      <th>96682</th>\n",
              "      <td>0.151697</td>\n",
              "      <td>57.874051</td>\n",
              "      <td>-1.082413</td>\n",
              "      <td>0.441271</td>\n",
              "      <td>Medium</td>\n",
              "    </tr>\n",
              "    <tr>\n",
              "      <th>153774</th>\n",
              "      <td>1.237336</td>\n",
              "      <td>56.878322</td>\n",
              "      <td>-0.913639</td>\n",
              "      <td>-1.089353</td>\n",
              "      <td>High</td>\n",
              "    </tr>\n",
              "    <tr>\n",
              "      <th>85801</th>\n",
              "      <td>-0.047804</td>\n",
              "      <td>56.826553</td>\n",
              "      <td>-0.553588</td>\n",
              "      <td>-0.567807</td>\n",
              "      <td>Medium</td>\n",
              "    </tr>\n",
              "  </tbody>\n",
              "</table>\n",
              "</div>"
            ],
            "text/plain": [
              "         trip_id  trip_duration_seconds  ...  to_station_id  trip_id-binned\n",
              "7750   -1.641686              59.898553  ...       1.575067             Low\n",
              "57543  -0.578219              58.678124  ...      -0.511117          Medium\n",
              "96682   0.151697              57.874051  ...       0.441271          Medium\n",
              "153774  1.237336              56.878322  ...      -1.089353            High\n",
              "85801  -0.047804              56.826553  ...      -0.567807          Medium\n",
              "\n",
              "[5 rows x 5 columns]"
            ]
          },
          "metadata": {
            "tags": []
          },
          "execution_count": 43
        }
      ]
    },
    {
      "cell_type": "code",
      "metadata": {
        "id": "332EX3npQgv-",
        "outputId": "138f9817-1aac-44bb-cb80-705757a354a4",
        "colab": {
          "base_uri": "https://localhost:8080/",
          "height": 68
        }
      },
      "source": [
        "df.columns"
      ],
      "execution_count": null,
      "outputs": [
        {
          "output_type": "execute_result",
          "data": {
            "text/plain": [
              "Index(['trip_id', 'trip_duration_seconds', 'from_station_id', 'to_station_id',\n",
              "       'trip_id-binned'],\n",
              "      dtype='object')"
            ]
          },
          "metadata": {
            "tags": []
          },
          "execution_count": 44
        }
      ]
    },
    {
      "cell_type": "code",
      "metadata": {
        "id": "Xg2vlm1SQhx4",
        "outputId": "7d8e7c0e-d4d6-4b9d-a362-42123a1d9e9a",
        "colab": {
          "base_uri": "https://localhost:8080/",
          "height": 119
        }
      },
      "source": [
        "df.isnull().sum()"
      ],
      "execution_count": null,
      "outputs": [
        {
          "output_type": "execute_result",
          "data": {
            "text/plain": [
              "trip_id                  0\n",
              "trip_duration_seconds    0\n",
              "from_station_id          0\n",
              "to_station_id            0\n",
              "trip_id-binned           0\n",
              "dtype: int64"
            ]
          },
          "metadata": {
            "tags": []
          },
          "execution_count": 45
        }
      ]
    },
    {
      "cell_type": "markdown",
      "metadata": {
        "id": "z6tYCUDEQoPb"
      },
      "source": [
        "# Specialized Visualization Tools"
      ]
    },
    {
      "cell_type": "code",
      "metadata": {
        "id": "fJtOUZJnQpv6",
        "outputId": "c9e10330-337a-49f8-f547-5d2eb49bc5e0",
        "colab": {
          "base_uri": "https://localhost:8080/",
          "height": 411
        }
      },
      "source": [
        "#@title Pie Charts\n",
        "from matplotlib import pyplot as plt \n",
        "trip_duration_seconds = ['Sangat Cepat', 'Cepat', 'Lumayan', \n",
        "        'Sedang', 'Lambat', 'Sangat Lambat'] \n",
        "  \n",
        "trip_id = [300, 530, 510, 140, 340, 250] \n",
        "  \n",
        "# Creating plot \n",
        "fig = plt.figure(figsize =(10, 7)) \n",
        "plt.pie(trip_id, labels = trip_duration_seconds) \n",
        "\n",
        "# show plot \n",
        "plt.show() "
      ],
      "execution_count": null,
      "outputs": [
        {
          "output_type": "display_data",
          "data": {
            "image/png": "[encoded data removed]",
            "text/plain": [
              "<Figure size 720x504 with 1 Axes>"
            ]
          },
          "metadata": {
            "tags": []
          }
        }
      ]
    },
    {
      "cell_type": "code",
      "metadata": {
        "id": "uB6DciXSQ_nT",
        "outputId": "c0ccf566-01b3-4e31-b6d1-5a5f4cfb5357",
        "colab": {
          "base_uri": "https://localhost:8080/",
          "height": 282
        }
      },
      "source": [
        "#@title Box Plots\n",
        "import matplotlib.pyplot as plt\n",
        "df.plot(kind='box')\n",
        "plt.ylabel(\"Count\")\n",
        "plt.title(\"trip_duration_seconds\")\n",
        "plt.show()"
      ],
      "execution_count": null,
      "outputs": [
        {
          "output_type": "display_data",
          "data": {
            "image/png": "[encoded data removed]",
            "text/plain": [
              "<Figure size 432x288 with 1 Axes>"
            ]
          },
          "metadata": {
            "tags": [],
            "needs_background": "light"
          }
        }
      ]
    },
    {
      "cell_type": "markdown",
      "metadata": {
        "id": "MvCmGh7ERR90"
      },
      "source": [
        "# Advanced Visualization Tools"
      ]
    },
    {
      "cell_type": "code",
      "metadata": {
        "id": "PyoGKFQORTjp",
        "outputId": "042dafe0-6479-44b2-8ce2-3f6f7f709b76",
        "colab": {
          "base_uri": "https://localhost:8080/",
          "height": 280
        }
      },
      "source": [
        "#@title Regression Plots with Seaborn\n",
        "import seaborn as sns\n",
        "ax = sns.regplot(x='from_station_id', y='to_station_id', data=df, marker='+', color='green')"
      ],
      "execution_count": null,
      "outputs": [
        {
          "output_type": "display_data",
          "data": {
            "image/png": "[encoded data removed]",
            "text/plain": [
              "<Figure size 432x288 with 1 Axes>"
            ]
          },
          "metadata": {
            "tags": [],
            "needs_background": "light"
          }
        }
      ]
    }
  ]
}