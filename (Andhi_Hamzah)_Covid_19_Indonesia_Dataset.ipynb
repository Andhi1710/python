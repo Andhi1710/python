{
  "nbformat": 4,
  "nbformat_minor": 0,
  "metadata": {
    "colab": {
      "name": "(Andhi Hamzah) Covid-19 Indonesia Dataset.ipynb",
      "provenance": [],
      "collapsed_sections": [
        "cGCIt2sWIghM",
        "5zQFjQ4YCtc4"
      ],
      "toc_visible": true,
      "mount_file_id": "1xGQz7pl1AvlxpMjLjGEo42Ox0XLhiV1U",
      "authorship_tag": "ABX9TyNli67aHAPI2N7lZ3AgsK+G",
      "include_colab_link": true
    },
    "kernelspec": {
      "name": "python3",
      "display_name": "Python 3"
    }
  },
  "cells": [
    {
      "cell_type": "markdown",
      "metadata": {
        "id": "view-in-github",
        "colab_type": "text"
      },
      "source": [
        "<a href=\"https://colab.research.google.com/github/Andhi1710/python/blob/main/(Andhi_Hamzah)_Covid_19_Indonesia_Dataset.ipynb\" target=\"_parent\"><img src=\"https://colab.research.google.com/assets/colab-badge.svg\" alt=\"Open In Colab\"/></a>"
      ]
    },
    {
      "cell_type": "markdown",
      "metadata": {
        "id": "jRU0AF3vG1QW"
      },
      "source": [
        "COVID 19 - Indonesia Dataset\n",
        "\n"
      ]
    },
    {
      "cell_type": "markdown",
      "metadata": {
        "id": "43hrHPLZoLvc"
      },
      "source": [
        "1. Bagaimana Melihat Kasus Di Indonesia ?\n",
        "2. Bagaimana Melihat Data Di Jawa Barat ?\n",
        "3. Apakah Total Kasus di Indonesia Termasuk Tinggi ?\n",
        "4. Apakah Kasus naik tiap periodenya ?\n",
        "5. Apakah Kasus Sembuh Meningkat ?\n",
        "6. Apakah kasus Meninggal Meningkat ?\n",
        "7. Bagaimana Cara Membandingkan Antar Kasus ?"
      ]
    },
    {
      "cell_type": "markdown",
      "metadata": {
        "id": "cJQyjbAjHqK9"
      },
      "source": [
        "# Data Import"
      ]
    },
    {
      "cell_type": "code",
      "metadata": {
        "id": "cH4XwKLCs9ZT",
        "outputId": "fd8fec8e-7a7f-4616-89e9-65438aecfc44",
        "colab": {
          "base_uri": "https://localhost:8080/",
          "height": 241
        }
      },
      "source": [
        "!pip install kaggle"
      ],
      "execution_count": 1,
      "outputs": [
        {
          "output_type": "stream",
          "text": [
            "Requirement already satisfied: kaggle in /usr/local/lib/python3.6/dist-packages (1.5.8)\n",
            "Requirement already satisfied: python-dateutil in /usr/local/lib/python3.6/dist-packages (from kaggle) (2.8.1)\n",
            "Requirement already satisfied: slugify in /usr/local/lib/python3.6/dist-packages (from kaggle) (0.0.1)\n",
            "Requirement already satisfied: requests in /usr/local/lib/python3.6/dist-packages (from kaggle) (2.23.0)\n",
            "Requirement already satisfied: six>=1.10 in /usr/local/lib/python3.6/dist-packages (from kaggle) (1.15.0)\n",
            "Requirement already satisfied: python-slugify in /usr/local/lib/python3.6/dist-packages (from kaggle) (4.0.1)\n",
            "Requirement already satisfied: urllib3<1.25,>=1.21.1 in /usr/local/lib/python3.6/dist-packages (from kaggle) (1.24.3)\n",
            "Requirement already satisfied: tqdm in /usr/local/lib/python3.6/dist-packages (from kaggle) (4.41.1)\n",
            "Requirement already satisfied: certifi in /usr/local/lib/python3.6/dist-packages (from kaggle) (2020.6.20)\n",
            "Requirement already satisfied: chardet<4,>=3.0.2 in /usr/local/lib/python3.6/dist-packages (from requests->kaggle) (3.0.4)\n",
            "Requirement already satisfied: idna<3,>=2.5 in /usr/local/lib/python3.6/dist-packages (from requests->kaggle) (2.10)\n",
            "Requirement already satisfied: text-unidecode>=1.3 in /usr/local/lib/python3.6/dist-packages (from python-slugify->kaggle) (1.3)\n"
          ],
          "name": "stdout"
        }
      ]
    },
    {
      "cell_type": "code",
      "metadata": {
        "id": "EBLYBq4Us_cm",
        "outputId": "ae7288a3-0b67-4667-e38c-6874c16c1c42",
        "colab": {
          "resources": {
            "http://localhost:8080/nbextensions/google.colab/files.js": {
              "data": "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",
              "ok": true,
              "headers": [
                [
                  "content-type",
                  "application/javascript"
                ]
              ],
              "status": 200,
              "status_text": ""
            }
          },
          "base_uri": "https://localhost:8080/",
          "height": 89
        }
      },
      "source": [
        "from google.colab import files\n",
        "files.upload()"
      ],
      "execution_count": 2,
      "outputs": [
        {
          "output_type": "display_data",
          "data": {
            "text/html": [
              "\n",
              "     <input type=\"file\" id=\"files-af55e1a1-03b7-4c6b-847e-5003dc03420e\" name=\"files[]\" multiple disabled\n",
              "        style=\"border:none\" />\n",
              "     <output id=\"result-af55e1a1-03b7-4c6b-847e-5003dc03420e\">\n",
              "      Upload widget is only available when the cell has been executed in the\n",
              "      current browser session. Please rerun this cell to enable.\n",
              "      </output>\n",
              "      <script src=\"/nbextensions/google.colab/files.js\"></script> "
            ],
            "text/plain": [
              "<IPython.core.display.HTML object>"
            ]
          },
          "metadata": {
            "tags": []
          }
        },
        {
          "output_type": "stream",
          "text": [
            "Saving kaggle.json to kaggle.json\n"
          ],
          "name": "stdout"
        },
        {
          "output_type": "execute_result",
          "data": {
            "text/plain": [
              "{'kaggle.json': b'{\"username\":\"andhihamzah\",\"key\":\"b3afadbe6663a10cdcd7032c54f70376\"}'}"
            ]
          },
          "metadata": {
            "tags": []
          },
          "execution_count": 2
        }
      ]
    },
    {
      "cell_type": "code",
      "metadata": {
        "id": "sACxvK5-tBak"
      },
      "source": [
        "!mkdir -p ~/.kaggle\n",
        "!cp kaggle.json ~/.kaggle/\n",
        "!chmod 600 ~/.kaggle/kaggle.json"
      ],
      "execution_count": 3,
      "outputs": []
    },
    {
      "cell_type": "code",
      "metadata": {
        "id": "RLPiSpKBtDQO",
        "outputId": "c916564a-160b-45d6-b9e4-8d0434ed0167",
        "colab": {
          "base_uri": "https://localhost:8080/",
          "height": 68
        }
      },
      "source": [
        "!kaggle datasets download -d hendratno/covid19-indonesia"
      ],
      "execution_count": 4,
      "outputs": [
        {
          "output_type": "stream",
          "text": [
            "Downloading covid19-indonesia.zip to /content\n",
            "\r  0% 0.00/236k [00:00<?, ?B/s]\n",
            "\r100% 236k/236k [00:00<00:00, 34.7MB/s]\n"
          ],
          "name": "stdout"
        }
      ]
    },
    {
      "cell_type": "code",
      "metadata": {
        "id": "2okiEXVotXbp",
        "outputId": "5104bcd5-2b87-40ed-bbc4-0dc43fe3370a",
        "colab": {
          "base_uri": "https://localhost:8080/",
          "height": 34
        }
      },
      "source": [
        "!ls"
      ],
      "execution_count": 5,
      "outputs": [
        {
          "output_type": "stream",
          "text": [
            "covid19-indonesia.zip  kaggle.json  sample_data\n"
          ],
          "name": "stdout"
        }
      ]
    },
    {
      "cell_type": "code",
      "metadata": {
        "id": "VjSeQZaytgaj"
      },
      "source": [
        "import zipfile\n",
        "zip_ref = zipfile.ZipFile('covid19-indonesia.zip', 'r')\n",
        "zip_ref.extractall('files')\n",
        "zip_ref.close()"
      ],
      "execution_count": 6,
      "outputs": []
    },
    {
      "cell_type": "code",
      "metadata": {
        "id": "RpidOgAKG_ki"
      },
      "source": [
        "#memasukkan data \n",
        "import pandas as pd\n",
        "import numpy as np\n",
        "import matplotlib.pyplot as plt\n",
        "import seaborn as sns\n",
        "import datetime as dt\n",
        "import plotly.graph_objects as go\n",
        "%matplotlib inline\n"
      ],
      "execution_count": 1,
      "outputs": []
    },
    {
      "cell_type": "code",
      "metadata": {
        "id": "-BZIVNcOaV0L",
        "outputId": "097881d8-3c33-4a0e-80d0-4de59211baca",
        "colab": {
          "base_uri": "https://localhost:8080/",
          "height": 617
        }
      },
      "source": [
        "path = (\"/content/files/covid_19_indonesia_time_series_all.csv\")\n",
        "data = pd.read_csv(path)\n",
        "data.head(10)"
      ],
      "execution_count": 2,
      "outputs": [
        {
          "output_type": "execute_result",
          "data": {
            "text/html": [
              "<div>\n",
              "<style scoped>\n",
              "    .dataframe tbody tr th:only-of-type {\n",
              "        vertical-align: middle;\n",
              "    }\n",
              "\n",
              "    .dataframe tbody tr th {\n",
              "        vertical-align: top;\n",
              "    }\n",
              "\n",
              "    .dataframe thead th {\n",
              "        text-align: right;\n",
              "    }\n",
              "</style>\n",
              "<table border=\"1\" class=\"dataframe\">\n",
              "  <thead>\n",
              "    <tr style=\"text-align: right;\">\n",
              "      <th></th>\n",
              "      <th>Date</th>\n",
              "      <th>Location ISO Code</th>\n",
              "      <th>Location</th>\n",
              "      <th>New Cases</th>\n",
              "      <th>New Deaths</th>\n",
              "      <th>New Recovered</th>\n",
              "      <th>New Active Cases</th>\n",
              "      <th>Total Cases</th>\n",
              "      <th>Total Deaths</th>\n",
              "      <th>Total Recovered</th>\n",
              "      <th>Total Active Cases</th>\n",
              "      <th>Location Level</th>\n",
              "      <th>City or Regency</th>\n",
              "      <th>Province</th>\n",
              "      <th>Country</th>\n",
              "      <th>Continent</th>\n",
              "      <th>Island</th>\n",
              "      <th>Time Zone</th>\n",
              "      <th>Special Status</th>\n",
              "      <th>Total Regencies</th>\n",
              "      <th>Total Cities</th>\n",
              "      <th>Total Districts</th>\n",
              "      <th>Total Urban Villages</th>\n",
              "      <th>Total Rural Villages</th>\n",
              "      <th>Area (km2)</th>\n",
              "      <th>Population</th>\n",
              "      <th>Population Density</th>\n",
              "      <th>Longitude</th>\n",
              "      <th>Latitude</th>\n",
              "      <th>New Cases per Million</th>\n",
              "      <th>Total Cases per Million</th>\n",
              "      <th>New Deaths per Million</th>\n",
              "      <th>Total Deaths per Million</th>\n",
              "      <th>Case Fatality Rate</th>\n",
              "      <th>Case Recovered Rate</th>\n",
              "      <th>Growth Factor of New Cases</th>\n",
              "      <th>Growth Factor of New Deaths</th>\n",
              "    </tr>\n",
              "  </thead>\n",
              "  <tbody>\n",
              "    <tr>\n",
              "      <th>0</th>\n",
              "      <td>3/1/2020</td>\n",
              "      <td>ID-JK</td>\n",
              "      <td>DKI Jakarta</td>\n",
              "      <td>2</td>\n",
              "      <td>0</td>\n",
              "      <td>0</td>\n",
              "      <td>2</td>\n",
              "      <td>489</td>\n",
              "      <td>20</td>\n",
              "      <td>39</td>\n",
              "      <td>430</td>\n",
              "      <td>Province</td>\n",
              "      <td>NaN</td>\n",
              "      <td>DKI Jakarta</td>\n",
              "      <td>Indonesia</td>\n",
              "      <td>Asia</td>\n",
              "      <td>Jawa</td>\n",
              "      <td>UTC+07:00</td>\n",
              "      <td>Daerah Khusus Ibu Kota</td>\n",
              "      <td>1</td>\n",
              "      <td>5.0</td>\n",
              "      <td>44</td>\n",
              "      <td>267.0</td>\n",
              "      <td>NaN</td>\n",
              "      <td>664</td>\n",
              "      <td>10846145</td>\n",
              "      <td>16334.31</td>\n",
              "      <td>106.836118</td>\n",
              "      <td>-6.204699</td>\n",
              "      <td>0.18</td>\n",
              "      <td>45.09</td>\n",
              "      <td>0.00</td>\n",
              "      <td>1.84</td>\n",
              "      <td>4.09%</td>\n",
              "      <td>7.98%</td>\n",
              "      <td>NaN</td>\n",
              "      <td>NaN</td>\n",
              "    </tr>\n",
              "    <tr>\n",
              "      <th>1</th>\n",
              "      <td>3/2/2020</td>\n",
              "      <td>ID-JK</td>\n",
              "      <td>DKI Jakarta</td>\n",
              "      <td>2</td>\n",
              "      <td>0</td>\n",
              "      <td>0</td>\n",
              "      <td>2</td>\n",
              "      <td>491</td>\n",
              "      <td>20</td>\n",
              "      <td>39</td>\n",
              "      <td>432</td>\n",
              "      <td>Province</td>\n",
              "      <td>NaN</td>\n",
              "      <td>DKI Jakarta</td>\n",
              "      <td>Indonesia</td>\n",
              "      <td>Asia</td>\n",
              "      <td>Jawa</td>\n",
              "      <td>UTC+07:00</td>\n",
              "      <td>Daerah Khusus Ibu Kota</td>\n",
              "      <td>1</td>\n",
              "      <td>5.0</td>\n",
              "      <td>44</td>\n",
              "      <td>267.0</td>\n",
              "      <td>NaN</td>\n",
              "      <td>664</td>\n",
              "      <td>10846145</td>\n",
              "      <td>16334.31</td>\n",
              "      <td>106.836118</td>\n",
              "      <td>-6.204699</td>\n",
              "      <td>0.18</td>\n",
              "      <td>45.27</td>\n",
              "      <td>0.00</td>\n",
              "      <td>1.84</td>\n",
              "      <td>4.07%</td>\n",
              "      <td>7.94%</td>\n",
              "      <td>1.00</td>\n",
              "      <td>1.0</td>\n",
              "    </tr>\n",
              "    <tr>\n",
              "      <th>2</th>\n",
              "      <td>3/2/2020</td>\n",
              "      <td>IDN</td>\n",
              "      <td>Indonesia</td>\n",
              "      <td>2</td>\n",
              "      <td>0</td>\n",
              "      <td>0</td>\n",
              "      <td>2</td>\n",
              "      <td>2</td>\n",
              "      <td>0</td>\n",
              "      <td>0</td>\n",
              "      <td>2</td>\n",
              "      <td>Country</td>\n",
              "      <td>NaN</td>\n",
              "      <td>NaN</td>\n",
              "      <td>Indonesia</td>\n",
              "      <td>Asia</td>\n",
              "      <td>NaN</td>\n",
              "      <td>NaN</td>\n",
              "      <td>NaN</td>\n",
              "      <td>416</td>\n",
              "      <td>98.0</td>\n",
              "      <td>7230</td>\n",
              "      <td>8488.0</td>\n",
              "      <td>74953.0</td>\n",
              "      <td>1916907</td>\n",
              "      <td>265185520</td>\n",
              "      <td>138.34</td>\n",
              "      <td>113.921327</td>\n",
              "      <td>-0.789275</td>\n",
              "      <td>0.01</td>\n",
              "      <td>0.01</td>\n",
              "      <td>0.00</td>\n",
              "      <td>0.00</td>\n",
              "      <td>0.00%</td>\n",
              "      <td>0.00%</td>\n",
              "      <td>NaN</td>\n",
              "      <td>NaN</td>\n",
              "    </tr>\n",
              "    <tr>\n",
              "      <th>3</th>\n",
              "      <td>3/2/2020</td>\n",
              "      <td>ID-JB</td>\n",
              "      <td>Jawa Barat</td>\n",
              "      <td>3</td>\n",
              "      <td>0</td>\n",
              "      <td>0</td>\n",
              "      <td>3</td>\n",
              "      <td>12</td>\n",
              "      <td>5</td>\n",
              "      <td>5</td>\n",
              "      <td>2</td>\n",
              "      <td>Province</td>\n",
              "      <td>NaN</td>\n",
              "      <td>Jawa Barat</td>\n",
              "      <td>Indonesia</td>\n",
              "      <td>Asia</td>\n",
              "      <td>Jawa</td>\n",
              "      <td>UTC+07:00</td>\n",
              "      <td>NaN</td>\n",
              "      <td>18</td>\n",
              "      <td>9.0</td>\n",
              "      <td>627</td>\n",
              "      <td>645.0</td>\n",
              "      <td>5312.0</td>\n",
              "      <td>35378</td>\n",
              "      <td>45161325</td>\n",
              "      <td>1276.55</td>\n",
              "      <td>107.603708</td>\n",
              "      <td>-6.920432</td>\n",
              "      <td>0.07</td>\n",
              "      <td>0.27</td>\n",
              "      <td>0.00</td>\n",
              "      <td>0.11</td>\n",
              "      <td>41.67%</td>\n",
              "      <td>41.67%</td>\n",
              "      <td>NaN</td>\n",
              "      <td>NaN</td>\n",
              "    </tr>\n",
              "    <tr>\n",
              "      <th>4</th>\n",
              "      <td>3/3/2020</td>\n",
              "      <td>ID-JK</td>\n",
              "      <td>DKI Jakarta</td>\n",
              "      <td>2</td>\n",
              "      <td>0</td>\n",
              "      <td>0</td>\n",
              "      <td>2</td>\n",
              "      <td>493</td>\n",
              "      <td>20</td>\n",
              "      <td>39</td>\n",
              "      <td>434</td>\n",
              "      <td>Province</td>\n",
              "      <td>NaN</td>\n",
              "      <td>DKI Jakarta</td>\n",
              "      <td>Indonesia</td>\n",
              "      <td>Asia</td>\n",
              "      <td>Jawa</td>\n",
              "      <td>UTC+07:00</td>\n",
              "      <td>Daerah Khusus Ibu Kota</td>\n",
              "      <td>1</td>\n",
              "      <td>5.0</td>\n",
              "      <td>44</td>\n",
              "      <td>267.0</td>\n",
              "      <td>NaN</td>\n",
              "      <td>664</td>\n",
              "      <td>10846145</td>\n",
              "      <td>16334.31</td>\n",
              "      <td>106.836118</td>\n",
              "      <td>-6.204699</td>\n",
              "      <td>0.18</td>\n",
              "      <td>45.45</td>\n",
              "      <td>0.00</td>\n",
              "      <td>1.84</td>\n",
              "      <td>4.06%</td>\n",
              "      <td>7.91%</td>\n",
              "      <td>1.00</td>\n",
              "      <td>1.0</td>\n",
              "    </tr>\n",
              "    <tr>\n",
              "      <th>5</th>\n",
              "      <td>3/3/2020</td>\n",
              "      <td>IDN</td>\n",
              "      <td>Indonesia</td>\n",
              "      <td>0</td>\n",
              "      <td>0</td>\n",
              "      <td>0</td>\n",
              "      <td>0</td>\n",
              "      <td>2</td>\n",
              "      <td>0</td>\n",
              "      <td>0</td>\n",
              "      <td>2</td>\n",
              "      <td>Country</td>\n",
              "      <td>NaN</td>\n",
              "      <td>NaN</td>\n",
              "      <td>Indonesia</td>\n",
              "      <td>Asia</td>\n",
              "      <td>NaN</td>\n",
              "      <td>NaN</td>\n",
              "      <td>NaN</td>\n",
              "      <td>416</td>\n",
              "      <td>98.0</td>\n",
              "      <td>7230</td>\n",
              "      <td>8488.0</td>\n",
              "      <td>74953.0</td>\n",
              "      <td>1916907</td>\n",
              "      <td>265185520</td>\n",
              "      <td>138.34</td>\n",
              "      <td>113.921327</td>\n",
              "      <td>-0.789275</td>\n",
              "      <td>0.00</td>\n",
              "      <td>0.01</td>\n",
              "      <td>0.00</td>\n",
              "      <td>0.00</td>\n",
              "      <td>0.00%</td>\n",
              "      <td>0.00%</td>\n",
              "      <td>0.00</td>\n",
              "      <td>1.0</td>\n",
              "    </tr>\n",
              "    <tr>\n",
              "      <th>6</th>\n",
              "      <td>3/3/2020</td>\n",
              "      <td>ID-JB</td>\n",
              "      <td>Jawa Barat</td>\n",
              "      <td>1</td>\n",
              "      <td>1</td>\n",
              "      <td>0</td>\n",
              "      <td>0</td>\n",
              "      <td>13</td>\n",
              "      <td>6</td>\n",
              "      <td>5</td>\n",
              "      <td>2</td>\n",
              "      <td>Province</td>\n",
              "      <td>NaN</td>\n",
              "      <td>Jawa Barat</td>\n",
              "      <td>Indonesia</td>\n",
              "      <td>Asia</td>\n",
              "      <td>Jawa</td>\n",
              "      <td>UTC+07:00</td>\n",
              "      <td>NaN</td>\n",
              "      <td>18</td>\n",
              "      <td>9.0</td>\n",
              "      <td>627</td>\n",
              "      <td>645.0</td>\n",
              "      <td>5312.0</td>\n",
              "      <td>35378</td>\n",
              "      <td>45161325</td>\n",
              "      <td>1276.55</td>\n",
              "      <td>107.603708</td>\n",
              "      <td>-6.920432</td>\n",
              "      <td>0.02</td>\n",
              "      <td>0.29</td>\n",
              "      <td>0.02</td>\n",
              "      <td>0.13</td>\n",
              "      <td>46.15%</td>\n",
              "      <td>38.46%</td>\n",
              "      <td>0.33</td>\n",
              "      <td>NaN</td>\n",
              "    </tr>\n",
              "    <tr>\n",
              "      <th>7</th>\n",
              "      <td>3/4/2020</td>\n",
              "      <td>ID-JK</td>\n",
              "      <td>DKI Jakarta</td>\n",
              "      <td>2</td>\n",
              "      <td>0</td>\n",
              "      <td>0</td>\n",
              "      <td>2</td>\n",
              "      <td>495</td>\n",
              "      <td>20</td>\n",
              "      <td>39</td>\n",
              "      <td>436</td>\n",
              "      <td>Province</td>\n",
              "      <td>NaN</td>\n",
              "      <td>DKI Jakarta</td>\n",
              "      <td>Indonesia</td>\n",
              "      <td>Asia</td>\n",
              "      <td>Jawa</td>\n",
              "      <td>UTC+07:00</td>\n",
              "      <td>Daerah Khusus Ibu Kota</td>\n",
              "      <td>1</td>\n",
              "      <td>5.0</td>\n",
              "      <td>44</td>\n",
              "      <td>267.0</td>\n",
              "      <td>NaN</td>\n",
              "      <td>664</td>\n",
              "      <td>10846145</td>\n",
              "      <td>16334.31</td>\n",
              "      <td>106.836118</td>\n",
              "      <td>-6.204699</td>\n",
              "      <td>0.18</td>\n",
              "      <td>45.64</td>\n",
              "      <td>0.00</td>\n",
              "      <td>1.84</td>\n",
              "      <td>4.04%</td>\n",
              "      <td>7.88%</td>\n",
              "      <td>1.00</td>\n",
              "      <td>1.0</td>\n",
              "    </tr>\n",
              "    <tr>\n",
              "      <th>8</th>\n",
              "      <td>3/4/2020</td>\n",
              "      <td>IDN</td>\n",
              "      <td>Indonesia</td>\n",
              "      <td>0</td>\n",
              "      <td>0</td>\n",
              "      <td>0</td>\n",
              "      <td>0</td>\n",
              "      <td>2</td>\n",
              "      <td>0</td>\n",
              "      <td>0</td>\n",
              "      <td>2</td>\n",
              "      <td>Country</td>\n",
              "      <td>NaN</td>\n",
              "      <td>NaN</td>\n",
              "      <td>Indonesia</td>\n",
              "      <td>Asia</td>\n",
              "      <td>NaN</td>\n",
              "      <td>NaN</td>\n",
              "      <td>NaN</td>\n",
              "      <td>416</td>\n",
              "      <td>98.0</td>\n",
              "      <td>7230</td>\n",
              "      <td>8488.0</td>\n",
              "      <td>74953.0</td>\n",
              "      <td>1916907</td>\n",
              "      <td>265185520</td>\n",
              "      <td>138.34</td>\n",
              "      <td>113.921327</td>\n",
              "      <td>-0.789275</td>\n",
              "      <td>0.00</td>\n",
              "      <td>0.01</td>\n",
              "      <td>0.00</td>\n",
              "      <td>0.00</td>\n",
              "      <td>0.00%</td>\n",
              "      <td>0.00%</td>\n",
              "      <td>1.00</td>\n",
              "      <td>1.0</td>\n",
              "    </tr>\n",
              "    <tr>\n",
              "      <th>9</th>\n",
              "      <td>3/4/2020</td>\n",
              "      <td>ID-JB</td>\n",
              "      <td>Jawa Barat</td>\n",
              "      <td>1</td>\n",
              "      <td>0</td>\n",
              "      <td>0</td>\n",
              "      <td>1</td>\n",
              "      <td>14</td>\n",
              "      <td>6</td>\n",
              "      <td>5</td>\n",
              "      <td>3</td>\n",
              "      <td>Province</td>\n",
              "      <td>NaN</td>\n",
              "      <td>Jawa Barat</td>\n",
              "      <td>Indonesia</td>\n",
              "      <td>Asia</td>\n",
              "      <td>Jawa</td>\n",
              "      <td>UTC+07:00</td>\n",
              "      <td>NaN</td>\n",
              "      <td>18</td>\n",
              "      <td>9.0</td>\n",
              "      <td>627</td>\n",
              "      <td>645.0</td>\n",
              "      <td>5312.0</td>\n",
              "      <td>35378</td>\n",
              "      <td>45161325</td>\n",
              "      <td>1276.55</td>\n",
              "      <td>107.603708</td>\n",
              "      <td>-6.920432</td>\n",
              "      <td>0.02</td>\n",
              "      <td>0.31</td>\n",
              "      <td>0.00</td>\n",
              "      <td>0.13</td>\n",
              "      <td>42.86%</td>\n",
              "      <td>35.71%</td>\n",
              "      <td>1.00</td>\n",
              "      <td>0.0</td>\n",
              "    </tr>\n",
              "  </tbody>\n",
              "</table>\n",
              "</div>"
            ],
            "text/plain": [
              "       Date  ... Growth Factor of New Deaths\n",
              "0  3/1/2020  ...                         NaN\n",
              "1  3/2/2020  ...                         1.0\n",
              "2  3/2/2020  ...                         NaN\n",
              "3  3/2/2020  ...                         NaN\n",
              "4  3/3/2020  ...                         1.0\n",
              "5  3/3/2020  ...                         1.0\n",
              "6  3/3/2020  ...                         NaN\n",
              "7  3/4/2020  ...                         1.0\n",
              "8  3/4/2020  ...                         1.0\n",
              "9  3/4/2020  ...                         0.0\n",
              "\n",
              "[10 rows x 37 columns]"
            ]
          },
          "metadata": {
            "tags": []
          },
          "execution_count": 2
        }
      ]
    },
    {
      "cell_type": "code",
      "metadata": {
        "id": "j2BYGM14advW"
      },
      "source": [
        "data['Date'] = pd.to_datetime(data['Date'])"
      ],
      "execution_count": 3,
      "outputs": []
    },
    {
      "cell_type": "code",
      "metadata": {
        "id": "L4AEnVfjahVE",
        "outputId": "141ab9b6-86d0-4431-d7c8-8c5bbc0b7709",
        "colab": {
          "base_uri": "https://localhost:8080/",
          "height": 351
        }
      },
      "source": [
        "#investigate data statistics\n",
        "data.describe()"
      ],
      "execution_count": 4,
      "outputs": [
        {
          "output_type": "execute_result",
          "data": {
            "text/html": [
              "<div>\n",
              "<style scoped>\n",
              "    .dataframe tbody tr th:only-of-type {\n",
              "        vertical-align: middle;\n",
              "    }\n",
              "\n",
              "    .dataframe tbody tr th {\n",
              "        vertical-align: top;\n",
              "    }\n",
              "\n",
              "    .dataframe thead th {\n",
              "        text-align: right;\n",
              "    }\n",
              "</style>\n",
              "<table border=\"1\" class=\"dataframe\">\n",
              "  <thead>\n",
              "    <tr style=\"text-align: right;\">\n",
              "      <th></th>\n",
              "      <th>New Cases</th>\n",
              "      <th>New Deaths</th>\n",
              "      <th>New Recovered</th>\n",
              "      <th>New Active Cases</th>\n",
              "      <th>Total Cases</th>\n",
              "      <th>Total Deaths</th>\n",
              "      <th>Total Recovered</th>\n",
              "      <th>Total Active Cases</th>\n",
              "      <th>City or Regency</th>\n",
              "      <th>Total Regencies</th>\n",
              "      <th>Total Cities</th>\n",
              "      <th>Total Districts</th>\n",
              "      <th>Total Urban Villages</th>\n",
              "      <th>Total Rural Villages</th>\n",
              "      <th>Area (km2)</th>\n",
              "      <th>Population</th>\n",
              "      <th>Population Density</th>\n",
              "      <th>Longitude</th>\n",
              "      <th>Latitude</th>\n",
              "      <th>New Cases per Million</th>\n",
              "      <th>Total Cases per Million</th>\n",
              "      <th>New Deaths per Million</th>\n",
              "      <th>Total Deaths per Million</th>\n",
              "      <th>Growth Factor of New Cases</th>\n",
              "      <th>Growth Factor of New Deaths</th>\n",
              "    </tr>\n",
              "  </thead>\n",
              "  <tbody>\n",
              "    <tr>\n",
              "      <th>count</th>\n",
              "      <td>7097.000000</td>\n",
              "      <td>7097.000000</td>\n",
              "      <td>7097.000000</td>\n",
              "      <td>7097.000000</td>\n",
              "      <td>7097.000000</td>\n",
              "      <td>7097.000000</td>\n",
              "      <td>7097.000000</td>\n",
              "      <td>7097.000000</td>\n",
              "      <td>0.0</td>\n",
              "      <td>7097.000000</td>\n",
              "      <td>6899.000000</td>\n",
              "      <td>7097.000000</td>\n",
              "      <td>6897.000000</td>\n",
              "      <td>6872.000000</td>\n",
              "      <td>7.097000e+03</td>\n",
              "      <td>7.097000e+03</td>\n",
              "      <td>7097.000000</td>\n",
              "      <td>7097.000000</td>\n",
              "      <td>7097.000000</td>\n",
              "      <td>7097.000000</td>\n",
              "      <td>7097.000000</td>\n",
              "      <td>7097.000000</td>\n",
              "      <td>7097.000000</td>\n",
              "      <td>6328.000000</td>\n",
              "      <td>6226.000000</td>\n",
              "    </tr>\n",
              "    <tr>\n",
              "      <th>mean</th>\n",
              "      <td>93.874595</td>\n",
              "      <td>3.331408</td>\n",
              "      <td>71.851487</td>\n",
              "      <td>18.691701</td>\n",
              "      <td>5386.270678</td>\n",
              "      <td>234.527970</td>\n",
              "      <td>3510.066225</td>\n",
              "      <td>1641.676483</td>\n",
              "      <td>NaN</td>\n",
              "      <td>25.010709</td>\n",
              "      <td>6.111031</td>\n",
              "      <td>436.517684</td>\n",
              "      <td>528.831811</td>\n",
              "      <td>4668.908615</td>\n",
              "      <td>1.150392e+05</td>\n",
              "      <td>1.616379e+07</td>\n",
              "      <td>785.360072</td>\n",
              "      <td>113.671325</td>\n",
              "      <td>-2.759288</td>\n",
              "      <td>6.943032</td>\n",
              "      <td>392.088398</td>\n",
              "      <td>0.198394</td>\n",
              "      <td>13.525061</td>\n",
              "      <td>1.419701</td>\n",
              "      <td>0.974846</td>\n",
              "    </tr>\n",
              "    <tr>\n",
              "      <th>std</th>\n",
              "      <td>368.150061</td>\n",
              "      <td>12.156269</td>\n",
              "      <td>310.812594</td>\n",
              "      <td>106.893910</td>\n",
              "      <td>23068.883098</td>\n",
              "      <td>945.058318</td>\n",
              "      <td>16633.421459</td>\n",
              "      <td>5892.596123</td>\n",
              "      <td>NaN</td>\n",
              "      <td>70.967351</td>\n",
              "      <td>17.000627</td>\n",
              "      <td>1238.027472</td>\n",
              "      <td>1475.074888</td>\n",
              "      <td>13068.615468</td>\n",
              "      <td>3.306874e+05</td>\n",
              "      <td>4.625346e+07</td>\n",
              "      <td>2838.522255</td>\n",
              "      <td>9.844168</td>\n",
              "      <td>3.598916</td>\n",
              "      <td>13.516912</td>\n",
              "      <td>673.549576</td>\n",
              "      <td>0.439838</td>\n",
              "      <td>21.740158</td>\n",
              "      <td>2.941523</td>\n",
              "      <td>0.963323</td>\n",
              "    </tr>\n",
              "    <tr>\n",
              "      <th>min</th>\n",
              "      <td>0.000000</td>\n",
              "      <td>0.000000</td>\n",
              "      <td>0.000000</td>\n",
              "      <td>-1762.000000</td>\n",
              "      <td>1.000000</td>\n",
              "      <td>0.000000</td>\n",
              "      <td>0.000000</td>\n",
              "      <td>-33.000000</td>\n",
              "      <td>NaN</td>\n",
              "      <td>1.000000</td>\n",
              "      <td>1.000000</td>\n",
              "      <td>44.000000</td>\n",
              "      <td>35.000000</td>\n",
              "      <td>275.000000</td>\n",
              "      <td>6.640000e+02</td>\n",
              "      <td>6.484070e+05</td>\n",
              "      <td>8.590000</td>\n",
              "      <td>96.910522</td>\n",
              "      <td>-8.682205</td>\n",
              "      <td>0.000000</td>\n",
              "      <td>0.010000</td>\n",
              "      <td>0.000000</td>\n",
              "      <td>0.000000</td>\n",
              "      <td>0.000000</td>\n",
              "      <td>0.000000</td>\n",
              "    </tr>\n",
              "    <tr>\n",
              "      <th>25%</th>\n",
              "      <td>1.000000</td>\n",
              "      <td>0.000000</td>\n",
              "      <td>0.000000</td>\n",
              "      <td>-1.000000</td>\n",
              "      <td>130.000000</td>\n",
              "      <td>4.000000</td>\n",
              "      <td>41.000000</td>\n",
              "      <td>44.000000</td>\n",
              "      <td>NaN</td>\n",
              "      <td>7.000000</td>\n",
              "      <td>1.000000</td>\n",
              "      <td>103.000000</td>\n",
              "      <td>99.000000</td>\n",
              "      <td>928.000000</td>\n",
              "      <td>1.678700e+04</td>\n",
              "      <td>2.570289e+06</td>\n",
              "      <td>47.790000</td>\n",
              "      <td>106.109004</td>\n",
              "      <td>-6.204699</td>\n",
              "      <td>0.190000</td>\n",
              "      <td>30.490000</td>\n",
              "      <td>0.000000</td>\n",
              "      <td>1.110000</td>\n",
              "      <td>0.500000</td>\n",
              "      <td>1.000000</td>\n",
              "    </tr>\n",
              "    <tr>\n",
              "      <th>50%</th>\n",
              "      <td>10.000000</td>\n",
              "      <td>0.000000</td>\n",
              "      <td>4.000000</td>\n",
              "      <td>1.000000</td>\n",
              "      <td>493.000000</td>\n",
              "      <td>17.000000</td>\n",
              "      <td>241.000000</td>\n",
              "      <td>186.000000</td>\n",
              "      <td>NaN</td>\n",
              "      <td>11.000000</td>\n",
              "      <td>2.000000</td>\n",
              "      <td>169.000000</td>\n",
              "      <td>175.000000</td>\n",
              "      <td>1591.000000</td>\n",
              "      <td>4.201300e+04</td>\n",
              "      <td>4.216171e+06</td>\n",
              "      <td>103.840000</td>\n",
              "      <td>113.417654</td>\n",
              "      <td>-2.461746</td>\n",
              "      <td>2.090000</td>\n",
              "      <td>128.010000</td>\n",
              "      <td>0.000000</td>\n",
              "      <td>3.890000</td>\n",
              "      <td>1.000000</td>\n",
              "      <td>1.000000</td>\n",
              "    </tr>\n",
              "    <tr>\n",
              "      <th>75%</th>\n",
              "      <td>49.000000</td>\n",
              "      <td>1.000000</td>\n",
              "      <td>26.000000</td>\n",
              "      <td>16.000000</td>\n",
              "      <td>2568.000000</td>\n",
              "      <td>97.000000</td>\n",
              "      <td>1416.000000</td>\n",
              "      <td>953.000000</td>\n",
              "      <td>NaN</td>\n",
              "      <td>18.000000</td>\n",
              "      <td>4.000000</td>\n",
              "      <td>289.000000</td>\n",
              "      <td>332.000000</td>\n",
              "      <td>2853.000000</td>\n",
              "      <td>7.546800e+04</td>\n",
              "      <td>9.095591e+06</td>\n",
              "      <td>262.700000</td>\n",
              "      <td>121.201093</td>\n",
              "      <td>0.212037</td>\n",
              "      <td>7.780000</td>\n",
              "      <td>492.660000</td>\n",
              "      <td>0.240000</td>\n",
              "      <td>16.790000</td>\n",
              "      <td>1.300000</td>\n",
              "      <td>1.000000</td>\n",
              "    </tr>\n",
              "    <tr>\n",
              "      <th>max</th>\n",
              "      <td>4850.000000</td>\n",
              "      <td>160.000000</td>\n",
              "      <td>4510.000000</td>\n",
              "      <td>1533.000000</td>\n",
              "      <td>333449.000000</td>\n",
              "      <td>11844.000000</td>\n",
              "      <td>255027.000000</td>\n",
              "      <td>66578.000000</td>\n",
              "      <td>NaN</td>\n",
              "      <td>416.000000</td>\n",
              "      <td>98.000000</td>\n",
              "      <td>7230.000000</td>\n",
              "      <td>8488.000000</td>\n",
              "      <td>74953.000000</td>\n",
              "      <td>1.916907e+06</td>\n",
              "      <td>2.651855e+08</td>\n",
              "      <td>16334.310000</td>\n",
              "      <td>138.696030</td>\n",
              "      <td>4.225615</td>\n",
              "      <td>184.100000</td>\n",
              "      <td>8017.870000</td>\n",
              "      <td>7.600000</td>\n",
              "      <td>174.160000</td>\n",
              "      <td>92.000000</td>\n",
              "      <td>27.000000</td>\n",
              "    </tr>\n",
              "  </tbody>\n",
              "</table>\n",
              "</div>"
            ],
            "text/plain": [
              "         New Cases  ...  Growth Factor of New Deaths\n",
              "count  7097.000000  ...                  6226.000000\n",
              "mean     93.874595  ...                     0.974846\n",
              "std     368.150061  ...                     0.963323\n",
              "min       0.000000  ...                     0.000000\n",
              "25%       1.000000  ...                     1.000000\n",
              "50%      10.000000  ...                     1.000000\n",
              "75%      49.000000  ...                     1.000000\n",
              "max    4850.000000  ...                    27.000000\n",
              "\n",
              "[8 rows x 25 columns]"
            ]
          },
          "metadata": {
            "tags": []
          },
          "execution_count": 4
        }
      ]
    },
    {
      "cell_type": "markdown",
      "metadata": {
        "id": "cGCIt2sWIghM"
      },
      "source": [
        "# Data Preparation"
      ]
    },
    {
      "cell_type": "code",
      "metadata": {
        "id": "ol8cdLM0KiFq",
        "outputId": "4925115b-6069-4b82-f30d-d5ef6c793777",
        "colab": {
          "base_uri": "https://localhost:8080/",
          "height": 0
        }
      },
      "source": [
        "data.info()"
      ],
      "execution_count": 5,
      "outputs": [
        {
          "output_type": "stream",
          "text": [
            "<class 'pandas.core.frame.DataFrame'>\n",
            "RangeIndex: 7097 entries, 0 to 7096\n",
            "Data columns (total 37 columns):\n",
            " #   Column                       Non-Null Count  Dtype         \n",
            "---  ------                       --------------  -----         \n",
            " 0   Date                         7097 non-null   datetime64[ns]\n",
            " 1   Location ISO Code            7097 non-null   object        \n",
            " 2   Location                     7097 non-null   object        \n",
            " 3   New Cases                    7097 non-null   int64         \n",
            " 4   New Deaths                   7097 non-null   int64         \n",
            " 5   New Recovered                7097 non-null   int64         \n",
            " 6   New Active Cases             7097 non-null   int64         \n",
            " 7   Total Cases                  7097 non-null   int64         \n",
            " 8   Total Deaths                 7097 non-null   int64         \n",
            " 9   Total Recovered              7097 non-null   int64         \n",
            " 10  Total Active Cases           7097 non-null   int64         \n",
            " 11  Location Level               7097 non-null   object        \n",
            " 12  City or Regency              0 non-null      float64       \n",
            " 13  Province                     6873 non-null   object        \n",
            " 14  Country                      7097 non-null   object        \n",
            " 15  Continent                    7097 non-null   object        \n",
            " 16  Island                       6873 non-null   object        \n",
            " 17  Time Zone                    6873 non-null   object        \n",
            " 18  Special Status               1038 non-null   object        \n",
            " 19  Total Regencies              7097 non-null   int64         \n",
            " 20  Total Cities                 6899 non-null   float64       \n",
            " 21  Total Districts              7097 non-null   int64         \n",
            " 22  Total Urban Villages         6897 non-null   float64       \n",
            " 23  Total Rural Villages         6872 non-null   float64       \n",
            " 24  Area (km2)                   7097 non-null   int64         \n",
            " 25  Population                   7097 non-null   int64         \n",
            " 26  Population Density           7097 non-null   float64       \n",
            " 27  Longitude                    7097 non-null   float64       \n",
            " 28  Latitude                     7097 non-null   float64       \n",
            " 29  New Cases per Million        7097 non-null   float64       \n",
            " 30  Total Cases per Million      7097 non-null   float64       \n",
            " 31  New Deaths per Million       7097 non-null   float64       \n",
            " 32  Total Deaths per Million     7097 non-null   float64       \n",
            " 33  Case Fatality Rate           7097 non-null   object        \n",
            " 34  Case Recovered Rate          7097 non-null   object        \n",
            " 35  Growth Factor of New Cases   6328 non-null   float64       \n",
            " 36  Growth Factor of New Deaths  6226 non-null   float64       \n",
            "dtypes: datetime64[ns](1), float64(13), int64(12), object(11)\n",
            "memory usage: 2.0+ MB\n"
          ],
          "name": "stdout"
        }
      ]
    },
    {
      "cell_type": "code",
      "metadata": {
        "id": "n3LKIBmcakIf",
        "outputId": "1c7178e6-d492-4faa-8757-f3dff4ba8910",
        "colab": {
          "base_uri": "https://localhost:8080/",
          "height": 0
        }
      },
      "source": [
        "#check null data percentage\n",
        "data.isnull().mean()*100"
      ],
      "execution_count": 6,
      "outputs": [
        {
          "output_type": "execute_result",
          "data": {
            "text/plain": [
              "Date                             0.000000\n",
              "Location ISO Code                0.000000\n",
              "Location                         0.000000\n",
              "New Cases                        0.000000\n",
              "New Deaths                       0.000000\n",
              "New Recovered                    0.000000\n",
              "New Active Cases                 0.000000\n",
              "Total Cases                      0.000000\n",
              "Total Deaths                     0.000000\n",
              "Total Recovered                  0.000000\n",
              "Total Active Cases               0.000000\n",
              "Location Level                   0.000000\n",
              "City or Regency                100.000000\n",
              "Province                         3.156263\n",
              "Country                          0.000000\n",
              "Continent                        0.000000\n",
              "Island                           3.156263\n",
              "Time Zone                        3.156263\n",
              "Special Status                  85.374102\n",
              "Total Regencies                  0.000000\n",
              "Total Cities                     2.789911\n",
              "Total Districts                  0.000000\n",
              "Total Urban Villages             2.818092\n",
              "Total Rural Villages             3.170354\n",
              "Area (km2)                       0.000000\n",
              "Population                       0.000000\n",
              "Population Density               0.000000\n",
              "Longitude                        0.000000\n",
              "Latitude                         0.000000\n",
              "New Cases per Million            0.000000\n",
              "Total Cases per Million          0.000000\n",
              "New Deaths per Million           0.000000\n",
              "Total Deaths per Million         0.000000\n",
              "Case Fatality Rate               0.000000\n",
              "Case Recovered Rate              0.000000\n",
              "Growth Factor of New Cases      10.835564\n",
              "Growth Factor of New Deaths     12.272791\n",
              "dtype: float64"
            ]
          },
          "metadata": {
            "tags": []
          },
          "execution_count": 6
        }
      ]
    },
    {
      "cell_type": "code",
      "metadata": {
        "id": "LHl9Fqn9atbL",
        "outputId": "6c44bed3-8bfa-4141-b7fd-de6d6eb817c9",
        "colab": {
          "base_uri": "https://localhost:8080/",
          "height": 0
        }
      },
      "source": [
        "#check missing values or NaN percentage in each column\n",
        "data.isna().mean()*100"
      ],
      "execution_count": 7,
      "outputs": [
        {
          "output_type": "execute_result",
          "data": {
            "text/plain": [
              "Date                             0.000000\n",
              "Location ISO Code                0.000000\n",
              "Location                         0.000000\n",
              "New Cases                        0.000000\n",
              "New Deaths                       0.000000\n",
              "New Recovered                    0.000000\n",
              "New Active Cases                 0.000000\n",
              "Total Cases                      0.000000\n",
              "Total Deaths                     0.000000\n",
              "Total Recovered                  0.000000\n",
              "Total Active Cases               0.000000\n",
              "Location Level                   0.000000\n",
              "City or Regency                100.000000\n",
              "Province                         3.156263\n",
              "Country                          0.000000\n",
              "Continent                        0.000000\n",
              "Island                           3.156263\n",
              "Time Zone                        3.156263\n",
              "Special Status                  85.374102\n",
              "Total Regencies                  0.000000\n",
              "Total Cities                     2.789911\n",
              "Total Districts                  0.000000\n",
              "Total Urban Villages             2.818092\n",
              "Total Rural Villages             3.170354\n",
              "Area (km2)                       0.000000\n",
              "Population                       0.000000\n",
              "Population Density               0.000000\n",
              "Longitude                        0.000000\n",
              "Latitude                         0.000000\n",
              "New Cases per Million            0.000000\n",
              "Total Cases per Million          0.000000\n",
              "New Deaths per Million           0.000000\n",
              "Total Deaths per Million         0.000000\n",
              "Case Fatality Rate               0.000000\n",
              "Case Recovered Rate              0.000000\n",
              "Growth Factor of New Cases      10.835564\n",
              "Growth Factor of New Deaths     12.272791\n",
              "dtype: float64"
            ]
          },
          "metadata": {
            "tags": []
          },
          "execution_count": 7
        }
      ]
    },
    {
      "cell_type": "code",
      "metadata": {
        "id": "75plXkMbav2P"
      },
      "source": [
        "# delete column with missing (NaN) data\n",
        "# 'City or Regency' has 100% null data\n",
        "data = data.drop('City or Regency',axis=1)"
      ],
      "execution_count": 8,
      "outputs": []
    },
    {
      "cell_type": "code",
      "metadata": {
        "id": "y8n2oqwSawbp",
        "outputId": "53144e3a-42ae-44b0-f886-ff63a6f353a8",
        "colab": {
          "base_uri": "https://localhost:8080/",
          "height": 0
        }
      },
      "source": [
        "#inspect 'Special Status' column\n",
        "data['Special Status'].value_counts()"
      ],
      "execution_count": 9,
      "outputs": [
        {
          "output_type": "execute_result",
          "data": {
            "text/plain": [
              "Daerah Khusus             603\n",
              "Daerah Khusus Ibu Kota    225\n",
              "Daerah Istimewa           210\n",
              "Name: Special Status, dtype: int64"
            ]
          },
          "metadata": {
            "tags": []
          },
          "execution_count": 9
        }
      ]
    },
    {
      "cell_type": "code",
      "metadata": {
        "id": "myKoNxRba6CM"
      },
      "source": [
        "#delete 'Special Status' column\n",
        "data = data.drop('Special Status', axis=1)"
      ],
      "execution_count": 10,
      "outputs": []
    },
    {
      "cell_type": "code",
      "metadata": {
        "id": "pdqEMz58a_ac",
        "outputId": "3ac38e05-0fbf-4d25-f673-a2d2755b0ef6",
        "colab": {
          "base_uri": "https://localhost:8080/",
          "height": 0
        }
      },
      "source": [
        "#inspect 'Growth Factor of New Cases' column\n",
        "data['Growth Factor of New Cases'].head(10)"
      ],
      "execution_count": 11,
      "outputs": [
        {
          "output_type": "execute_result",
          "data": {
            "text/plain": [
              "0     NaN\n",
              "1    1.00\n",
              "2     NaN\n",
              "3     NaN\n",
              "4    1.00\n",
              "5    0.00\n",
              "6    0.33\n",
              "7    1.00\n",
              "8    1.00\n",
              "9    1.00\n",
              "Name: Growth Factor of New Cases, dtype: float64"
            ]
          },
          "metadata": {
            "tags": []
          },
          "execution_count": 11
        }
      ]
    },
    {
      "cell_type": "code",
      "metadata": {
        "id": "_0N8t18xbBgY"
      },
      "source": [
        "# replace NaN with 0\n",
        "data['Growth Factor of New Cases'] = data['Growth Factor of New Cases'].fillna(float(0))"
      ],
      "execution_count": 12,
      "outputs": []
    },
    {
      "cell_type": "code",
      "metadata": {
        "id": "rxrwHqMGbE2W"
      },
      "source": [
        "# replace NaN with 0 for \"Growth Factor of New Deaths\"\n",
        "data['Growth Factor of New Deaths'] = data['Growth Factor of New Deaths'].fillna(float(0))"
      ],
      "execution_count": 13,
      "outputs": []
    },
    {
      "cell_type": "code",
      "metadata": {
        "id": "75zKmiMobH4K",
        "outputId": "35ef1701-1e83-4b04-c069-f44f6dd0b59b",
        "colab": {
          "base_uri": "https://localhost:8080/",
          "height": 0
        }
      },
      "source": [
        "#inspect columns with same percentage\n",
        "data[['Province','Island','Time Zone']].head(10)"
      ],
      "execution_count": 14,
      "outputs": [
        {
          "output_type": "execute_result",
          "data": {
            "text/html": [
              "<div>\n",
              "<style scoped>\n",
              "    .dataframe tbody tr th:only-of-type {\n",
              "        vertical-align: middle;\n",
              "    }\n",
              "\n",
              "    .dataframe tbody tr th {\n",
              "        vertical-align: top;\n",
              "    }\n",
              "\n",
              "    .dataframe thead th {\n",
              "        text-align: right;\n",
              "    }\n",
              "</style>\n",
              "<table border=\"1\" class=\"dataframe\">\n",
              "  <thead>\n",
              "    <tr style=\"text-align: right;\">\n",
              "      <th></th>\n",
              "      <th>Province</th>\n",
              "      <th>Island</th>\n",
              "      <th>Time Zone</th>\n",
              "    </tr>\n",
              "  </thead>\n",
              "  <tbody>\n",
              "    <tr>\n",
              "      <th>0</th>\n",
              "      <td>DKI Jakarta</td>\n",
              "      <td>Jawa</td>\n",
              "      <td>UTC+07:00</td>\n",
              "    </tr>\n",
              "    <tr>\n",
              "      <th>1</th>\n",
              "      <td>DKI Jakarta</td>\n",
              "      <td>Jawa</td>\n",
              "      <td>UTC+07:00</td>\n",
              "    </tr>\n",
              "    <tr>\n",
              "      <th>2</th>\n",
              "      <td>NaN</td>\n",
              "      <td>NaN</td>\n",
              "      <td>NaN</td>\n",
              "    </tr>\n",
              "    <tr>\n",
              "      <th>3</th>\n",
              "      <td>Jawa Barat</td>\n",
              "      <td>Jawa</td>\n",
              "      <td>UTC+07:00</td>\n",
              "    </tr>\n",
              "    <tr>\n",
              "      <th>4</th>\n",
              "      <td>DKI Jakarta</td>\n",
              "      <td>Jawa</td>\n",
              "      <td>UTC+07:00</td>\n",
              "    </tr>\n",
              "    <tr>\n",
              "      <th>5</th>\n",
              "      <td>NaN</td>\n",
              "      <td>NaN</td>\n",
              "      <td>NaN</td>\n",
              "    </tr>\n",
              "    <tr>\n",
              "      <th>6</th>\n",
              "      <td>Jawa Barat</td>\n",
              "      <td>Jawa</td>\n",
              "      <td>UTC+07:00</td>\n",
              "    </tr>\n",
              "    <tr>\n",
              "      <th>7</th>\n",
              "      <td>DKI Jakarta</td>\n",
              "      <td>Jawa</td>\n",
              "      <td>UTC+07:00</td>\n",
              "    </tr>\n",
              "    <tr>\n",
              "      <th>8</th>\n",
              "      <td>NaN</td>\n",
              "      <td>NaN</td>\n",
              "      <td>NaN</td>\n",
              "    </tr>\n",
              "    <tr>\n",
              "      <th>9</th>\n",
              "      <td>Jawa Barat</td>\n",
              "      <td>Jawa</td>\n",
              "      <td>UTC+07:00</td>\n",
              "    </tr>\n",
              "  </tbody>\n",
              "</table>\n",
              "</div>"
            ],
            "text/plain": [
              "      Province Island  Time Zone\n",
              "0  DKI Jakarta   Jawa  UTC+07:00\n",
              "1  DKI Jakarta   Jawa  UTC+07:00\n",
              "2          NaN    NaN        NaN\n",
              "3   Jawa Barat   Jawa  UTC+07:00\n",
              "4  DKI Jakarta   Jawa  UTC+07:00\n",
              "5          NaN    NaN        NaN\n",
              "6   Jawa Barat   Jawa  UTC+07:00\n",
              "7  DKI Jakarta   Jawa  UTC+07:00\n",
              "8          NaN    NaN        NaN\n",
              "9   Jawa Barat   Jawa  UTC+07:00"
            ]
          },
          "metadata": {
            "tags": []
          },
          "execution_count": 14
        }
      ]
    },
    {
      "cell_type": "code",
      "metadata": {
        "id": "Jz56LIXIbNLp"
      },
      "source": [
        "# replace NaN value with \"Unknown\"\n",
        "data.update(data[['Province','Island','Time Zone']].fillna('Unknown'))"
      ],
      "execution_count": 15,
      "outputs": []
    },
    {
      "cell_type": "code",
      "metadata": {
        "id": "fhXX5dJ5bNoc",
        "outputId": "89eec8f9-ff69-4694-95c7-b1d8cf2011dd",
        "colab": {
          "base_uri": "https://localhost:8080/",
          "height": 0
        }
      },
      "source": [
        "#inspect 'Total Rural Villages' column\n",
        "data[['Location','Province','Total Cities','Total Urban Villages','Total Rural Villages']].head(20)"
      ],
      "execution_count": 16,
      "outputs": [
        {
          "output_type": "execute_result",
          "data": {
            "text/html": [
              "<div>\n",
              "<style scoped>\n",
              "    .dataframe tbody tr th:only-of-type {\n",
              "        vertical-align: middle;\n",
              "    }\n",
              "\n",
              "    .dataframe tbody tr th {\n",
              "        vertical-align: top;\n",
              "    }\n",
              "\n",
              "    .dataframe thead th {\n",
              "        text-align: right;\n",
              "    }\n",
              "</style>\n",
              "<table border=\"1\" class=\"dataframe\">\n",
              "  <thead>\n",
              "    <tr style=\"text-align: right;\">\n",
              "      <th></th>\n",
              "      <th>Location</th>\n",
              "      <th>Province</th>\n",
              "      <th>Total Cities</th>\n",
              "      <th>Total Urban Villages</th>\n",
              "      <th>Total Rural Villages</th>\n",
              "    </tr>\n",
              "  </thead>\n",
              "  <tbody>\n",
              "    <tr>\n",
              "      <th>0</th>\n",
              "      <td>DKI Jakarta</td>\n",
              "      <td>DKI Jakarta</td>\n",
              "      <td>5.0</td>\n",
              "      <td>267.0</td>\n",
              "      <td>NaN</td>\n",
              "    </tr>\n",
              "    <tr>\n",
              "      <th>1</th>\n",
              "      <td>DKI Jakarta</td>\n",
              "      <td>DKI Jakarta</td>\n",
              "      <td>5.0</td>\n",
              "      <td>267.0</td>\n",
              "      <td>NaN</td>\n",
              "    </tr>\n",
              "    <tr>\n",
              "      <th>2</th>\n",
              "      <td>Indonesia</td>\n",
              "      <td>Unknown</td>\n",
              "      <td>98.0</td>\n",
              "      <td>8488.0</td>\n",
              "      <td>74953.0</td>\n",
              "    </tr>\n",
              "    <tr>\n",
              "      <th>3</th>\n",
              "      <td>Jawa Barat</td>\n",
              "      <td>Jawa Barat</td>\n",
              "      <td>9.0</td>\n",
              "      <td>645.0</td>\n",
              "      <td>5312.0</td>\n",
              "    </tr>\n",
              "    <tr>\n",
              "      <th>4</th>\n",
              "      <td>DKI Jakarta</td>\n",
              "      <td>DKI Jakarta</td>\n",
              "      <td>5.0</td>\n",
              "      <td>267.0</td>\n",
              "      <td>NaN</td>\n",
              "    </tr>\n",
              "    <tr>\n",
              "      <th>5</th>\n",
              "      <td>Indonesia</td>\n",
              "      <td>Unknown</td>\n",
              "      <td>98.0</td>\n",
              "      <td>8488.0</td>\n",
              "      <td>74953.0</td>\n",
              "    </tr>\n",
              "    <tr>\n",
              "      <th>6</th>\n",
              "      <td>Jawa Barat</td>\n",
              "      <td>Jawa Barat</td>\n",
              "      <td>9.0</td>\n",
              "      <td>645.0</td>\n",
              "      <td>5312.0</td>\n",
              "    </tr>\n",
              "    <tr>\n",
              "      <th>7</th>\n",
              "      <td>DKI Jakarta</td>\n",
              "      <td>DKI Jakarta</td>\n",
              "      <td>5.0</td>\n",
              "      <td>267.0</td>\n",
              "      <td>NaN</td>\n",
              "    </tr>\n",
              "    <tr>\n",
              "      <th>8</th>\n",
              "      <td>Indonesia</td>\n",
              "      <td>Unknown</td>\n",
              "      <td>98.0</td>\n",
              "      <td>8488.0</td>\n",
              "      <td>74953.0</td>\n",
              "    </tr>\n",
              "    <tr>\n",
              "      <th>9</th>\n",
              "      <td>Jawa Barat</td>\n",
              "      <td>Jawa Barat</td>\n",
              "      <td>9.0</td>\n",
              "      <td>645.0</td>\n",
              "      <td>5312.0</td>\n",
              "    </tr>\n",
              "    <tr>\n",
              "      <th>10</th>\n",
              "      <td>DKI Jakarta</td>\n",
              "      <td>DKI Jakarta</td>\n",
              "      <td>5.0</td>\n",
              "      <td>267.0</td>\n",
              "      <td>NaN</td>\n",
              "    </tr>\n",
              "    <tr>\n",
              "      <th>11</th>\n",
              "      <td>Indonesia</td>\n",
              "      <td>Unknown</td>\n",
              "      <td>98.0</td>\n",
              "      <td>8488.0</td>\n",
              "      <td>74953.0</td>\n",
              "    </tr>\n",
              "    <tr>\n",
              "      <th>12</th>\n",
              "      <td>Jawa Barat</td>\n",
              "      <td>Jawa Barat</td>\n",
              "      <td>9.0</td>\n",
              "      <td>645.0</td>\n",
              "      <td>5312.0</td>\n",
              "    </tr>\n",
              "    <tr>\n",
              "      <th>13</th>\n",
              "      <td>Banten</td>\n",
              "      <td>Banten</td>\n",
              "      <td>4.0</td>\n",
              "      <td>313.0</td>\n",
              "      <td>1238.0</td>\n",
              "    </tr>\n",
              "    <tr>\n",
              "      <th>14</th>\n",
              "      <td>DKI Jakarta</td>\n",
              "      <td>DKI Jakarta</td>\n",
              "      <td>5.0</td>\n",
              "      <td>267.0</td>\n",
              "      <td>NaN</td>\n",
              "    </tr>\n",
              "    <tr>\n",
              "      <th>15</th>\n",
              "      <td>Indonesia</td>\n",
              "      <td>Unknown</td>\n",
              "      <td>98.0</td>\n",
              "      <td>8488.0</td>\n",
              "      <td>74953.0</td>\n",
              "    </tr>\n",
              "    <tr>\n",
              "      <th>16</th>\n",
              "      <td>Jawa Barat</td>\n",
              "      <td>Jawa Barat</td>\n",
              "      <td>9.0</td>\n",
              "      <td>645.0</td>\n",
              "      <td>5312.0</td>\n",
              "    </tr>\n",
              "    <tr>\n",
              "      <th>17</th>\n",
              "      <td>Banten</td>\n",
              "      <td>Banten</td>\n",
              "      <td>4.0</td>\n",
              "      <td>313.0</td>\n",
              "      <td>1238.0</td>\n",
              "    </tr>\n",
              "    <tr>\n",
              "      <th>18</th>\n",
              "      <td>DKI Jakarta</td>\n",
              "      <td>DKI Jakarta</td>\n",
              "      <td>5.0</td>\n",
              "      <td>267.0</td>\n",
              "      <td>NaN</td>\n",
              "    </tr>\n",
              "    <tr>\n",
              "      <th>19</th>\n",
              "      <td>Indonesia</td>\n",
              "      <td>Unknown</td>\n",
              "      <td>98.0</td>\n",
              "      <td>8488.0</td>\n",
              "      <td>74953.0</td>\n",
              "    </tr>\n",
              "  </tbody>\n",
              "</table>\n",
              "</div>"
            ],
            "text/plain": [
              "       Location     Province  ...  Total Urban Villages  Total Rural Villages\n",
              "0   DKI Jakarta  DKI Jakarta  ...                 267.0                   NaN\n",
              "1   DKI Jakarta  DKI Jakarta  ...                 267.0                   NaN\n",
              "2     Indonesia      Unknown  ...                8488.0               74953.0\n",
              "3    Jawa Barat   Jawa Barat  ...                 645.0                5312.0\n",
              "4   DKI Jakarta  DKI Jakarta  ...                 267.0                   NaN\n",
              "5     Indonesia      Unknown  ...                8488.0               74953.0\n",
              "6    Jawa Barat   Jawa Barat  ...                 645.0                5312.0\n",
              "7   DKI Jakarta  DKI Jakarta  ...                 267.0                   NaN\n",
              "8     Indonesia      Unknown  ...                8488.0               74953.0\n",
              "9    Jawa Barat   Jawa Barat  ...                 645.0                5312.0\n",
              "10  DKI Jakarta  DKI Jakarta  ...                 267.0                   NaN\n",
              "11    Indonesia      Unknown  ...                8488.0               74953.0\n",
              "12   Jawa Barat   Jawa Barat  ...                 645.0                5312.0\n",
              "13       Banten       Banten  ...                 313.0                1238.0\n",
              "14  DKI Jakarta  DKI Jakarta  ...                 267.0                   NaN\n",
              "15    Indonesia      Unknown  ...                8488.0               74953.0\n",
              "16   Jawa Barat   Jawa Barat  ...                 645.0                5312.0\n",
              "17       Banten       Banten  ...                 313.0                1238.0\n",
              "18  DKI Jakarta  DKI Jakarta  ...                 267.0                   NaN\n",
              "19    Indonesia      Unknown  ...                8488.0               74953.0\n",
              "\n",
              "[20 rows x 5 columns]"
            ]
          },
          "metadata": {
            "tags": []
          },
          "execution_count": 16
        }
      ]
    },
    {
      "cell_type": "code",
      "metadata": {
        "id": "OuMt2eSobPYt"
      },
      "source": [
        "# replace NaN with 0\n",
        "data['Total Rural Villages'] = data['Total Rural Villages'].fillna(float(0))"
      ],
      "execution_count": 17,
      "outputs": []
    },
    {
      "cell_type": "code",
      "metadata": {
        "id": "uWkJi_z6bRn0",
        "outputId": "7a929958-72d6-47bf-d892-51c9e6384939",
        "colab": {
          "base_uri": "https://localhost:8080/",
          "height": 0
        }
      },
      "source": [
        "# inspect 'Total Cities' column\n",
        "data[['Province','Total Active Cases','Total Cities','Total Urban Villages','Total Rural Villages']].tail(10)"
      ],
      "execution_count": 18,
      "outputs": [
        {
          "output_type": "execute_result",
          "data": {
            "text/html": [
              "<div>\n",
              "<style scoped>\n",
              "    .dataframe tbody tr th:only-of-type {\n",
              "        vertical-align: middle;\n",
              "    }\n",
              "\n",
              "    .dataframe tbody tr th {\n",
              "        vertical-align: top;\n",
              "    }\n",
              "\n",
              "    .dataframe thead th {\n",
              "        text-align: right;\n",
              "    }\n",
              "</style>\n",
              "<table border=\"1\" class=\"dataframe\">\n",
              "  <thead>\n",
              "    <tr style=\"text-align: right;\">\n",
              "      <th></th>\n",
              "      <th>Province</th>\n",
              "      <th>Total Active Cases</th>\n",
              "      <th>Total Cities</th>\n",
              "      <th>Total Urban Villages</th>\n",
              "      <th>Total Rural Villages</th>\n",
              "    </tr>\n",
              "  </thead>\n",
              "  <tbody>\n",
              "    <tr>\n",
              "      <th>7087</th>\n",
              "      <td>Papua Barat</td>\n",
              "      <td>1416</td>\n",
              "      <td>1.0</td>\n",
              "      <td>95.0</td>\n",
              "      <td>1742.0</td>\n",
              "    </tr>\n",
              "    <tr>\n",
              "      <th>7088</th>\n",
              "      <td>Riau</td>\n",
              "      <td>3641</td>\n",
              "      <td>2.0</td>\n",
              "      <td>268.0</td>\n",
              "      <td>1591.0</td>\n",
              "    </tr>\n",
              "    <tr>\n",
              "      <th>7089</th>\n",
              "      <td>Sulawesi Barat</td>\n",
              "      <td>230</td>\n",
              "      <td>NaN</td>\n",
              "      <td>73.0</td>\n",
              "      <td>575.0</td>\n",
              "    </tr>\n",
              "    <tr>\n",
              "      <th>7090</th>\n",
              "      <td>Sulawesi Selatan</td>\n",
              "      <td>2413</td>\n",
              "      <td>3.0</td>\n",
              "      <td>792.0</td>\n",
              "      <td>2255.0</td>\n",
              "    </tr>\n",
              "    <tr>\n",
              "      <th>7091</th>\n",
              "      <td>Sulawesi Tengah</td>\n",
              "      <td>172</td>\n",
              "      <td>1.0</td>\n",
              "      <td>175.0</td>\n",
              "      <td>1842.0</td>\n",
              "    </tr>\n",
              "    <tr>\n",
              "      <th>7092</th>\n",
              "      <td>Sulawesi Tenggara</td>\n",
              "      <td>1154</td>\n",
              "      <td>2.0</td>\n",
              "      <td>377.0</td>\n",
              "      <td>1911.0</td>\n",
              "    </tr>\n",
              "    <tr>\n",
              "      <th>7093</th>\n",
              "      <td>Sulawesi Utara</td>\n",
              "      <td>666</td>\n",
              "      <td>4.0</td>\n",
              "      <td>332.0</td>\n",
              "      <td>1507.0</td>\n",
              "    </tr>\n",
              "    <tr>\n",
              "      <th>7094</th>\n",
              "      <td>Sumatera Barat</td>\n",
              "      <td>3647</td>\n",
              "      <td>7.0</td>\n",
              "      <td>230.0</td>\n",
              "      <td>928.0</td>\n",
              "    </tr>\n",
              "    <tr>\n",
              "      <th>7095</th>\n",
              "      <td>Sumatera Selatan</td>\n",
              "      <td>1289</td>\n",
              "      <td>4.0</td>\n",
              "      <td>387.0</td>\n",
              "      <td>2853.0</td>\n",
              "    </tr>\n",
              "    <tr>\n",
              "      <th>7096</th>\n",
              "      <td>Sumatera Utara</td>\n",
              "      <td>2158</td>\n",
              "      <td>8.0</td>\n",
              "      <td>693.0</td>\n",
              "      <td>5417.0</td>\n",
              "    </tr>\n",
              "  </tbody>\n",
              "</table>\n",
              "</div>"
            ],
            "text/plain": [
              "               Province  ...  Total Rural Villages\n",
              "7087        Papua Barat  ...                1742.0\n",
              "7088               Riau  ...                1591.0\n",
              "7089     Sulawesi Barat  ...                 575.0\n",
              "7090   Sulawesi Selatan  ...                2255.0\n",
              "7091    Sulawesi Tengah  ...                1842.0\n",
              "7092  Sulawesi Tenggara  ...                1911.0\n",
              "7093     Sulawesi Utara  ...                1507.0\n",
              "7094     Sumatera Barat  ...                 928.0\n",
              "7095   Sumatera Selatan  ...                2853.0\n",
              "7096     Sumatera Utara  ...                5417.0\n",
              "\n",
              "[10 rows x 5 columns]"
            ]
          },
          "metadata": {
            "tags": []
          },
          "execution_count": 18
        }
      ]
    },
    {
      "cell_type": "code",
      "metadata": {
        "id": "OC8d5W2hbTYo"
      },
      "source": [
        "# replace NaN with 0\n",
        "data['Total Cities'] = data['Total Cities'].fillna(float(0))"
      ],
      "execution_count": 19,
      "outputs": []
    },
    {
      "cell_type": "code",
      "metadata": {
        "id": "kEAXPCo2bWEk",
        "outputId": "81694d59-7bb7-41f1-d9c1-6a62834becef",
        "colab": {
          "base_uri": "https://localhost:8080/",
          "height": 0
        }
      },
      "source": [
        "# inspect 'Total Urban Villages' column\n",
        "data[['Location','Province','Total Active Cases','Total Cities','Total Urban Villages','Total Rural Villages']].tail(40)"
      ],
      "execution_count": 20,
      "outputs": [
        {
          "output_type": "execute_result",
          "data": {
            "text/html": [
              "<div>\n",
              "<style scoped>\n",
              "    .dataframe tbody tr th:only-of-type {\n",
              "        vertical-align: middle;\n",
              "    }\n",
              "\n",
              "    .dataframe tbody tr th {\n",
              "        vertical-align: top;\n",
              "    }\n",
              "\n",
              "    .dataframe thead th {\n",
              "        text-align: right;\n",
              "    }\n",
              "</style>\n",
              "<table border=\"1\" class=\"dataframe\">\n",
              "  <thead>\n",
              "    <tr style=\"text-align: right;\">\n",
              "      <th></th>\n",
              "      <th>Location</th>\n",
              "      <th>Province</th>\n",
              "      <th>Total Active Cases</th>\n",
              "      <th>Total Cities</th>\n",
              "      <th>Total Urban Villages</th>\n",
              "      <th>Total Rural Villages</th>\n",
              "    </tr>\n",
              "  </thead>\n",
              "  <tbody>\n",
              "    <tr>\n",
              "      <th>7057</th>\n",
              "      <td>Sulawesi Tenggara</td>\n",
              "      <td>Sulawesi Tenggara</td>\n",
              "      <td>1070</td>\n",
              "      <td>2.0</td>\n",
              "      <td>377.0</td>\n",
              "      <td>1911.0</td>\n",
              "    </tr>\n",
              "    <tr>\n",
              "      <th>7058</th>\n",
              "      <td>Sulawesi Utara</td>\n",
              "      <td>Sulawesi Utara</td>\n",
              "      <td>661</td>\n",
              "      <td>4.0</td>\n",
              "      <td>332.0</td>\n",
              "      <td>1507.0</td>\n",
              "    </tr>\n",
              "    <tr>\n",
              "      <th>7059</th>\n",
              "      <td>Sumatera Barat</td>\n",
              "      <td>Sumatera Barat</td>\n",
              "      <td>3503</td>\n",
              "      <td>7.0</td>\n",
              "      <td>230.0</td>\n",
              "      <td>928.0</td>\n",
              "    </tr>\n",
              "    <tr>\n",
              "      <th>7060</th>\n",
              "      <td>Sumatera Selatan</td>\n",
              "      <td>Sumatera Selatan</td>\n",
              "      <td>1297</td>\n",
              "      <td>4.0</td>\n",
              "      <td>387.0</td>\n",
              "      <td>2853.0</td>\n",
              "    </tr>\n",
              "    <tr>\n",
              "      <th>7061</th>\n",
              "      <td>Sumatera Utara</td>\n",
              "      <td>Sumatera Utara</td>\n",
              "      <td>2236</td>\n",
              "      <td>8.0</td>\n",
              "      <td>693.0</td>\n",
              "      <td>5417.0</td>\n",
              "    </tr>\n",
              "    <tr>\n",
              "      <th>7062</th>\n",
              "      <td>Aceh</td>\n",
              "      <td>Aceh</td>\n",
              "      <td>1973</td>\n",
              "      <td>5.0</td>\n",
              "      <td>NaN</td>\n",
              "      <td>6497.0</td>\n",
              "    </tr>\n",
              "    <tr>\n",
              "      <th>7063</th>\n",
              "      <td>Bali</td>\n",
              "      <td>Bali</td>\n",
              "      <td>1118</td>\n",
              "      <td>1.0</td>\n",
              "      <td>80.0</td>\n",
              "      <td>636.0</td>\n",
              "    </tr>\n",
              "    <tr>\n",
              "      <th>7064</th>\n",
              "      <td>Banten</td>\n",
              "      <td>Banten</td>\n",
              "      <td>1756</td>\n",
              "      <td>4.0</td>\n",
              "      <td>313.0</td>\n",
              "      <td>1238.0</td>\n",
              "    </tr>\n",
              "    <tr>\n",
              "      <th>7065</th>\n",
              "      <td>Bengkulu</td>\n",
              "      <td>Bengkulu</td>\n",
              "      <td>124</td>\n",
              "      <td>1.0</td>\n",
              "      <td>172.0</td>\n",
              "      <td>1341.0</td>\n",
              "    </tr>\n",
              "    <tr>\n",
              "      <th>7066</th>\n",
              "      <td>DKI Jakarta</td>\n",
              "      <td>DKI Jakarta</td>\n",
              "      <td>13620</td>\n",
              "      <td>5.0</td>\n",
              "      <td>267.0</td>\n",
              "      <td>0.0</td>\n",
              "    </tr>\n",
              "    <tr>\n",
              "      <th>7067</th>\n",
              "      <td>Daerah Istimewa Yogyakarta</td>\n",
              "      <td>Daerah Istimewa Yogyakarta</td>\n",
              "      <td>712</td>\n",
              "      <td>1.0</td>\n",
              "      <td>46.0</td>\n",
              "      <td>392.0</td>\n",
              "    </tr>\n",
              "    <tr>\n",
              "      <th>7068</th>\n",
              "      <td>Gorontalo</td>\n",
              "      <td>Gorontalo</td>\n",
              "      <td>257</td>\n",
              "      <td>1.0</td>\n",
              "      <td>72.0</td>\n",
              "      <td>657.0</td>\n",
              "    </tr>\n",
              "    <tr>\n",
              "      <th>7069</th>\n",
              "      <td>Indonesia</td>\n",
              "      <td>Unknown</td>\n",
              "      <td>66578</td>\n",
              "      <td>98.0</td>\n",
              "      <td>8488.0</td>\n",
              "      <td>74953.0</td>\n",
              "    </tr>\n",
              "    <tr>\n",
              "      <th>7070</th>\n",
              "      <td>Jambi</td>\n",
              "      <td>Jambi</td>\n",
              "      <td>478</td>\n",
              "      <td>2.0</td>\n",
              "      <td>163.0</td>\n",
              "      <td>1399.0</td>\n",
              "    </tr>\n",
              "    <tr>\n",
              "      <th>7071</th>\n",
              "      <td>Jawa Barat</td>\n",
              "      <td>Jawa Barat</td>\n",
              "      <td>9244</td>\n",
              "      <td>9.0</td>\n",
              "      <td>645.0</td>\n",
              "      <td>5312.0</td>\n",
              "    </tr>\n",
              "    <tr>\n",
              "      <th>7072</th>\n",
              "      <td>Jawa Tengah</td>\n",
              "      <td>Jawa Tengah</td>\n",
              "      <td>6322</td>\n",
              "      <td>6.0</td>\n",
              "      <td>753.0</td>\n",
              "      <td>7809.0</td>\n",
              "    </tr>\n",
              "    <tr>\n",
              "      <th>7073</th>\n",
              "      <td>Jawa Timur</td>\n",
              "      <td>Jawa Timur</td>\n",
              "      <td>3069</td>\n",
              "      <td>9.0</td>\n",
              "      <td>777.0</td>\n",
              "      <td>7724.0</td>\n",
              "    </tr>\n",
              "    <tr>\n",
              "      <th>7074</th>\n",
              "      <td>Kalimantan Barat</td>\n",
              "      <td>Kalimantan Barat</td>\n",
              "      <td>330</td>\n",
              "      <td>2.0</td>\n",
              "      <td>99.0</td>\n",
              "      <td>2031.0</td>\n",
              "    </tr>\n",
              "    <tr>\n",
              "      <th>7075</th>\n",
              "      <td>Kalimantan Selatan</td>\n",
              "      <td>Kalimantan Selatan</td>\n",
              "      <td>979</td>\n",
              "      <td>2.0</td>\n",
              "      <td>144.0</td>\n",
              "      <td>1864.0</td>\n",
              "    </tr>\n",
              "    <tr>\n",
              "      <th>7076</th>\n",
              "      <td>Kalimantan Tengah</td>\n",
              "      <td>Kalimantan Tengah</td>\n",
              "      <td>606</td>\n",
              "      <td>1.0</td>\n",
              "      <td>139.0</td>\n",
              "      <td>1432.0</td>\n",
              "    </tr>\n",
              "    <tr>\n",
              "      <th>7077</th>\n",
              "      <td>Kalimantan Timur</td>\n",
              "      <td>Kalimantan Timur</td>\n",
              "      <td>2685</td>\n",
              "      <td>3.0</td>\n",
              "      <td>197.0</td>\n",
              "      <td>841.0</td>\n",
              "    </tr>\n",
              "    <tr>\n",
              "      <th>7078</th>\n",
              "      <td>Kalimantan Utara</td>\n",
              "      <td>Kalimantan Utara</td>\n",
              "      <td>72</td>\n",
              "      <td>1.0</td>\n",
              "      <td>35.0</td>\n",
              "      <td>447.0</td>\n",
              "    </tr>\n",
              "    <tr>\n",
              "      <th>7079</th>\n",
              "      <td>Kepulauan Bangka Belitung</td>\n",
              "      <td>Kepulauan Bangka Belitung</td>\n",
              "      <td>107</td>\n",
              "      <td>1.0</td>\n",
              "      <td>82.0</td>\n",
              "      <td>309.0</td>\n",
              "    </tr>\n",
              "    <tr>\n",
              "      <th>7080</th>\n",
              "      <td>Kepulauan Riau</td>\n",
              "      <td>Kepulauan Riau</td>\n",
              "      <td>477</td>\n",
              "      <td>2.0</td>\n",
              "      <td>142.0</td>\n",
              "      <td>275.0</td>\n",
              "    </tr>\n",
              "    <tr>\n",
              "      <th>7081</th>\n",
              "      <td>Lampung</td>\n",
              "      <td>Lampung</td>\n",
              "      <td>321</td>\n",
              "      <td>2.0</td>\n",
              "      <td>205.0</td>\n",
              "      <td>2435.0</td>\n",
              "    </tr>\n",
              "    <tr>\n",
              "      <th>7082</th>\n",
              "      <td>Maluku</td>\n",
              "      <td>Maluku</td>\n",
              "      <td>1354</td>\n",
              "      <td>2.0</td>\n",
              "      <td>35.0</td>\n",
              "      <td>1198.0</td>\n",
              "    </tr>\n",
              "    <tr>\n",
              "      <th>7083</th>\n",
              "      <td>Maluku Utara</td>\n",
              "      <td>Maluku Utara</td>\n",
              "      <td>151</td>\n",
              "      <td>2.0</td>\n",
              "      <td>118.0</td>\n",
              "      <td>1063.0</td>\n",
              "    </tr>\n",
              "    <tr>\n",
              "      <th>7084</th>\n",
              "      <td>Nusa Tenggara Barat</td>\n",
              "      <td>Nusa Tenggara Barat</td>\n",
              "      <td>527</td>\n",
              "      <td>2.0</td>\n",
              "      <td>145.0</td>\n",
              "      <td>995.0</td>\n",
              "    </tr>\n",
              "    <tr>\n",
              "      <th>7085</th>\n",
              "      <td>Nusa Tenggara Timur</td>\n",
              "      <td>Nusa Tenggara Timur</td>\n",
              "      <td>206</td>\n",
              "      <td>1.0</td>\n",
              "      <td>327.0</td>\n",
              "      <td>3026.0</td>\n",
              "    </tr>\n",
              "    <tr>\n",
              "      <th>7086</th>\n",
              "      <td>Papua</td>\n",
              "      <td>Papua</td>\n",
              "      <td>3304</td>\n",
              "      <td>1.0</td>\n",
              "      <td>110.0</td>\n",
              "      <td>5411.0</td>\n",
              "    </tr>\n",
              "    <tr>\n",
              "      <th>7087</th>\n",
              "      <td>Papua Barat</td>\n",
              "      <td>Papua Barat</td>\n",
              "      <td>1416</td>\n",
              "      <td>1.0</td>\n",
              "      <td>95.0</td>\n",
              "      <td>1742.0</td>\n",
              "    </tr>\n",
              "    <tr>\n",
              "      <th>7088</th>\n",
              "      <td>Riau</td>\n",
              "      <td>Riau</td>\n",
              "      <td>3641</td>\n",
              "      <td>2.0</td>\n",
              "      <td>268.0</td>\n",
              "      <td>1591.0</td>\n",
              "    </tr>\n",
              "    <tr>\n",
              "      <th>7089</th>\n",
              "      <td>Sulawesi Barat</td>\n",
              "      <td>Sulawesi Barat</td>\n",
              "      <td>230</td>\n",
              "      <td>0.0</td>\n",
              "      <td>73.0</td>\n",
              "      <td>575.0</td>\n",
              "    </tr>\n",
              "    <tr>\n",
              "      <th>7090</th>\n",
              "      <td>Sulawesi Selatan</td>\n",
              "      <td>Sulawesi Selatan</td>\n",
              "      <td>2413</td>\n",
              "      <td>3.0</td>\n",
              "      <td>792.0</td>\n",
              "      <td>2255.0</td>\n",
              "    </tr>\n",
              "    <tr>\n",
              "      <th>7091</th>\n",
              "      <td>Sulawesi Tengah</td>\n",
              "      <td>Sulawesi Tengah</td>\n",
              "      <td>172</td>\n",
              "      <td>1.0</td>\n",
              "      <td>175.0</td>\n",
              "      <td>1842.0</td>\n",
              "    </tr>\n",
              "    <tr>\n",
              "      <th>7092</th>\n",
              "      <td>Sulawesi Tenggara</td>\n",
              "      <td>Sulawesi Tenggara</td>\n",
              "      <td>1154</td>\n",
              "      <td>2.0</td>\n",
              "      <td>377.0</td>\n",
              "      <td>1911.0</td>\n",
              "    </tr>\n",
              "    <tr>\n",
              "      <th>7093</th>\n",
              "      <td>Sulawesi Utara</td>\n",
              "      <td>Sulawesi Utara</td>\n",
              "      <td>666</td>\n",
              "      <td>4.0</td>\n",
              "      <td>332.0</td>\n",
              "      <td>1507.0</td>\n",
              "    </tr>\n",
              "    <tr>\n",
              "      <th>7094</th>\n",
              "      <td>Sumatera Barat</td>\n",
              "      <td>Sumatera Barat</td>\n",
              "      <td>3647</td>\n",
              "      <td>7.0</td>\n",
              "      <td>230.0</td>\n",
              "      <td>928.0</td>\n",
              "    </tr>\n",
              "    <tr>\n",
              "      <th>7095</th>\n",
              "      <td>Sumatera Selatan</td>\n",
              "      <td>Sumatera Selatan</td>\n",
              "      <td>1289</td>\n",
              "      <td>4.0</td>\n",
              "      <td>387.0</td>\n",
              "      <td>2853.0</td>\n",
              "    </tr>\n",
              "    <tr>\n",
              "      <th>7096</th>\n",
              "      <td>Sumatera Utara</td>\n",
              "      <td>Sumatera Utara</td>\n",
              "      <td>2158</td>\n",
              "      <td>8.0</td>\n",
              "      <td>693.0</td>\n",
              "      <td>5417.0</td>\n",
              "    </tr>\n",
              "  </tbody>\n",
              "</table>\n",
              "</div>"
            ],
            "text/plain": [
              "                        Location  ... Total Rural Villages\n",
              "7057           Sulawesi Tenggara  ...               1911.0\n",
              "7058              Sulawesi Utara  ...               1507.0\n",
              "7059              Sumatera Barat  ...                928.0\n",
              "7060            Sumatera Selatan  ...               2853.0\n",
              "7061              Sumatera Utara  ...               5417.0\n",
              "7062                        Aceh  ...               6497.0\n",
              "7063                        Bali  ...                636.0\n",
              "7064                      Banten  ...               1238.0\n",
              "7065                    Bengkulu  ...               1341.0\n",
              "7066                 DKI Jakarta  ...                  0.0\n",
              "7067  Daerah Istimewa Yogyakarta  ...                392.0\n",
              "7068                   Gorontalo  ...                657.0\n",
              "7069                   Indonesia  ...              74953.0\n",
              "7070                       Jambi  ...               1399.0\n",
              "7071                  Jawa Barat  ...               5312.0\n",
              "7072                 Jawa Tengah  ...               7809.0\n",
              "7073                  Jawa Timur  ...               7724.0\n",
              "7074            Kalimantan Barat  ...               2031.0\n",
              "7075          Kalimantan Selatan  ...               1864.0\n",
              "7076           Kalimantan Tengah  ...               1432.0\n",
              "7077            Kalimantan Timur  ...                841.0\n",
              "7078            Kalimantan Utara  ...                447.0\n",
              "7079   Kepulauan Bangka Belitung  ...                309.0\n",
              "7080              Kepulauan Riau  ...                275.0\n",
              "7081                     Lampung  ...               2435.0\n",
              "7082                      Maluku  ...               1198.0\n",
              "7083                Maluku Utara  ...               1063.0\n",
              "7084         Nusa Tenggara Barat  ...                995.0\n",
              "7085         Nusa Tenggara Timur  ...               3026.0\n",
              "7086                       Papua  ...               5411.0\n",
              "7087                 Papua Barat  ...               1742.0\n",
              "7088                        Riau  ...               1591.0\n",
              "7089              Sulawesi Barat  ...                575.0\n",
              "7090            Sulawesi Selatan  ...               2255.0\n",
              "7091             Sulawesi Tengah  ...               1842.0\n",
              "7092           Sulawesi Tenggara  ...               1911.0\n",
              "7093              Sulawesi Utara  ...               1507.0\n",
              "7094              Sumatera Barat  ...                928.0\n",
              "7095            Sumatera Selatan  ...               2853.0\n",
              "7096              Sumatera Utara  ...               5417.0\n",
              "\n",
              "[40 rows x 6 columns]"
            ]
          },
          "metadata": {
            "tags": []
          },
          "execution_count": 20
        }
      ]
    },
    {
      "cell_type": "code",
      "metadata": {
        "id": "y71h8vo5bXv2",
        "outputId": "986a7485-86e4-45a5-e2a3-3173bc823808",
        "colab": {
          "base_uri": "https://localhost:8080/",
          "height": 0
        }
      },
      "source": [
        "#replace NaN with 0\n",
        "data['Total Urban Villages'].fillna(float(0), inplace=True)\n",
        "\n",
        "# check if data is clean or no missing value\n",
        "data.isna().mean()*100"
      ],
      "execution_count": 21,
      "outputs": [
        {
          "output_type": "execute_result",
          "data": {
            "text/plain": [
              "Date                           0.0\n",
              "Location ISO Code              0.0\n",
              "Location                       0.0\n",
              "New Cases                      0.0\n",
              "New Deaths                     0.0\n",
              "New Recovered                  0.0\n",
              "New Active Cases               0.0\n",
              "Total Cases                    0.0\n",
              "Total Deaths                   0.0\n",
              "Total Recovered                0.0\n",
              "Total Active Cases             0.0\n",
              "Location Level                 0.0\n",
              "Province                       0.0\n",
              "Country                        0.0\n",
              "Continent                      0.0\n",
              "Island                         0.0\n",
              "Time Zone                      0.0\n",
              "Total Regencies                0.0\n",
              "Total Cities                   0.0\n",
              "Total Districts                0.0\n",
              "Total Urban Villages           0.0\n",
              "Total Rural Villages           0.0\n",
              "Area (km2)                     0.0\n",
              "Population                     0.0\n",
              "Population Density             0.0\n",
              "Longitude                      0.0\n",
              "Latitude                       0.0\n",
              "New Cases per Million          0.0\n",
              "Total Cases per Million        0.0\n",
              "New Deaths per Million         0.0\n",
              "Total Deaths per Million       0.0\n",
              "Case Fatality Rate             0.0\n",
              "Case Recovered Rate            0.0\n",
              "Growth Factor of New Cases     0.0\n",
              "Growth Factor of New Deaths    0.0\n",
              "dtype: float64"
            ]
          },
          "metadata": {
            "tags": []
          },
          "execution_count": 21
        }
      ]
    },
    {
      "cell_type": "code",
      "metadata": {
        "id": "BVIx2VwybaOG",
        "outputId": "c4e5f61d-e1c9-454e-ce10-37eb09976fd5",
        "colab": {
          "base_uri": "https://localhost:8080/",
          "height": 0
        }
      },
      "source": [
        "# inspect for duplicate value in each column\n",
        "data[['Location ISO Code', 'Location', 'Province','Country','Continent','Island']].head(20)"
      ],
      "execution_count": 22,
      "outputs": [
        {
          "output_type": "execute_result",
          "data": {
            "text/html": [
              "<div>\n",
              "<style scoped>\n",
              "    .dataframe tbody tr th:only-of-type {\n",
              "        vertical-align: middle;\n",
              "    }\n",
              "\n",
              "    .dataframe tbody tr th {\n",
              "        vertical-align: top;\n",
              "    }\n",
              "\n",
              "    .dataframe thead th {\n",
              "        text-align: right;\n",
              "    }\n",
              "</style>\n",
              "<table border=\"1\" class=\"dataframe\">\n",
              "  <thead>\n",
              "    <tr style=\"text-align: right;\">\n",
              "      <th></th>\n",
              "      <th>Location ISO Code</th>\n",
              "      <th>Location</th>\n",
              "      <th>Province</th>\n",
              "      <th>Country</th>\n",
              "      <th>Continent</th>\n",
              "      <th>Island</th>\n",
              "    </tr>\n",
              "  </thead>\n",
              "  <tbody>\n",
              "    <tr>\n",
              "      <th>0</th>\n",
              "      <td>ID-JK</td>\n",
              "      <td>DKI Jakarta</td>\n",
              "      <td>DKI Jakarta</td>\n",
              "      <td>Indonesia</td>\n",
              "      <td>Asia</td>\n",
              "      <td>Jawa</td>\n",
              "    </tr>\n",
              "    <tr>\n",
              "      <th>1</th>\n",
              "      <td>ID-JK</td>\n",
              "      <td>DKI Jakarta</td>\n",
              "      <td>DKI Jakarta</td>\n",
              "      <td>Indonesia</td>\n",
              "      <td>Asia</td>\n",
              "      <td>Jawa</td>\n",
              "    </tr>\n",
              "    <tr>\n",
              "      <th>2</th>\n",
              "      <td>IDN</td>\n",
              "      <td>Indonesia</td>\n",
              "      <td>Unknown</td>\n",
              "      <td>Indonesia</td>\n",
              "      <td>Asia</td>\n",
              "      <td>Unknown</td>\n",
              "    </tr>\n",
              "    <tr>\n",
              "      <th>3</th>\n",
              "      <td>ID-JB</td>\n",
              "      <td>Jawa Barat</td>\n",
              "      <td>Jawa Barat</td>\n",
              "      <td>Indonesia</td>\n",
              "      <td>Asia</td>\n",
              "      <td>Jawa</td>\n",
              "    </tr>\n",
              "    <tr>\n",
              "      <th>4</th>\n",
              "      <td>ID-JK</td>\n",
              "      <td>DKI Jakarta</td>\n",
              "      <td>DKI Jakarta</td>\n",
              "      <td>Indonesia</td>\n",
              "      <td>Asia</td>\n",
              "      <td>Jawa</td>\n",
              "    </tr>\n",
              "    <tr>\n",
              "      <th>5</th>\n",
              "      <td>IDN</td>\n",
              "      <td>Indonesia</td>\n",
              "      <td>Unknown</td>\n",
              "      <td>Indonesia</td>\n",
              "      <td>Asia</td>\n",
              "      <td>Unknown</td>\n",
              "    </tr>\n",
              "    <tr>\n",
              "      <th>6</th>\n",
              "      <td>ID-JB</td>\n",
              "      <td>Jawa Barat</td>\n",
              "      <td>Jawa Barat</td>\n",
              "      <td>Indonesia</td>\n",
              "      <td>Asia</td>\n",
              "      <td>Jawa</td>\n",
              "    </tr>\n",
              "    <tr>\n",
              "      <th>7</th>\n",
              "      <td>ID-JK</td>\n",
              "      <td>DKI Jakarta</td>\n",
              "      <td>DKI Jakarta</td>\n",
              "      <td>Indonesia</td>\n",
              "      <td>Asia</td>\n",
              "      <td>Jawa</td>\n",
              "    </tr>\n",
              "    <tr>\n",
              "      <th>8</th>\n",
              "      <td>IDN</td>\n",
              "      <td>Indonesia</td>\n",
              "      <td>Unknown</td>\n",
              "      <td>Indonesia</td>\n",
              "      <td>Asia</td>\n",
              "      <td>Unknown</td>\n",
              "    </tr>\n",
              "    <tr>\n",
              "      <th>9</th>\n",
              "      <td>ID-JB</td>\n",
              "      <td>Jawa Barat</td>\n",
              "      <td>Jawa Barat</td>\n",
              "      <td>Indonesia</td>\n",
              "      <td>Asia</td>\n",
              "      <td>Jawa</td>\n",
              "    </tr>\n",
              "    <tr>\n",
              "      <th>10</th>\n",
              "      <td>ID-JK</td>\n",
              "      <td>DKI Jakarta</td>\n",
              "      <td>DKI Jakarta</td>\n",
              "      <td>Indonesia</td>\n",
              "      <td>Asia</td>\n",
              "      <td>Jawa</td>\n",
              "    </tr>\n",
              "    <tr>\n",
              "      <th>11</th>\n",
              "      <td>IDN</td>\n",
              "      <td>Indonesia</td>\n",
              "      <td>Unknown</td>\n",
              "      <td>Indonesia</td>\n",
              "      <td>Asia</td>\n",
              "      <td>Unknown</td>\n",
              "    </tr>\n",
              "    <tr>\n",
              "      <th>12</th>\n",
              "      <td>ID-JB</td>\n",
              "      <td>Jawa Barat</td>\n",
              "      <td>Jawa Barat</td>\n",
              "      <td>Indonesia</td>\n",
              "      <td>Asia</td>\n",
              "      <td>Jawa</td>\n",
              "    </tr>\n",
              "    <tr>\n",
              "      <th>13</th>\n",
              "      <td>ID-BT</td>\n",
              "      <td>Banten</td>\n",
              "      <td>Banten</td>\n",
              "      <td>Indonesia</td>\n",
              "      <td>Asia</td>\n",
              "      <td>Jawa</td>\n",
              "    </tr>\n",
              "    <tr>\n",
              "      <th>14</th>\n",
              "      <td>ID-JK</td>\n",
              "      <td>DKI Jakarta</td>\n",
              "      <td>DKI Jakarta</td>\n",
              "      <td>Indonesia</td>\n",
              "      <td>Asia</td>\n",
              "      <td>Jawa</td>\n",
              "    </tr>\n",
              "    <tr>\n",
              "      <th>15</th>\n",
              "      <td>IDN</td>\n",
              "      <td>Indonesia</td>\n",
              "      <td>Unknown</td>\n",
              "      <td>Indonesia</td>\n",
              "      <td>Asia</td>\n",
              "      <td>Unknown</td>\n",
              "    </tr>\n",
              "    <tr>\n",
              "      <th>16</th>\n",
              "      <td>ID-JB</td>\n",
              "      <td>Jawa Barat</td>\n",
              "      <td>Jawa Barat</td>\n",
              "      <td>Indonesia</td>\n",
              "      <td>Asia</td>\n",
              "      <td>Jawa</td>\n",
              "    </tr>\n",
              "    <tr>\n",
              "      <th>17</th>\n",
              "      <td>ID-BT</td>\n",
              "      <td>Banten</td>\n",
              "      <td>Banten</td>\n",
              "      <td>Indonesia</td>\n",
              "      <td>Asia</td>\n",
              "      <td>Jawa</td>\n",
              "    </tr>\n",
              "    <tr>\n",
              "      <th>18</th>\n",
              "      <td>ID-JK</td>\n",
              "      <td>DKI Jakarta</td>\n",
              "      <td>DKI Jakarta</td>\n",
              "      <td>Indonesia</td>\n",
              "      <td>Asia</td>\n",
              "      <td>Jawa</td>\n",
              "    </tr>\n",
              "    <tr>\n",
              "      <th>19</th>\n",
              "      <td>IDN</td>\n",
              "      <td>Indonesia</td>\n",
              "      <td>Unknown</td>\n",
              "      <td>Indonesia</td>\n",
              "      <td>Asia</td>\n",
              "      <td>Unknown</td>\n",
              "    </tr>\n",
              "  </tbody>\n",
              "</table>\n",
              "</div>"
            ],
            "text/plain": [
              "   Location ISO Code     Location     Province    Country Continent   Island\n",
              "0              ID-JK  DKI Jakarta  DKI Jakarta  Indonesia      Asia     Jawa\n",
              "1              ID-JK  DKI Jakarta  DKI Jakarta  Indonesia      Asia     Jawa\n",
              "2                IDN    Indonesia      Unknown  Indonesia      Asia  Unknown\n",
              "3              ID-JB   Jawa Barat   Jawa Barat  Indonesia      Asia     Jawa\n",
              "4              ID-JK  DKI Jakarta  DKI Jakarta  Indonesia      Asia     Jawa\n",
              "5                IDN    Indonesia      Unknown  Indonesia      Asia  Unknown\n",
              "6              ID-JB   Jawa Barat   Jawa Barat  Indonesia      Asia     Jawa\n",
              "7              ID-JK  DKI Jakarta  DKI Jakarta  Indonesia      Asia     Jawa\n",
              "8                IDN    Indonesia      Unknown  Indonesia      Asia  Unknown\n",
              "9              ID-JB   Jawa Barat   Jawa Barat  Indonesia      Asia     Jawa\n",
              "10             ID-JK  DKI Jakarta  DKI Jakarta  Indonesia      Asia     Jawa\n",
              "11               IDN    Indonesia      Unknown  Indonesia      Asia  Unknown\n",
              "12             ID-JB   Jawa Barat   Jawa Barat  Indonesia      Asia     Jawa\n",
              "13             ID-BT       Banten       Banten  Indonesia      Asia     Jawa\n",
              "14             ID-JK  DKI Jakarta  DKI Jakarta  Indonesia      Asia     Jawa\n",
              "15               IDN    Indonesia      Unknown  Indonesia      Asia  Unknown\n",
              "16             ID-JB   Jawa Barat   Jawa Barat  Indonesia      Asia     Jawa\n",
              "17             ID-BT       Banten       Banten  Indonesia      Asia     Jawa\n",
              "18             ID-JK  DKI Jakarta  DKI Jakarta  Indonesia      Asia     Jawa\n",
              "19               IDN    Indonesia      Unknown  Indonesia      Asia  Unknown"
            ]
          },
          "metadata": {
            "tags": []
          },
          "execution_count": 22
        }
      ]
    },
    {
      "cell_type": "code",
      "metadata": {
        "id": "70BOPxBTbdpI",
        "outputId": "6b171a13-ea27-4438-eceb-1d414d0d391d",
        "colab": {
          "base_uri": "https://localhost:8080/",
          "height": 0
        }
      },
      "source": [
        "# drop 'Location', duplicate value with 'Province'\n",
        "data.drop('Location',axis=1, inplace=True)\n",
        "data.head()"
      ],
      "execution_count": 23,
      "outputs": [
        {
          "output_type": "execute_result",
          "data": {
            "text/html": [
              "<div>\n",
              "<style scoped>\n",
              "    .dataframe tbody tr th:only-of-type {\n",
              "        vertical-align: middle;\n",
              "    }\n",
              "\n",
              "    .dataframe tbody tr th {\n",
              "        vertical-align: top;\n",
              "    }\n",
              "\n",
              "    .dataframe thead th {\n",
              "        text-align: right;\n",
              "    }\n",
              "</style>\n",
              "<table border=\"1\" class=\"dataframe\">\n",
              "  <thead>\n",
              "    <tr style=\"text-align: right;\">\n",
              "      <th></th>\n",
              "      <th>Date</th>\n",
              "      <th>Location ISO Code</th>\n",
              "      <th>New Cases</th>\n",
              "      <th>New Deaths</th>\n",
              "      <th>New Recovered</th>\n",
              "      <th>New Active Cases</th>\n",
              "      <th>Total Cases</th>\n",
              "      <th>Total Deaths</th>\n",
              "      <th>Total Recovered</th>\n",
              "      <th>Total Active Cases</th>\n",
              "      <th>Location Level</th>\n",
              "      <th>Province</th>\n",
              "      <th>Country</th>\n",
              "      <th>Continent</th>\n",
              "      <th>Island</th>\n",
              "      <th>Time Zone</th>\n",
              "      <th>Total Regencies</th>\n",
              "      <th>Total Cities</th>\n",
              "      <th>Total Districts</th>\n",
              "      <th>Total Urban Villages</th>\n",
              "      <th>Total Rural Villages</th>\n",
              "      <th>Area (km2)</th>\n",
              "      <th>Population</th>\n",
              "      <th>Population Density</th>\n",
              "      <th>Longitude</th>\n",
              "      <th>Latitude</th>\n",
              "      <th>New Cases per Million</th>\n",
              "      <th>Total Cases per Million</th>\n",
              "      <th>New Deaths per Million</th>\n",
              "      <th>Total Deaths per Million</th>\n",
              "      <th>Case Fatality Rate</th>\n",
              "      <th>Case Recovered Rate</th>\n",
              "      <th>Growth Factor of New Cases</th>\n",
              "      <th>Growth Factor of New Deaths</th>\n",
              "    </tr>\n",
              "  </thead>\n",
              "  <tbody>\n",
              "    <tr>\n",
              "      <th>0</th>\n",
              "      <td>2020-03-01</td>\n",
              "      <td>ID-JK</td>\n",
              "      <td>2</td>\n",
              "      <td>0</td>\n",
              "      <td>0</td>\n",
              "      <td>2</td>\n",
              "      <td>489</td>\n",
              "      <td>20</td>\n",
              "      <td>39</td>\n",
              "      <td>430</td>\n",
              "      <td>Province</td>\n",
              "      <td>DKI Jakarta</td>\n",
              "      <td>Indonesia</td>\n",
              "      <td>Asia</td>\n",
              "      <td>Jawa</td>\n",
              "      <td>UTC+07:00</td>\n",
              "      <td>1</td>\n",
              "      <td>5.0</td>\n",
              "      <td>44</td>\n",
              "      <td>267.0</td>\n",
              "      <td>0.0</td>\n",
              "      <td>664</td>\n",
              "      <td>10846145</td>\n",
              "      <td>16334.31</td>\n",
              "      <td>106.836118</td>\n",
              "      <td>-6.204699</td>\n",
              "      <td>0.18</td>\n",
              "      <td>45.09</td>\n",
              "      <td>0.0</td>\n",
              "      <td>1.84</td>\n",
              "      <td>4.09%</td>\n",
              "      <td>7.98%</td>\n",
              "      <td>0.0</td>\n",
              "      <td>0.0</td>\n",
              "    </tr>\n",
              "    <tr>\n",
              "      <th>1</th>\n",
              "      <td>2020-03-02</td>\n",
              "      <td>ID-JK</td>\n",
              "      <td>2</td>\n",
              "      <td>0</td>\n",
              "      <td>0</td>\n",
              "      <td>2</td>\n",
              "      <td>491</td>\n",
              "      <td>20</td>\n",
              "      <td>39</td>\n",
              "      <td>432</td>\n",
              "      <td>Province</td>\n",
              "      <td>DKI Jakarta</td>\n",
              "      <td>Indonesia</td>\n",
              "      <td>Asia</td>\n",
              "      <td>Jawa</td>\n",
              "      <td>UTC+07:00</td>\n",
              "      <td>1</td>\n",
              "      <td>5.0</td>\n",
              "      <td>44</td>\n",
              "      <td>267.0</td>\n",
              "      <td>0.0</td>\n",
              "      <td>664</td>\n",
              "      <td>10846145</td>\n",
              "      <td>16334.31</td>\n",
              "      <td>106.836118</td>\n",
              "      <td>-6.204699</td>\n",
              "      <td>0.18</td>\n",
              "      <td>45.27</td>\n",
              "      <td>0.0</td>\n",
              "      <td>1.84</td>\n",
              "      <td>4.07%</td>\n",
              "      <td>7.94%</td>\n",
              "      <td>1.0</td>\n",
              "      <td>1.0</td>\n",
              "    </tr>\n",
              "    <tr>\n",
              "      <th>2</th>\n",
              "      <td>2020-03-02</td>\n",
              "      <td>IDN</td>\n",
              "      <td>2</td>\n",
              "      <td>0</td>\n",
              "      <td>0</td>\n",
              "      <td>2</td>\n",
              "      <td>2</td>\n",
              "      <td>0</td>\n",
              "      <td>0</td>\n",
              "      <td>2</td>\n",
              "      <td>Country</td>\n",
              "      <td>Unknown</td>\n",
              "      <td>Indonesia</td>\n",
              "      <td>Asia</td>\n",
              "      <td>Unknown</td>\n",
              "      <td>Unknown</td>\n",
              "      <td>416</td>\n",
              "      <td>98.0</td>\n",
              "      <td>7230</td>\n",
              "      <td>8488.0</td>\n",
              "      <td>74953.0</td>\n",
              "      <td>1916907</td>\n",
              "      <td>265185520</td>\n",
              "      <td>138.34</td>\n",
              "      <td>113.921327</td>\n",
              "      <td>-0.789275</td>\n",
              "      <td>0.01</td>\n",
              "      <td>0.01</td>\n",
              "      <td>0.0</td>\n",
              "      <td>0.00</td>\n",
              "      <td>0.00%</td>\n",
              "      <td>0.00%</td>\n",
              "      <td>0.0</td>\n",
              "      <td>0.0</td>\n",
              "    </tr>\n",
              "    <tr>\n",
              "      <th>3</th>\n",
              "      <td>2020-03-02</td>\n",
              "      <td>ID-JB</td>\n",
              "      <td>3</td>\n",
              "      <td>0</td>\n",
              "      <td>0</td>\n",
              "      <td>3</td>\n",
              "      <td>12</td>\n",
              "      <td>5</td>\n",
              "      <td>5</td>\n",
              "      <td>2</td>\n",
              "      <td>Province</td>\n",
              "      <td>Jawa Barat</td>\n",
              "      <td>Indonesia</td>\n",
              "      <td>Asia</td>\n",
              "      <td>Jawa</td>\n",
              "      <td>UTC+07:00</td>\n",
              "      <td>18</td>\n",
              "      <td>9.0</td>\n",
              "      <td>627</td>\n",
              "      <td>645.0</td>\n",
              "      <td>5312.0</td>\n",
              "      <td>35378</td>\n",
              "      <td>45161325</td>\n",
              "      <td>1276.55</td>\n",
              "      <td>107.603708</td>\n",
              "      <td>-6.920432</td>\n",
              "      <td>0.07</td>\n",
              "      <td>0.27</td>\n",
              "      <td>0.0</td>\n",
              "      <td>0.11</td>\n",
              "      <td>41.67%</td>\n",
              "      <td>41.67%</td>\n",
              "      <td>0.0</td>\n",
              "      <td>0.0</td>\n",
              "    </tr>\n",
              "    <tr>\n",
              "      <th>4</th>\n",
              "      <td>2020-03-03</td>\n",
              "      <td>ID-JK</td>\n",
              "      <td>2</td>\n",
              "      <td>0</td>\n",
              "      <td>0</td>\n",
              "      <td>2</td>\n",
              "      <td>493</td>\n",
              "      <td>20</td>\n",
              "      <td>39</td>\n",
              "      <td>434</td>\n",
              "      <td>Province</td>\n",
              "      <td>DKI Jakarta</td>\n",
              "      <td>Indonesia</td>\n",
              "      <td>Asia</td>\n",
              "      <td>Jawa</td>\n",
              "      <td>UTC+07:00</td>\n",
              "      <td>1</td>\n",
              "      <td>5.0</td>\n",
              "      <td>44</td>\n",
              "      <td>267.0</td>\n",
              "      <td>0.0</td>\n",
              "      <td>664</td>\n",
              "      <td>10846145</td>\n",
              "      <td>16334.31</td>\n",
              "      <td>106.836118</td>\n",
              "      <td>-6.204699</td>\n",
              "      <td>0.18</td>\n",
              "      <td>45.45</td>\n",
              "      <td>0.0</td>\n",
              "      <td>1.84</td>\n",
              "      <td>4.06%</td>\n",
              "      <td>7.91%</td>\n",
              "      <td>1.0</td>\n",
              "      <td>1.0</td>\n",
              "    </tr>\n",
              "  </tbody>\n",
              "</table>\n",
              "</div>"
            ],
            "text/plain": [
              "        Date  ... Growth Factor of New Deaths\n",
              "0 2020-03-01  ...                         0.0\n",
              "1 2020-03-02  ...                         1.0\n",
              "2 2020-03-02  ...                         0.0\n",
              "3 2020-03-02  ...                         0.0\n",
              "4 2020-03-03  ...                         1.0\n",
              "\n",
              "[5 rows x 34 columns]"
            ]
          },
          "metadata": {
            "tags": []
          },
          "execution_count": 23
        }
      ]
    },
    {
      "cell_type": "code",
      "metadata": {
        "id": "LFdcPWMmbj0x",
        "outputId": "67a1b476-b186-40cb-efbd-5e49924dbb3e",
        "colab": {
          "base_uri": "https://localhost:8080/",
          "height": 0
        }
      },
      "source": [
        "# extract for Indonesia Covid-19 case \n",
        "columns = ['Date', 'Location ISO Code','New Cases','New Deaths','New Recovered','New Active Cases','Total Cases','Total Deaths','Total Recovered','Total Active Cases']\n",
        "data_covid = data[data['Location ISO Code']== 'IDN']\n",
        "data_covid = data_covid[columns]\n",
        "data_covid.head(10)"
      ],
      "execution_count": 24,
      "outputs": [
        {
          "output_type": "execute_result",
          "data": {
            "text/html": [
              "<div>\n",
              "<style scoped>\n",
              "    .dataframe tbody tr th:only-of-type {\n",
              "        vertical-align: middle;\n",
              "    }\n",
              "\n",
              "    .dataframe tbody tr th {\n",
              "        vertical-align: top;\n",
              "    }\n",
              "\n",
              "    .dataframe thead th {\n",
              "        text-align: right;\n",
              "    }\n",
              "</style>\n",
              "<table border=\"1\" class=\"dataframe\">\n",
              "  <thead>\n",
              "    <tr style=\"text-align: right;\">\n",
              "      <th></th>\n",
              "      <th>Date</th>\n",
              "      <th>Location ISO Code</th>\n",
              "      <th>New Cases</th>\n",
              "      <th>New Deaths</th>\n",
              "      <th>New Recovered</th>\n",
              "      <th>New Active Cases</th>\n",
              "      <th>Total Cases</th>\n",
              "      <th>Total Deaths</th>\n",
              "      <th>Total Recovered</th>\n",
              "      <th>Total Active Cases</th>\n",
              "    </tr>\n",
              "  </thead>\n",
              "  <tbody>\n",
              "    <tr>\n",
              "      <th>2</th>\n",
              "      <td>2020-03-02</td>\n",
              "      <td>IDN</td>\n",
              "      <td>2</td>\n",
              "      <td>0</td>\n",
              "      <td>0</td>\n",
              "      <td>2</td>\n",
              "      <td>2</td>\n",
              "      <td>0</td>\n",
              "      <td>0</td>\n",
              "      <td>2</td>\n",
              "    </tr>\n",
              "    <tr>\n",
              "      <th>5</th>\n",
              "      <td>2020-03-03</td>\n",
              "      <td>IDN</td>\n",
              "      <td>0</td>\n",
              "      <td>0</td>\n",
              "      <td>0</td>\n",
              "      <td>0</td>\n",
              "      <td>2</td>\n",
              "      <td>0</td>\n",
              "      <td>0</td>\n",
              "      <td>2</td>\n",
              "    </tr>\n",
              "    <tr>\n",
              "      <th>8</th>\n",
              "      <td>2020-03-04</td>\n",
              "      <td>IDN</td>\n",
              "      <td>0</td>\n",
              "      <td>0</td>\n",
              "      <td>0</td>\n",
              "      <td>0</td>\n",
              "      <td>2</td>\n",
              "      <td>0</td>\n",
              "      <td>0</td>\n",
              "      <td>2</td>\n",
              "    </tr>\n",
              "    <tr>\n",
              "      <th>11</th>\n",
              "      <td>2020-03-05</td>\n",
              "      <td>IDN</td>\n",
              "      <td>0</td>\n",
              "      <td>0</td>\n",
              "      <td>0</td>\n",
              "      <td>0</td>\n",
              "      <td>2</td>\n",
              "      <td>0</td>\n",
              "      <td>0</td>\n",
              "      <td>2</td>\n",
              "    </tr>\n",
              "    <tr>\n",
              "      <th>15</th>\n",
              "      <td>2020-03-06</td>\n",
              "      <td>IDN</td>\n",
              "      <td>2</td>\n",
              "      <td>0</td>\n",
              "      <td>0</td>\n",
              "      <td>2</td>\n",
              "      <td>4</td>\n",
              "      <td>0</td>\n",
              "      <td>0</td>\n",
              "      <td>4</td>\n",
              "    </tr>\n",
              "    <tr>\n",
              "      <th>19</th>\n",
              "      <td>2020-03-07</td>\n",
              "      <td>IDN</td>\n",
              "      <td>0</td>\n",
              "      <td>0</td>\n",
              "      <td>0</td>\n",
              "      <td>0</td>\n",
              "      <td>4</td>\n",
              "      <td>0</td>\n",
              "      <td>0</td>\n",
              "      <td>4</td>\n",
              "    </tr>\n",
              "    <tr>\n",
              "      <th>23</th>\n",
              "      <td>2020-03-08</td>\n",
              "      <td>IDN</td>\n",
              "      <td>2</td>\n",
              "      <td>0</td>\n",
              "      <td>0</td>\n",
              "      <td>2</td>\n",
              "      <td>6</td>\n",
              "      <td>0</td>\n",
              "      <td>0</td>\n",
              "      <td>6</td>\n",
              "    </tr>\n",
              "    <tr>\n",
              "      <th>27</th>\n",
              "      <td>2020-03-09</td>\n",
              "      <td>IDN</td>\n",
              "      <td>13</td>\n",
              "      <td>0</td>\n",
              "      <td>0</td>\n",
              "      <td>13</td>\n",
              "      <td>19</td>\n",
              "      <td>0</td>\n",
              "      <td>0</td>\n",
              "      <td>19</td>\n",
              "    </tr>\n",
              "    <tr>\n",
              "      <th>31</th>\n",
              "      <td>2020-03-10</td>\n",
              "      <td>IDN</td>\n",
              "      <td>8</td>\n",
              "      <td>0</td>\n",
              "      <td>2</td>\n",
              "      <td>6</td>\n",
              "      <td>27</td>\n",
              "      <td>0</td>\n",
              "      <td>2</td>\n",
              "      <td>25</td>\n",
              "    </tr>\n",
              "    <tr>\n",
              "      <th>36</th>\n",
              "      <td>2020-03-11</td>\n",
              "      <td>IDN</td>\n",
              "      <td>7</td>\n",
              "      <td>1</td>\n",
              "      <td>0</td>\n",
              "      <td>6</td>\n",
              "      <td>34</td>\n",
              "      <td>1</td>\n",
              "      <td>2</td>\n",
              "      <td>31</td>\n",
              "    </tr>\n",
              "  </tbody>\n",
              "</table>\n",
              "</div>"
            ],
            "text/plain": [
              "         Date Location ISO Code  ...  Total Recovered  Total Active Cases\n",
              "2  2020-03-02               IDN  ...                0                   2\n",
              "5  2020-03-03               IDN  ...                0                   2\n",
              "8  2020-03-04               IDN  ...                0                   2\n",
              "11 2020-03-05               IDN  ...                0                   2\n",
              "15 2020-03-06               IDN  ...                0                   4\n",
              "19 2020-03-07               IDN  ...                0                   4\n",
              "23 2020-03-08               IDN  ...                0                   6\n",
              "27 2020-03-09               IDN  ...                0                  19\n",
              "31 2020-03-10               IDN  ...                2                  25\n",
              "36 2020-03-11               IDN  ...                2                  31\n",
              "\n",
              "[10 rows x 10 columns]"
            ]
          },
          "metadata": {
            "tags": []
          },
          "execution_count": 24
        }
      ]
    },
    {
      "cell_type": "code",
      "metadata": {
        "id": "6KYiAjYgblEh",
        "outputId": "2b4540f6-634d-4ee1-b55b-ad2481a46cad",
        "colab": {
          "base_uri": "https://localhost:8080/",
          "height": 0
        }
      },
      "source": [
        "# prepare data for visualization\n",
        "data_covid_total= data_covid.groupby('Date')[['Total Cases','Total Deaths','Total Recovered','Total Active Cases']].sum().reset_index().sort_values('Date', ascending=True).reset_index(drop=True)\n",
        "data_covid_total.head(10)"
      ],
      "execution_count": 25,
      "outputs": [
        {
          "output_type": "execute_result",
          "data": {
            "text/html": [
              "<div>\n",
              "<style scoped>\n",
              "    .dataframe tbody tr th:only-of-type {\n",
              "        vertical-align: middle;\n",
              "    }\n",
              "\n",
              "    .dataframe tbody tr th {\n",
              "        vertical-align: top;\n",
              "    }\n",
              "\n",
              "    .dataframe thead th {\n",
              "        text-align: right;\n",
              "    }\n",
              "</style>\n",
              "<table border=\"1\" class=\"dataframe\">\n",
              "  <thead>\n",
              "    <tr style=\"text-align: right;\">\n",
              "      <th></th>\n",
              "      <th>Date</th>\n",
              "      <th>Total Cases</th>\n",
              "      <th>Total Deaths</th>\n",
              "      <th>Total Recovered</th>\n",
              "      <th>Total Active Cases</th>\n",
              "    </tr>\n",
              "  </thead>\n",
              "  <tbody>\n",
              "    <tr>\n",
              "      <th>0</th>\n",
              "      <td>2020-03-02</td>\n",
              "      <td>2</td>\n",
              "      <td>0</td>\n",
              "      <td>0</td>\n",
              "      <td>2</td>\n",
              "    </tr>\n",
              "    <tr>\n",
              "      <th>1</th>\n",
              "      <td>2020-03-03</td>\n",
              "      <td>2</td>\n",
              "      <td>0</td>\n",
              "      <td>0</td>\n",
              "      <td>2</td>\n",
              "    </tr>\n",
              "    <tr>\n",
              "      <th>2</th>\n",
              "      <td>2020-03-04</td>\n",
              "      <td>2</td>\n",
              "      <td>0</td>\n",
              "      <td>0</td>\n",
              "      <td>2</td>\n",
              "    </tr>\n",
              "    <tr>\n",
              "      <th>3</th>\n",
              "      <td>2020-03-05</td>\n",
              "      <td>2</td>\n",
              "      <td>0</td>\n",
              "      <td>0</td>\n",
              "      <td>2</td>\n",
              "    </tr>\n",
              "    <tr>\n",
              "      <th>4</th>\n",
              "      <td>2020-03-06</td>\n",
              "      <td>4</td>\n",
              "      <td>0</td>\n",
              "      <td>0</td>\n",
              "      <td>4</td>\n",
              "    </tr>\n",
              "    <tr>\n",
              "      <th>5</th>\n",
              "      <td>2020-03-07</td>\n",
              "      <td>4</td>\n",
              "      <td>0</td>\n",
              "      <td>0</td>\n",
              "      <td>4</td>\n",
              "    </tr>\n",
              "    <tr>\n",
              "      <th>6</th>\n",
              "      <td>2020-03-08</td>\n",
              "      <td>6</td>\n",
              "      <td>0</td>\n",
              "      <td>0</td>\n",
              "      <td>6</td>\n",
              "    </tr>\n",
              "    <tr>\n",
              "      <th>7</th>\n",
              "      <td>2020-03-09</td>\n",
              "      <td>19</td>\n",
              "      <td>0</td>\n",
              "      <td>0</td>\n",
              "      <td>19</td>\n",
              "    </tr>\n",
              "    <tr>\n",
              "      <th>8</th>\n",
              "      <td>2020-03-10</td>\n",
              "      <td>27</td>\n",
              "      <td>0</td>\n",
              "      <td>2</td>\n",
              "      <td>25</td>\n",
              "    </tr>\n",
              "    <tr>\n",
              "      <th>9</th>\n",
              "      <td>2020-03-11</td>\n",
              "      <td>34</td>\n",
              "      <td>1</td>\n",
              "      <td>2</td>\n",
              "      <td>31</td>\n",
              "    </tr>\n",
              "  </tbody>\n",
              "</table>\n",
              "</div>"
            ],
            "text/plain": [
              "        Date  Total Cases  Total Deaths  Total Recovered  Total Active Cases\n",
              "0 2020-03-02            2             0                0                   2\n",
              "1 2020-03-03            2             0                0                   2\n",
              "2 2020-03-04            2             0                0                   2\n",
              "3 2020-03-05            2             0                0                   2\n",
              "4 2020-03-06            4             0                0                   4\n",
              "5 2020-03-07            4             0                0                   4\n",
              "6 2020-03-08            6             0                0                   6\n",
              "7 2020-03-09           19             0                0                  19\n",
              "8 2020-03-10           27             0                2                  25\n",
              "9 2020-03-11           34             1                2                  31"
            ]
          },
          "metadata": {
            "tags": []
          },
          "execution_count": 25
        }
      ]
    },
    {
      "cell_type": "markdown",
      "metadata": {
        "id": "MUe6T1piOfIq"
      },
      "source": [
        "# Data Visualisation"
      ]
    },
    {
      "cell_type": "code",
      "metadata": {
        "id": "sUcfw0BFSzTP",
        "outputId": "bbc8817f-9f79-4b6e-a5aa-ff538d58fc8e",
        "colab": {
          "base_uri": "https://localhost:8080/",
          "height": 286
        }
      },
      "source": [
        "#@title Scatter Plot\n",
        "import matplotlib.pyplot as plt\n",
        "y=data_covid_total[\"Total Cases\"]\n",
        "x=data_covid_total[\"Total Active Cases\"]\n",
        "plt.scatter(x,y)"
      ],
      "execution_count": 26,
      "outputs": [
        {
          "output_type": "execute_result",
          "data": {
            "text/plain": [
              "<matplotlib.collections.PathCollection at 0x7f467768da58>"
            ]
          },
          "metadata": {
            "tags": []
          },
          "execution_count": 26
        },
        {
          "output_type": "display_data",
          "data": {
            "image/png": "[encoded data removed]",
            "text/plain": [
              "<Figure size 432x288 with 1 Axes>"
            ]
          },
          "metadata": {
            "tags": [],
            "needs_background": "light"
          }
        }
      ]
    },
    {
      "cell_type": "code",
      "metadata": {
        "id": "bLKh3B3hTTYC",
        "outputId": "088e8e16-b797-4952-b1b3-2e1c1336bb4a",
        "colab": {
          "base_uri": "https://localhost:8080/",
          "height": 296
        }
      },
      "source": [
        "#@title Correlation\n",
        "sns.regplot(x=\"Total Cases\", y=\"Total Active Cases\", data=data_covid_total)\n",
        "plt.ylim(0,)"
      ],
      "execution_count": 27,
      "outputs": [
        {
          "output_type": "execute_result",
          "data": {
            "text/plain": [
              "(0.0, 83235.5025024631)"
            ]
          },
          "metadata": {
            "tags": []
          },
          "execution_count": 27
        },
        {
          "output_type": "display_data",
          "data": {
            "image/png": "[encoded data removed]",
            "text/plain": [
              "<Figure size 432x288 with 1 Axes>"
            ]
          },
          "metadata": {
            "tags": [],
            "needs_background": "light"
          }
        }
      ]
    },
    {
      "cell_type": "code",
      "metadata": {
        "id": "kRxNxV0FTs-n",
        "outputId": "2cb8f8ed-ac3c-4177-f733-61d554f8d0a3",
        "colab": {
          "base_uri": "https://localhost:8080/",
          "height": 312
        }
      },
      "source": [
        "import matplotlib as plt\n",
        "from matplotlib import pyplot\n",
        "plt.pyplot.hist(data_covid_total[\"Total Active Cases\"])\n",
        "\n",
        "# set x/y labels and plot title\n",
        "plt.pyplot.xlabel(\"Total Active Cases\")\n",
        "plt.pyplot.ylabel(\"Active\")\n",
        "plt.pyplot.title(\"Total Cases\")"
      ],
      "execution_count": 28,
      "outputs": [
        {
          "output_type": "execute_result",
          "data": {
            "text/plain": [
              "Text(0.5, 1.0, 'Total Cases')"
            ]
          },
          "metadata": {
            "tags": []
          },
          "execution_count": 28
        },
        {
          "output_type": "display_data",
          "data": {
            "image/png": "[encoded data removed]",
            "text/plain": [
              "<Figure size 432x288 with 1 Axes>"
            ]
          },
          "metadata": {
            "tags": [],
            "needs_background": "light"
          }
        }
      ]
    },
    {
      "cell_type": "code",
      "metadata": {
        "id": "Uba3PPcrbxrC",
        "outputId": "13d195ed-46a1-4c37-e3ed-1fcb179a6007",
        "colab": {
          "base_uri": "https://localhost:8080/",
          "height": 542
        }
      },
      "source": [
        "# plot Indonesia Covid 19 cases\n",
        "fig = go.Figure()\n",
        "fig.add_trace(go.Scatter(x=data_covid_total['Date'],\n",
        "                         y=data_covid_total['Total Cases'],\n",
        "                         mode='lines',\n",
        "                         name= 'Total Cases'\n",
        "                        ))\n",
        "\n",
        "fig.add_trace(go.Scatter(x=data_covid_total['Date'],\n",
        "                         y=data_covid_total['Total Active Cases'],\n",
        "                         mode='lines',\n",
        "                         name= 'Active Cases',\n",
        "                         marker_color= 'red'\n",
        "                         ))\n",
        "\n",
        "fig.add_trace(go.Scatter(x=data_covid_total['Date'],\n",
        "                         y=data_covid_total['Total Deaths'],\n",
        "                         mode='lines',\n",
        "                         name='Death Cases',\n",
        "                         marker_color='black',\n",
        "                         line=dict(dash='dot')\n",
        "                        ))\n",
        "\n",
        "fig.add_trace(go.Scatter(x=data_covid_total['Date'],\n",
        "                         y=data_covid_total['Total Recovered'],\n",
        "                         mode='lines',\n",
        "                         name='Recovered Case',\n",
        "                         marker_color='green'\n",
        "                        ))\n",
        "\n",
        "fig.update_layout(title='Indonesia Covid Cases',\n",
        "                 template='plotly_white',\n",
        "                 xaxis_title='Date',\n",
        "                 yaxis_title='Total Cases'\n",
        "                 )\n",
        "fig.show()"
      ],
      "execution_count": 29,
      "outputs": [
        {
          "output_type": "display_data",
          "data": {
            "text/html": [
              "<html>\n",
              "<head><meta charset=\"utf-8\" /></head>\n",
              "<body>\n",
              "    <div>\n",
              "            <script src=\"https://cdnjs.cloudflare.com/ajax/libs/mathjax/2.7.5/MathJax.js?config=TeX-AMS-MML_SVG\"></script><script type=\"text/javascript\">if (window.MathJax) {MathJax.Hub.Config({SVG: {font: \"STIX-Web\"}});}</script>\n",
              "                <script type=\"text/javascript\">window.PlotlyConfig = {MathJaxConfig: 'local'};</script>\n",
              "        <script src=\"https://cdn.plot.ly/plotly-latest.min.js\"></script>    \n",
              "            <div id=\"dff650f8-5c63-409c-a90a-245e6ae84f0d\" class=\"plotly-graph-div\" style=\"height:525px; width:100%;\"></div>\n",
              "            <script type=\"text/javascript\">\n",
              "                \n",
              "                    window.PLOTLYENV=window.PLOTLYENV || {};\n",
              "                    \n",
              "                if (document.getElementById(\"dff650f8-5c63-409c-a90a-245e6ae84f0d\")) {\n",
              "                    Plotly.newPlot(\n",
              "                        'dff650f8-5c63-409c-a90a-245e6ae84f0d',\n",
              "                        [{\"mode\": \"lines\", \"name\": \"Total Cases\", \"type\": \"scatter\", \"x\": [\"2020-03-02T00:00:00\", \"2020-03-03T00:00:00\", \"2020-03-04T00:00:00\", \"2020-03-05T00:00:00\", \"2020-03-06T00:00:00\", \"2020-03-07T00:00:00\", \"2020-03-08T00:00:00\", \"2020-03-09T00:00:00\", \"2020-03-10T00:00:00\", \"2020-03-11T00:00:00\", \"2020-03-12T00:00:00\", \"2020-03-13T00:00:00\", \"2020-03-14T00:00:00\", \"2020-03-15T00:00:00\", \"2020-03-16T00:00:00\", \"2020-03-17T00:00:00\", \"2020-03-18T00:00:00\", \"2020-03-19T00:00:00\", \"2020-03-20T00:00:00\", \"2020-03-21T00:00:00\", \"2020-03-22T00:00:00\", \"2020-03-23T00:00:00\", \"2020-03-24T00:00:00\", \"2020-03-25T00:00:00\", \"2020-03-26T00:00:00\", \"2020-03-27T00:00:00\", \"2020-03-28T00:00:00\", \"2020-03-29T00:00:00\", \"2020-03-30T00:00:00\", \"2020-03-31T00:00:00\", \"2020-04-01T00:00:00\", \"2020-04-02T00:00:00\", \"2020-04-03T00:00:00\", \"2020-04-04T00:00:00\", \"2020-04-05T00:00:00\", \"2020-04-06T00:00:00\", \"2020-04-07T00:00:00\", \"2020-04-08T00:00:00\", \"2020-04-09T00:00:00\", \"2020-04-10T00:00:00\", \"2020-04-11T00:00:00\", \"2020-04-12T00:00:00\", \"2020-04-13T00:00:00\", \"2020-04-14T00:00:00\", \"2020-04-15T00:00:00\", \"2020-04-16T00:00:00\", \"2020-04-17T00:00:00\", \"2020-04-18T00:00:00\", \"2020-04-19T00:00:00\", \"2020-04-20T00:00:00\", \"2020-04-21T00:00:00\", \"2020-04-22T00:00:00\", \"2020-04-23T00:00:00\", \"2020-04-24T00:00:00\", \"2020-04-25T00:00:00\", \"2020-04-26T00:00:00\", \"2020-04-27T00:00:00\", \"2020-04-28T00:00:00\", \"2020-04-29T00:00:00\", \"2020-04-30T00:00:00\", \"2020-05-01T00:00:00\", \"2020-05-02T00:00:00\", \"2020-05-03T00:00:00\", \"2020-05-04T00:00:00\", \"2020-05-05T00:00:00\", \"2020-05-06T00:00:00\", \"2020-05-07T00:00:00\", \"2020-05-08T00:00:00\", \"2020-05-09T00:00:00\", \"2020-05-10T00:00:00\", \"2020-05-11T00:00:00\", \"2020-05-12T00:00:00\", \"2020-05-13T00:00:00\", \"2020-05-14T00:00:00\", \"2020-05-15T00:00:00\", \"2020-05-16T00:00:00\", \"2020-05-17T00:00:00\", \"2020-05-18T00:00:00\", \"2020-05-19T00:00:00\", \"2020-05-20T00:00:00\", \"2020-05-21T00:00:00\", \"2020-05-22T00:00:00\", \"2020-05-23T00:00:00\", \"2020-05-24T00:00:00\", \"2020-05-25T00:00:00\", \"2020-05-26T00:00:00\", \"2020-05-27T00:00:00\", \"2020-05-28T00:00:00\", \"2020-05-29T00:00:00\", \"2020-05-30T00:00:00\", \"2020-05-31T00:00:00\", \"2020-06-01T00:00:00\", \"2020-06-02T00:00:00\", \"2020-06-03T00:00:00\", \"2020-06-04T00:00:00\", \"2020-06-05T00:00:00\", \"2020-06-06T00:00:00\", \"2020-06-07T00:00:00\", \"2020-06-08T00:00:00\", \"2020-06-09T00:00:00\", \"2020-06-10T00:00:00\", \"2020-06-11T00:00:00\", \"2020-06-12T00:00:00\", \"2020-06-13T00:00:00\", \"2020-06-14T00:00:00\", \"2020-06-15T00:00:00\", \"2020-06-16T00:00:00\", \"2020-06-17T00:00:00\", \"2020-06-18T00:00:00\", \"2020-06-19T00:00:00\", \"2020-06-20T00:00:00\", \"2020-06-21T00:00:00\", \"2020-06-22T00:00:00\", \"2020-06-23T00:00:00\", \"2020-06-24T00:00:00\", \"2020-06-25T00:00:00\", \"2020-06-26T00:00:00\", \"2020-06-27T00:00:00\", \"2020-06-28T00:00:00\", \"2020-06-29T00:00:00\", \"2020-06-30T00:00:00\", \"2020-07-01T00:00:00\", \"2020-07-02T00:00:00\", \"2020-07-03T00:00:00\", \"2020-07-04T00:00:00\", \"2020-07-05T00:00:00\", \"2020-07-06T00:00:00\", \"2020-07-07T00:00:00\", \"2020-07-08T00:00:00\", \"2020-07-09T00:00:00\", \"2020-07-10T00:00:00\", \"2020-07-11T00:00:00\", \"2020-07-12T00:00:00\", \"2020-07-13T00:00:00\", \"2020-07-14T00:00:00\", \"2020-07-15T00:00:00\", \"2020-07-16T00:00:00\", \"2020-07-17T00:00:00\", \"2020-07-18T00:00:00\", \"2020-07-19T00:00:00\", \"2020-07-20T00:00:00\", \"2020-07-21T00:00:00\", \"2020-07-22T00:00:00\", \"2020-07-23T00:00:00\", \"2020-07-24T00:00:00\", \"2020-07-25T00:00:00\", \"2020-07-26T00:00:00\", \"2020-07-27T00:00:00\", \"2020-07-28T00:00:00\", \"2020-07-29T00:00:00\", \"2020-07-30T00:00:00\", \"2020-07-31T00:00:00\", \"2020-08-01T00:00:00\", \"2020-08-02T00:00:00\", \"2020-08-03T00:00:00\", \"2020-08-04T00:00:00\", \"2020-08-05T00:00:00\", \"2020-08-06T00:00:00\", \"2020-08-07T00:00:00\", \"2020-08-08T00:00:00\", \"2020-08-09T00:00:00\", \"2020-08-10T00:00:00\", \"2020-08-11T00:00:00\", \"2020-08-12T00:00:00\", \"2020-08-13T00:00:00\", \"2020-08-14T00:00:00\", \"2020-08-15T00:00:00\", \"2020-08-16T00:00:00\", \"2020-08-17T00:00:00\", \"2020-08-18T00:00:00\", \"2020-08-19T00:00:00\", \"2020-08-20T00:00:00\", \"2020-08-21T00:00:00\", \"2020-08-22T00:00:00\", \"2020-08-23T00:00:00\", \"2020-08-24T00:00:00\", \"2020-08-25T00:00:00\", \"2020-08-26T00:00:00\", \"2020-08-27T00:00:00\", \"2020-08-28T00:00:00\", \"2020-08-29T00:00:00\", \"2020-08-30T00:00:00\", \"2020-08-31T00:00:00\", \"2020-09-01T00:00:00\", \"2020-09-02T00:00:00\", \"2020-09-03T00:00:00\", \"2020-09-04T00:00:00\", \"2020-09-05T00:00:00\", \"2020-09-06T00:00:00\", \"2020-09-07T00:00:00\", \"2020-09-08T00:00:00\", \"2020-09-09T00:00:00\", \"2020-09-10T00:00:00\", \"2020-09-11T00:00:00\", \"2020-09-12T00:00:00\", \"2020-09-13T00:00:00\", \"2020-09-14T00:00:00\", \"2020-09-15T00:00:00\", \"2020-09-16T00:00:00\", \"2020-09-17T00:00:00\", \"2020-09-18T00:00:00\", \"2020-09-19T00:00:00\", \"2020-09-20T00:00:00\", \"2020-09-21T00:00:00\", \"2020-09-22T00:00:00\", \"2020-09-23T00:00:00\", \"2020-09-24T00:00:00\", \"2020-09-25T00:00:00\", \"2020-09-26T00:00:00\", \"2020-09-27T00:00:00\", \"2020-09-28T00:00:00\", \"2020-09-29T00:00:00\", \"2020-09-30T00:00:00\", \"2020-10-01T00:00:00\", \"2020-10-02T00:00:00\", \"2020-10-03T00:00:00\", \"2020-10-04T00:00:00\", \"2020-10-05T00:00:00\", \"2020-10-06T00:00:00\", \"2020-10-07T00:00:00\", \"2020-10-08T00:00:00\", \"2020-10-09T00:00:00\", \"2020-10-10T00:00:00\", \"2020-10-11T00:00:00\"], \"y\": [2, 2, 2, 2, 4, 4, 6, 19, 27, 34, 34, 69, 96, 117, 134, 172, 227, 309, 369, 450, 514, 579, 685, 790, 893, 1046, 1155, 1285, 1414, 1528, 1677, 1790, 1986, 2092, 2273, 2491, 2738, 2956, 3293, 3512, 3842, 4241, 4557, 4839, 5136, 5516, 5923, 6248, 6575, 6760, 7135, 7418, 7775, 8211, 8607, 8882, 9096, 9511, 9771, 10118, 10551, 10843, 11192, 11587, 12071, 12438, 12776, 13112, 13645, 14032, 14265, 14749, 15438, 16006, 16496, 17025, 17514, 18010, 18496, 19189, 20162, 20796, 21745, 22271, 22750, 23165, 23851, 24538, 25216, 25773, 26473, 26940, 27549, 28233, 28818, 29521, 30514, 31186, 32033, 33075, 34316, 35295, 36406, 37420, 38277, 39294, 40400, 41431, 42762, 43803, 45029, 45891, 46845, 47896, 49009, 50187, 51427, 52812, 54010, 55092, 56385, 57770, 59394, 60695, 62142, 63749, 64958, 66226, 68079, 70736, 72347, 74018, 75699, 76981, 78572, 80094, 81668, 83130, 84882, 86521, 88214, 89869, 91751, 93657, 95418, 97286, 98778, 100303, 102051, 104432, 106336, 108376, 109936, 111455, 113134, 115056, 116871, 118753, 121226, 123503, 125396, 127083, 128776, 130718, 132816, 135123, 137468, 139549, 141370, 143043, 144945, 147211, 149408, 151498, 153535, 155412, 157859, 160165, 162884, 165887, 169195, 172053, 174796, 177571, 180646, 184268, 187537, 190665, 194109, 196989, 200035, 203342, 207203, 210940, 214746, 218382, 221523, 225030, 228993, 232628, 236519, 240687, 244676, 248852, 252923, 257388, 262022, 266845, 271339, 275213, 278722, 282724, 287008, 291182, 295499, 299506, 303498, 307120, 311176, 315714, 320564, 324658, 328952, 333449]}, {\"marker\": {\"color\": \"red\"}, \"mode\": \"lines\", \"name\": \"Active Cases\", \"type\": \"scatter\", \"x\": [\"2020-03-02T00:00:00\", \"2020-03-03T00:00:00\", \"2020-03-04T00:00:00\", \"2020-03-05T00:00:00\", \"2020-03-06T00:00:00\", \"2020-03-07T00:00:00\", \"2020-03-08T00:00:00\", \"2020-03-09T00:00:00\", \"2020-03-10T00:00:00\", \"2020-03-11T00:00:00\", \"2020-03-12T00:00:00\", \"2020-03-13T00:00:00\", \"2020-03-14T00:00:00\", \"2020-03-15T00:00:00\", \"2020-03-16T00:00:00\", \"2020-03-17T00:00:00\", \"2020-03-18T00:00:00\", \"2020-03-19T00:00:00\", \"2020-03-20T00:00:00\", \"2020-03-21T00:00:00\", \"2020-03-22T00:00:00\", \"2020-03-23T00:00:00\", \"2020-03-24T00:00:00\", \"2020-03-25T00:00:00\", \"2020-03-26T00:00:00\", \"2020-03-27T00:00:00\", \"2020-03-28T00:00:00\", \"2020-03-29T00:00:00\", \"2020-03-30T00:00:00\", \"2020-03-31T00:00:00\", \"2020-04-01T00:00:00\", \"2020-04-02T00:00:00\", \"2020-04-03T00:00:00\", \"2020-04-04T00:00:00\", \"2020-04-05T00:00:00\", \"2020-04-06T00:00:00\", \"2020-04-07T00:00:00\", \"2020-04-08T00:00:00\", \"2020-04-09T00:00:00\", \"2020-04-10T00:00:00\", \"2020-04-11T00:00:00\", \"2020-04-12T00:00:00\", \"2020-04-13T00:00:00\", \"2020-04-14T00:00:00\", \"2020-04-15T00:00:00\", \"2020-04-16T00:00:00\", \"2020-04-17T00:00:00\", \"2020-04-18T00:00:00\", \"2020-04-19T00:00:00\", \"2020-04-20T00:00:00\", \"2020-04-21T00:00:00\", \"2020-04-22T00:00:00\", \"2020-04-23T00:00:00\", \"2020-04-24T00:00:00\", \"2020-04-25T00:00:00\", \"2020-04-26T00:00:00\", \"2020-04-27T00:00:00\", \"2020-04-28T00:00:00\", \"2020-04-29T00:00:00\", \"2020-04-30T00:00:00\", \"2020-05-01T00:00:00\", \"2020-05-02T00:00:00\", \"2020-05-03T00:00:00\", \"2020-05-04T00:00:00\", \"2020-05-05T00:00:00\", \"2020-05-06T00:00:00\", \"2020-05-07T00:00:00\", \"2020-05-08T00:00:00\", \"2020-05-09T00:00:00\", \"2020-05-10T00:00:00\", \"2020-05-11T00:00:00\", \"2020-05-12T00:00:00\", \"2020-05-13T00:00:00\", \"2020-05-14T00:00:00\", \"2020-05-15T00:00:00\", \"2020-05-16T00:00:00\", \"2020-05-17T00:00:00\", \"2020-05-18T00:00:00\", \"2020-05-19T00:00:00\", \"2020-05-20T00:00:00\", \"2020-05-21T00:00:00\", \"2020-05-22T00:00:00\", \"2020-05-23T00:00:00\", \"2020-05-24T00:00:00\", \"2020-05-25T00:00:00\", \"2020-05-26T00:00:00\", \"2020-05-27T00:00:00\", \"2020-05-28T00:00:00\", \"2020-05-29T00:00:00\", \"2020-05-30T00:00:00\", \"2020-05-31T00:00:00\", \"2020-06-01T00:00:00\", \"2020-06-02T00:00:00\", \"2020-06-03T00:00:00\", \"2020-06-04T00:00:00\", \"2020-06-05T00:00:00\", \"2020-06-06T00:00:00\", \"2020-06-07T00:00:00\", \"2020-06-08T00:00:00\", \"2020-06-09T00:00:00\", \"2020-06-10T00:00:00\", \"2020-06-11T00:00:00\", \"2020-06-12T00:00:00\", \"2020-06-13T00:00:00\", \"2020-06-14T00:00:00\", \"2020-06-15T00:00:00\", \"2020-06-16T00:00:00\", \"2020-06-17T00:00:00\", \"2020-06-18T00:00:00\", \"2020-06-19T00:00:00\", \"2020-06-20T00:00:00\", \"2020-06-21T00:00:00\", \"2020-06-22T00:00:00\", \"2020-06-23T00:00:00\", \"2020-06-24T00:00:00\", \"2020-06-25T00:00:00\", \"2020-06-26T00:00:00\", \"2020-06-27T00:00:00\", \"2020-06-28T00:00:00\", \"2020-06-29T00:00:00\", \"2020-06-30T00:00:00\", \"2020-07-01T00:00:00\", \"2020-07-02T00:00:00\", \"2020-07-03T00:00:00\", \"2020-07-04T00:00:00\", \"2020-07-05T00:00:00\", \"2020-07-06T00:00:00\", \"2020-07-07T00:00:00\", \"2020-07-08T00:00:00\", \"2020-07-09T00:00:00\", \"2020-07-10T00:00:00\", \"2020-07-11T00:00:00\", \"2020-07-12T00:00:00\", \"2020-07-13T00:00:00\", \"2020-07-14T00:00:00\", \"2020-07-15T00:00:00\", \"2020-07-16T00:00:00\", \"2020-07-17T00:00:00\", \"2020-07-18T00:00:00\", \"2020-07-19T00:00:00\", \"2020-07-20T00:00:00\", \"2020-07-21T00:00:00\", \"2020-07-22T00:00:00\", \"2020-07-23T00:00:00\", \"2020-07-24T00:00:00\", \"2020-07-25T00:00:00\", \"2020-07-26T00:00:00\", \"2020-07-27T00:00:00\", \"2020-07-28T00:00:00\", \"2020-07-29T00:00:00\", \"2020-07-30T00:00:00\", \"2020-07-31T00:00:00\", \"2020-08-01T00:00:00\", \"2020-08-02T00:00:00\", \"2020-08-03T00:00:00\", \"2020-08-04T00:00:00\", \"2020-08-05T00:00:00\", \"2020-08-06T00:00:00\", \"2020-08-07T00:00:00\", \"2020-08-08T00:00:00\", \"2020-08-09T00:00:00\", \"2020-08-10T00:00:00\", \"2020-08-11T00:00:00\", \"2020-08-12T00:00:00\", \"2020-08-13T00:00:00\", \"2020-08-14T00:00:00\", \"2020-08-15T00:00:00\", \"2020-08-16T00:00:00\", \"2020-08-17T00:00:00\", \"2020-08-18T00:00:00\", \"2020-08-19T00:00:00\", \"2020-08-20T00:00:00\", \"2020-08-21T00:00:00\", \"2020-08-22T00:00:00\", \"2020-08-23T00:00:00\", \"2020-08-24T00:00:00\", \"2020-08-25T00:00:00\", \"2020-08-26T00:00:00\", \"2020-08-27T00:00:00\", \"2020-08-28T00:00:00\", \"2020-08-29T00:00:00\", \"2020-08-30T00:00:00\", \"2020-08-31T00:00:00\", \"2020-09-01T00:00:00\", \"2020-09-02T00:00:00\", \"2020-09-03T00:00:00\", \"2020-09-04T00:00:00\", \"2020-09-05T00:00:00\", \"2020-09-06T00:00:00\", \"2020-09-07T00:00:00\", \"2020-09-08T00:00:00\", \"2020-09-09T00:00:00\", \"2020-09-10T00:00:00\", \"2020-09-11T00:00:00\", \"2020-09-12T00:00:00\", \"2020-09-13T00:00:00\", \"2020-09-14T00:00:00\", \"2020-09-15T00:00:00\", \"2020-09-16T00:00:00\", \"2020-09-17T00:00:00\", \"2020-09-18T00:00:00\", \"2020-09-19T00:00:00\", \"2020-09-20T00:00:00\", \"2020-09-21T00:00:00\", \"2020-09-22T00:00:00\", \"2020-09-23T00:00:00\", \"2020-09-24T00:00:00\", \"2020-09-25T00:00:00\", \"2020-09-26T00:00:00\", \"2020-09-27T00:00:00\", \"2020-09-28T00:00:00\", \"2020-09-29T00:00:00\", \"2020-09-30T00:00:00\", \"2020-10-01T00:00:00\", \"2020-10-02T00:00:00\", \"2020-10-03T00:00:00\", \"2020-10-04T00:00:00\", \"2020-10-05T00:00:00\", \"2020-10-06T00:00:00\", \"2020-10-07T00:00:00\", \"2020-10-08T00:00:00\", \"2020-10-09T00:00:00\", \"2020-10-10T00:00:00\", \"2020-10-11T00:00:00\"], \"y\": [2, 2, 2, 2, 4, 4, 6, 19, 25, 31, 31, 63, 83, 104, 121, 158, 197, 269, 320, 392, 437, 500, 600, 701, 780, 913, 994, 1107, 1217, 1311, 1417, 1508, 1671, 1751, 1911, 2090, 2313, 2494, 2761, 2924, 3229, 3509, 3778, 3954, 4221, 4472, 4796, 5082, 5307, 5423, 5677, 5870, 6168, 6520, 6845, 7032, 7180, 7484, 7596, 7804, 8160, 8347, 8471, 8769, 9002, 9226, 9465, 9675, 10079, 10361, 10393, 10679, 11123, 11445, 11617, 12025, 12237, 12495, 12808, 13372, 14046, 14413, 15145, 15497, 15717, 15870, 16321, 16802, 17204, 17185, 17552, 17662, 17951, 18129, 18205, 18308, 18806, 18837, 19246, 19738, 20228, 20659, 21145, 21553, 21612, 21973, 22466, 22912, 23625, 24081, 24717, 25022, 25610, 26120, 26778, 27118, 27411, 28183, 28320, 28487, 28703, 29241, 29740, 30091, 30834, 31473, 31798, 32132, 33135, 34668, 35349, 35764, 36455, 36636, 37226, 37247, 37450, 37339, 37598, 36977, 36998, 37083, 37037, 36917, 36808, 37218, 37342, 37292, 36611, 37319, 36986, 37338, 36824, 37244, 37595, 37618, 37530, 37587, 38076, 38539, 38721, 39082, 39242, 39017, 39290, 39484, 40076, 40296, 40705, 40460, 39942, 40119, 39917, 39706, 39355, 37593, 38134, 37812, 37245, 37818, 39132, 40525, 41420, 42009, 43059, 44463, 45524, 46324, 47509, 48207, 48847, 49806, 51237, 52179, 53638, 54649, 54277, 55000, 55792, 56720, 56409, 56889, 57796, 58378, 58788, 59453, 60064, 60431, 61628, 61813, 61379, 61686, 61321, 61839, 63187, 63399, 63894, 63274, 63365, 63951, 64924, 65314, 65706, 66578]}, {\"line\": {\"dash\": \"dot\"}, \"marker\": {\"color\": \"black\"}, \"mode\": \"lines\", \"name\": \"Death Cases\", \"type\": \"scatter\", \"x\": [\"2020-03-02T00:00:00\", \"2020-03-03T00:00:00\", \"2020-03-04T00:00:00\", \"2020-03-05T00:00:00\", \"2020-03-06T00:00:00\", \"2020-03-07T00:00:00\", \"2020-03-08T00:00:00\", \"2020-03-09T00:00:00\", \"2020-03-10T00:00:00\", \"2020-03-11T00:00:00\", \"2020-03-12T00:00:00\", \"2020-03-13T00:00:00\", \"2020-03-14T00:00:00\", \"2020-03-15T00:00:00\", \"2020-03-16T00:00:00\", \"2020-03-17T00:00:00\", \"2020-03-18T00:00:00\", \"2020-03-19T00:00:00\", \"2020-03-20T00:00:00\", \"2020-03-21T00:00:00\", \"2020-03-22T00:00:00\", \"2020-03-23T00:00:00\", \"2020-03-24T00:00:00\", \"2020-03-25T00:00:00\", \"2020-03-26T00:00:00\", \"2020-03-27T00:00:00\", \"2020-03-28T00:00:00\", \"2020-03-29T00:00:00\", \"2020-03-30T00:00:00\", \"2020-03-31T00:00:00\", \"2020-04-01T00:00:00\", \"2020-04-02T00:00:00\", \"2020-04-03T00:00:00\", \"2020-04-04T00:00:00\", \"2020-04-05T00:00:00\", \"2020-04-06T00:00:00\", \"2020-04-07T00:00:00\", \"2020-04-08T00:00:00\", \"2020-04-09T00:00:00\", \"2020-04-10T00:00:00\", \"2020-04-11T00:00:00\", \"2020-04-12T00:00:00\", \"2020-04-13T00:00:00\", \"2020-04-14T00:00:00\", \"2020-04-15T00:00:00\", \"2020-04-16T00:00:00\", \"2020-04-17T00:00:00\", \"2020-04-18T00:00:00\", \"2020-04-19T00:00:00\", \"2020-04-20T00:00:00\", \"2020-04-21T00:00:00\", \"2020-04-22T00:00:00\", \"2020-04-23T00:00:00\", \"2020-04-24T00:00:00\", \"2020-04-25T00:00:00\", \"2020-04-26T00:00:00\", \"2020-04-27T00:00:00\", \"2020-04-28T00:00:00\", \"2020-04-29T00:00:00\", \"2020-04-30T00:00:00\", \"2020-05-01T00:00:00\", \"2020-05-02T00:00:00\", \"2020-05-03T00:00:00\", \"2020-05-04T00:00:00\", \"2020-05-05T00:00:00\", \"2020-05-06T00:00:00\", \"2020-05-07T00:00:00\", \"2020-05-08T00:00:00\", \"2020-05-09T00:00:00\", \"2020-05-10T00:00:00\", \"2020-05-11T00:00:00\", \"2020-05-12T00:00:00\", \"2020-05-13T00:00:00\", \"2020-05-14T00:00:00\", \"2020-05-15T00:00:00\", \"2020-05-16T00:00:00\", \"2020-05-17T00:00:00\", \"2020-05-18T00:00:00\", \"2020-05-19T00:00:00\", \"2020-05-20T00:00:00\", \"2020-05-21T00:00:00\", \"2020-05-22T00:00:00\", \"2020-05-23T00:00:00\", \"2020-05-24T00:00:00\", \"2020-05-25T00:00:00\", \"2020-05-26T00:00:00\", \"2020-05-27T00:00:00\", \"2020-05-28T00:00:00\", \"2020-05-29T00:00:00\", \"2020-05-30T00:00:00\", \"2020-05-31T00:00:00\", \"2020-06-01T00:00:00\", \"2020-06-02T00:00:00\", \"2020-06-03T00:00:00\", \"2020-06-04T00:00:00\", \"2020-06-05T00:00:00\", \"2020-06-06T00:00:00\", \"2020-06-07T00:00:00\", \"2020-06-08T00:00:00\", \"2020-06-09T00:00:00\", \"2020-06-10T00:00:00\", \"2020-06-11T00:00:00\", \"2020-06-12T00:00:00\", \"2020-06-13T00:00:00\", \"2020-06-14T00:00:00\", \"2020-06-15T00:00:00\", \"2020-06-16T00:00:00\", \"2020-06-17T00:00:00\", \"2020-06-18T00:00:00\", \"2020-06-19T00:00:00\", \"2020-06-20T00:00:00\", \"2020-06-21T00:00:00\", \"2020-06-22T00:00:00\", \"2020-06-23T00:00:00\", \"2020-06-24T00:00:00\", \"2020-06-25T00:00:00\", \"2020-06-26T00:00:00\", \"2020-06-27T00:00:00\", \"2020-06-28T00:00:00\", \"2020-06-29T00:00:00\", \"2020-06-30T00:00:00\", \"2020-07-01T00:00:00\", \"2020-07-02T00:00:00\", \"2020-07-03T00:00:00\", \"2020-07-04T00:00:00\", \"2020-07-05T00:00:00\", \"2020-07-06T00:00:00\", \"2020-07-07T00:00:00\", \"2020-07-08T00:00:00\", \"2020-07-09T00:00:00\", \"2020-07-10T00:00:00\", \"2020-07-11T00:00:00\", \"2020-07-12T00:00:00\", \"2020-07-13T00:00:00\", \"2020-07-14T00:00:00\", \"2020-07-15T00:00:00\", \"2020-07-16T00:00:00\", \"2020-07-17T00:00:00\", \"2020-07-18T00:00:00\", \"2020-07-19T00:00:00\", \"2020-07-20T00:00:00\", \"2020-07-21T00:00:00\", \"2020-07-22T00:00:00\", \"2020-07-23T00:00:00\", \"2020-07-24T00:00:00\", \"2020-07-25T00:00:00\", \"2020-07-26T00:00:00\", \"2020-07-27T00:00:00\", \"2020-07-28T00:00:00\", \"2020-07-29T00:00:00\", \"2020-07-30T00:00:00\", \"2020-07-31T00:00:00\", \"2020-08-01T00:00:00\", \"2020-08-02T00:00:00\", \"2020-08-03T00:00:00\", \"2020-08-04T00:00:00\", \"2020-08-05T00:00:00\", \"2020-08-06T00:00:00\", \"2020-08-07T00:00:00\", \"2020-08-08T00:00:00\", \"2020-08-09T00:00:00\", \"2020-08-10T00:00:00\", \"2020-08-11T00:00:00\", \"2020-08-12T00:00:00\", \"2020-08-13T00:00:00\", \"2020-08-14T00:00:00\", \"2020-08-15T00:00:00\", \"2020-08-16T00:00:00\", \"2020-08-17T00:00:00\", \"2020-08-18T00:00:00\", \"2020-08-19T00:00:00\", \"2020-08-20T00:00:00\", \"2020-08-21T00:00:00\", \"2020-08-22T00:00:00\", \"2020-08-23T00:00:00\", \"2020-08-24T00:00:00\", \"2020-08-25T00:00:00\", \"2020-08-26T00:00:00\", \"2020-08-27T00:00:00\", \"2020-08-28T00:00:00\", \"2020-08-29T00:00:00\", \"2020-08-30T00:00:00\", \"2020-08-31T00:00:00\", \"2020-09-01T00:00:00\", \"2020-09-02T00:00:00\", \"2020-09-03T00:00:00\", \"2020-09-04T00:00:00\", \"2020-09-05T00:00:00\", \"2020-09-06T00:00:00\", \"2020-09-07T00:00:00\", \"2020-09-08T00:00:00\", \"2020-09-09T00:00:00\", \"2020-09-10T00:00:00\", \"2020-09-11T00:00:00\", \"2020-09-12T00:00:00\", \"2020-09-13T00:00:00\", \"2020-09-14T00:00:00\", \"2020-09-15T00:00:00\", \"2020-09-16T00:00:00\", \"2020-09-17T00:00:00\", \"2020-09-18T00:00:00\", \"2020-09-19T00:00:00\", \"2020-09-20T00:00:00\", \"2020-09-21T00:00:00\", \"2020-09-22T00:00:00\", \"2020-09-23T00:00:00\", \"2020-09-24T00:00:00\", \"2020-09-25T00:00:00\", \"2020-09-26T00:00:00\", \"2020-09-27T00:00:00\", \"2020-09-28T00:00:00\", \"2020-09-29T00:00:00\", \"2020-09-30T00:00:00\", \"2020-10-01T00:00:00\", \"2020-10-02T00:00:00\", \"2020-10-03T00:00:00\", \"2020-10-04T00:00:00\", \"2020-10-05T00:00:00\", \"2020-10-06T00:00:00\", \"2020-10-07T00:00:00\", \"2020-10-08T00:00:00\", \"2020-10-09T00:00:00\", \"2020-10-10T00:00:00\", \"2020-10-11T00:00:00\"], \"y\": [0, 0, 0, 0, 0, 0, 0, 0, 0, 1, 1, 4, 5, 5, 5, 5, 19, 25, 32, 38, 48, 49, 55, 58, 78, 87, 102, 114, 122, 136, 157, 170, 181, 191, 198, 209, 221, 240, 280, 306, 327, 373, 399, 459, 469, 496, 520, 535, 582, 590, 616, 635, 647, 689, 720, 743, 765, 773, 784, 792, 800, 831, 845, 864, 872, 895, 930, 943, 959, 973, 991, 1007, 1028, 1043, 1076, 1089, 1148, 1191, 1221, 1242, 1278, 1326, 1351, 1372, 1391, 1418, 1473, 1496, 1520, 1573, 1613, 1641, 1663, 1698, 1721, 1770, 1801, 1851, 1883, 1923, 1959, 2000, 2048, 2091, 2134, 2198, 2231, 2276, 2339, 2373, 2429, 2465, 2500, 2535, 2573, 2620, 2683, 2720, 2754, 2805, 2876, 2934, 2987, 3036, 3089, 3171, 3241, 3309, 3359, 3417, 3469, 3535, 3606, 3656, 3710, 3797, 3873, 3957, 4016, 4143, 4239, 4320, 4459, 4576, 4665, 4714, 4781, 4838, 4901, 4975, 5058, 5131, 5193, 5236, 5302, 5388, 5452, 5521, 5593, 5658, 5723, 5765, 5824, 5903, 5968, 6021, 6071, 6150, 6207, 6277, 6346, 6418, 6500, 6594, 6680, 6759, 6858, 6944, 7064, 7169, 7261, 7343, 7417, 7505, 7616, 7750, 7832, 7940, 8025, 8130, 8230, 8336, 8456, 8544, 8650, 8723, 8841, 8965, 9100, 9222, 9336, 9448, 9553, 9677, 9837, 9977, 10105, 10218, 10308, 10386, 10473, 10601, 10740, 10856, 10972, 11055, 11151, 11253, 11374, 11472, 11580, 11677, 11765, 11844]}, {\"marker\": {\"color\": \"green\"}, \"mode\": \"lines\", \"name\": \"Recovered Case\", \"type\": \"scatter\", \"x\": [\"2020-03-02T00:00:00\", \"2020-03-03T00:00:00\", \"2020-03-04T00:00:00\", \"2020-03-05T00:00:00\", \"2020-03-06T00:00:00\", \"2020-03-07T00:00:00\", \"2020-03-08T00:00:00\", \"2020-03-09T00:00:00\", \"2020-03-10T00:00:00\", \"2020-03-11T00:00:00\", \"2020-03-12T00:00:00\", \"2020-03-13T00:00:00\", \"2020-03-14T00:00:00\", \"2020-03-15T00:00:00\", \"2020-03-16T00:00:00\", \"2020-03-17T00:00:00\", \"2020-03-18T00:00:00\", \"2020-03-19T00:00:00\", \"2020-03-20T00:00:00\", \"2020-03-21T00:00:00\", \"2020-03-22T00:00:00\", \"2020-03-23T00:00:00\", \"2020-03-24T00:00:00\", \"2020-03-25T00:00:00\", \"2020-03-26T00:00:00\", \"2020-03-27T00:00:00\", \"2020-03-28T00:00:00\", \"2020-03-29T00:00:00\", \"2020-03-30T00:00:00\", \"2020-03-31T00:00:00\", \"2020-04-01T00:00:00\", \"2020-04-02T00:00:00\", \"2020-04-03T00:00:00\", \"2020-04-04T00:00:00\", \"2020-04-05T00:00:00\", \"2020-04-06T00:00:00\", \"2020-04-07T00:00:00\", \"2020-04-08T00:00:00\", \"2020-04-09T00:00:00\", \"2020-04-10T00:00:00\", \"2020-04-11T00:00:00\", \"2020-04-12T00:00:00\", \"2020-04-13T00:00:00\", \"2020-04-14T00:00:00\", \"2020-04-15T00:00:00\", \"2020-04-16T00:00:00\", \"2020-04-17T00:00:00\", \"2020-04-18T00:00:00\", \"2020-04-19T00:00:00\", \"2020-04-20T00:00:00\", \"2020-04-21T00:00:00\", \"2020-04-22T00:00:00\", \"2020-04-23T00:00:00\", \"2020-04-24T00:00:00\", \"2020-04-25T00:00:00\", \"2020-04-26T00:00:00\", \"2020-04-27T00:00:00\", \"2020-04-28T00:00:00\", \"2020-04-29T00:00:00\", \"2020-04-30T00:00:00\", \"2020-05-01T00:00:00\", \"2020-05-02T00:00:00\", \"2020-05-03T00:00:00\", \"2020-05-04T00:00:00\", \"2020-05-05T00:00:00\", \"2020-05-06T00:00:00\", \"2020-05-07T00:00:00\", \"2020-05-08T00:00:00\", \"2020-05-09T00:00:00\", \"2020-05-10T00:00:00\", \"2020-05-11T00:00:00\", \"2020-05-12T00:00:00\", \"2020-05-13T00:00:00\", \"2020-05-14T00:00:00\", \"2020-05-15T00:00:00\", \"2020-05-16T00:00:00\", \"2020-05-17T00:00:00\", \"2020-05-18T00:00:00\", \"2020-05-19T00:00:00\", \"2020-05-20T00:00:00\", \"2020-05-21T00:00:00\", \"2020-05-22T00:00:00\", \"2020-05-23T00:00:00\", \"2020-05-24T00:00:00\", \"2020-05-25T00:00:00\", \"2020-05-26T00:00:00\", \"2020-05-27T00:00:00\", \"2020-05-28T00:00:00\", \"2020-05-29T00:00:00\", \"2020-05-30T00:00:00\", \"2020-05-31T00:00:00\", \"2020-06-01T00:00:00\", \"2020-06-02T00:00:00\", \"2020-06-03T00:00:00\", \"2020-06-04T00:00:00\", \"2020-06-05T00:00:00\", \"2020-06-06T00:00:00\", \"2020-06-07T00:00:00\", \"2020-06-08T00:00:00\", \"2020-06-09T00:00:00\", \"2020-06-10T00:00:00\", \"2020-06-11T00:00:00\", \"2020-06-12T00:00:00\", \"2020-06-13T00:00:00\", \"2020-06-14T00:00:00\", \"2020-06-15T00:00:00\", \"2020-06-16T00:00:00\", \"2020-06-17T00:00:00\", \"2020-06-18T00:00:00\", \"2020-06-19T00:00:00\", \"2020-06-20T00:00:00\", \"2020-06-21T00:00:00\", \"2020-06-22T00:00:00\", \"2020-06-23T00:00:00\", \"2020-06-24T00:00:00\", \"2020-06-25T00:00:00\", \"2020-06-26T00:00:00\", \"2020-06-27T00:00:00\", \"2020-06-28T00:00:00\", \"2020-06-29T00:00:00\", \"2020-06-30T00:00:00\", \"2020-07-01T00:00:00\", \"2020-07-02T00:00:00\", \"2020-07-03T00:00:00\", \"2020-07-04T00:00:00\", \"2020-07-05T00:00:00\", \"2020-07-06T00:00:00\", \"2020-07-07T00:00:00\", \"2020-07-08T00:00:00\", \"2020-07-09T00:00:00\", \"2020-07-10T00:00:00\", \"2020-07-11T00:00:00\", \"2020-07-12T00:00:00\", \"2020-07-13T00:00:00\", \"2020-07-14T00:00:00\", \"2020-07-15T00:00:00\", \"2020-07-16T00:00:00\", \"2020-07-17T00:00:00\", \"2020-07-18T00:00:00\", \"2020-07-19T00:00:00\", \"2020-07-20T00:00:00\", \"2020-07-21T00:00:00\", \"2020-07-22T00:00:00\", \"2020-07-23T00:00:00\", \"2020-07-24T00:00:00\", \"2020-07-25T00:00:00\", \"2020-07-26T00:00:00\", \"2020-07-27T00:00:00\", \"2020-07-28T00:00:00\", \"2020-07-29T00:00:00\", \"2020-07-30T00:00:00\", \"2020-07-31T00:00:00\", \"2020-08-01T00:00:00\", \"2020-08-02T00:00:00\", \"2020-08-03T00:00:00\", \"2020-08-04T00:00:00\", \"2020-08-05T00:00:00\", \"2020-08-06T00:00:00\", \"2020-08-07T00:00:00\", \"2020-08-08T00:00:00\", \"2020-08-09T00:00:00\", \"2020-08-10T00:00:00\", \"2020-08-11T00:00:00\", \"2020-08-12T00:00:00\", \"2020-08-13T00:00:00\", \"2020-08-14T00:00:00\", \"2020-08-15T00:00:00\", \"2020-08-16T00:00:00\", \"2020-08-17T00:00:00\", \"2020-08-18T00:00:00\", \"2020-08-19T00:00:00\", \"2020-08-20T00:00:00\", \"2020-08-21T00:00:00\", \"2020-08-22T00:00:00\", \"2020-08-23T00:00:00\", \"2020-08-24T00:00:00\", \"2020-08-25T00:00:00\", \"2020-08-26T00:00:00\", \"2020-08-27T00:00:00\", \"2020-08-28T00:00:00\", \"2020-08-29T00:00:00\", \"2020-08-30T00:00:00\", \"2020-08-31T00:00:00\", \"2020-09-01T00:00:00\", \"2020-09-02T00:00:00\", \"2020-09-03T00:00:00\", \"2020-09-04T00:00:00\", \"2020-09-05T00:00:00\", \"2020-09-06T00:00:00\", \"2020-09-07T00:00:00\", \"2020-09-08T00:00:00\", \"2020-09-09T00:00:00\", \"2020-09-10T00:00:00\", \"2020-09-11T00:00:00\", \"2020-09-12T00:00:00\", \"2020-09-13T00:00:00\", \"2020-09-14T00:00:00\", \"2020-09-15T00:00:00\", \"2020-09-16T00:00:00\", \"2020-09-17T00:00:00\", \"2020-09-18T00:00:00\", \"2020-09-19T00:00:00\", \"2020-09-20T00:00:00\", \"2020-09-21T00:00:00\", \"2020-09-22T00:00:00\", \"2020-09-23T00:00:00\", \"2020-09-24T00:00:00\", \"2020-09-25T00:00:00\", \"2020-09-26T00:00:00\", \"2020-09-27T00:00:00\", \"2020-09-28T00:00:00\", \"2020-09-29T00:00:00\", \"2020-09-30T00:00:00\", \"2020-10-01T00:00:00\", \"2020-10-02T00:00:00\", \"2020-10-03T00:00:00\", \"2020-10-04T00:00:00\", \"2020-10-05T00:00:00\", \"2020-10-06T00:00:00\", \"2020-10-07T00:00:00\", \"2020-10-08T00:00:00\", \"2020-10-09T00:00:00\", \"2020-10-10T00:00:00\", \"2020-10-11T00:00:00\"], \"y\": [0, 0, 0, 0, 0, 0, 0, 0, 2, 2, 2, 2, 8, 8, 8, 9, 11, 15, 17, 20, 29, 30, 30, 31, 35, 46, 59, 64, 75, 81, 103, 112, 134, 150, 164, 192, 204, 222, 252, 282, 286, 359, 380, 426, 446, 548, 607, 631, 686, 747, 842, 913, 960, 1002, 1042, 1107, 1151, 1254, 1391, 1522, 1591, 1665, 1876, 1954, 2197, 2317, 2381, 2494, 2607, 2698, 2881, 3063, 3287, 3518, 3803, 3911, 4129, 4324, 4467, 4575, 4838, 5057, 5249, 5402, 5642, 5877, 6057, 6240, 6492, 7015, 7308, 7637, 7935, 8406, 8892, 9443, 9907, 10498, 10904, 11414, 12129, 12636, 13213, 13776, 14531, 15123, 15703, 16243, 16798, 17349, 17883, 18404, 18735, 19241, 19658, 20449, 21333, 21909, 22936, 23800, 24806, 25595, 26667, 27568, 28219, 29105, 29919, 30785, 31585, 32651, 33529, 34719, 35638, 36689, 37636, 39050, 40345, 41834, 43268, 45401, 46977, 48466, 50255, 52164, 53945, 55354, 56655, 58173, 60539, 62138, 64292, 65907, 67919, 68975, 70237, 72050, 73889, 75645, 77557, 79306, 80952, 82236, 83710, 85798, 87558, 89618, 91321, 93103, 94458, 96306, 98657, 100674, 102991, 105198, 107500, 111060, 112867, 115409, 118575, 120900, 122802, 124185, 125959, 128057, 129971, 132055, 134181, 136401, 138575, 140652, 142958, 145200, 147510, 150217, 152458, 155010, 158405, 161065, 164101, 166686, 170774, 174350, 177327, 180797, 184298, 187958, 191853, 196196, 199403, 203014, 206870, 210437, 214947, 218487, 221340, 225052, 228453, 232593, 236437, 240291, 244060, 247667, 251481, 255027]}],\n",
              "                        {\"template\": {\"data\": {\"bar\": [{\"error_x\": {\"color\": \"#2a3f5f\"}, \"error_y\": {\"color\": \"#2a3f5f\"}, \"marker\": {\"line\": {\"color\": \"white\", \"width\": 0.5}}, \"type\": \"bar\"}], \"barpolar\": [{\"marker\": {\"line\": {\"color\": \"white\", \"width\": 0.5}}, \"type\": \"barpolar\"}], \"carpet\": [{\"aaxis\": {\"endlinecolor\": \"#2a3f5f\", \"gridcolor\": \"#C8D4E3\", \"linecolor\": \"#C8D4E3\", \"minorgridcolor\": \"#C8D4E3\", \"startlinecolor\": \"#2a3f5f\"}, \"baxis\": {\"endlinecolor\": \"#2a3f5f\", \"gridcolor\": \"#C8D4E3\", \"linecolor\": \"#C8D4E3\", \"minorgridcolor\": \"#C8D4E3\", \"startlinecolor\": \"#2a3f5f\"}, \"type\": \"carpet\"}], \"choropleth\": [{\"colorbar\": {\"outlinewidth\": 0, \"ticks\": \"\"}, \"type\": \"choropleth\"}], \"contour\": [{\"colorbar\": {\"outlinewidth\": 0, \"ticks\": \"\"}, \"colorscale\": [[0.0, \"#0d0887\"], [0.1111111111111111, \"#46039f\"], [0.2222222222222222, \"#7201a8\"], [0.3333333333333333, \"#9c179e\"], [0.4444444444444444, \"#bd3786\"], [0.5555555555555556, \"#d8576b\"], [0.6666666666666666, \"#ed7953\"], [0.7777777777777778, \"#fb9f3a\"], [0.8888888888888888, \"#fdca26\"], [1.0, \"#f0f921\"]], \"type\": \"contour\"}], \"contourcarpet\": [{\"colorbar\": {\"outlinewidth\": 0, \"ticks\": \"\"}, \"type\": \"contourcarpet\"}], \"heatmap\": [{\"colorbar\": {\"outlinewidth\": 0, \"ticks\": \"\"}, \"colorscale\": [[0.0, \"#0d0887\"], [0.1111111111111111, \"#46039f\"], [0.2222222222222222, \"#7201a8\"], [0.3333333333333333, \"#9c179e\"], [0.4444444444444444, \"#bd3786\"], [0.5555555555555556, \"#d8576b\"], [0.6666666666666666, \"#ed7953\"], [0.7777777777777778, \"#fb9f3a\"], [0.8888888888888888, \"#fdca26\"], [1.0, \"#f0f921\"]], \"type\": \"heatmap\"}], \"heatmapgl\": [{\"colorbar\": {\"outlinewidth\": 0, \"ticks\": \"\"}, \"colorscale\": [[0.0, \"#0d0887\"], [0.1111111111111111, \"#46039f\"], [0.2222222222222222, \"#7201a8\"], [0.3333333333333333, \"#9c179e\"], [0.4444444444444444, \"#bd3786\"], [0.5555555555555556, \"#d8576b\"], [0.6666666666666666, \"#ed7953\"], [0.7777777777777778, \"#fb9f3a\"], [0.8888888888888888, \"#fdca26\"], [1.0, \"#f0f921\"]], \"type\": \"heatmapgl\"}], \"histogram\": [{\"marker\": {\"colorbar\": {\"outlinewidth\": 0, \"ticks\": \"\"}}, \"type\": \"histogram\"}], \"histogram2d\": [{\"colorbar\": {\"outlinewidth\": 0, \"ticks\": \"\"}, \"colorscale\": [[0.0, \"#0d0887\"], [0.1111111111111111, \"#46039f\"], [0.2222222222222222, \"#7201a8\"], [0.3333333333333333, \"#9c179e\"], [0.4444444444444444, \"#bd3786\"], [0.5555555555555556, \"#d8576b\"], [0.6666666666666666, \"#ed7953\"], [0.7777777777777778, \"#fb9f3a\"], [0.8888888888888888, \"#fdca26\"], [1.0, \"#f0f921\"]], \"type\": \"histogram2d\"}], \"histogram2dcontour\": [{\"colorbar\": {\"outlinewidth\": 0, \"ticks\": \"\"}, \"colorscale\": [[0.0, \"#0d0887\"], [0.1111111111111111, \"#46039f\"], [0.2222222222222222, \"#7201a8\"], [0.3333333333333333, \"#9c179e\"], [0.4444444444444444, \"#bd3786\"], [0.5555555555555556, \"#d8576b\"], [0.6666666666666666, \"#ed7953\"], [0.7777777777777778, \"#fb9f3a\"], [0.8888888888888888, \"#fdca26\"], [1.0, \"#f0f921\"]], \"type\": \"histogram2dcontour\"}], \"mesh3d\": [{\"colorbar\": {\"outlinewidth\": 0, \"ticks\": \"\"}, \"type\": \"mesh3d\"}], \"parcoords\": [{\"line\": {\"colorbar\": {\"outlinewidth\": 0, \"ticks\": \"\"}}, \"type\": \"parcoords\"}], \"pie\": [{\"automargin\": true, \"type\": \"pie\"}], \"scatter\": [{\"marker\": {\"colorbar\": {\"outlinewidth\": 0, \"ticks\": \"\"}}, \"type\": \"scatter\"}], \"scatter3d\": [{\"line\": {\"colorbar\": {\"outlinewidth\": 0, \"ticks\": \"\"}}, \"marker\": {\"colorbar\": {\"outlinewidth\": 0, \"ticks\": \"\"}}, \"type\": \"scatter3d\"}], \"scattercarpet\": [{\"marker\": {\"colorbar\": {\"outlinewidth\": 0, \"ticks\": \"\"}}, \"type\": \"scattercarpet\"}], \"scattergeo\": [{\"marker\": {\"colorbar\": {\"outlinewidth\": 0, \"ticks\": \"\"}}, \"type\": \"scattergeo\"}], \"scattergl\": [{\"marker\": {\"colorbar\": {\"outlinewidth\": 0, \"ticks\": \"\"}}, \"type\": \"scattergl\"}], \"scattermapbox\": [{\"marker\": {\"colorbar\": {\"outlinewidth\": 0, \"ticks\": \"\"}}, \"type\": \"scattermapbox\"}], \"scatterpolar\": [{\"marker\": {\"colorbar\": {\"outlinewidth\": 0, \"ticks\": \"\"}}, \"type\": \"scatterpolar\"}], \"scatterpolargl\": [{\"marker\": {\"colorbar\": {\"outlinewidth\": 0, \"ticks\": \"\"}}, \"type\": \"scatterpolargl\"}], \"scatterternary\": [{\"marker\": {\"colorbar\": {\"outlinewidth\": 0, \"ticks\": \"\"}}, \"type\": \"scatterternary\"}], \"surface\": [{\"colorbar\": {\"outlinewidth\": 0, \"ticks\": \"\"}, \"colorscale\": [[0.0, \"#0d0887\"], [0.1111111111111111, \"#46039f\"], [0.2222222222222222, \"#7201a8\"], [0.3333333333333333, \"#9c179e\"], [0.4444444444444444, \"#bd3786\"], [0.5555555555555556, \"#d8576b\"], [0.6666666666666666, \"#ed7953\"], [0.7777777777777778, \"#fb9f3a\"], [0.8888888888888888, \"#fdca26\"], [1.0, \"#f0f921\"]], \"type\": \"surface\"}], \"table\": [{\"cells\": {\"fill\": {\"color\": \"#EBF0F8\"}, \"line\": {\"color\": \"white\"}}, \"header\": {\"fill\": {\"color\": \"#C8D4E3\"}, \"line\": {\"color\": \"white\"}}, \"type\": \"table\"}]}, \"layout\": {\"annotationdefaults\": {\"arrowcolor\": \"#2a3f5f\", \"arrowhead\": 0, \"arrowwidth\": 1}, \"coloraxis\": {\"colorbar\": {\"outlinewidth\": 0, \"ticks\": \"\"}}, \"colorscale\": {\"diverging\": [[0, \"#8e0152\"], [0.1, \"#c51b7d\"], [0.2, \"#de77ae\"], [0.3, \"#f1b6da\"], [0.4, \"#fde0ef\"], [0.5, \"#f7f7f7\"], [0.6, \"#e6f5d0\"], [0.7, \"#b8e186\"], [0.8, \"#7fbc41\"], [0.9, \"#4d9221\"], [1, \"#276419\"]], \"sequential\": [[0.0, \"#0d0887\"], [0.1111111111111111, \"#46039f\"], [0.2222222222222222, \"#7201a8\"], [0.3333333333333333, \"#9c179e\"], [0.4444444444444444, \"#bd3786\"], [0.5555555555555556, \"#d8576b\"], [0.6666666666666666, \"#ed7953\"], [0.7777777777777778, \"#fb9f3a\"], [0.8888888888888888, \"#fdca26\"], [1.0, \"#f0f921\"]], \"sequentialminus\": [[0.0, \"#0d0887\"], [0.1111111111111111, \"#46039f\"], [0.2222222222222222, \"#7201a8\"], [0.3333333333333333, \"#9c179e\"], [0.4444444444444444, \"#bd3786\"], [0.5555555555555556, \"#d8576b\"], [0.6666666666666666, \"#ed7953\"], [0.7777777777777778, \"#fb9f3a\"], [0.8888888888888888, \"#fdca26\"], [1.0, \"#f0f921\"]]}, \"colorway\": [\"#636efa\", \"#EF553B\", \"#00cc96\", \"#ab63fa\", \"#FFA15A\", \"#19d3f3\", \"#FF6692\", \"#B6E880\", \"#FF97FF\", \"#FECB52\"], \"font\": {\"color\": \"#2a3f5f\"}, \"geo\": {\"bgcolor\": \"white\", \"lakecolor\": \"white\", \"landcolor\": \"white\", \"showlakes\": true, \"showland\": true, \"subunitcolor\": \"#C8D4E3\"}, \"hoverlabel\": {\"align\": \"left\"}, \"hovermode\": \"closest\", \"mapbox\": {\"style\": \"light\"}, \"paper_bgcolor\": \"white\", \"plot_bgcolor\": \"white\", \"polar\": {\"angularaxis\": {\"gridcolor\": \"#EBF0F8\", \"linecolor\": \"#EBF0F8\", \"ticks\": \"\"}, \"bgcolor\": \"white\", \"radialaxis\": {\"gridcolor\": \"#EBF0F8\", \"linecolor\": \"#EBF0F8\", \"ticks\": \"\"}}, \"scene\": {\"xaxis\": {\"backgroundcolor\": \"white\", \"gridcolor\": \"#DFE8F3\", \"gridwidth\": 2, \"linecolor\": \"#EBF0F8\", \"showbackground\": true, \"ticks\": \"\", \"zerolinecolor\": \"#EBF0F8\"}, \"yaxis\": {\"backgroundcolor\": \"white\", \"gridcolor\": \"#DFE8F3\", \"gridwidth\": 2, \"linecolor\": \"#EBF0F8\", \"showbackground\": true, \"ticks\": \"\", \"zerolinecolor\": \"#EBF0F8\"}, \"zaxis\": {\"backgroundcolor\": \"white\", \"gridcolor\": \"#DFE8F3\", \"gridwidth\": 2, \"linecolor\": \"#EBF0F8\", \"showbackground\": true, \"ticks\": \"\", \"zerolinecolor\": \"#EBF0F8\"}}, \"shapedefaults\": {\"line\": {\"color\": \"#2a3f5f\"}}, \"ternary\": {\"aaxis\": {\"gridcolor\": \"#DFE8F3\", \"linecolor\": \"#A2B1C6\", \"ticks\": \"\"}, \"baxis\": {\"gridcolor\": \"#DFE8F3\", \"linecolor\": \"#A2B1C6\", \"ticks\": \"\"}, \"bgcolor\": \"white\", \"caxis\": {\"gridcolor\": \"#DFE8F3\", \"linecolor\": \"#A2B1C6\", \"ticks\": \"\"}}, \"title\": {\"x\": 0.05}, \"xaxis\": {\"automargin\": true, \"gridcolor\": \"#EBF0F8\", \"linecolor\": \"#EBF0F8\", \"ticks\": \"\", \"title\": {\"standoff\": 15}, \"zerolinecolor\": \"#EBF0F8\", \"zerolinewidth\": 2}, \"yaxis\": {\"automargin\": true, \"gridcolor\": \"#EBF0F8\", \"linecolor\": \"#EBF0F8\", \"ticks\": \"\", \"title\": {\"standoff\": 15}, \"zerolinecolor\": \"#EBF0F8\", \"zerolinewidth\": 2}}}, \"title\": {\"text\": \"Indonesia Covid Cases\"}, \"xaxis\": {\"title\": {\"text\": \"Date\"}}, \"yaxis\": {\"title\": {\"text\": \"Total Cases\"}}},\n",
              "                        {\"responsive\": true}\n",
              "                    ).then(function(){\n",
              "                            \n",
              "var gd = document.getElementById('dff650f8-5c63-409c-a90a-245e6ae84f0d');\n",
              "var x = new MutationObserver(function (mutations, observer) {{\n",
              "        var display = window.getComputedStyle(gd).display;\n",
              "        if (!display || display === 'none') {{\n",
              "            console.log([gd, 'removed!']);\n",
              "            Plotly.purge(gd);\n",
              "            observer.disconnect();\n",
              "        }}\n",
              "}});\n",
              "\n",
              "// Listen for the removal of the full notebook cells\n",
              "var notebookContainer = gd.closest('#notebook-container');\n",
              "if (notebookContainer) {{\n",
              "    x.observe(notebookContainer, {childList: true});\n",
              "}}\n",
              "\n",
              "// Listen for the clearing of the current output cell\n",
              "var outputEl = gd.closest('.output');\n",
              "if (outputEl) {{\n",
              "    x.observe(outputEl, {childList: true});\n",
              "}}\n",
              "\n",
              "                        })\n",
              "                };\n",
              "                \n",
              "            </script>\n",
              "        </div>\n",
              "</body>\n",
              "</html>"
            ]
          },
          "metadata": {
            "tags": []
          }
        }
      ]
    },
    {
      "cell_type": "code",
      "metadata": {
        "id": "6hPS06v0bypP",
        "outputId": "385211e8-ea60-4c4c-ef67-0f81f878fbea",
        "colab": {
          "base_uri": "https://localhost:8080/",
          "height": 542
        }
      },
      "source": [
        "# plot Active Cases\n",
        "fig = go.Figure(go.Bar(x=data_covid_total['Date'],\n",
        "                       y=data_covid_total['Total Active Cases'],\n",
        "                       marker_color='red'\n",
        "                      ))\n",
        "\n",
        "fig.update_layout(title='Indonesia Active Cases',\n",
        "                 template='plotly_white',\n",
        "                 xaxis_title='Date',\n",
        "                 yaxis_title='Total Cases'\n",
        "                 )\n",
        "\n",
        "fig.show()"
      ],
      "execution_count": 30,
      "outputs": [
        {
          "output_type": "display_data",
          "data": {
            "text/html": [
              "<html>\n",
              "<head><meta charset=\"utf-8\" /></head>\n",
              "<body>\n",
              "    <div>\n",
              "            <script src=\"https://cdnjs.cloudflare.com/ajax/libs/mathjax/2.7.5/MathJax.js?config=TeX-AMS-MML_SVG\"></script><script type=\"text/javascript\">if (window.MathJax) {MathJax.Hub.Config({SVG: {font: \"STIX-Web\"}});}</script>\n",
              "                <script type=\"text/javascript\">window.PlotlyConfig = {MathJaxConfig: 'local'};</script>\n",
              "        <script src=\"https://cdn.plot.ly/plotly-latest.min.js\"></script>    \n",
              "            <div id=\"4df390e8-d16a-44ee-9288-529a1d8daff9\" class=\"plotly-graph-div\" style=\"height:525px; width:100%;\"></div>\n",
              "            <script type=\"text/javascript\">\n",
              "                \n",
              "                    window.PLOTLYENV=window.PLOTLYENV || {};\n",
              "                    \n",
              "                if (document.getElementById(\"4df390e8-d16a-44ee-9288-529a1d8daff9\")) {\n",
              "                    Plotly.newPlot(\n",
              "                        '4df390e8-d16a-44ee-9288-529a1d8daff9',\n",
              "                        [{\"marker\": {\"color\": \"red\"}, \"type\": \"bar\", \"x\": [\"2020-03-02T00:00:00\", \"2020-03-03T00:00:00\", \"2020-03-04T00:00:00\", \"2020-03-05T00:00:00\", \"2020-03-06T00:00:00\", \"2020-03-07T00:00:00\", \"2020-03-08T00:00:00\", \"2020-03-09T00:00:00\", \"2020-03-10T00:00:00\", \"2020-03-11T00:00:00\", \"2020-03-12T00:00:00\", \"2020-03-13T00:00:00\", \"2020-03-14T00:00:00\", \"2020-03-15T00:00:00\", \"2020-03-16T00:00:00\", \"2020-03-17T00:00:00\", \"2020-03-18T00:00:00\", \"2020-03-19T00:00:00\", \"2020-03-20T00:00:00\", \"2020-03-21T00:00:00\", \"2020-03-22T00:00:00\", \"2020-03-23T00:00:00\", \"2020-03-24T00:00:00\", \"2020-03-25T00:00:00\", \"2020-03-26T00:00:00\", \"2020-03-27T00:00:00\", \"2020-03-28T00:00:00\", \"2020-03-29T00:00:00\", \"2020-03-30T00:00:00\", \"2020-03-31T00:00:00\", \"2020-04-01T00:00:00\", \"2020-04-02T00:00:00\", \"2020-04-03T00:00:00\", \"2020-04-04T00:00:00\", \"2020-04-05T00:00:00\", \"2020-04-06T00:00:00\", \"2020-04-07T00:00:00\", \"2020-04-08T00:00:00\", \"2020-04-09T00:00:00\", \"2020-04-10T00:00:00\", \"2020-04-11T00:00:00\", \"2020-04-12T00:00:00\", \"2020-04-13T00:00:00\", \"2020-04-14T00:00:00\", \"2020-04-15T00:00:00\", \"2020-04-16T00:00:00\", \"2020-04-17T00:00:00\", \"2020-04-18T00:00:00\", \"2020-04-19T00:00:00\", \"2020-04-20T00:00:00\", \"2020-04-21T00:00:00\", \"2020-04-22T00:00:00\", \"2020-04-23T00:00:00\", \"2020-04-24T00:00:00\", \"2020-04-25T00:00:00\", \"2020-04-26T00:00:00\", \"2020-04-27T00:00:00\", \"2020-04-28T00:00:00\", \"2020-04-29T00:00:00\", \"2020-04-30T00:00:00\", \"2020-05-01T00:00:00\", \"2020-05-02T00:00:00\", \"2020-05-03T00:00:00\", \"2020-05-04T00:00:00\", \"2020-05-05T00:00:00\", \"2020-05-06T00:00:00\", \"2020-05-07T00:00:00\", \"2020-05-08T00:00:00\", \"2020-05-09T00:00:00\", \"2020-05-10T00:00:00\", \"2020-05-11T00:00:00\", \"2020-05-12T00:00:00\", \"2020-05-13T00:00:00\", \"2020-05-14T00:00:00\", \"2020-05-15T00:00:00\", \"2020-05-16T00:00:00\", \"2020-05-17T00:00:00\", \"2020-05-18T00:00:00\", \"2020-05-19T00:00:00\", \"2020-05-20T00:00:00\", \"2020-05-21T00:00:00\", \"2020-05-22T00:00:00\", \"2020-05-23T00:00:00\", \"2020-05-24T00:00:00\", \"2020-05-25T00:00:00\", \"2020-05-26T00:00:00\", \"2020-05-27T00:00:00\", \"2020-05-28T00:00:00\", \"2020-05-29T00:00:00\", \"2020-05-30T00:00:00\", \"2020-05-31T00:00:00\", \"2020-06-01T00:00:00\", \"2020-06-02T00:00:00\", \"2020-06-03T00:00:00\", \"2020-06-04T00:00:00\", \"2020-06-05T00:00:00\", \"2020-06-06T00:00:00\", \"2020-06-07T00:00:00\", \"2020-06-08T00:00:00\", \"2020-06-09T00:00:00\", \"2020-06-10T00:00:00\", \"2020-06-11T00:00:00\", \"2020-06-12T00:00:00\", \"2020-06-13T00:00:00\", \"2020-06-14T00:00:00\", \"2020-06-15T00:00:00\", \"2020-06-16T00:00:00\", \"2020-06-17T00:00:00\", \"2020-06-18T00:00:00\", \"2020-06-19T00:00:00\", \"2020-06-20T00:00:00\", \"2020-06-21T00:00:00\", \"2020-06-22T00:00:00\", \"2020-06-23T00:00:00\", \"2020-06-24T00:00:00\", \"2020-06-25T00:00:00\", \"2020-06-26T00:00:00\", \"2020-06-27T00:00:00\", \"2020-06-28T00:00:00\", \"2020-06-29T00:00:00\", \"2020-06-30T00:00:00\", \"2020-07-01T00:00:00\", \"2020-07-02T00:00:00\", \"2020-07-03T00:00:00\", \"2020-07-04T00:00:00\", \"2020-07-05T00:00:00\", \"2020-07-06T00:00:00\", \"2020-07-07T00:00:00\", \"2020-07-08T00:00:00\", \"2020-07-09T00:00:00\", \"2020-07-10T00:00:00\", \"2020-07-11T00:00:00\", \"2020-07-12T00:00:00\", \"2020-07-13T00:00:00\", \"2020-07-14T00:00:00\", \"2020-07-15T00:00:00\", \"2020-07-16T00:00:00\", \"2020-07-17T00:00:00\", \"2020-07-18T00:00:00\", \"2020-07-19T00:00:00\", \"2020-07-20T00:00:00\", \"2020-07-21T00:00:00\", \"2020-07-22T00:00:00\", \"2020-07-23T00:00:00\", \"2020-07-24T00:00:00\", \"2020-07-25T00:00:00\", \"2020-07-26T00:00:00\", \"2020-07-27T00:00:00\", \"2020-07-28T00:00:00\", \"2020-07-29T00:00:00\", \"2020-07-30T00:00:00\", \"2020-07-31T00:00:00\", \"2020-08-01T00:00:00\", \"2020-08-02T00:00:00\", \"2020-08-03T00:00:00\", \"2020-08-04T00:00:00\", \"2020-08-05T00:00:00\", \"2020-08-06T00:00:00\", \"2020-08-07T00:00:00\", \"2020-08-08T00:00:00\", \"2020-08-09T00:00:00\", \"2020-08-10T00:00:00\", \"2020-08-11T00:00:00\", \"2020-08-12T00:00:00\", \"2020-08-13T00:00:00\", \"2020-08-14T00:00:00\", \"2020-08-15T00:00:00\", \"2020-08-16T00:00:00\", \"2020-08-17T00:00:00\", \"2020-08-18T00:00:00\", \"2020-08-19T00:00:00\", \"2020-08-20T00:00:00\", \"2020-08-21T00:00:00\", \"2020-08-22T00:00:00\", \"2020-08-23T00:00:00\", \"2020-08-24T00:00:00\", \"2020-08-25T00:00:00\", \"2020-08-26T00:00:00\", \"2020-08-27T00:00:00\", \"2020-08-28T00:00:00\", \"2020-08-29T00:00:00\", \"2020-08-30T00:00:00\", \"2020-08-31T00:00:00\", \"2020-09-01T00:00:00\", \"2020-09-02T00:00:00\", \"2020-09-03T00:00:00\", \"2020-09-04T00:00:00\", \"2020-09-05T00:00:00\", \"2020-09-06T00:00:00\", \"2020-09-07T00:00:00\", \"2020-09-08T00:00:00\", \"2020-09-09T00:00:00\", \"2020-09-10T00:00:00\", \"2020-09-11T00:00:00\", \"2020-09-12T00:00:00\", \"2020-09-13T00:00:00\", \"2020-09-14T00:00:00\", \"2020-09-15T00:00:00\", \"2020-09-16T00:00:00\", \"2020-09-17T00:00:00\", \"2020-09-18T00:00:00\", \"2020-09-19T00:00:00\", \"2020-09-20T00:00:00\", \"2020-09-21T00:00:00\", \"2020-09-22T00:00:00\", \"2020-09-23T00:00:00\", \"2020-09-24T00:00:00\", \"2020-09-25T00:00:00\", \"2020-09-26T00:00:00\", \"2020-09-27T00:00:00\", \"2020-09-28T00:00:00\", \"2020-09-29T00:00:00\", \"2020-09-30T00:00:00\", \"2020-10-01T00:00:00\", \"2020-10-02T00:00:00\", \"2020-10-03T00:00:00\", \"2020-10-04T00:00:00\", \"2020-10-05T00:00:00\", \"2020-10-06T00:00:00\", \"2020-10-07T00:00:00\", \"2020-10-08T00:00:00\", \"2020-10-09T00:00:00\", \"2020-10-10T00:00:00\", \"2020-10-11T00:00:00\"], \"y\": [2, 2, 2, 2, 4, 4, 6, 19, 25, 31, 31, 63, 83, 104, 121, 158, 197, 269, 320, 392, 437, 500, 600, 701, 780, 913, 994, 1107, 1217, 1311, 1417, 1508, 1671, 1751, 1911, 2090, 2313, 2494, 2761, 2924, 3229, 3509, 3778, 3954, 4221, 4472, 4796, 5082, 5307, 5423, 5677, 5870, 6168, 6520, 6845, 7032, 7180, 7484, 7596, 7804, 8160, 8347, 8471, 8769, 9002, 9226, 9465, 9675, 10079, 10361, 10393, 10679, 11123, 11445, 11617, 12025, 12237, 12495, 12808, 13372, 14046, 14413, 15145, 15497, 15717, 15870, 16321, 16802, 17204, 17185, 17552, 17662, 17951, 18129, 18205, 18308, 18806, 18837, 19246, 19738, 20228, 20659, 21145, 21553, 21612, 21973, 22466, 22912, 23625, 24081, 24717, 25022, 25610, 26120, 26778, 27118, 27411, 28183, 28320, 28487, 28703, 29241, 29740, 30091, 30834, 31473, 31798, 32132, 33135, 34668, 35349, 35764, 36455, 36636, 37226, 37247, 37450, 37339, 37598, 36977, 36998, 37083, 37037, 36917, 36808, 37218, 37342, 37292, 36611, 37319, 36986, 37338, 36824, 37244, 37595, 37618, 37530, 37587, 38076, 38539, 38721, 39082, 39242, 39017, 39290, 39484, 40076, 40296, 40705, 40460, 39942, 40119, 39917, 39706, 39355, 37593, 38134, 37812, 37245, 37818, 39132, 40525, 41420, 42009, 43059, 44463, 45524, 46324, 47509, 48207, 48847, 49806, 51237, 52179, 53638, 54649, 54277, 55000, 55792, 56720, 56409, 56889, 57796, 58378, 58788, 59453, 60064, 60431, 61628, 61813, 61379, 61686, 61321, 61839, 63187, 63399, 63894, 63274, 63365, 63951, 64924, 65314, 65706, 66578]}],\n",
              "                        {\"template\": {\"data\": {\"bar\": [{\"error_x\": {\"color\": \"#2a3f5f\"}, \"error_y\": {\"color\": \"#2a3f5f\"}, \"marker\": {\"line\": {\"color\": \"white\", \"width\": 0.5}}, \"type\": \"bar\"}], \"barpolar\": [{\"marker\": {\"line\": {\"color\": \"white\", \"width\": 0.5}}, \"type\": \"barpolar\"}], \"carpet\": [{\"aaxis\": {\"endlinecolor\": \"#2a3f5f\", \"gridcolor\": \"#C8D4E3\", \"linecolor\": \"#C8D4E3\", \"minorgridcolor\": \"#C8D4E3\", \"startlinecolor\": \"#2a3f5f\"}, \"baxis\": {\"endlinecolor\": \"#2a3f5f\", \"gridcolor\": \"#C8D4E3\", \"linecolor\": \"#C8D4E3\", \"minorgridcolor\": \"#C8D4E3\", \"startlinecolor\": \"#2a3f5f\"}, \"type\": \"carpet\"}], \"choropleth\": [{\"colorbar\": {\"outlinewidth\": 0, \"ticks\": \"\"}, \"type\": \"choropleth\"}], \"contour\": [{\"colorbar\": {\"outlinewidth\": 0, \"ticks\": \"\"}, \"colorscale\": [[0.0, \"#0d0887\"], [0.1111111111111111, \"#46039f\"], [0.2222222222222222, \"#7201a8\"], [0.3333333333333333, \"#9c179e\"], [0.4444444444444444, \"#bd3786\"], [0.5555555555555556, \"#d8576b\"], [0.6666666666666666, \"#ed7953\"], [0.7777777777777778, \"#fb9f3a\"], [0.8888888888888888, \"#fdca26\"], [1.0, \"#f0f921\"]], \"type\": \"contour\"}], \"contourcarpet\": [{\"colorbar\": {\"outlinewidth\": 0, \"ticks\": \"\"}, \"type\": \"contourcarpet\"}], \"heatmap\": [{\"colorbar\": {\"outlinewidth\": 0, \"ticks\": \"\"}, \"colorscale\": [[0.0, \"#0d0887\"], [0.1111111111111111, \"#46039f\"], [0.2222222222222222, \"#7201a8\"], [0.3333333333333333, \"#9c179e\"], [0.4444444444444444, \"#bd3786\"], [0.5555555555555556, \"#d8576b\"], [0.6666666666666666, \"#ed7953\"], [0.7777777777777778, \"#fb9f3a\"], [0.8888888888888888, \"#fdca26\"], [1.0, \"#f0f921\"]], \"type\": \"heatmap\"}], \"heatmapgl\": [{\"colorbar\": {\"outlinewidth\": 0, \"ticks\": \"\"}, \"colorscale\": [[0.0, \"#0d0887\"], [0.1111111111111111, \"#46039f\"], [0.2222222222222222, \"#7201a8\"], [0.3333333333333333, \"#9c179e\"], [0.4444444444444444, \"#bd3786\"], [0.5555555555555556, \"#d8576b\"], [0.6666666666666666, \"#ed7953\"], [0.7777777777777778, \"#fb9f3a\"], [0.8888888888888888, \"#fdca26\"], [1.0, \"#f0f921\"]], \"type\": \"heatmapgl\"}], \"histogram\": [{\"marker\": {\"colorbar\": {\"outlinewidth\": 0, \"ticks\": \"\"}}, \"type\": \"histogram\"}], \"histogram2d\": [{\"colorbar\": {\"outlinewidth\": 0, \"ticks\": \"\"}, \"colorscale\": [[0.0, \"#0d0887\"], [0.1111111111111111, \"#46039f\"], [0.2222222222222222, \"#7201a8\"], [0.3333333333333333, \"#9c179e\"], [0.4444444444444444, \"#bd3786\"], [0.5555555555555556, \"#d8576b\"], [0.6666666666666666, \"#ed7953\"], [0.7777777777777778, \"#fb9f3a\"], [0.8888888888888888, \"#fdca26\"], [1.0, \"#f0f921\"]], \"type\": \"histogram2d\"}], \"histogram2dcontour\": [{\"colorbar\": {\"outlinewidth\": 0, \"ticks\": \"\"}, \"colorscale\": [[0.0, \"#0d0887\"], [0.1111111111111111, \"#46039f\"], [0.2222222222222222, \"#7201a8\"], [0.3333333333333333, \"#9c179e\"], [0.4444444444444444, \"#bd3786\"], [0.5555555555555556, \"#d8576b\"], [0.6666666666666666, \"#ed7953\"], [0.7777777777777778, \"#fb9f3a\"], [0.8888888888888888, \"#fdca26\"], [1.0, \"#f0f921\"]], \"type\": \"histogram2dcontour\"}], \"mesh3d\": [{\"colorbar\": {\"outlinewidth\": 0, \"ticks\": \"\"}, \"type\": \"mesh3d\"}], \"parcoords\": [{\"line\": {\"colorbar\": {\"outlinewidth\": 0, \"ticks\": \"\"}}, \"type\": \"parcoords\"}], \"pie\": [{\"automargin\": true, \"type\": \"pie\"}], \"scatter\": [{\"marker\": {\"colorbar\": {\"outlinewidth\": 0, \"ticks\": \"\"}}, \"type\": \"scatter\"}], \"scatter3d\": [{\"line\": {\"colorbar\": {\"outlinewidth\": 0, \"ticks\": \"\"}}, \"marker\": {\"colorbar\": {\"outlinewidth\": 0, \"ticks\": \"\"}}, \"type\": \"scatter3d\"}], \"scattercarpet\": [{\"marker\": {\"colorbar\": {\"outlinewidth\": 0, \"ticks\": \"\"}}, \"type\": \"scattercarpet\"}], \"scattergeo\": [{\"marker\": {\"colorbar\": {\"outlinewidth\": 0, \"ticks\": \"\"}}, \"type\": \"scattergeo\"}], \"scattergl\": [{\"marker\": {\"colorbar\": {\"outlinewidth\": 0, \"ticks\": \"\"}}, \"type\": \"scattergl\"}], \"scattermapbox\": [{\"marker\": {\"colorbar\": {\"outlinewidth\": 0, \"ticks\": \"\"}}, \"type\": \"scattermapbox\"}], \"scatterpolar\": [{\"marker\": {\"colorbar\": {\"outlinewidth\": 0, \"ticks\": \"\"}}, \"type\": \"scatterpolar\"}], \"scatterpolargl\": [{\"marker\": {\"colorbar\": {\"outlinewidth\": 0, \"ticks\": \"\"}}, \"type\": \"scatterpolargl\"}], \"scatterternary\": [{\"marker\": {\"colorbar\": {\"outlinewidth\": 0, \"ticks\": \"\"}}, \"type\": \"scatterternary\"}], \"surface\": [{\"colorbar\": {\"outlinewidth\": 0, \"ticks\": \"\"}, \"colorscale\": [[0.0, \"#0d0887\"], [0.1111111111111111, \"#46039f\"], [0.2222222222222222, \"#7201a8\"], [0.3333333333333333, \"#9c179e\"], [0.4444444444444444, \"#bd3786\"], [0.5555555555555556, \"#d8576b\"], [0.6666666666666666, \"#ed7953\"], [0.7777777777777778, \"#fb9f3a\"], [0.8888888888888888, \"#fdca26\"], [1.0, \"#f0f921\"]], \"type\": \"surface\"}], \"table\": [{\"cells\": {\"fill\": {\"color\": \"#EBF0F8\"}, \"line\": {\"color\": \"white\"}}, \"header\": {\"fill\": {\"color\": \"#C8D4E3\"}, \"line\": {\"color\": \"white\"}}, \"type\": \"table\"}]}, \"layout\": {\"annotationdefaults\": {\"arrowcolor\": \"#2a3f5f\", \"arrowhead\": 0, \"arrowwidth\": 1}, \"coloraxis\": {\"colorbar\": {\"outlinewidth\": 0, \"ticks\": \"\"}}, \"colorscale\": {\"diverging\": [[0, \"#8e0152\"], [0.1, \"#c51b7d\"], [0.2, \"#de77ae\"], [0.3, \"#f1b6da\"], [0.4, \"#fde0ef\"], [0.5, \"#f7f7f7\"], [0.6, \"#e6f5d0\"], [0.7, \"#b8e186\"], [0.8, \"#7fbc41\"], [0.9, \"#4d9221\"], [1, \"#276419\"]], \"sequential\": [[0.0, \"#0d0887\"], [0.1111111111111111, \"#46039f\"], [0.2222222222222222, \"#7201a8\"], [0.3333333333333333, \"#9c179e\"], [0.4444444444444444, \"#bd3786\"], [0.5555555555555556, \"#d8576b\"], [0.6666666666666666, \"#ed7953\"], [0.7777777777777778, \"#fb9f3a\"], [0.8888888888888888, \"#fdca26\"], [1.0, \"#f0f921\"]], \"sequentialminus\": [[0.0, \"#0d0887\"], [0.1111111111111111, \"#46039f\"], [0.2222222222222222, \"#7201a8\"], [0.3333333333333333, \"#9c179e\"], [0.4444444444444444, \"#bd3786\"], [0.5555555555555556, \"#d8576b\"], [0.6666666666666666, \"#ed7953\"], [0.7777777777777778, \"#fb9f3a\"], [0.8888888888888888, \"#fdca26\"], [1.0, \"#f0f921\"]]}, \"colorway\": [\"#636efa\", \"#EF553B\", \"#00cc96\", \"#ab63fa\", \"#FFA15A\", \"#19d3f3\", \"#FF6692\", \"#B6E880\", \"#FF97FF\", \"#FECB52\"], \"font\": {\"color\": \"#2a3f5f\"}, \"geo\": {\"bgcolor\": \"white\", \"lakecolor\": \"white\", \"landcolor\": \"white\", \"showlakes\": true, \"showland\": true, \"subunitcolor\": \"#C8D4E3\"}, \"hoverlabel\": {\"align\": \"left\"}, \"hovermode\": \"closest\", \"mapbox\": {\"style\": \"light\"}, \"paper_bgcolor\": \"white\", \"plot_bgcolor\": \"white\", \"polar\": {\"angularaxis\": {\"gridcolor\": \"#EBF0F8\", \"linecolor\": \"#EBF0F8\", \"ticks\": \"\"}, \"bgcolor\": \"white\", \"radialaxis\": {\"gridcolor\": \"#EBF0F8\", \"linecolor\": \"#EBF0F8\", \"ticks\": \"\"}}, \"scene\": {\"xaxis\": {\"backgroundcolor\": \"white\", \"gridcolor\": \"#DFE8F3\", \"gridwidth\": 2, \"linecolor\": \"#EBF0F8\", \"showbackground\": true, \"ticks\": \"\", \"zerolinecolor\": \"#EBF0F8\"}, \"yaxis\": {\"backgroundcolor\": \"white\", \"gridcolor\": \"#DFE8F3\", \"gridwidth\": 2, \"linecolor\": \"#EBF0F8\", \"showbackground\": true, \"ticks\": \"\", \"zerolinecolor\": \"#EBF0F8\"}, \"zaxis\": {\"backgroundcolor\": \"white\", \"gridcolor\": \"#DFE8F3\", \"gridwidth\": 2, \"linecolor\": \"#EBF0F8\", \"showbackground\": true, \"ticks\": \"\", \"zerolinecolor\": \"#EBF0F8\"}}, \"shapedefaults\": {\"line\": {\"color\": \"#2a3f5f\"}}, \"ternary\": {\"aaxis\": {\"gridcolor\": \"#DFE8F3\", \"linecolor\": \"#A2B1C6\", \"ticks\": \"\"}, \"baxis\": {\"gridcolor\": \"#DFE8F3\", \"linecolor\": \"#A2B1C6\", \"ticks\": \"\"}, \"bgcolor\": \"white\", \"caxis\": {\"gridcolor\": \"#DFE8F3\", \"linecolor\": \"#A2B1C6\", \"ticks\": \"\"}}, \"title\": {\"x\": 0.05}, \"xaxis\": {\"automargin\": true, \"gridcolor\": \"#EBF0F8\", \"linecolor\": \"#EBF0F8\", \"ticks\": \"\", \"title\": {\"standoff\": 15}, \"zerolinecolor\": \"#EBF0F8\", \"zerolinewidth\": 2}, \"yaxis\": {\"automargin\": true, \"gridcolor\": \"#EBF0F8\", \"linecolor\": \"#EBF0F8\", \"ticks\": \"\", \"title\": {\"standoff\": 15}, \"zerolinecolor\": \"#EBF0F8\", \"zerolinewidth\": 2}}}, \"title\": {\"text\": \"Indonesia Active Cases\"}, \"xaxis\": {\"title\": {\"text\": \"Date\"}}, \"yaxis\": {\"title\": {\"text\": \"Total Cases\"}}},\n",
              "                        {\"responsive\": true}\n",
              "                    ).then(function(){\n",
              "                            \n",
              "var gd = document.getElementById('4df390e8-d16a-44ee-9288-529a1d8daff9');\n",
              "var x = new MutationObserver(function (mutations, observer) {{\n",
              "        var display = window.getComputedStyle(gd).display;\n",
              "        if (!display || display === 'none') {{\n",
              "            console.log([gd, 'removed!']);\n",
              "            Plotly.purge(gd);\n",
              "            observer.disconnect();\n",
              "        }}\n",
              "}});\n",
              "\n",
              "// Listen for the removal of the full notebook cells\n",
              "var notebookContainer = gd.closest('#notebook-container');\n",
              "if (notebookContainer) {{\n",
              "    x.observe(notebookContainer, {childList: true});\n",
              "}}\n",
              "\n",
              "// Listen for the clearing of the current output cell\n",
              "var outputEl = gd.closest('.output');\n",
              "if (outputEl) {{\n",
              "    x.observe(outputEl, {childList: true});\n",
              "}}\n",
              "\n",
              "                        })\n",
              "                };\n",
              "                \n",
              "            </script>\n",
              "        </div>\n",
              "</body>\n",
              "</html>"
            ]
          },
          "metadata": {
            "tags": []
          }
        }
      ]
    },
    {
      "cell_type": "code",
      "metadata": {
        "id": "5CM0WRgfb11c",
        "outputId": "789f710f-ed73-4e84-f395-c6fb8a31165b",
        "colab": {
          "base_uri": "https://localhost:8080/",
          "height": 542
        }
      },
      "source": [
        "# plot Death Cases\n",
        "fig = go.Figure(go.Bar(x=data_covid_total['Date'],\n",
        "                       y=data_covid_total['Total Deaths'],\n",
        "                       marker_color='black'\n",
        "                      ))\n",
        "fig.update_layout(title='Indonesia Death Cases',\n",
        "                  template='plotly_white',\n",
        "                  xaxis_title='Date',\n",
        "                  yaxis_title='Total Cases'\n",
        "                 )\n",
        "fig.show()"
      ],
      "execution_count": 31,
      "outputs": [
        {
          "output_type": "display_data",
          "data": {
            "text/html": [
              "<html>\n",
              "<head><meta charset=\"utf-8\" /></head>\n",
              "<body>\n",
              "    <div>\n",
              "            <script src=\"https://cdnjs.cloudflare.com/ajax/libs/mathjax/2.7.5/MathJax.js?config=TeX-AMS-MML_SVG\"></script><script type=\"text/javascript\">if (window.MathJax) {MathJax.Hub.Config({SVG: {font: \"STIX-Web\"}});}</script>\n",
              "                <script type=\"text/javascript\">window.PlotlyConfig = {MathJaxConfig: 'local'};</script>\n",
              "        <script src=\"https://cdn.plot.ly/plotly-latest.min.js\"></script>    \n",
              "            <div id=\"5835d497-dcf2-404a-883b-ae35bbe16461\" class=\"plotly-graph-div\" style=\"height:525px; width:100%;\"></div>\n",
              "            <script type=\"text/javascript\">\n",
              "                \n",
              "                    window.PLOTLYENV=window.PLOTLYENV || {};\n",
              "                    \n",
              "                if (document.getElementById(\"5835d497-dcf2-404a-883b-ae35bbe16461\")) {\n",
              "                    Plotly.newPlot(\n",
              "                        '5835d497-dcf2-404a-883b-ae35bbe16461',\n",
              "                        [{\"marker\": {\"color\": \"black\"}, \"type\": \"bar\", \"x\": [\"2020-03-02T00:00:00\", \"2020-03-03T00:00:00\", \"2020-03-04T00:00:00\", \"2020-03-05T00:00:00\", \"2020-03-06T00:00:00\", \"2020-03-07T00:00:00\", \"2020-03-08T00:00:00\", \"2020-03-09T00:00:00\", \"2020-03-10T00:00:00\", \"2020-03-11T00:00:00\", \"2020-03-12T00:00:00\", \"2020-03-13T00:00:00\", \"2020-03-14T00:00:00\", \"2020-03-15T00:00:00\", \"2020-03-16T00:00:00\", \"2020-03-17T00:00:00\", \"2020-03-18T00:00:00\", \"2020-03-19T00:00:00\", \"2020-03-20T00:00:00\", \"2020-03-21T00:00:00\", \"2020-03-22T00:00:00\", \"2020-03-23T00:00:00\", \"2020-03-24T00:00:00\", \"2020-03-25T00:00:00\", \"2020-03-26T00:00:00\", \"2020-03-27T00:00:00\", \"2020-03-28T00:00:00\", \"2020-03-29T00:00:00\", \"2020-03-30T00:00:00\", \"2020-03-31T00:00:00\", \"2020-04-01T00:00:00\", \"2020-04-02T00:00:00\", \"2020-04-03T00:00:00\", \"2020-04-04T00:00:00\", \"2020-04-05T00:00:00\", \"2020-04-06T00:00:00\", \"2020-04-07T00:00:00\", \"2020-04-08T00:00:00\", \"2020-04-09T00:00:00\", \"2020-04-10T00:00:00\", \"2020-04-11T00:00:00\", \"2020-04-12T00:00:00\", \"2020-04-13T00:00:00\", \"2020-04-14T00:00:00\", \"2020-04-15T00:00:00\", \"2020-04-16T00:00:00\", \"2020-04-17T00:00:00\", \"2020-04-18T00:00:00\", \"2020-04-19T00:00:00\", \"2020-04-20T00:00:00\", \"2020-04-21T00:00:00\", \"2020-04-22T00:00:00\", \"2020-04-23T00:00:00\", \"2020-04-24T00:00:00\", \"2020-04-25T00:00:00\", \"2020-04-26T00:00:00\", \"2020-04-27T00:00:00\", \"2020-04-28T00:00:00\", \"2020-04-29T00:00:00\", \"2020-04-30T00:00:00\", \"2020-05-01T00:00:00\", \"2020-05-02T00:00:00\", \"2020-05-03T00:00:00\", \"2020-05-04T00:00:00\", \"2020-05-05T00:00:00\", \"2020-05-06T00:00:00\", \"2020-05-07T00:00:00\", \"2020-05-08T00:00:00\", \"2020-05-09T00:00:00\", \"2020-05-10T00:00:00\", \"2020-05-11T00:00:00\", \"2020-05-12T00:00:00\", \"2020-05-13T00:00:00\", \"2020-05-14T00:00:00\", \"2020-05-15T00:00:00\", \"2020-05-16T00:00:00\", \"2020-05-17T00:00:00\", \"2020-05-18T00:00:00\", \"2020-05-19T00:00:00\", \"2020-05-20T00:00:00\", \"2020-05-21T00:00:00\", \"2020-05-22T00:00:00\", \"2020-05-23T00:00:00\", \"2020-05-24T00:00:00\", \"2020-05-25T00:00:00\", \"2020-05-26T00:00:00\", \"2020-05-27T00:00:00\", \"2020-05-28T00:00:00\", \"2020-05-29T00:00:00\", \"2020-05-30T00:00:00\", \"2020-05-31T00:00:00\", \"2020-06-01T00:00:00\", \"2020-06-02T00:00:00\", \"2020-06-03T00:00:00\", \"2020-06-04T00:00:00\", \"2020-06-05T00:00:00\", \"2020-06-06T00:00:00\", \"2020-06-07T00:00:00\", \"2020-06-08T00:00:00\", \"2020-06-09T00:00:00\", \"2020-06-10T00:00:00\", \"2020-06-11T00:00:00\", \"2020-06-12T00:00:00\", \"2020-06-13T00:00:00\", \"2020-06-14T00:00:00\", \"2020-06-15T00:00:00\", \"2020-06-16T00:00:00\", \"2020-06-17T00:00:00\", \"2020-06-18T00:00:00\", \"2020-06-19T00:00:00\", \"2020-06-20T00:00:00\", \"2020-06-21T00:00:00\", \"2020-06-22T00:00:00\", \"2020-06-23T00:00:00\", \"2020-06-24T00:00:00\", \"2020-06-25T00:00:00\", \"2020-06-26T00:00:00\", \"2020-06-27T00:00:00\", \"2020-06-28T00:00:00\", \"2020-06-29T00:00:00\", \"2020-06-30T00:00:00\", \"2020-07-01T00:00:00\", \"2020-07-02T00:00:00\", \"2020-07-03T00:00:00\", \"2020-07-04T00:00:00\", \"2020-07-05T00:00:00\", \"2020-07-06T00:00:00\", \"2020-07-07T00:00:00\", \"2020-07-08T00:00:00\", \"2020-07-09T00:00:00\", \"2020-07-10T00:00:00\", \"2020-07-11T00:00:00\", \"2020-07-12T00:00:00\", \"2020-07-13T00:00:00\", \"2020-07-14T00:00:00\", \"2020-07-15T00:00:00\", \"2020-07-16T00:00:00\", \"2020-07-17T00:00:00\", \"2020-07-18T00:00:00\", \"2020-07-19T00:00:00\", \"2020-07-20T00:00:00\", \"2020-07-21T00:00:00\", \"2020-07-22T00:00:00\", \"2020-07-23T00:00:00\", \"2020-07-24T00:00:00\", \"2020-07-25T00:00:00\", \"2020-07-26T00:00:00\", \"2020-07-27T00:00:00\", \"2020-07-28T00:00:00\", \"2020-07-29T00:00:00\", \"2020-07-30T00:00:00\", \"2020-07-31T00:00:00\", \"2020-08-01T00:00:00\", \"2020-08-02T00:00:00\", \"2020-08-03T00:00:00\", \"2020-08-04T00:00:00\", \"2020-08-05T00:00:00\", \"2020-08-06T00:00:00\", \"2020-08-07T00:00:00\", \"2020-08-08T00:00:00\", \"2020-08-09T00:00:00\", \"2020-08-10T00:00:00\", \"2020-08-11T00:00:00\", \"2020-08-12T00:00:00\", \"2020-08-13T00:00:00\", \"2020-08-14T00:00:00\", \"2020-08-15T00:00:00\", \"2020-08-16T00:00:00\", \"2020-08-17T00:00:00\", \"2020-08-18T00:00:00\", \"2020-08-19T00:00:00\", \"2020-08-20T00:00:00\", \"2020-08-21T00:00:00\", \"2020-08-22T00:00:00\", \"2020-08-23T00:00:00\", \"2020-08-24T00:00:00\", \"2020-08-25T00:00:00\", \"2020-08-26T00:00:00\", \"2020-08-27T00:00:00\", \"2020-08-28T00:00:00\", \"2020-08-29T00:00:00\", \"2020-08-30T00:00:00\", \"2020-08-31T00:00:00\", \"2020-09-01T00:00:00\", \"2020-09-02T00:00:00\", \"2020-09-03T00:00:00\", \"2020-09-04T00:00:00\", \"2020-09-05T00:00:00\", \"2020-09-06T00:00:00\", \"2020-09-07T00:00:00\", \"2020-09-08T00:00:00\", \"2020-09-09T00:00:00\", \"2020-09-10T00:00:00\", \"2020-09-11T00:00:00\", \"2020-09-12T00:00:00\", \"2020-09-13T00:00:00\", \"2020-09-14T00:00:00\", \"2020-09-15T00:00:00\", \"2020-09-16T00:00:00\", \"2020-09-17T00:00:00\", \"2020-09-18T00:00:00\", \"2020-09-19T00:00:00\", \"2020-09-20T00:00:00\", \"2020-09-21T00:00:00\", \"2020-09-22T00:00:00\", \"2020-09-23T00:00:00\", \"2020-09-24T00:00:00\", \"2020-09-25T00:00:00\", \"2020-09-26T00:00:00\", \"2020-09-27T00:00:00\", \"2020-09-28T00:00:00\", \"2020-09-29T00:00:00\", \"2020-09-30T00:00:00\", \"2020-10-01T00:00:00\", \"2020-10-02T00:00:00\", \"2020-10-03T00:00:00\", \"2020-10-04T00:00:00\", \"2020-10-05T00:00:00\", \"2020-10-06T00:00:00\", \"2020-10-07T00:00:00\", \"2020-10-08T00:00:00\", \"2020-10-09T00:00:00\", \"2020-10-10T00:00:00\", \"2020-10-11T00:00:00\"], \"y\": [0, 0, 0, 0, 0, 0, 0, 0, 0, 1, 1, 4, 5, 5, 5, 5, 19, 25, 32, 38, 48, 49, 55, 58, 78, 87, 102, 114, 122, 136, 157, 170, 181, 191, 198, 209, 221, 240, 280, 306, 327, 373, 399, 459, 469, 496, 520, 535, 582, 590, 616, 635, 647, 689, 720, 743, 765, 773, 784, 792, 800, 831, 845, 864, 872, 895, 930, 943, 959, 973, 991, 1007, 1028, 1043, 1076, 1089, 1148, 1191, 1221, 1242, 1278, 1326, 1351, 1372, 1391, 1418, 1473, 1496, 1520, 1573, 1613, 1641, 1663, 1698, 1721, 1770, 1801, 1851, 1883, 1923, 1959, 2000, 2048, 2091, 2134, 2198, 2231, 2276, 2339, 2373, 2429, 2465, 2500, 2535, 2573, 2620, 2683, 2720, 2754, 2805, 2876, 2934, 2987, 3036, 3089, 3171, 3241, 3309, 3359, 3417, 3469, 3535, 3606, 3656, 3710, 3797, 3873, 3957, 4016, 4143, 4239, 4320, 4459, 4576, 4665, 4714, 4781, 4838, 4901, 4975, 5058, 5131, 5193, 5236, 5302, 5388, 5452, 5521, 5593, 5658, 5723, 5765, 5824, 5903, 5968, 6021, 6071, 6150, 6207, 6277, 6346, 6418, 6500, 6594, 6680, 6759, 6858, 6944, 7064, 7169, 7261, 7343, 7417, 7505, 7616, 7750, 7832, 7940, 8025, 8130, 8230, 8336, 8456, 8544, 8650, 8723, 8841, 8965, 9100, 9222, 9336, 9448, 9553, 9677, 9837, 9977, 10105, 10218, 10308, 10386, 10473, 10601, 10740, 10856, 10972, 11055, 11151, 11253, 11374, 11472, 11580, 11677, 11765, 11844]}],\n",
              "                        {\"template\": {\"data\": {\"bar\": [{\"error_x\": {\"color\": \"#2a3f5f\"}, \"error_y\": {\"color\": \"#2a3f5f\"}, \"marker\": {\"line\": {\"color\": \"white\", \"width\": 0.5}}, \"type\": \"bar\"}], \"barpolar\": [{\"marker\": {\"line\": {\"color\": \"white\", \"width\": 0.5}}, \"type\": \"barpolar\"}], \"carpet\": [{\"aaxis\": {\"endlinecolor\": \"#2a3f5f\", \"gridcolor\": \"#C8D4E3\", \"linecolor\": \"#C8D4E3\", \"minorgridcolor\": \"#C8D4E3\", \"startlinecolor\": \"#2a3f5f\"}, \"baxis\": {\"endlinecolor\": \"#2a3f5f\", \"gridcolor\": \"#C8D4E3\", \"linecolor\": \"#C8D4E3\", \"minorgridcolor\": \"#C8D4E3\", \"startlinecolor\": \"#2a3f5f\"}, \"type\": \"carpet\"}], \"choropleth\": [{\"colorbar\": {\"outlinewidth\": 0, \"ticks\": \"\"}, \"type\": \"choropleth\"}], \"contour\": [{\"colorbar\": {\"outlinewidth\": 0, \"ticks\": \"\"}, \"colorscale\": [[0.0, \"#0d0887\"], [0.1111111111111111, \"#46039f\"], [0.2222222222222222, \"#7201a8\"], [0.3333333333333333, \"#9c179e\"], [0.4444444444444444, \"#bd3786\"], [0.5555555555555556, \"#d8576b\"], [0.6666666666666666, \"#ed7953\"], [0.7777777777777778, \"#fb9f3a\"], [0.8888888888888888, \"#fdca26\"], [1.0, \"#f0f921\"]], \"type\": \"contour\"}], \"contourcarpet\": [{\"colorbar\": {\"outlinewidth\": 0, \"ticks\": \"\"}, \"type\": \"contourcarpet\"}], \"heatmap\": [{\"colorbar\": {\"outlinewidth\": 0, \"ticks\": \"\"}, \"colorscale\": [[0.0, \"#0d0887\"], [0.1111111111111111, \"#46039f\"], [0.2222222222222222, \"#7201a8\"], [0.3333333333333333, \"#9c179e\"], [0.4444444444444444, \"#bd3786\"], [0.5555555555555556, \"#d8576b\"], [0.6666666666666666, \"#ed7953\"], [0.7777777777777778, \"#fb9f3a\"], [0.8888888888888888, \"#fdca26\"], [1.0, \"#f0f921\"]], \"type\": \"heatmap\"}], \"heatmapgl\": [{\"colorbar\": {\"outlinewidth\": 0, \"ticks\": \"\"}, \"colorscale\": [[0.0, \"#0d0887\"], [0.1111111111111111, \"#46039f\"], [0.2222222222222222, \"#7201a8\"], [0.3333333333333333, \"#9c179e\"], [0.4444444444444444, \"#bd3786\"], [0.5555555555555556, \"#d8576b\"], [0.6666666666666666, \"#ed7953\"], [0.7777777777777778, \"#fb9f3a\"], [0.8888888888888888, \"#fdca26\"], [1.0, \"#f0f921\"]], \"type\": \"heatmapgl\"}], \"histogram\": [{\"marker\": {\"colorbar\": {\"outlinewidth\": 0, \"ticks\": \"\"}}, \"type\": \"histogram\"}], \"histogram2d\": [{\"colorbar\": {\"outlinewidth\": 0, \"ticks\": \"\"}, \"colorscale\": [[0.0, \"#0d0887\"], [0.1111111111111111, \"#46039f\"], [0.2222222222222222, \"#7201a8\"], [0.3333333333333333, \"#9c179e\"], [0.4444444444444444, \"#bd3786\"], [0.5555555555555556, \"#d8576b\"], [0.6666666666666666, \"#ed7953\"], [0.7777777777777778, \"#fb9f3a\"], [0.8888888888888888, \"#fdca26\"], [1.0, \"#f0f921\"]], \"type\": \"histogram2d\"}], \"histogram2dcontour\": [{\"colorbar\": {\"outlinewidth\": 0, \"ticks\": \"\"}, \"colorscale\": [[0.0, \"#0d0887\"], [0.1111111111111111, \"#46039f\"], [0.2222222222222222, \"#7201a8\"], [0.3333333333333333, \"#9c179e\"], [0.4444444444444444, \"#bd3786\"], [0.5555555555555556, \"#d8576b\"], [0.6666666666666666, \"#ed7953\"], [0.7777777777777778, \"#fb9f3a\"], [0.8888888888888888, \"#fdca26\"], [1.0, \"#f0f921\"]], \"type\": \"histogram2dcontour\"}], \"mesh3d\": [{\"colorbar\": {\"outlinewidth\": 0, \"ticks\": \"\"}, \"type\": \"mesh3d\"}], \"parcoords\": [{\"line\": {\"colorbar\": {\"outlinewidth\": 0, \"ticks\": \"\"}}, \"type\": \"parcoords\"}], \"pie\": [{\"automargin\": true, \"type\": \"pie\"}], \"scatter\": [{\"marker\": {\"colorbar\": {\"outlinewidth\": 0, \"ticks\": \"\"}}, \"type\": \"scatter\"}], \"scatter3d\": [{\"line\": {\"colorbar\": {\"outlinewidth\": 0, \"ticks\": \"\"}}, \"marker\": {\"colorbar\": {\"outlinewidth\": 0, \"ticks\": \"\"}}, \"type\": \"scatter3d\"}], \"scattercarpet\": [{\"marker\": {\"colorbar\": {\"outlinewidth\": 0, \"ticks\": \"\"}}, \"type\": \"scattercarpet\"}], \"scattergeo\": [{\"marker\": {\"colorbar\": {\"outlinewidth\": 0, \"ticks\": \"\"}}, \"type\": \"scattergeo\"}], \"scattergl\": [{\"marker\": {\"colorbar\": {\"outlinewidth\": 0, \"ticks\": \"\"}}, \"type\": \"scattergl\"}], \"scattermapbox\": [{\"marker\": {\"colorbar\": {\"outlinewidth\": 0, \"ticks\": \"\"}}, \"type\": \"scattermapbox\"}], \"scatterpolar\": [{\"marker\": {\"colorbar\": {\"outlinewidth\": 0, \"ticks\": \"\"}}, \"type\": \"scatterpolar\"}], \"scatterpolargl\": [{\"marker\": {\"colorbar\": {\"outlinewidth\": 0, \"ticks\": \"\"}}, \"type\": \"scatterpolargl\"}], \"scatterternary\": [{\"marker\": {\"colorbar\": {\"outlinewidth\": 0, \"ticks\": \"\"}}, \"type\": \"scatterternary\"}], \"surface\": [{\"colorbar\": {\"outlinewidth\": 0, \"ticks\": \"\"}, \"colorscale\": [[0.0, \"#0d0887\"], [0.1111111111111111, \"#46039f\"], [0.2222222222222222, \"#7201a8\"], [0.3333333333333333, \"#9c179e\"], [0.4444444444444444, \"#bd3786\"], [0.5555555555555556, \"#d8576b\"], [0.6666666666666666, \"#ed7953\"], [0.7777777777777778, \"#fb9f3a\"], [0.8888888888888888, \"#fdca26\"], [1.0, \"#f0f921\"]], \"type\": \"surface\"}], \"table\": [{\"cells\": {\"fill\": {\"color\": \"#EBF0F8\"}, \"line\": {\"color\": \"white\"}}, \"header\": {\"fill\": {\"color\": \"#C8D4E3\"}, \"line\": {\"color\": \"white\"}}, \"type\": \"table\"}]}, \"layout\": {\"annotationdefaults\": {\"arrowcolor\": \"#2a3f5f\", \"arrowhead\": 0, \"arrowwidth\": 1}, \"coloraxis\": {\"colorbar\": {\"outlinewidth\": 0, \"ticks\": \"\"}}, \"colorscale\": {\"diverging\": [[0, \"#8e0152\"], [0.1, \"#c51b7d\"], [0.2, \"#de77ae\"], [0.3, \"#f1b6da\"], [0.4, \"#fde0ef\"], [0.5, \"#f7f7f7\"], [0.6, \"#e6f5d0\"], [0.7, \"#b8e186\"], [0.8, \"#7fbc41\"], [0.9, \"#4d9221\"], [1, \"#276419\"]], \"sequential\": [[0.0, \"#0d0887\"], [0.1111111111111111, \"#46039f\"], [0.2222222222222222, \"#7201a8\"], [0.3333333333333333, \"#9c179e\"], [0.4444444444444444, \"#bd3786\"], [0.5555555555555556, \"#d8576b\"], [0.6666666666666666, \"#ed7953\"], [0.7777777777777778, \"#fb9f3a\"], [0.8888888888888888, \"#fdca26\"], [1.0, \"#f0f921\"]], \"sequentialminus\": [[0.0, \"#0d0887\"], [0.1111111111111111, \"#46039f\"], [0.2222222222222222, \"#7201a8\"], [0.3333333333333333, \"#9c179e\"], [0.4444444444444444, \"#bd3786\"], [0.5555555555555556, \"#d8576b\"], [0.6666666666666666, \"#ed7953\"], [0.7777777777777778, \"#fb9f3a\"], [0.8888888888888888, \"#fdca26\"], [1.0, \"#f0f921\"]]}, \"colorway\": [\"#636efa\", \"#EF553B\", \"#00cc96\", \"#ab63fa\", \"#FFA15A\", \"#19d3f3\", \"#FF6692\", \"#B6E880\", \"#FF97FF\", \"#FECB52\"], \"font\": {\"color\": \"#2a3f5f\"}, \"geo\": {\"bgcolor\": \"white\", \"lakecolor\": \"white\", \"landcolor\": \"white\", \"showlakes\": true, \"showland\": true, \"subunitcolor\": \"#C8D4E3\"}, \"hoverlabel\": {\"align\": \"left\"}, \"hovermode\": \"closest\", \"mapbox\": {\"style\": \"light\"}, \"paper_bgcolor\": \"white\", \"plot_bgcolor\": \"white\", \"polar\": {\"angularaxis\": {\"gridcolor\": \"#EBF0F8\", \"linecolor\": \"#EBF0F8\", \"ticks\": \"\"}, \"bgcolor\": \"white\", \"radialaxis\": {\"gridcolor\": \"#EBF0F8\", \"linecolor\": \"#EBF0F8\", \"ticks\": \"\"}}, \"scene\": {\"xaxis\": {\"backgroundcolor\": \"white\", \"gridcolor\": \"#DFE8F3\", \"gridwidth\": 2, \"linecolor\": \"#EBF0F8\", \"showbackground\": true, \"ticks\": \"\", \"zerolinecolor\": \"#EBF0F8\"}, \"yaxis\": {\"backgroundcolor\": \"white\", \"gridcolor\": \"#DFE8F3\", \"gridwidth\": 2, \"linecolor\": \"#EBF0F8\", \"showbackground\": true, \"ticks\": \"\", \"zerolinecolor\": \"#EBF0F8\"}, \"zaxis\": {\"backgroundcolor\": \"white\", \"gridcolor\": \"#DFE8F3\", \"gridwidth\": 2, \"linecolor\": \"#EBF0F8\", \"showbackground\": true, \"ticks\": \"\", \"zerolinecolor\": \"#EBF0F8\"}}, \"shapedefaults\": {\"line\": {\"color\": \"#2a3f5f\"}}, \"ternary\": {\"aaxis\": {\"gridcolor\": \"#DFE8F3\", \"linecolor\": \"#A2B1C6\", \"ticks\": \"\"}, \"baxis\": {\"gridcolor\": \"#DFE8F3\", \"linecolor\": \"#A2B1C6\", \"ticks\": \"\"}, \"bgcolor\": \"white\", \"caxis\": {\"gridcolor\": \"#DFE8F3\", \"linecolor\": \"#A2B1C6\", \"ticks\": \"\"}}, \"title\": {\"x\": 0.05}, \"xaxis\": {\"automargin\": true, \"gridcolor\": \"#EBF0F8\", \"linecolor\": \"#EBF0F8\", \"ticks\": \"\", \"title\": {\"standoff\": 15}, \"zerolinecolor\": \"#EBF0F8\", \"zerolinewidth\": 2}, \"yaxis\": {\"automargin\": true, \"gridcolor\": \"#EBF0F8\", \"linecolor\": \"#EBF0F8\", \"ticks\": \"\", \"title\": {\"standoff\": 15}, \"zerolinecolor\": \"#EBF0F8\", \"zerolinewidth\": 2}}}, \"title\": {\"text\": \"Indonesia Death Cases\"}, \"xaxis\": {\"title\": {\"text\": \"Date\"}}, \"yaxis\": {\"title\": {\"text\": \"Total Cases\"}}},\n",
              "                        {\"responsive\": true}\n",
              "                    ).then(function(){\n",
              "                            \n",
              "var gd = document.getElementById('5835d497-dcf2-404a-883b-ae35bbe16461');\n",
              "var x = new MutationObserver(function (mutations, observer) {{\n",
              "        var display = window.getComputedStyle(gd).display;\n",
              "        if (!display || display === 'none') {{\n",
              "            console.log([gd, 'removed!']);\n",
              "            Plotly.purge(gd);\n",
              "            observer.disconnect();\n",
              "        }}\n",
              "}});\n",
              "\n",
              "// Listen for the removal of the full notebook cells\n",
              "var notebookContainer = gd.closest('#notebook-container');\n",
              "if (notebookContainer) {{\n",
              "    x.observe(notebookContainer, {childList: true});\n",
              "}}\n",
              "\n",
              "// Listen for the clearing of the current output cell\n",
              "var outputEl = gd.closest('.output');\n",
              "if (outputEl) {{\n",
              "    x.observe(outputEl, {childList: true});\n",
              "}}\n",
              "\n",
              "                        })\n",
              "                };\n",
              "                \n",
              "            </script>\n",
              "        </div>\n",
              "</body>\n",
              "</html>"
            ]
          },
          "metadata": {
            "tags": []
          }
        }
      ]
    },
    {
      "cell_type": "code",
      "metadata": {
        "id": "XWz_E94ub5VZ",
        "outputId": "b0fd21f0-f057-43f9-aee3-f2c72641122e",
        "colab": {
          "base_uri": "https://localhost:8080/",
          "height": 542
        }
      },
      "source": [
        "# plot Recovered Cases\n",
        "fig = go.Figure(go.Bar(x=data_covid_total['Date'],\n",
        "                       y=data_covid_total['Total Recovered'],\n",
        "                       marker_color='green'\n",
        "                      ))\n",
        "\n",
        "fig.update_layout(title='Indonesia Recovered Cases',\n",
        "                  template='plotly_white',\n",
        "                  xaxis_title='Date',\n",
        "                  yaxis_title='Total Case'\n",
        "                 )\n",
        "fig.show()\n"
      ],
      "execution_count": 32,
      "outputs": [
        {
          "output_type": "display_data",
          "data": {
            "text/html": [
              "<html>\n",
              "<head><meta charset=\"utf-8\" /></head>\n",
              "<body>\n",
              "    <div>\n",
              "            <script src=\"https://cdnjs.cloudflare.com/ajax/libs/mathjax/2.7.5/MathJax.js?config=TeX-AMS-MML_SVG\"></script><script type=\"text/javascript\">if (window.MathJax) {MathJax.Hub.Config({SVG: {font: \"STIX-Web\"}});}</script>\n",
              "                <script type=\"text/javascript\">window.PlotlyConfig = {MathJaxConfig: 'local'};</script>\n",
              "        <script src=\"https://cdn.plot.ly/plotly-latest.min.js\"></script>    \n",
              "            <div id=\"c741c06d-ceab-4289-ae74-a47e4ac5c3a7\" class=\"plotly-graph-div\" style=\"height:525px; width:100%;\"></div>\n",
              "            <script type=\"text/javascript\">\n",
              "                \n",
              "                    window.PLOTLYENV=window.PLOTLYENV || {};\n",
              "                    \n",
              "                if (document.getElementById(\"c741c06d-ceab-4289-ae74-a47e4ac5c3a7\")) {\n",
              "                    Plotly.newPlot(\n",
              "                        'c741c06d-ceab-4289-ae74-a47e4ac5c3a7',\n",
              "                        [{\"marker\": {\"color\": \"green\"}, \"type\": \"bar\", \"x\": [\"2020-03-02T00:00:00\", \"2020-03-03T00:00:00\", \"2020-03-04T00:00:00\", \"2020-03-05T00:00:00\", \"2020-03-06T00:00:00\", \"2020-03-07T00:00:00\", \"2020-03-08T00:00:00\", \"2020-03-09T00:00:00\", \"2020-03-10T00:00:00\", \"2020-03-11T00:00:00\", \"2020-03-12T00:00:00\", \"2020-03-13T00:00:00\", \"2020-03-14T00:00:00\", \"2020-03-15T00:00:00\", \"2020-03-16T00:00:00\", \"2020-03-17T00:00:00\", \"2020-03-18T00:00:00\", \"2020-03-19T00:00:00\", \"2020-03-20T00:00:00\", \"2020-03-21T00:00:00\", \"2020-03-22T00:00:00\", \"2020-03-23T00:00:00\", \"2020-03-24T00:00:00\", \"2020-03-25T00:00:00\", \"2020-03-26T00:00:00\", \"2020-03-27T00:00:00\", \"2020-03-28T00:00:00\", \"2020-03-29T00:00:00\", \"2020-03-30T00:00:00\", \"2020-03-31T00:00:00\", \"2020-04-01T00:00:00\", \"2020-04-02T00:00:00\", \"2020-04-03T00:00:00\", \"2020-04-04T00:00:00\", \"2020-04-05T00:00:00\", \"2020-04-06T00:00:00\", \"2020-04-07T00:00:00\", \"2020-04-08T00:00:00\", \"2020-04-09T00:00:00\", \"2020-04-10T00:00:00\", \"2020-04-11T00:00:00\", \"2020-04-12T00:00:00\", \"2020-04-13T00:00:00\", \"2020-04-14T00:00:00\", \"2020-04-15T00:00:00\", \"2020-04-16T00:00:00\", \"2020-04-17T00:00:00\", \"2020-04-18T00:00:00\", \"2020-04-19T00:00:00\", \"2020-04-20T00:00:00\", \"2020-04-21T00:00:00\", \"2020-04-22T00:00:00\", \"2020-04-23T00:00:00\", \"2020-04-24T00:00:00\", \"2020-04-25T00:00:00\", \"2020-04-26T00:00:00\", \"2020-04-27T00:00:00\", \"2020-04-28T00:00:00\", \"2020-04-29T00:00:00\", \"2020-04-30T00:00:00\", \"2020-05-01T00:00:00\", \"2020-05-02T00:00:00\", \"2020-05-03T00:00:00\", \"2020-05-04T00:00:00\", \"2020-05-05T00:00:00\", \"2020-05-06T00:00:00\", \"2020-05-07T00:00:00\", \"2020-05-08T00:00:00\", \"2020-05-09T00:00:00\", \"2020-05-10T00:00:00\", \"2020-05-11T00:00:00\", \"2020-05-12T00:00:00\", \"2020-05-13T00:00:00\", \"2020-05-14T00:00:00\", \"2020-05-15T00:00:00\", \"2020-05-16T00:00:00\", \"2020-05-17T00:00:00\", \"2020-05-18T00:00:00\", \"2020-05-19T00:00:00\", \"2020-05-20T00:00:00\", \"2020-05-21T00:00:00\", \"2020-05-22T00:00:00\", \"2020-05-23T00:00:00\", \"2020-05-24T00:00:00\", \"2020-05-25T00:00:00\", \"2020-05-26T00:00:00\", \"2020-05-27T00:00:00\", \"2020-05-28T00:00:00\", \"2020-05-29T00:00:00\", \"2020-05-30T00:00:00\", \"2020-05-31T00:00:00\", \"2020-06-01T00:00:00\", \"2020-06-02T00:00:00\", \"2020-06-03T00:00:00\", \"2020-06-04T00:00:00\", \"2020-06-05T00:00:00\", \"2020-06-06T00:00:00\", \"2020-06-07T00:00:00\", \"2020-06-08T00:00:00\", \"2020-06-09T00:00:00\", \"2020-06-10T00:00:00\", \"2020-06-11T00:00:00\", \"2020-06-12T00:00:00\", \"2020-06-13T00:00:00\", \"2020-06-14T00:00:00\", \"2020-06-15T00:00:00\", \"2020-06-16T00:00:00\", \"2020-06-17T00:00:00\", \"2020-06-18T00:00:00\", \"2020-06-19T00:00:00\", \"2020-06-20T00:00:00\", \"2020-06-21T00:00:00\", \"2020-06-22T00:00:00\", \"2020-06-23T00:00:00\", \"2020-06-24T00:00:00\", \"2020-06-25T00:00:00\", \"2020-06-26T00:00:00\", \"2020-06-27T00:00:00\", \"2020-06-28T00:00:00\", \"2020-06-29T00:00:00\", \"2020-06-30T00:00:00\", \"2020-07-01T00:00:00\", \"2020-07-02T00:00:00\", \"2020-07-03T00:00:00\", \"2020-07-04T00:00:00\", \"2020-07-05T00:00:00\", \"2020-07-06T00:00:00\", \"2020-07-07T00:00:00\", \"2020-07-08T00:00:00\", \"2020-07-09T00:00:00\", \"2020-07-10T00:00:00\", \"2020-07-11T00:00:00\", \"2020-07-12T00:00:00\", \"2020-07-13T00:00:00\", \"2020-07-14T00:00:00\", \"2020-07-15T00:00:00\", \"2020-07-16T00:00:00\", \"2020-07-17T00:00:00\", \"2020-07-18T00:00:00\", \"2020-07-19T00:00:00\", \"2020-07-20T00:00:00\", \"2020-07-21T00:00:00\", \"2020-07-22T00:00:00\", \"2020-07-23T00:00:00\", \"2020-07-24T00:00:00\", \"2020-07-25T00:00:00\", \"2020-07-26T00:00:00\", \"2020-07-27T00:00:00\", \"2020-07-28T00:00:00\", \"2020-07-29T00:00:00\", \"2020-07-30T00:00:00\", \"2020-07-31T00:00:00\", \"2020-08-01T00:00:00\", \"2020-08-02T00:00:00\", \"2020-08-03T00:00:00\", \"2020-08-04T00:00:00\", \"2020-08-05T00:00:00\", \"2020-08-06T00:00:00\", \"2020-08-07T00:00:00\", \"2020-08-08T00:00:00\", \"2020-08-09T00:00:00\", \"2020-08-10T00:00:00\", \"2020-08-11T00:00:00\", \"2020-08-12T00:00:00\", \"2020-08-13T00:00:00\", \"2020-08-14T00:00:00\", \"2020-08-15T00:00:00\", \"2020-08-16T00:00:00\", \"2020-08-17T00:00:00\", \"2020-08-18T00:00:00\", \"2020-08-19T00:00:00\", \"2020-08-20T00:00:00\", \"2020-08-21T00:00:00\", \"2020-08-22T00:00:00\", \"2020-08-23T00:00:00\", \"2020-08-24T00:00:00\", \"2020-08-25T00:00:00\", \"2020-08-26T00:00:00\", \"2020-08-27T00:00:00\", \"2020-08-28T00:00:00\", \"2020-08-29T00:00:00\", \"2020-08-30T00:00:00\", \"2020-08-31T00:00:00\", \"2020-09-01T00:00:00\", \"2020-09-02T00:00:00\", \"2020-09-03T00:00:00\", \"2020-09-04T00:00:00\", \"2020-09-05T00:00:00\", \"2020-09-06T00:00:00\", \"2020-09-07T00:00:00\", \"2020-09-08T00:00:00\", \"2020-09-09T00:00:00\", \"2020-09-10T00:00:00\", \"2020-09-11T00:00:00\", \"2020-09-12T00:00:00\", \"2020-09-13T00:00:00\", \"2020-09-14T00:00:00\", \"2020-09-15T00:00:00\", \"2020-09-16T00:00:00\", \"2020-09-17T00:00:00\", \"2020-09-18T00:00:00\", \"2020-09-19T00:00:00\", \"2020-09-20T00:00:00\", \"2020-09-21T00:00:00\", \"2020-09-22T00:00:00\", \"2020-09-23T00:00:00\", \"2020-09-24T00:00:00\", \"2020-09-25T00:00:00\", \"2020-09-26T00:00:00\", \"2020-09-27T00:00:00\", \"2020-09-28T00:00:00\", \"2020-09-29T00:00:00\", \"2020-09-30T00:00:00\", \"2020-10-01T00:00:00\", \"2020-10-02T00:00:00\", \"2020-10-03T00:00:00\", \"2020-10-04T00:00:00\", \"2020-10-05T00:00:00\", \"2020-10-06T00:00:00\", \"2020-10-07T00:00:00\", \"2020-10-08T00:00:00\", \"2020-10-09T00:00:00\", \"2020-10-10T00:00:00\", \"2020-10-11T00:00:00\"], \"y\": [0, 0, 0, 0, 0, 0, 0, 0, 2, 2, 2, 2, 8, 8, 8, 9, 11, 15, 17, 20, 29, 30, 30, 31, 35, 46, 59, 64, 75, 81, 103, 112, 134, 150, 164, 192, 204, 222, 252, 282, 286, 359, 380, 426, 446, 548, 607, 631, 686, 747, 842, 913, 960, 1002, 1042, 1107, 1151, 1254, 1391, 1522, 1591, 1665, 1876, 1954, 2197, 2317, 2381, 2494, 2607, 2698, 2881, 3063, 3287, 3518, 3803, 3911, 4129, 4324, 4467, 4575, 4838, 5057, 5249, 5402, 5642, 5877, 6057, 6240, 6492, 7015, 7308, 7637, 7935, 8406, 8892, 9443, 9907, 10498, 10904, 11414, 12129, 12636, 13213, 13776, 14531, 15123, 15703, 16243, 16798, 17349, 17883, 18404, 18735, 19241, 19658, 20449, 21333, 21909, 22936, 23800, 24806, 25595, 26667, 27568, 28219, 29105, 29919, 30785, 31585, 32651, 33529, 34719, 35638, 36689, 37636, 39050, 40345, 41834, 43268, 45401, 46977, 48466, 50255, 52164, 53945, 55354, 56655, 58173, 60539, 62138, 64292, 65907, 67919, 68975, 70237, 72050, 73889, 75645, 77557, 79306, 80952, 82236, 83710, 85798, 87558, 89618, 91321, 93103, 94458, 96306, 98657, 100674, 102991, 105198, 107500, 111060, 112867, 115409, 118575, 120900, 122802, 124185, 125959, 128057, 129971, 132055, 134181, 136401, 138575, 140652, 142958, 145200, 147510, 150217, 152458, 155010, 158405, 161065, 164101, 166686, 170774, 174350, 177327, 180797, 184298, 187958, 191853, 196196, 199403, 203014, 206870, 210437, 214947, 218487, 221340, 225052, 228453, 232593, 236437, 240291, 244060, 247667, 251481, 255027]}],\n",
              "                        {\"template\": {\"data\": {\"bar\": [{\"error_x\": {\"color\": \"#2a3f5f\"}, \"error_y\": {\"color\": \"#2a3f5f\"}, \"marker\": {\"line\": {\"color\": \"white\", \"width\": 0.5}}, \"type\": \"bar\"}], \"barpolar\": [{\"marker\": {\"line\": {\"color\": \"white\", \"width\": 0.5}}, \"type\": \"barpolar\"}], \"carpet\": [{\"aaxis\": {\"endlinecolor\": \"#2a3f5f\", \"gridcolor\": \"#C8D4E3\", \"linecolor\": \"#C8D4E3\", \"minorgridcolor\": \"#C8D4E3\", \"startlinecolor\": \"#2a3f5f\"}, \"baxis\": {\"endlinecolor\": \"#2a3f5f\", \"gridcolor\": \"#C8D4E3\", \"linecolor\": \"#C8D4E3\", \"minorgridcolor\": \"#C8D4E3\", \"startlinecolor\": \"#2a3f5f\"}, \"type\": \"carpet\"}], \"choropleth\": [{\"colorbar\": {\"outlinewidth\": 0, \"ticks\": \"\"}, \"type\": \"choropleth\"}], \"contour\": [{\"colorbar\": {\"outlinewidth\": 0, \"ticks\": \"\"}, \"colorscale\": [[0.0, \"#0d0887\"], [0.1111111111111111, \"#46039f\"], [0.2222222222222222, \"#7201a8\"], [0.3333333333333333, \"#9c179e\"], [0.4444444444444444, \"#bd3786\"], [0.5555555555555556, \"#d8576b\"], [0.6666666666666666, \"#ed7953\"], [0.7777777777777778, \"#fb9f3a\"], [0.8888888888888888, \"#fdca26\"], [1.0, \"#f0f921\"]], \"type\": \"contour\"}], \"contourcarpet\": [{\"colorbar\": {\"outlinewidth\": 0, \"ticks\": \"\"}, \"type\": \"contourcarpet\"}], \"heatmap\": [{\"colorbar\": {\"outlinewidth\": 0, \"ticks\": \"\"}, \"colorscale\": [[0.0, \"#0d0887\"], [0.1111111111111111, \"#46039f\"], [0.2222222222222222, \"#7201a8\"], [0.3333333333333333, \"#9c179e\"], [0.4444444444444444, \"#bd3786\"], [0.5555555555555556, \"#d8576b\"], [0.6666666666666666, \"#ed7953\"], [0.7777777777777778, \"#fb9f3a\"], [0.8888888888888888, \"#fdca26\"], [1.0, \"#f0f921\"]], \"type\": \"heatmap\"}], \"heatmapgl\": [{\"colorbar\": {\"outlinewidth\": 0, \"ticks\": \"\"}, \"colorscale\": [[0.0, \"#0d0887\"], [0.1111111111111111, \"#46039f\"], [0.2222222222222222, \"#7201a8\"], [0.3333333333333333, \"#9c179e\"], [0.4444444444444444, \"#bd3786\"], [0.5555555555555556, \"#d8576b\"], [0.6666666666666666, \"#ed7953\"], [0.7777777777777778, \"#fb9f3a\"], [0.8888888888888888, \"#fdca26\"], [1.0, \"#f0f921\"]], \"type\": \"heatmapgl\"}], \"histogram\": [{\"marker\": {\"colorbar\": {\"outlinewidth\": 0, \"ticks\": \"\"}}, \"type\": \"histogram\"}], \"histogram2d\": [{\"colorbar\": {\"outlinewidth\": 0, \"ticks\": \"\"}, \"colorscale\": [[0.0, \"#0d0887\"], [0.1111111111111111, \"#46039f\"], [0.2222222222222222, \"#7201a8\"], [0.3333333333333333, \"#9c179e\"], [0.4444444444444444, \"#bd3786\"], [0.5555555555555556, \"#d8576b\"], [0.6666666666666666, \"#ed7953\"], [0.7777777777777778, \"#fb9f3a\"], [0.8888888888888888, \"#fdca26\"], [1.0, \"#f0f921\"]], \"type\": \"histogram2d\"}], \"histogram2dcontour\": [{\"colorbar\": {\"outlinewidth\": 0, \"ticks\": \"\"}, \"colorscale\": [[0.0, \"#0d0887\"], [0.1111111111111111, \"#46039f\"], [0.2222222222222222, \"#7201a8\"], [0.3333333333333333, \"#9c179e\"], [0.4444444444444444, \"#bd3786\"], [0.5555555555555556, \"#d8576b\"], [0.6666666666666666, \"#ed7953\"], [0.7777777777777778, \"#fb9f3a\"], [0.8888888888888888, \"#fdca26\"], [1.0, \"#f0f921\"]], \"type\": \"histogram2dcontour\"}], \"mesh3d\": [{\"colorbar\": {\"outlinewidth\": 0, \"ticks\": \"\"}, \"type\": \"mesh3d\"}], \"parcoords\": [{\"line\": {\"colorbar\": {\"outlinewidth\": 0, \"ticks\": \"\"}}, \"type\": \"parcoords\"}], \"pie\": [{\"automargin\": true, \"type\": \"pie\"}], \"scatter\": [{\"marker\": {\"colorbar\": {\"outlinewidth\": 0, \"ticks\": \"\"}}, \"type\": \"scatter\"}], \"scatter3d\": [{\"line\": {\"colorbar\": {\"outlinewidth\": 0, \"ticks\": \"\"}}, \"marker\": {\"colorbar\": {\"outlinewidth\": 0, \"ticks\": \"\"}}, \"type\": \"scatter3d\"}], \"scattercarpet\": [{\"marker\": {\"colorbar\": {\"outlinewidth\": 0, \"ticks\": \"\"}}, \"type\": \"scattercarpet\"}], \"scattergeo\": [{\"marker\": {\"colorbar\": {\"outlinewidth\": 0, \"ticks\": \"\"}}, \"type\": \"scattergeo\"}], \"scattergl\": [{\"marker\": {\"colorbar\": {\"outlinewidth\": 0, \"ticks\": \"\"}}, \"type\": \"scattergl\"}], \"scattermapbox\": [{\"marker\": {\"colorbar\": {\"outlinewidth\": 0, \"ticks\": \"\"}}, \"type\": \"scattermapbox\"}], \"scatterpolar\": [{\"marker\": {\"colorbar\": {\"outlinewidth\": 0, \"ticks\": \"\"}}, \"type\": \"scatterpolar\"}], \"scatterpolargl\": [{\"marker\": {\"colorbar\": {\"outlinewidth\": 0, \"ticks\": \"\"}}, \"type\": \"scatterpolargl\"}], \"scatterternary\": [{\"marker\": {\"colorbar\": {\"outlinewidth\": 0, \"ticks\": \"\"}}, \"type\": \"scatterternary\"}], \"surface\": [{\"colorbar\": {\"outlinewidth\": 0, \"ticks\": \"\"}, \"colorscale\": [[0.0, \"#0d0887\"], [0.1111111111111111, \"#46039f\"], [0.2222222222222222, \"#7201a8\"], [0.3333333333333333, \"#9c179e\"], [0.4444444444444444, \"#bd3786\"], [0.5555555555555556, \"#d8576b\"], [0.6666666666666666, \"#ed7953\"], [0.7777777777777778, \"#fb9f3a\"], [0.8888888888888888, \"#fdca26\"], [1.0, \"#f0f921\"]], \"type\": \"surface\"}], \"table\": [{\"cells\": {\"fill\": {\"color\": \"#EBF0F8\"}, \"line\": {\"color\": \"white\"}}, \"header\": {\"fill\": {\"color\": \"#C8D4E3\"}, \"line\": {\"color\": \"white\"}}, \"type\": \"table\"}]}, \"layout\": {\"annotationdefaults\": {\"arrowcolor\": \"#2a3f5f\", \"arrowhead\": 0, \"arrowwidth\": 1}, \"coloraxis\": {\"colorbar\": {\"outlinewidth\": 0, \"ticks\": \"\"}}, \"colorscale\": {\"diverging\": [[0, \"#8e0152\"], [0.1, \"#c51b7d\"], [0.2, \"#de77ae\"], [0.3, \"#f1b6da\"], [0.4, \"#fde0ef\"], [0.5, \"#f7f7f7\"], [0.6, \"#e6f5d0\"], [0.7, \"#b8e186\"], [0.8, \"#7fbc41\"], [0.9, \"#4d9221\"], [1, \"#276419\"]], \"sequential\": [[0.0, \"#0d0887\"], [0.1111111111111111, \"#46039f\"], [0.2222222222222222, \"#7201a8\"], [0.3333333333333333, \"#9c179e\"], [0.4444444444444444, \"#bd3786\"], [0.5555555555555556, \"#d8576b\"], [0.6666666666666666, \"#ed7953\"], [0.7777777777777778, \"#fb9f3a\"], [0.8888888888888888, \"#fdca26\"], [1.0, \"#f0f921\"]], \"sequentialminus\": [[0.0, \"#0d0887\"], [0.1111111111111111, \"#46039f\"], [0.2222222222222222, \"#7201a8\"], [0.3333333333333333, \"#9c179e\"], [0.4444444444444444, \"#bd3786\"], [0.5555555555555556, \"#d8576b\"], [0.6666666666666666, \"#ed7953\"], [0.7777777777777778, \"#fb9f3a\"], [0.8888888888888888, \"#fdca26\"], [1.0, \"#f0f921\"]]}, \"colorway\": [\"#636efa\", \"#EF553B\", \"#00cc96\", \"#ab63fa\", \"#FFA15A\", \"#19d3f3\", \"#FF6692\", \"#B6E880\", \"#FF97FF\", \"#FECB52\"], \"font\": {\"color\": \"#2a3f5f\"}, \"geo\": {\"bgcolor\": \"white\", \"lakecolor\": \"white\", \"landcolor\": \"white\", \"showlakes\": true, \"showland\": true, \"subunitcolor\": \"#C8D4E3\"}, \"hoverlabel\": {\"align\": \"left\"}, \"hovermode\": \"closest\", \"mapbox\": {\"style\": \"light\"}, \"paper_bgcolor\": \"white\", \"plot_bgcolor\": \"white\", \"polar\": {\"angularaxis\": {\"gridcolor\": \"#EBF0F8\", \"linecolor\": \"#EBF0F8\", \"ticks\": \"\"}, \"bgcolor\": \"white\", \"radialaxis\": {\"gridcolor\": \"#EBF0F8\", \"linecolor\": \"#EBF0F8\", \"ticks\": \"\"}}, \"scene\": {\"xaxis\": {\"backgroundcolor\": \"white\", \"gridcolor\": \"#DFE8F3\", \"gridwidth\": 2, \"linecolor\": \"#EBF0F8\", \"showbackground\": true, \"ticks\": \"\", \"zerolinecolor\": \"#EBF0F8\"}, \"yaxis\": {\"backgroundcolor\": \"white\", \"gridcolor\": \"#DFE8F3\", \"gridwidth\": 2, \"linecolor\": \"#EBF0F8\", \"showbackground\": true, \"ticks\": \"\", \"zerolinecolor\": \"#EBF0F8\"}, \"zaxis\": {\"backgroundcolor\": \"white\", \"gridcolor\": \"#DFE8F3\", \"gridwidth\": 2, \"linecolor\": \"#EBF0F8\", \"showbackground\": true, \"ticks\": \"\", \"zerolinecolor\": \"#EBF0F8\"}}, \"shapedefaults\": {\"line\": {\"color\": \"#2a3f5f\"}}, \"ternary\": {\"aaxis\": {\"gridcolor\": \"#DFE8F3\", \"linecolor\": \"#A2B1C6\", \"ticks\": \"\"}, \"baxis\": {\"gridcolor\": \"#DFE8F3\", \"linecolor\": \"#A2B1C6\", \"ticks\": \"\"}, \"bgcolor\": \"white\", \"caxis\": {\"gridcolor\": \"#DFE8F3\", \"linecolor\": \"#A2B1C6\", \"ticks\": \"\"}}, \"title\": {\"x\": 0.05}, \"xaxis\": {\"automargin\": true, \"gridcolor\": \"#EBF0F8\", \"linecolor\": \"#EBF0F8\", \"ticks\": \"\", \"title\": {\"standoff\": 15}, \"zerolinecolor\": \"#EBF0F8\", \"zerolinewidth\": 2}, \"yaxis\": {\"automargin\": true, \"gridcolor\": \"#EBF0F8\", \"linecolor\": \"#EBF0F8\", \"ticks\": \"\", \"title\": {\"standoff\": 15}, \"zerolinecolor\": \"#EBF0F8\", \"zerolinewidth\": 2}}}, \"title\": {\"text\": \"Indonesia Recovered Cases\"}, \"xaxis\": {\"title\": {\"text\": \"Date\"}}, \"yaxis\": {\"title\": {\"text\": \"Total Case\"}}},\n",
              "                        {\"responsive\": true}\n",
              "                    ).then(function(){\n",
              "                            \n",
              "var gd = document.getElementById('c741c06d-ceab-4289-ae74-a47e4ac5c3a7');\n",
              "var x = new MutationObserver(function (mutations, observer) {{\n",
              "        var display = window.getComputedStyle(gd).display;\n",
              "        if (!display || display === 'none') {{\n",
              "            console.log([gd, 'removed!']);\n",
              "            Plotly.purge(gd);\n",
              "            observer.disconnect();\n",
              "        }}\n",
              "}});\n",
              "\n",
              "// Listen for the removal of the full notebook cells\n",
              "var notebookContainer = gd.closest('#notebook-container');\n",
              "if (notebookContainer) {{\n",
              "    x.observe(notebookContainer, {childList: true});\n",
              "}}\n",
              "\n",
              "// Listen for the clearing of the current output cell\n",
              "var outputEl = gd.closest('.output');\n",
              "if (outputEl) {{\n",
              "    x.observe(outputEl, {childList: true});\n",
              "}}\n",
              "\n",
              "                        })\n",
              "                };\n",
              "                \n",
              "            </script>\n",
              "        </div>\n",
              "</body>\n",
              "</html>"
            ]
          },
          "metadata": {
            "tags": []
          }
        }
      ]
    },
    {
      "cell_type": "code",
      "metadata": {
        "id": "4mgu3bSR3sQP",
        "outputId": "762f9c0c-6e1b-4721-ea48-f2a62a37d2c2",
        "colab": {
          "base_uri": "https://localhost:8080/",
          "height": 289
        }
      },
      "source": [
        "data_covid_total.sort_values(by='Total Cases', ascending=True, inplace=True)\n",
        "\n",
        "df_top15 = data_covid_total['Total Cases'].tail(15)\n",
        "df_top15"
      ],
      "execution_count": 33,
      "outputs": [
        {
          "output_type": "execute_result",
          "data": {
            "text/plain": [
              "209    275213\n",
              "210    278722\n",
              "211    282724\n",
              "212    287008\n",
              "213    291182\n",
              "214    295499\n",
              "215    299506\n",
              "216    303498\n",
              "217    307120\n",
              "218    311176\n",
              "219    315714\n",
              "220    320564\n",
              "221    324658\n",
              "222    328952\n",
              "223    333449\n",
              "Name: Total Cases, dtype: int64"
            ]
          },
          "metadata": {
            "tags": []
          },
          "execution_count": 33
        }
      ]
    },
    {
      "cell_type": "code",
      "metadata": {
        "id": "J8YMUIvH3_xb",
        "outputId": "7e432d44-d325-4d9a-8716-372ff24b690f",
        "colab": {
          "base_uri": "https://localhost:8080/",
          "height": 730
        }
      },
      "source": [
        "import matplotlib.pyplot as plt\n",
        "df_top15.plot(kind='barh', figsize=(12, 12), color='steelblue')\n",
        "plt.xlabel('Total Cases')\n",
        "plt.title('Kenaikan Kasus')\n",
        "\n",
        " # annotate value labels to each country\n",
        "for index, value in enumerate(df_top15): \n",
        "    label = format(int(value), ',') # format int with commas\n",
        "    \n",
        "    # place text at the end of bar (subtracting 47000 from x, and 0.1 from y to make it fit within the bar)\n",
        "    plt.annotate(label, xy=(value - 47000, index - 0.10), color='white')\n",
        "\n",
        "plt.show()"
      ],
      "execution_count": 36,
      "outputs": [
        {
          "output_type": "display_data",
          "data": {
            "image/png": "[encoded data removed]",
            "text/plain": [
              "<Figure size 864x864 with 1 Axes>"
            ]
          },
          "metadata": {
            "tags": [],
            "needs_background": "light"
          }
        }
      ]
    },
    {
      "cell_type": "code",
      "metadata": {
        "id": "bdAvXo1eb8NP",
        "outputId": "665dc6b6-3243-4c81-cc1c-d77a645238f8",
        "colab": {
          "base_uri": "https://localhost:8080/",
          "height": 546
        }
      },
      "source": [
        "# extract for Jabar Covid-19 case \n",
        "columns = ['Date', 'Location ISO Code','New Cases','New Deaths','New Recovered','New Active Cases','Total Cases','Total Deaths','Total Recovered','Total Active Cases']\n",
        "Jb_covid = data[data['Location ISO Code']== 'ID-JB']\n",
        "Jb_covid = Jb_covid[columns]\n",
        "Jb_covid.head(10)"
      ],
      "execution_count": 37,
      "outputs": [
        {
          "output_type": "execute_result",
          "data": {
            "text/html": [
              "<div>\n",
              "<style scoped>\n",
              "    .dataframe tbody tr th:only-of-type {\n",
              "        vertical-align: middle;\n",
              "    }\n",
              "\n",
              "    .dataframe tbody tr th {\n",
              "        vertical-align: top;\n",
              "    }\n",
              "\n",
              "    .dataframe thead th {\n",
              "        text-align: right;\n",
              "    }\n",
              "</style>\n",
              "<table border=\"1\" class=\"dataframe\">\n",
              "  <thead>\n",
              "    <tr style=\"text-align: right;\">\n",
              "      <th></th>\n",
              "      <th>Date</th>\n",
              "      <th>Location ISO Code</th>\n",
              "      <th>New Cases</th>\n",
              "      <th>New Deaths</th>\n",
              "      <th>New Recovered</th>\n",
              "      <th>New Active Cases</th>\n",
              "      <th>Total Cases</th>\n",
              "      <th>Total Deaths</th>\n",
              "      <th>Total Recovered</th>\n",
              "      <th>Total Active Cases</th>\n",
              "    </tr>\n",
              "  </thead>\n",
              "  <tbody>\n",
              "    <tr>\n",
              "      <th>3</th>\n",
              "      <td>2020-03-02</td>\n",
              "      <td>ID-JB</td>\n",
              "      <td>3</td>\n",
              "      <td>0</td>\n",
              "      <td>0</td>\n",
              "      <td>3</td>\n",
              "      <td>12</td>\n",
              "      <td>5</td>\n",
              "      <td>5</td>\n",
              "      <td>2</td>\n",
              "    </tr>\n",
              "    <tr>\n",
              "      <th>6</th>\n",
              "      <td>2020-03-03</td>\n",
              "      <td>ID-JB</td>\n",
              "      <td>1</td>\n",
              "      <td>1</td>\n",
              "      <td>0</td>\n",
              "      <td>0</td>\n",
              "      <td>13</td>\n",
              "      <td>6</td>\n",
              "      <td>5</td>\n",
              "      <td>2</td>\n",
              "    </tr>\n",
              "    <tr>\n",
              "      <th>9</th>\n",
              "      <td>2020-03-04</td>\n",
              "      <td>ID-JB</td>\n",
              "      <td>1</td>\n",
              "      <td>0</td>\n",
              "      <td>0</td>\n",
              "      <td>1</td>\n",
              "      <td>14</td>\n",
              "      <td>6</td>\n",
              "      <td>5</td>\n",
              "      <td>3</td>\n",
              "    </tr>\n",
              "    <tr>\n",
              "      <th>12</th>\n",
              "      <td>2020-03-05</td>\n",
              "      <td>ID-JB</td>\n",
              "      <td>1</td>\n",
              "      <td>0</td>\n",
              "      <td>0</td>\n",
              "      <td>1</td>\n",
              "      <td>15</td>\n",
              "      <td>6</td>\n",
              "      <td>5</td>\n",
              "      <td>4</td>\n",
              "    </tr>\n",
              "    <tr>\n",
              "      <th>16</th>\n",
              "      <td>2020-03-06</td>\n",
              "      <td>ID-JB</td>\n",
              "      <td>1</td>\n",
              "      <td>0</td>\n",
              "      <td>0</td>\n",
              "      <td>1</td>\n",
              "      <td>16</td>\n",
              "      <td>6</td>\n",
              "      <td>5</td>\n",
              "      <td>5</td>\n",
              "    </tr>\n",
              "    <tr>\n",
              "      <th>20</th>\n",
              "      <td>2020-03-07</td>\n",
              "      <td>ID-JB</td>\n",
              "      <td>0</td>\n",
              "      <td>0</td>\n",
              "      <td>0</td>\n",
              "      <td>0</td>\n",
              "      <td>16</td>\n",
              "      <td>6</td>\n",
              "      <td>5</td>\n",
              "      <td>5</td>\n",
              "    </tr>\n",
              "    <tr>\n",
              "      <th>24</th>\n",
              "      <td>2020-03-08</td>\n",
              "      <td>ID-JB</td>\n",
              "      <td>0</td>\n",
              "      <td>0</td>\n",
              "      <td>0</td>\n",
              "      <td>0</td>\n",
              "      <td>16</td>\n",
              "      <td>6</td>\n",
              "      <td>5</td>\n",
              "      <td>5</td>\n",
              "    </tr>\n",
              "    <tr>\n",
              "      <th>28</th>\n",
              "      <td>2020-03-09</td>\n",
              "      <td>ID-JB</td>\n",
              "      <td>0</td>\n",
              "      <td>0</td>\n",
              "      <td>0</td>\n",
              "      <td>0</td>\n",
              "      <td>16</td>\n",
              "      <td>6</td>\n",
              "      <td>5</td>\n",
              "      <td>5</td>\n",
              "    </tr>\n",
              "    <tr>\n",
              "      <th>32</th>\n",
              "      <td>2020-03-10</td>\n",
              "      <td>ID-JB</td>\n",
              "      <td>0</td>\n",
              "      <td>0</td>\n",
              "      <td>0</td>\n",
              "      <td>0</td>\n",
              "      <td>16</td>\n",
              "      <td>6</td>\n",
              "      <td>5</td>\n",
              "      <td>5</td>\n",
              "    </tr>\n",
              "    <tr>\n",
              "      <th>37</th>\n",
              "      <td>2020-03-11</td>\n",
              "      <td>ID-JB</td>\n",
              "      <td>0</td>\n",
              "      <td>1</td>\n",
              "      <td>0</td>\n",
              "      <td>-1</td>\n",
              "      <td>16</td>\n",
              "      <td>7</td>\n",
              "      <td>5</td>\n",
              "      <td>4</td>\n",
              "    </tr>\n",
              "  </tbody>\n",
              "</table>\n",
              "</div>"
            ],
            "text/plain": [
              "         Date Location ISO Code  ...  Total Recovered  Total Active Cases\n",
              "3  2020-03-02             ID-JB  ...                5                   2\n",
              "6  2020-03-03             ID-JB  ...                5                   2\n",
              "9  2020-03-04             ID-JB  ...                5                   3\n",
              "12 2020-03-05             ID-JB  ...                5                   4\n",
              "16 2020-03-06             ID-JB  ...                5                   5\n",
              "20 2020-03-07             ID-JB  ...                5                   5\n",
              "24 2020-03-08             ID-JB  ...                5                   5\n",
              "28 2020-03-09             ID-JB  ...                5                   5\n",
              "32 2020-03-10             ID-JB  ...                5                   5\n",
              "37 2020-03-11             ID-JB  ...                5                   4\n",
              "\n",
              "[10 rows x 10 columns]"
            ]
          },
          "metadata": {
            "tags": []
          },
          "execution_count": 37
        }
      ]
    },
    {
      "cell_type": "code",
      "metadata": {
        "id": "g22yVMgGeKEi",
        "outputId": "87670b08-683c-47ca-caa8-85003e7b5c98",
        "colab": {
          "base_uri": "https://localhost:8080/",
          "height": 359
        }
      },
      "source": [
        "# prepare data for visualization\n",
        "Jb_covid_total= Jb_covid.groupby('Date')[['Total Cases','Total Deaths','Total Recovered','Total Active Cases']].sum().reset_index().sort_values('Date', ascending=True).reset_index(drop=True)\n",
        "Jb_covid_total.head(10)"
      ],
      "execution_count": 38,
      "outputs": [
        {
          "output_type": "execute_result",
          "data": {
            "text/html": [
              "<div>\n",
              "<style scoped>\n",
              "    .dataframe tbody tr th:only-of-type {\n",
              "        vertical-align: middle;\n",
              "    }\n",
              "\n",
              "    .dataframe tbody tr th {\n",
              "        vertical-align: top;\n",
              "    }\n",
              "\n",
              "    .dataframe thead th {\n",
              "        text-align: right;\n",
              "    }\n",
              "</style>\n",
              "<table border=\"1\" class=\"dataframe\">\n",
              "  <thead>\n",
              "    <tr style=\"text-align: right;\">\n",
              "      <th></th>\n",
              "      <th>Date</th>\n",
              "      <th>Total Cases</th>\n",
              "      <th>Total Deaths</th>\n",
              "      <th>Total Recovered</th>\n",
              "      <th>Total Active Cases</th>\n",
              "    </tr>\n",
              "  </thead>\n",
              "  <tbody>\n",
              "    <tr>\n",
              "      <th>0</th>\n",
              "      <td>2020-03-02</td>\n",
              "      <td>12</td>\n",
              "      <td>5</td>\n",
              "      <td>5</td>\n",
              "      <td>2</td>\n",
              "    </tr>\n",
              "    <tr>\n",
              "      <th>1</th>\n",
              "      <td>2020-03-03</td>\n",
              "      <td>13</td>\n",
              "      <td>6</td>\n",
              "      <td>5</td>\n",
              "      <td>2</td>\n",
              "    </tr>\n",
              "    <tr>\n",
              "      <th>2</th>\n",
              "      <td>2020-03-04</td>\n",
              "      <td>14</td>\n",
              "      <td>6</td>\n",
              "      <td>5</td>\n",
              "      <td>3</td>\n",
              "    </tr>\n",
              "    <tr>\n",
              "      <th>3</th>\n",
              "      <td>2020-03-05</td>\n",
              "      <td>15</td>\n",
              "      <td>6</td>\n",
              "      <td>5</td>\n",
              "      <td>4</td>\n",
              "    </tr>\n",
              "    <tr>\n",
              "      <th>4</th>\n",
              "      <td>2020-03-06</td>\n",
              "      <td>16</td>\n",
              "      <td>6</td>\n",
              "      <td>5</td>\n",
              "      <td>5</td>\n",
              "    </tr>\n",
              "    <tr>\n",
              "      <th>5</th>\n",
              "      <td>2020-03-07</td>\n",
              "      <td>16</td>\n",
              "      <td>6</td>\n",
              "      <td>5</td>\n",
              "      <td>5</td>\n",
              "    </tr>\n",
              "    <tr>\n",
              "      <th>6</th>\n",
              "      <td>2020-03-08</td>\n",
              "      <td>16</td>\n",
              "      <td>6</td>\n",
              "      <td>5</td>\n",
              "      <td>5</td>\n",
              "    </tr>\n",
              "    <tr>\n",
              "      <th>7</th>\n",
              "      <td>2020-03-09</td>\n",
              "      <td>16</td>\n",
              "      <td>6</td>\n",
              "      <td>5</td>\n",
              "      <td>5</td>\n",
              "    </tr>\n",
              "    <tr>\n",
              "      <th>8</th>\n",
              "      <td>2020-03-10</td>\n",
              "      <td>16</td>\n",
              "      <td>6</td>\n",
              "      <td>5</td>\n",
              "      <td>5</td>\n",
              "    </tr>\n",
              "    <tr>\n",
              "      <th>9</th>\n",
              "      <td>2020-03-11</td>\n",
              "      <td>16</td>\n",
              "      <td>7</td>\n",
              "      <td>5</td>\n",
              "      <td>4</td>\n",
              "    </tr>\n",
              "  </tbody>\n",
              "</table>\n",
              "</div>"
            ],
            "text/plain": [
              "        Date  Total Cases  Total Deaths  Total Recovered  Total Active Cases\n",
              "0 2020-03-02           12             5                5                   2\n",
              "1 2020-03-03           13             6                5                   2\n",
              "2 2020-03-04           14             6                5                   3\n",
              "3 2020-03-05           15             6                5                   4\n",
              "4 2020-03-06           16             6                5                   5\n",
              "5 2020-03-07           16             6                5                   5\n",
              "6 2020-03-08           16             6                5                   5\n",
              "7 2020-03-09           16             6                5                   5\n",
              "8 2020-03-10           16             6                5                   5\n",
              "9 2020-03-11           16             7                5                   4"
            ]
          },
          "metadata": {
            "tags": []
          },
          "execution_count": 38
        }
      ]
    },
    {
      "cell_type": "code",
      "metadata": {
        "id": "jE4ajcP8eOqt",
        "outputId": "5670772b-d3f9-4ae7-e86b-bbfdd6d65f9c",
        "colab": {
          "base_uri": "https://localhost:8080/",
          "height": 542
        }
      },
      "source": [
        "# plot Jabar Covid 19 cases\n",
        "fig = go.Figure()\n",
        "fig.add_trace(go.Scatter(x=Jb_covid_total['Date'],\n",
        "                         y=Jb_covid_total['Total Cases'],\n",
        "                         mode='lines',\n",
        "                         name= 'Total Cases'\n",
        "                        ))\n",
        "\n",
        "fig.add_trace(go.Scatter(x=Jb_covid_total['Date'],\n",
        "                         y=Jb_covid_total['Total Active Cases'],\n",
        "                         mode='lines',\n",
        "                         name= 'Active Cases',\n",
        "                         marker_color= 'red'\n",
        "                         ))\n",
        "\n",
        "fig.add_trace(go.Scatter(x=Jb_covid_total['Date'],\n",
        "                         y=Jb_covid_total['Total Deaths'],\n",
        "                         mode='lines',\n",
        "                         name='Death Cases',\n",
        "                         marker_color='black',\n",
        "                         line=dict(dash='dot')\n",
        "                        ))\n",
        "\n",
        "fig.add_trace(go.Scatter(x=Jb_covid_total['Date'],\n",
        "                         y=Jb_covid_total['Total Recovered'],\n",
        "                         mode='lines',\n",
        "                         name='Recovered Case',\n",
        "                         marker_color='green'\n",
        "                        ))\n",
        "\n",
        "fig.update_layout(title='Jabar Covid Cases',\n",
        "                 template='plotly_white',\n",
        "                 xaxis_title='Date',\n",
        "                 yaxis_title='Total Cases')\n",
        "fig.show()"
      ],
      "execution_count": 39,
      "outputs": [
        {
          "output_type": "display_data",
          "data": {
            "text/html": [
              "<html>\n",
              "<head><meta charset=\"utf-8\" /></head>\n",
              "<body>\n",
              "    <div>\n",
              "            <script src=\"https://cdnjs.cloudflare.com/ajax/libs/mathjax/2.7.5/MathJax.js?config=TeX-AMS-MML_SVG\"></script><script type=\"text/javascript\">if (window.MathJax) {MathJax.Hub.Config({SVG: {font: \"STIX-Web\"}});}</script>\n",
              "                <script type=\"text/javascript\">window.PlotlyConfig = {MathJaxConfig: 'local'};</script>\n",
              "        <script src=\"https://cdn.plot.ly/plotly-latest.min.js\"></script>    \n",
              "            <div id=\"7f7a9437-e03b-4e62-833b-f05036f70b04\" class=\"plotly-graph-div\" style=\"height:525px; width:100%;\"></div>\n",
              "            <script type=\"text/javascript\">\n",
              "                \n",
              "                    window.PLOTLYENV=window.PLOTLYENV || {};\n",
              "                    \n",
              "                if (document.getElementById(\"7f7a9437-e03b-4e62-833b-f05036f70b04\")) {\n",
              "                    Plotly.newPlot(\n",
              "                        '7f7a9437-e03b-4e62-833b-f05036f70b04',\n",
              "                        [{\"mode\": \"lines\", \"name\": \"Total Cases\", \"type\": \"scatter\", \"x\": [\"2020-03-02T00:00:00\", \"2020-03-03T00:00:00\", \"2020-03-04T00:00:00\", \"2020-03-05T00:00:00\", \"2020-03-06T00:00:00\", \"2020-03-07T00:00:00\", \"2020-03-08T00:00:00\", \"2020-03-09T00:00:00\", \"2020-03-10T00:00:00\", \"2020-03-11T00:00:00\", \"2020-03-12T00:00:00\", \"2020-03-13T00:00:00\", \"2020-03-14T00:00:00\", \"2020-03-15T00:00:00\", \"2020-03-16T00:00:00\", \"2020-03-17T00:00:00\", \"2020-03-18T00:00:00\", \"2020-03-19T00:00:00\", \"2020-03-20T00:00:00\", \"2020-03-21T00:00:00\", \"2020-03-22T00:00:00\", \"2020-03-23T00:00:00\", \"2020-03-24T00:00:00\", \"2020-03-25T00:00:00\", \"2020-03-26T00:00:00\", \"2020-03-27T00:00:00\", \"2020-03-28T00:00:00\", \"2020-03-29T00:00:00\", \"2020-03-30T00:00:00\", \"2020-03-31T00:00:00\", \"2020-04-01T00:00:00\", \"2020-04-02T00:00:00\", \"2020-04-03T00:00:00\", \"2020-04-04T00:00:00\", \"2020-04-05T00:00:00\", \"2020-04-06T00:00:00\", \"2020-04-07T00:00:00\", \"2020-04-08T00:00:00\", \"2020-04-09T00:00:00\", \"2020-04-10T00:00:00\", \"2020-04-11T00:00:00\", \"2020-04-12T00:00:00\", \"2020-04-13T00:00:00\", \"2020-04-14T00:00:00\", \"2020-04-15T00:00:00\", \"2020-04-16T00:00:00\", \"2020-04-17T00:00:00\", \"2020-04-18T00:00:00\", \"2020-04-19T00:00:00\", \"2020-04-20T00:00:00\", \"2020-04-21T00:00:00\", \"2020-04-22T00:00:00\", \"2020-04-23T00:00:00\", \"2020-04-24T00:00:00\", \"2020-04-25T00:00:00\", \"2020-04-26T00:00:00\", \"2020-04-27T00:00:00\", \"2020-04-28T00:00:00\", \"2020-04-29T00:00:00\", \"2020-04-30T00:00:00\", \"2020-05-01T00:00:00\", \"2020-05-02T00:00:00\", \"2020-05-03T00:00:00\", \"2020-05-04T00:00:00\", \"2020-05-05T00:00:00\", \"2020-05-06T00:00:00\", \"2020-05-07T00:00:00\", \"2020-05-08T00:00:00\", \"2020-05-09T00:00:00\", \"2020-05-10T00:00:00\", \"2020-05-11T00:00:00\", \"2020-05-12T00:00:00\", \"2020-05-13T00:00:00\", \"2020-05-14T00:00:00\", \"2020-05-15T00:00:00\", \"2020-05-16T00:00:00\", \"2020-05-17T00:00:00\", \"2020-05-18T00:00:00\", \"2020-05-19T00:00:00\", \"2020-05-20T00:00:00\", \"2020-05-21T00:00:00\", \"2020-05-22T00:00:00\", \"2020-05-23T00:00:00\", \"2020-05-24T00:00:00\", \"2020-05-25T00:00:00\", \"2020-05-26T00:00:00\", \"2020-05-27T00:00:00\", \"2020-05-28T00:00:00\", \"2020-05-29T00:00:00\", \"2020-05-30T00:00:00\", \"2020-05-31T00:00:00\", \"2020-06-01T00:00:00\", \"2020-06-02T00:00:00\", \"2020-06-03T00:00:00\", \"2020-06-04T00:00:00\", \"2020-06-05T00:00:00\", \"2020-06-06T00:00:00\", \"2020-06-07T00:00:00\", \"2020-06-08T00:00:00\", \"2020-06-09T00:00:00\", \"2020-06-10T00:00:00\", \"2020-06-11T00:00:00\", \"2020-06-12T00:00:00\", \"2020-06-13T00:00:00\", \"2020-06-14T00:00:00\", \"2020-06-15T00:00:00\", \"2020-06-16T00:00:00\", \"2020-06-17T00:00:00\", \"2020-06-18T00:00:00\", \"2020-06-19T00:00:00\", \"2020-06-20T00:00:00\", \"2020-06-21T00:00:00\", \"2020-06-22T00:00:00\", \"2020-06-23T00:00:00\", \"2020-06-24T00:00:00\", \"2020-06-25T00:00:00\", \"2020-06-26T00:00:00\", \"2020-06-27T00:00:00\", \"2020-06-28T00:00:00\", \"2020-06-29T00:00:00\", \"2020-06-30T00:00:00\", \"2020-07-01T00:00:00\", \"2020-07-02T00:00:00\", \"2020-07-03T00:00:00\", \"2020-07-04T00:00:00\", \"2020-07-05T00:00:00\", \"2020-07-06T00:00:00\", \"2020-07-07T00:00:00\", \"2020-07-08T00:00:00\", \"2020-07-09T00:00:00\", \"2020-07-10T00:00:00\", \"2020-07-11T00:00:00\", \"2020-07-12T00:00:00\", \"2020-07-13T00:00:00\", \"2020-07-14T00:00:00\", \"2020-07-15T00:00:00\", \"2020-07-16T00:00:00\", \"2020-07-17T00:00:00\", \"2020-07-18T00:00:00\", \"2020-07-19T00:00:00\", \"2020-07-20T00:00:00\", \"2020-07-21T00:00:00\", \"2020-07-22T00:00:00\", \"2020-07-23T00:00:00\", \"2020-07-24T00:00:00\", \"2020-07-25T00:00:00\", \"2020-07-26T00:00:00\", \"2020-07-27T00:00:00\", \"2020-07-28T00:00:00\", \"2020-07-29T00:00:00\", \"2020-07-30T00:00:00\", \"2020-07-31T00:00:00\", \"2020-08-01T00:00:00\", \"2020-08-02T00:00:00\", \"2020-08-03T00:00:00\", \"2020-08-04T00:00:00\", \"2020-08-05T00:00:00\", \"2020-08-06T00:00:00\", \"2020-08-07T00:00:00\", \"2020-08-08T00:00:00\", \"2020-08-09T00:00:00\", \"2020-08-10T00:00:00\", \"2020-08-11T00:00:00\", \"2020-08-12T00:00:00\", \"2020-08-13T00:00:00\", \"2020-08-14T00:00:00\", \"2020-08-15T00:00:00\", \"2020-08-16T00:00:00\", \"2020-08-17T00:00:00\", \"2020-08-18T00:00:00\", \"2020-08-19T00:00:00\", \"2020-08-20T00:00:00\", \"2020-08-21T00:00:00\", \"2020-08-22T00:00:00\", \"2020-08-23T00:00:00\", \"2020-08-24T00:00:00\", \"2020-08-25T00:00:00\", \"2020-08-26T00:00:00\", \"2020-08-27T00:00:00\", \"2020-08-28T00:00:00\", \"2020-08-29T00:00:00\", \"2020-08-30T00:00:00\", \"2020-08-31T00:00:00\", \"2020-09-01T00:00:00\", \"2020-09-02T00:00:00\", \"2020-09-03T00:00:00\", \"2020-09-04T00:00:00\", \"2020-09-05T00:00:00\", \"2020-09-06T00:00:00\", \"2020-09-07T00:00:00\", \"2020-09-08T00:00:00\", \"2020-09-09T00:00:00\", \"2020-09-10T00:00:00\", \"2020-09-11T00:00:00\", \"2020-09-12T00:00:00\", \"2020-09-13T00:00:00\", \"2020-09-14T00:00:00\", \"2020-09-15T00:00:00\", \"2020-09-16T00:00:00\", \"2020-09-17T00:00:00\", \"2020-09-18T00:00:00\", \"2020-09-19T00:00:00\", \"2020-09-20T00:00:00\", \"2020-09-21T00:00:00\", \"2020-09-22T00:00:00\", \"2020-09-23T00:00:00\", \"2020-09-24T00:00:00\", \"2020-09-25T00:00:00\", \"2020-09-26T00:00:00\", \"2020-09-27T00:00:00\", \"2020-09-28T00:00:00\", \"2020-09-29T00:00:00\", \"2020-09-30T00:00:00\", \"2020-10-01T00:00:00\", \"2020-10-02T00:00:00\", \"2020-10-03T00:00:00\", \"2020-10-04T00:00:00\", \"2020-10-05T00:00:00\", \"2020-10-06T00:00:00\", \"2020-10-07T00:00:00\", \"2020-10-08T00:00:00\", \"2020-10-09T00:00:00\", \"2020-10-10T00:00:00\", \"2020-10-11T00:00:00\"], \"y\": [12, 13, 14, 15, 16, 16, 16, 16, 16, 16, 17, 21, 21, 21, 22, 33, 38, 45, 65, 70, 73, 80, 82, 86, 94, 121, 144, 177, 203, 212, 238, 262, 264, 289, 299, 319, 398, 422, 444, 454, 499, 532, 609, 615, 652, 674, 739, 754, 808, 835, 853, 861, 888, 960, 1007, 1019, 1059, 1078, 1118, 1123, 1127, 1163, 1177, 1363, 1415, 1436, 1487, 1517, 1548, 1548, 1603, 1656, 1664, 1674, 1707, 1731, 1763, 1784, 1807, 1950, 2019, 2058, 2114, 2161, 2182, 2199, 2222, 2247, 2287, 2307, 2345, 2386, 2404, 2408, 2416, 2431, 2444, 2478, 2501, 2530, 2582, 2630, 2645, 2657, 2672, 2696, 2733, 2776, 2827, 2890, 2909, 2931, 2949, 2981, 3027, 3068, 3103, 3152, 3177, 3220, 3295, 3353, 3418, 3450, 3536, 3644, 3773, 3854, 3949, 4913, 5021, 5094, 5138, 5225, 5302, 5376, 5416, 5467, 5525, 5549, 5608, 5673, 5705, 5768, 5857, 5929, 5979, 6036, 6168, 6265, 6407, 6476, 6535, 6592, 6645, 6738, 6862, 6944, 7095, 7336, 7512, 7545, 7637, 7743, 7853, 8215, 8442, 8520, 8564, 8609, 8712, 8909, 9002, 9156, 9224, 9356, 9612, 9788, 9941, 10498, 10783, 10884, 11031, 11244, 11446, 11682, 12065, 12283, 12454, 12656, 12989, 13273, 13605, 13876, 14164, 14324, 14530, 14885, 15184, 15538, 15885, 16343, 16766, 17456, 18059, 18572, 19370, 20102, 20494, 20929, 21421, 21737, 22167, 22741, 23281, 23643, 23890, 24394, 24906, 25662, 26259, 26763, 27031, 27236]}, {\"marker\": {\"color\": \"red\"}, \"mode\": \"lines\", \"name\": \"Active Cases\", \"type\": \"scatter\", \"x\": [\"2020-03-02T00:00:00\", \"2020-03-03T00:00:00\", \"2020-03-04T00:00:00\", \"2020-03-05T00:00:00\", \"2020-03-06T00:00:00\", \"2020-03-07T00:00:00\", \"2020-03-08T00:00:00\", \"2020-03-09T00:00:00\", \"2020-03-10T00:00:00\", \"2020-03-11T00:00:00\", \"2020-03-12T00:00:00\", \"2020-03-13T00:00:00\", \"2020-03-14T00:00:00\", \"2020-03-15T00:00:00\", \"2020-03-16T00:00:00\", \"2020-03-17T00:00:00\", \"2020-03-18T00:00:00\", \"2020-03-19T00:00:00\", \"2020-03-20T00:00:00\", \"2020-03-21T00:00:00\", \"2020-03-22T00:00:00\", \"2020-03-23T00:00:00\", \"2020-03-24T00:00:00\", \"2020-03-25T00:00:00\", \"2020-03-26T00:00:00\", \"2020-03-27T00:00:00\", \"2020-03-28T00:00:00\", \"2020-03-29T00:00:00\", \"2020-03-30T00:00:00\", \"2020-03-31T00:00:00\", \"2020-04-01T00:00:00\", \"2020-04-02T00:00:00\", \"2020-04-03T00:00:00\", \"2020-04-04T00:00:00\", \"2020-04-05T00:00:00\", \"2020-04-06T00:00:00\", \"2020-04-07T00:00:00\", \"2020-04-08T00:00:00\", \"2020-04-09T00:00:00\", \"2020-04-10T00:00:00\", \"2020-04-11T00:00:00\", \"2020-04-12T00:00:00\", \"2020-04-13T00:00:00\", \"2020-04-14T00:00:00\", \"2020-04-15T00:00:00\", \"2020-04-16T00:00:00\", \"2020-04-17T00:00:00\", \"2020-04-18T00:00:00\", \"2020-04-19T00:00:00\", \"2020-04-20T00:00:00\", \"2020-04-21T00:00:00\", \"2020-04-22T00:00:00\", \"2020-04-23T00:00:00\", \"2020-04-24T00:00:00\", \"2020-04-25T00:00:00\", \"2020-04-26T00:00:00\", \"2020-04-27T00:00:00\", \"2020-04-28T00:00:00\", \"2020-04-29T00:00:00\", \"2020-04-30T00:00:00\", \"2020-05-01T00:00:00\", \"2020-05-02T00:00:00\", \"2020-05-03T00:00:00\", \"2020-05-04T00:00:00\", \"2020-05-05T00:00:00\", \"2020-05-06T00:00:00\", \"2020-05-07T00:00:00\", \"2020-05-08T00:00:00\", \"2020-05-09T00:00:00\", \"2020-05-10T00:00:00\", \"2020-05-11T00:00:00\", \"2020-05-12T00:00:00\", \"2020-05-13T00:00:00\", \"2020-05-14T00:00:00\", \"2020-05-15T00:00:00\", \"2020-05-16T00:00:00\", \"2020-05-17T00:00:00\", \"2020-05-18T00:00:00\", \"2020-05-19T00:00:00\", \"2020-05-20T00:00:00\", \"2020-05-21T00:00:00\", \"2020-05-22T00:00:00\", \"2020-05-23T00:00:00\", \"2020-05-24T00:00:00\", \"2020-05-25T00:00:00\", \"2020-05-26T00:00:00\", \"2020-05-27T00:00:00\", \"2020-05-28T00:00:00\", \"2020-05-29T00:00:00\", \"2020-05-30T00:00:00\", \"2020-05-31T00:00:00\", \"2020-06-01T00:00:00\", \"2020-06-02T00:00:00\", \"2020-06-03T00:00:00\", \"2020-06-04T00:00:00\", \"2020-06-05T00:00:00\", \"2020-06-06T00:00:00\", \"2020-06-07T00:00:00\", \"2020-06-08T00:00:00\", \"2020-06-09T00:00:00\", \"2020-06-10T00:00:00\", \"2020-06-11T00:00:00\", \"2020-06-12T00:00:00\", \"2020-06-13T00:00:00\", \"2020-06-14T00:00:00\", \"2020-06-15T00:00:00\", \"2020-06-16T00:00:00\", \"2020-06-17T00:00:00\", \"2020-06-18T00:00:00\", \"2020-06-19T00:00:00\", \"2020-06-20T00:00:00\", \"2020-06-21T00:00:00\", \"2020-06-22T00:00:00\", \"2020-06-23T00:00:00\", \"2020-06-24T00:00:00\", \"2020-06-25T00:00:00\", \"2020-06-26T00:00:00\", \"2020-06-27T00:00:00\", \"2020-06-28T00:00:00\", \"2020-06-29T00:00:00\", \"2020-06-30T00:00:00\", \"2020-07-01T00:00:00\", \"2020-07-02T00:00:00\", \"2020-07-03T00:00:00\", \"2020-07-04T00:00:00\", \"2020-07-05T00:00:00\", \"2020-07-06T00:00:00\", \"2020-07-07T00:00:00\", \"2020-07-08T00:00:00\", \"2020-07-09T00:00:00\", \"2020-07-10T00:00:00\", \"2020-07-11T00:00:00\", \"2020-07-12T00:00:00\", \"2020-07-13T00:00:00\", \"2020-07-14T00:00:00\", \"2020-07-15T00:00:00\", \"2020-07-16T00:00:00\", \"2020-07-17T00:00:00\", \"2020-07-18T00:00:00\", \"2020-07-19T00:00:00\", \"2020-07-20T00:00:00\", \"2020-07-21T00:00:00\", \"2020-07-22T00:00:00\", \"2020-07-23T00:00:00\", \"2020-07-24T00:00:00\", \"2020-07-25T00:00:00\", \"2020-07-26T00:00:00\", \"2020-07-27T00:00:00\", \"2020-07-28T00:00:00\", \"2020-07-29T00:00:00\", \"2020-07-30T00:00:00\", \"2020-07-31T00:00:00\", \"2020-08-01T00:00:00\", \"2020-08-02T00:00:00\", \"2020-08-03T00:00:00\", \"2020-08-04T00:00:00\", \"2020-08-05T00:00:00\", \"2020-08-06T00:00:00\", \"2020-08-07T00:00:00\", \"2020-08-08T00:00:00\", \"2020-08-09T00:00:00\", \"2020-08-10T00:00:00\", \"2020-08-11T00:00:00\", \"2020-08-12T00:00:00\", \"2020-08-13T00:00:00\", \"2020-08-14T00:00:00\", \"2020-08-15T00:00:00\", \"2020-08-16T00:00:00\", \"2020-08-17T00:00:00\", \"2020-08-18T00:00:00\", \"2020-08-19T00:00:00\", \"2020-08-20T00:00:00\", \"2020-08-21T00:00:00\", \"2020-08-22T00:00:00\", \"2020-08-23T00:00:00\", \"2020-08-24T00:00:00\", \"2020-08-25T00:00:00\", \"2020-08-26T00:00:00\", \"2020-08-27T00:00:00\", \"2020-08-28T00:00:00\", \"2020-08-29T00:00:00\", \"2020-08-30T00:00:00\", \"2020-08-31T00:00:00\", \"2020-09-01T00:00:00\", \"2020-09-02T00:00:00\", \"2020-09-03T00:00:00\", \"2020-09-04T00:00:00\", \"2020-09-05T00:00:00\", \"2020-09-06T00:00:00\", \"2020-09-07T00:00:00\", \"2020-09-08T00:00:00\", \"2020-09-09T00:00:00\", \"2020-09-10T00:00:00\", \"2020-09-11T00:00:00\", \"2020-09-12T00:00:00\", \"2020-09-13T00:00:00\", \"2020-09-14T00:00:00\", \"2020-09-15T00:00:00\", \"2020-09-16T00:00:00\", \"2020-09-17T00:00:00\", \"2020-09-18T00:00:00\", \"2020-09-19T00:00:00\", \"2020-09-20T00:00:00\", \"2020-09-21T00:00:00\", \"2020-09-22T00:00:00\", \"2020-09-23T00:00:00\", \"2020-09-24T00:00:00\", \"2020-09-25T00:00:00\", \"2020-09-26T00:00:00\", \"2020-09-27T00:00:00\", \"2020-09-28T00:00:00\", \"2020-09-29T00:00:00\", \"2020-09-30T00:00:00\", \"2020-10-01T00:00:00\", \"2020-10-02T00:00:00\", \"2020-10-03T00:00:00\", \"2020-10-04T00:00:00\", \"2020-10-05T00:00:00\", \"2020-10-06T00:00:00\", \"2020-10-07T00:00:00\", \"2020-10-08T00:00:00\", \"2020-10-09T00:00:00\", \"2020-10-10T00:00:00\", \"2020-10-11T00:00:00\"], \"y\": [2, 2, 3, 4, 5, 5, 5, 5, 5, 4, 5, 5, 5, 5, 6, 17, 20, 26, 44, 49, 49, 54, 54, 58, 66, 89, 109, 139, 162, 171, 197, 216, 215, 238, 248, 266, 342, 360, 374, 384, 427, 453, 517, 522, 555, 571, 617, 632, 676, 696, 686, 688, 703, 770, 814, 825, 861, 872, 905, 869, 870, 902, 907, 1083, 1124, 1131, 1174, 1201, 1210, 1210, 1251, 1300, 1281, 1283, 1297, 1319, 1284, 1216, 1224, 1365, 1423, 1447, 1460, 1495, 1512, 1494, 1476, 1455, 1487, 1471, 1500, 1533, 1508, 1452, 1439, 1402, 1397, 1325, 1270, 1284, 1298, 1325, 1293, 1269, 1240, 1256, 1282, 1290, 1286, 1319, 1337, 1357, 1351, 1353, 1389, 1361, 1283, 1317, 1333, 1373, 1363, 1405, 1425, 1453, 1517, 1608, 1714, 1749, 1817, 2749, 2823, 2866, 2901, 2969, 3011, 2938, 2960, 2977, 3016, 3036, 3000, 3029, 3038, 3087, 3157, 3197, 3224, 2875, 2401, 2448, 2255, 2307, 2347, 2397, 2403, 2321, 2436, 2485, 2569, 2767, 2873, 2879, 2928, 2962, 3054, 3394, 3585, 3620, 3618, 3647, 3696, 3820, 3783, 3752, 3300, 3222, 3471, 3616, 3679, 4167, 4444, 4521, 4603, 4767, 4831, 5033, 5329, 5502, 5619, 5733, 5988, 6222, 6444, 6423, 6381, 6344, 6384, 6481, 6564, 6584, 6645, 6551, 6563, 7000, 6997, 7323, 7859, 7738, 7492, 7688, 7878, 8066, 8106, 8533, 8873, 9125, 9279, 8972, 9267, 9497, 9766, 9718, 9594, 9244]}, {\"line\": {\"dash\": \"dot\"}, \"marker\": {\"color\": \"black\"}, \"mode\": \"lines\", \"name\": \"Death Cases\", \"type\": \"scatter\", \"x\": [\"2020-03-02T00:00:00\", \"2020-03-03T00:00:00\", \"2020-03-04T00:00:00\", \"2020-03-05T00:00:00\", \"2020-03-06T00:00:00\", \"2020-03-07T00:00:00\", \"2020-03-08T00:00:00\", \"2020-03-09T00:00:00\", \"2020-03-10T00:00:00\", \"2020-03-11T00:00:00\", \"2020-03-12T00:00:00\", \"2020-03-13T00:00:00\", \"2020-03-14T00:00:00\", \"2020-03-15T00:00:00\", \"2020-03-16T00:00:00\", \"2020-03-17T00:00:00\", \"2020-03-18T00:00:00\", \"2020-03-19T00:00:00\", \"2020-03-20T00:00:00\", \"2020-03-21T00:00:00\", \"2020-03-22T00:00:00\", \"2020-03-23T00:00:00\", \"2020-03-24T00:00:00\", \"2020-03-25T00:00:00\", \"2020-03-26T00:00:00\", \"2020-03-27T00:00:00\", \"2020-03-28T00:00:00\", \"2020-03-29T00:00:00\", \"2020-03-30T00:00:00\", \"2020-03-31T00:00:00\", \"2020-04-01T00:00:00\", \"2020-04-02T00:00:00\", \"2020-04-03T00:00:00\", \"2020-04-04T00:00:00\", \"2020-04-05T00:00:00\", \"2020-04-06T00:00:00\", \"2020-04-07T00:00:00\", \"2020-04-08T00:00:00\", \"2020-04-09T00:00:00\", \"2020-04-10T00:00:00\", \"2020-04-11T00:00:00\", \"2020-04-12T00:00:00\", \"2020-04-13T00:00:00\", \"2020-04-14T00:00:00\", \"2020-04-15T00:00:00\", \"2020-04-16T00:00:00\", \"2020-04-17T00:00:00\", \"2020-04-18T00:00:00\", \"2020-04-19T00:00:00\", \"2020-04-20T00:00:00\", \"2020-04-21T00:00:00\", \"2020-04-22T00:00:00\", \"2020-04-23T00:00:00\", \"2020-04-24T00:00:00\", \"2020-04-25T00:00:00\", \"2020-04-26T00:00:00\", \"2020-04-27T00:00:00\", \"2020-04-28T00:00:00\", \"2020-04-29T00:00:00\", \"2020-04-30T00:00:00\", \"2020-05-01T00:00:00\", \"2020-05-02T00:00:00\", \"2020-05-03T00:00:00\", \"2020-05-04T00:00:00\", \"2020-05-05T00:00:00\", \"2020-05-06T00:00:00\", \"2020-05-07T00:00:00\", \"2020-05-08T00:00:00\", \"2020-05-09T00:00:00\", \"2020-05-10T00:00:00\", \"2020-05-11T00:00:00\", \"2020-05-12T00:00:00\", \"2020-05-13T00:00:00\", \"2020-05-14T00:00:00\", \"2020-05-15T00:00:00\", \"2020-05-16T00:00:00\", \"2020-05-17T00:00:00\", \"2020-05-18T00:00:00\", \"2020-05-19T00:00:00\", \"2020-05-20T00:00:00\", \"2020-05-21T00:00:00\", \"2020-05-22T00:00:00\", \"2020-05-23T00:00:00\", \"2020-05-24T00:00:00\", \"2020-05-25T00:00:00\", \"2020-05-26T00:00:00\", \"2020-05-27T00:00:00\", \"2020-05-28T00:00:00\", \"2020-05-29T00:00:00\", \"2020-05-30T00:00:00\", \"2020-05-31T00:00:00\", \"2020-06-01T00:00:00\", \"2020-06-02T00:00:00\", \"2020-06-03T00:00:00\", \"2020-06-04T00:00:00\", \"2020-06-05T00:00:00\", \"2020-06-06T00:00:00\", \"2020-06-07T00:00:00\", \"2020-06-08T00:00:00\", \"2020-06-09T00:00:00\", \"2020-06-10T00:00:00\", \"2020-06-11T00:00:00\", \"2020-06-12T00:00:00\", \"2020-06-13T00:00:00\", \"2020-06-14T00:00:00\", \"2020-06-15T00:00:00\", \"2020-06-16T00:00:00\", \"2020-06-17T00:00:00\", \"2020-06-18T00:00:00\", \"2020-06-19T00:00:00\", \"2020-06-20T00:00:00\", \"2020-06-21T00:00:00\", \"2020-06-22T00:00:00\", \"2020-06-23T00:00:00\", \"2020-06-24T00:00:00\", \"2020-06-25T00:00:00\", \"2020-06-26T00:00:00\", \"2020-06-27T00:00:00\", \"2020-06-28T00:00:00\", \"2020-06-29T00:00:00\", \"2020-06-30T00:00:00\", \"2020-07-01T00:00:00\", \"2020-07-02T00:00:00\", \"2020-07-03T00:00:00\", \"2020-07-04T00:00:00\", \"2020-07-05T00:00:00\", \"2020-07-06T00:00:00\", \"2020-07-07T00:00:00\", \"2020-07-08T00:00:00\", \"2020-07-09T00:00:00\", \"2020-07-10T00:00:00\", \"2020-07-11T00:00:00\", \"2020-07-12T00:00:00\", \"2020-07-13T00:00:00\", \"2020-07-14T00:00:00\", \"2020-07-15T00:00:00\", \"2020-07-16T00:00:00\", \"2020-07-17T00:00:00\", \"2020-07-18T00:00:00\", \"2020-07-19T00:00:00\", \"2020-07-20T00:00:00\", \"2020-07-21T00:00:00\", \"2020-07-22T00:00:00\", \"2020-07-23T00:00:00\", \"2020-07-24T00:00:00\", \"2020-07-25T00:00:00\", \"2020-07-26T00:00:00\", \"2020-07-27T00:00:00\", \"2020-07-28T00:00:00\", \"2020-07-29T00:00:00\", \"2020-07-30T00:00:00\", \"2020-07-31T00:00:00\", \"2020-08-01T00:00:00\", \"2020-08-02T00:00:00\", \"2020-08-03T00:00:00\", \"2020-08-04T00:00:00\", \"2020-08-05T00:00:00\", \"2020-08-06T00:00:00\", \"2020-08-07T00:00:00\", \"2020-08-08T00:00:00\", \"2020-08-09T00:00:00\", \"2020-08-10T00:00:00\", \"2020-08-11T00:00:00\", \"2020-08-12T00:00:00\", \"2020-08-13T00:00:00\", \"2020-08-14T00:00:00\", \"2020-08-15T00:00:00\", \"2020-08-16T00:00:00\", \"2020-08-17T00:00:00\", \"2020-08-18T00:00:00\", \"2020-08-19T00:00:00\", \"2020-08-20T00:00:00\", \"2020-08-21T00:00:00\", \"2020-08-22T00:00:00\", \"2020-08-23T00:00:00\", \"2020-08-24T00:00:00\", \"2020-08-25T00:00:00\", \"2020-08-26T00:00:00\", \"2020-08-27T00:00:00\", \"2020-08-28T00:00:00\", \"2020-08-29T00:00:00\", \"2020-08-30T00:00:00\", \"2020-08-31T00:00:00\", \"2020-09-01T00:00:00\", \"2020-09-02T00:00:00\", \"2020-09-03T00:00:00\", \"2020-09-04T00:00:00\", \"2020-09-05T00:00:00\", \"2020-09-06T00:00:00\", \"2020-09-07T00:00:00\", \"2020-09-08T00:00:00\", \"2020-09-09T00:00:00\", \"2020-09-10T00:00:00\", \"2020-09-11T00:00:00\", \"2020-09-12T00:00:00\", \"2020-09-13T00:00:00\", \"2020-09-14T00:00:00\", \"2020-09-15T00:00:00\", \"2020-09-16T00:00:00\", \"2020-09-17T00:00:00\", \"2020-09-18T00:00:00\", \"2020-09-19T00:00:00\", \"2020-09-20T00:00:00\", \"2020-09-21T00:00:00\", \"2020-09-22T00:00:00\", \"2020-09-23T00:00:00\", \"2020-09-24T00:00:00\", \"2020-09-25T00:00:00\", \"2020-09-26T00:00:00\", \"2020-09-27T00:00:00\", \"2020-09-28T00:00:00\", \"2020-09-29T00:00:00\", \"2020-09-30T00:00:00\", \"2020-10-01T00:00:00\", \"2020-10-02T00:00:00\", \"2020-10-03T00:00:00\", \"2020-10-04T00:00:00\", \"2020-10-05T00:00:00\", \"2020-10-06T00:00:00\", \"2020-10-07T00:00:00\", \"2020-10-08T00:00:00\", \"2020-10-09T00:00:00\", \"2020-10-10T00:00:00\", \"2020-10-11T00:00:00\"], \"y\": [5, 6, 6, 6, 6, 6, 6, 6, 6, 7, 7, 7, 7, 7, 7, 7, 8, 9, 11, 11, 14, 16, 17, 17, 17, 21, 23, 25, 25, 25, 25, 29, 30, 32, 32, 33, 33, 38, 44, 44, 45, 49, 59, 59, 62, 63, 66, 66, 67, 70, 75, 78, 81, 83, 83, 83, 84, 85, 85, 89, 89, 90, 91, 94, 95, 98, 98, 100, 103, 103, 106, 106, 106, 107, 108, 108, 118, 131, 132, 132, 132, 134, 136, 137, 137, 146, 151, 151, 152, 154, 154, 154, 161, 164, 165, 168, 168, 168, 171, 171, 171, 171, 171, 171, 171, 172, 172, 179, 181, 181, 181, 181, 181, 181, 181, 183, 185, 185, 185, 185, 186, 187, 187, 187, 187, 187, 188, 190, 192, 196, 196, 197, 197, 197, 198, 199, 199, 200, 201, 201, 201, 205, 205, 206, 206, 206, 206, 206, 206, 208, 210, 210, 210, 210, 210, 215, 215, 216, 220, 223, 227, 227, 231, 232, 233, 234, 234, 236, 237, 237, 242, 244, 252, 258, 259, 262, 263, 263, 263, 265, 265, 265, 273, 274, 275, 279, 280, 280, 280, 280, 282, 285, 285, 292, 293, 298, 298, 305, 306, 309, 311, 311, 317, 319, 329, 342, 354, 367, 384, 386, 388, 403, 419, 435, 450, 465, 480, 495, 511, 524, 527, 529, 530, 530]}, {\"marker\": {\"color\": \"green\"}, \"mode\": \"lines\", \"name\": \"Recovered Case\", \"type\": \"scatter\", \"x\": [\"2020-03-02T00:00:00\", \"2020-03-03T00:00:00\", \"2020-03-04T00:00:00\", \"2020-03-05T00:00:00\", \"2020-03-06T00:00:00\", \"2020-03-07T00:00:00\", \"2020-03-08T00:00:00\", \"2020-03-09T00:00:00\", \"2020-03-10T00:00:00\", \"2020-03-11T00:00:00\", \"2020-03-12T00:00:00\", \"2020-03-13T00:00:00\", \"2020-03-14T00:00:00\", \"2020-03-15T00:00:00\", \"2020-03-16T00:00:00\", \"2020-03-17T00:00:00\", \"2020-03-18T00:00:00\", \"2020-03-19T00:00:00\", \"2020-03-20T00:00:00\", \"2020-03-21T00:00:00\", \"2020-03-22T00:00:00\", \"2020-03-23T00:00:00\", \"2020-03-24T00:00:00\", \"2020-03-25T00:00:00\", \"2020-03-26T00:00:00\", \"2020-03-27T00:00:00\", \"2020-03-28T00:00:00\", \"2020-03-29T00:00:00\", \"2020-03-30T00:00:00\", \"2020-03-31T00:00:00\", \"2020-04-01T00:00:00\", \"2020-04-02T00:00:00\", \"2020-04-03T00:00:00\", \"2020-04-04T00:00:00\", \"2020-04-05T00:00:00\", \"2020-04-06T00:00:00\", \"2020-04-07T00:00:00\", \"2020-04-08T00:00:00\", \"2020-04-09T00:00:00\", \"2020-04-10T00:00:00\", \"2020-04-11T00:00:00\", \"2020-04-12T00:00:00\", \"2020-04-13T00:00:00\", \"2020-04-14T00:00:00\", \"2020-04-15T00:00:00\", \"2020-04-16T00:00:00\", \"2020-04-17T00:00:00\", \"2020-04-18T00:00:00\", \"2020-04-19T00:00:00\", \"2020-04-20T00:00:00\", \"2020-04-21T00:00:00\", \"2020-04-22T00:00:00\", \"2020-04-23T00:00:00\", \"2020-04-24T00:00:00\", \"2020-04-25T00:00:00\", \"2020-04-26T00:00:00\", \"2020-04-27T00:00:00\", \"2020-04-28T00:00:00\", \"2020-04-29T00:00:00\", \"2020-04-30T00:00:00\", \"2020-05-01T00:00:00\", \"2020-05-02T00:00:00\", \"2020-05-03T00:00:00\", \"2020-05-04T00:00:00\", \"2020-05-05T00:00:00\", \"2020-05-06T00:00:00\", \"2020-05-07T00:00:00\", \"2020-05-08T00:00:00\", \"2020-05-09T00:00:00\", \"2020-05-10T00:00:00\", \"2020-05-11T00:00:00\", \"2020-05-12T00:00:00\", \"2020-05-13T00:00:00\", \"2020-05-14T00:00:00\", \"2020-05-15T00:00:00\", \"2020-05-16T00:00:00\", \"2020-05-17T00:00:00\", \"2020-05-18T00:00:00\", \"2020-05-19T00:00:00\", \"2020-05-20T00:00:00\", \"2020-05-21T00:00:00\", \"2020-05-22T00:00:00\", \"2020-05-23T00:00:00\", \"2020-05-24T00:00:00\", \"2020-05-25T00:00:00\", \"2020-05-26T00:00:00\", \"2020-05-27T00:00:00\", \"2020-05-28T00:00:00\", \"2020-05-29T00:00:00\", \"2020-05-30T00:00:00\", \"2020-05-31T00:00:00\", \"2020-06-01T00:00:00\", \"2020-06-02T00:00:00\", \"2020-06-03T00:00:00\", \"2020-06-04T00:00:00\", \"2020-06-05T00:00:00\", \"2020-06-06T00:00:00\", \"2020-06-07T00:00:00\", \"2020-06-08T00:00:00\", \"2020-06-09T00:00:00\", \"2020-06-10T00:00:00\", \"2020-06-11T00:00:00\", \"2020-06-12T00:00:00\", \"2020-06-13T00:00:00\", \"2020-06-14T00:00:00\", \"2020-06-15T00:00:00\", \"2020-06-16T00:00:00\", \"2020-06-17T00:00:00\", \"2020-06-18T00:00:00\", \"2020-06-19T00:00:00\", \"2020-06-20T00:00:00\", \"2020-06-21T00:00:00\", \"2020-06-22T00:00:00\", \"2020-06-23T00:00:00\", \"2020-06-24T00:00:00\", \"2020-06-25T00:00:00\", \"2020-06-26T00:00:00\", \"2020-06-27T00:00:00\", \"2020-06-28T00:00:00\", \"2020-06-29T00:00:00\", \"2020-06-30T00:00:00\", \"2020-07-01T00:00:00\", \"2020-07-02T00:00:00\", \"2020-07-03T00:00:00\", \"2020-07-04T00:00:00\", \"2020-07-05T00:00:00\", \"2020-07-06T00:00:00\", \"2020-07-07T00:00:00\", \"2020-07-08T00:00:00\", \"2020-07-09T00:00:00\", \"2020-07-10T00:00:00\", \"2020-07-11T00:00:00\", \"2020-07-12T00:00:00\", \"2020-07-13T00:00:00\", \"2020-07-14T00:00:00\", \"2020-07-15T00:00:00\", \"2020-07-16T00:00:00\", \"2020-07-17T00:00:00\", \"2020-07-18T00:00:00\", \"2020-07-19T00:00:00\", \"2020-07-20T00:00:00\", \"2020-07-21T00:00:00\", \"2020-07-22T00:00:00\", \"2020-07-23T00:00:00\", \"2020-07-24T00:00:00\", \"2020-07-25T00:00:00\", \"2020-07-26T00:00:00\", \"2020-07-27T00:00:00\", \"2020-07-28T00:00:00\", \"2020-07-29T00:00:00\", \"2020-07-30T00:00:00\", \"2020-07-31T00:00:00\", \"2020-08-01T00:00:00\", \"2020-08-02T00:00:00\", \"2020-08-03T00:00:00\", \"2020-08-04T00:00:00\", \"2020-08-05T00:00:00\", \"2020-08-06T00:00:00\", \"2020-08-07T00:00:00\", \"2020-08-08T00:00:00\", \"2020-08-09T00:00:00\", \"2020-08-10T00:00:00\", \"2020-08-11T00:00:00\", \"2020-08-12T00:00:00\", \"2020-08-13T00:00:00\", \"2020-08-14T00:00:00\", \"2020-08-15T00:00:00\", \"2020-08-16T00:00:00\", \"2020-08-17T00:00:00\", \"2020-08-18T00:00:00\", \"2020-08-19T00:00:00\", \"2020-08-20T00:00:00\", \"2020-08-21T00:00:00\", \"2020-08-22T00:00:00\", \"2020-08-23T00:00:00\", \"2020-08-24T00:00:00\", \"2020-08-25T00:00:00\", \"2020-08-26T00:00:00\", \"2020-08-27T00:00:00\", \"2020-08-28T00:00:00\", \"2020-08-29T00:00:00\", \"2020-08-30T00:00:00\", \"2020-08-31T00:00:00\", \"2020-09-01T00:00:00\", \"2020-09-02T00:00:00\", \"2020-09-03T00:00:00\", \"2020-09-04T00:00:00\", \"2020-09-05T00:00:00\", \"2020-09-06T00:00:00\", \"2020-09-07T00:00:00\", \"2020-09-08T00:00:00\", \"2020-09-09T00:00:00\", \"2020-09-10T00:00:00\", \"2020-09-11T00:00:00\", \"2020-09-12T00:00:00\", \"2020-09-13T00:00:00\", \"2020-09-14T00:00:00\", \"2020-09-15T00:00:00\", \"2020-09-16T00:00:00\", \"2020-09-17T00:00:00\", \"2020-09-18T00:00:00\", \"2020-09-19T00:00:00\", \"2020-09-20T00:00:00\", \"2020-09-21T00:00:00\", \"2020-09-22T00:00:00\", \"2020-09-23T00:00:00\", \"2020-09-24T00:00:00\", \"2020-09-25T00:00:00\", \"2020-09-26T00:00:00\", \"2020-09-27T00:00:00\", \"2020-09-28T00:00:00\", \"2020-09-29T00:00:00\", \"2020-09-30T00:00:00\", \"2020-10-01T00:00:00\", \"2020-10-02T00:00:00\", \"2020-10-03T00:00:00\", \"2020-10-04T00:00:00\", \"2020-10-05T00:00:00\", \"2020-10-06T00:00:00\", \"2020-10-07T00:00:00\", \"2020-10-08T00:00:00\", \"2020-10-09T00:00:00\", \"2020-10-10T00:00:00\", \"2020-10-11T00:00:00\"], \"y\": [5, 5, 5, 5, 5, 5, 5, 5, 5, 5, 5, 9, 9, 9, 9, 9, 10, 10, 10, 10, 10, 10, 11, 11, 11, 11, 12, 13, 16, 16, 16, 17, 19, 19, 19, 20, 23, 24, 26, 26, 27, 30, 33, 34, 35, 40, 56, 56, 65, 69, 92, 95, 104, 107, 110, 111, 114, 121, 128, 165, 168, 171, 179, 186, 196, 207, 215, 216, 235, 235, 246, 250, 277, 284, 302, 304, 361, 437, 451, 453, 464, 477, 518, 529, 533, 559, 595, 641, 648, 682, 691, 699, 735, 792, 812, 861, 879, 985, 1060, 1075, 1113, 1134, 1181, 1217, 1261, 1268, 1279, 1307, 1360, 1390, 1391, 1393, 1417, 1447, 1457, 1524, 1635, 1650, 1659, 1662, 1746, 1761, 1806, 1810, 1832, 1849, 1871, 1915, 1940, 1968, 2002, 2031, 2040, 2059, 2093, 2239, 2257, 2290, 2308, 2312, 2407, 2439, 2462, 2475, 2494, 2526, 2549, 2955, 3561, 3609, 3942, 3959, 3978, 3985, 4032, 4202, 4211, 4243, 4306, 4346, 4412, 4439, 4478, 4549, 4566, 4587, 4623, 4664, 4709, 4725, 4774, 4845, 4967, 5146, 5665, 5872, 5878, 5909, 5999, 6066, 6074, 6098, 6155, 6203, 6340, 6370, 6456, 6501, 6555, 6643, 6719, 6766, 6876, 7161, 7490, 7682, 7848, 8099, 8314, 8645, 8929, 9481, 9886, 10137, 10733, 10907, 11157, 11997, 12618, 12855, 13155, 13268, 13642, 13773, 13958, 14053, 14131, 14927, 15128, 15641, 15966, 16516, 16907, 17462]}],\n",
              "                        {\"template\": {\"data\": {\"bar\": [{\"error_x\": {\"color\": \"#2a3f5f\"}, \"error_y\": {\"color\": \"#2a3f5f\"}, \"marker\": {\"line\": {\"color\": \"white\", \"width\": 0.5}}, \"type\": \"bar\"}], \"barpolar\": [{\"marker\": {\"line\": {\"color\": \"white\", \"width\": 0.5}}, \"type\": \"barpolar\"}], \"carpet\": [{\"aaxis\": {\"endlinecolor\": \"#2a3f5f\", \"gridcolor\": \"#C8D4E3\", \"linecolor\": \"#C8D4E3\", \"minorgridcolor\": \"#C8D4E3\", \"startlinecolor\": \"#2a3f5f\"}, \"baxis\": {\"endlinecolor\": \"#2a3f5f\", \"gridcolor\": \"#C8D4E3\", \"linecolor\": \"#C8D4E3\", \"minorgridcolor\": \"#C8D4E3\", \"startlinecolor\": \"#2a3f5f\"}, \"type\": \"carpet\"}], \"choropleth\": [{\"colorbar\": {\"outlinewidth\": 0, \"ticks\": \"\"}, \"type\": \"choropleth\"}], \"contour\": [{\"colorbar\": {\"outlinewidth\": 0, \"ticks\": \"\"}, \"colorscale\": [[0.0, \"#0d0887\"], [0.1111111111111111, \"#46039f\"], [0.2222222222222222, \"#7201a8\"], [0.3333333333333333, \"#9c179e\"], [0.4444444444444444, \"#bd3786\"], [0.5555555555555556, \"#d8576b\"], [0.6666666666666666, \"#ed7953\"], [0.7777777777777778, \"#fb9f3a\"], [0.8888888888888888, \"#fdca26\"], [1.0, \"#f0f921\"]], \"type\": \"contour\"}], \"contourcarpet\": [{\"colorbar\": {\"outlinewidth\": 0, \"ticks\": \"\"}, \"type\": \"contourcarpet\"}], \"heatmap\": [{\"colorbar\": {\"outlinewidth\": 0, \"ticks\": \"\"}, \"colorscale\": [[0.0, \"#0d0887\"], [0.1111111111111111, \"#46039f\"], [0.2222222222222222, \"#7201a8\"], [0.3333333333333333, \"#9c179e\"], [0.4444444444444444, \"#bd3786\"], [0.5555555555555556, \"#d8576b\"], [0.6666666666666666, \"#ed7953\"], [0.7777777777777778, \"#fb9f3a\"], [0.8888888888888888, \"#fdca26\"], [1.0, \"#f0f921\"]], \"type\": \"heatmap\"}], \"heatmapgl\": [{\"colorbar\": {\"outlinewidth\": 0, \"ticks\": \"\"}, \"colorscale\": [[0.0, \"#0d0887\"], [0.1111111111111111, \"#46039f\"], [0.2222222222222222, \"#7201a8\"], [0.3333333333333333, \"#9c179e\"], [0.4444444444444444, \"#bd3786\"], [0.5555555555555556, \"#d8576b\"], [0.6666666666666666, \"#ed7953\"], [0.7777777777777778, \"#fb9f3a\"], [0.8888888888888888, \"#fdca26\"], [1.0, \"#f0f921\"]], \"type\": \"heatmapgl\"}], \"histogram\": [{\"marker\": {\"colorbar\": {\"outlinewidth\": 0, \"ticks\": \"\"}}, \"type\": \"histogram\"}], \"histogram2d\": [{\"colorbar\": {\"outlinewidth\": 0, \"ticks\": \"\"}, \"colorscale\": [[0.0, \"#0d0887\"], [0.1111111111111111, \"#46039f\"], [0.2222222222222222, \"#7201a8\"], [0.3333333333333333, \"#9c179e\"], [0.4444444444444444, \"#bd3786\"], [0.5555555555555556, \"#d8576b\"], [0.6666666666666666, \"#ed7953\"], [0.7777777777777778, \"#fb9f3a\"], [0.8888888888888888, \"#fdca26\"], [1.0, \"#f0f921\"]], \"type\": \"histogram2d\"}], \"histogram2dcontour\": [{\"colorbar\": {\"outlinewidth\": 0, \"ticks\": \"\"}, \"colorscale\": [[0.0, \"#0d0887\"], [0.1111111111111111, \"#46039f\"], [0.2222222222222222, \"#7201a8\"], [0.3333333333333333, \"#9c179e\"], [0.4444444444444444, \"#bd3786\"], [0.5555555555555556, \"#d8576b\"], [0.6666666666666666, \"#ed7953\"], [0.7777777777777778, \"#fb9f3a\"], [0.8888888888888888, \"#fdca26\"], [1.0, \"#f0f921\"]], \"type\": \"histogram2dcontour\"}], \"mesh3d\": [{\"colorbar\": {\"outlinewidth\": 0, \"ticks\": \"\"}, \"type\": \"mesh3d\"}], \"parcoords\": [{\"line\": {\"colorbar\": {\"outlinewidth\": 0, \"ticks\": \"\"}}, \"type\": \"parcoords\"}], \"pie\": [{\"automargin\": true, \"type\": \"pie\"}], \"scatter\": [{\"marker\": {\"colorbar\": {\"outlinewidth\": 0, \"ticks\": \"\"}}, \"type\": \"scatter\"}], \"scatter3d\": [{\"line\": {\"colorbar\": {\"outlinewidth\": 0, \"ticks\": \"\"}}, \"marker\": {\"colorbar\": {\"outlinewidth\": 0, \"ticks\": \"\"}}, \"type\": \"scatter3d\"}], \"scattercarpet\": [{\"marker\": {\"colorbar\": {\"outlinewidth\": 0, \"ticks\": \"\"}}, \"type\": \"scattercarpet\"}], \"scattergeo\": [{\"marker\": {\"colorbar\": {\"outlinewidth\": 0, \"ticks\": \"\"}}, \"type\": \"scattergeo\"}], \"scattergl\": [{\"marker\": {\"colorbar\": {\"outlinewidth\": 0, \"ticks\": \"\"}}, \"type\": \"scattergl\"}], \"scattermapbox\": [{\"marker\": {\"colorbar\": {\"outlinewidth\": 0, \"ticks\": \"\"}}, \"type\": \"scattermapbox\"}], \"scatterpolar\": [{\"marker\": {\"colorbar\": {\"outlinewidth\": 0, \"ticks\": \"\"}}, \"type\": \"scatterpolar\"}], \"scatterpolargl\": [{\"marker\": {\"colorbar\": {\"outlinewidth\": 0, \"ticks\": \"\"}}, \"type\": \"scatterpolargl\"}], \"scatterternary\": [{\"marker\": {\"colorbar\": {\"outlinewidth\": 0, \"ticks\": \"\"}}, \"type\": \"scatterternary\"}], \"surface\": [{\"colorbar\": {\"outlinewidth\": 0, \"ticks\": \"\"}, \"colorscale\": [[0.0, \"#0d0887\"], [0.1111111111111111, \"#46039f\"], [0.2222222222222222, \"#7201a8\"], [0.3333333333333333, \"#9c179e\"], [0.4444444444444444, \"#bd3786\"], [0.5555555555555556, \"#d8576b\"], [0.6666666666666666, \"#ed7953\"], [0.7777777777777778, \"#fb9f3a\"], [0.8888888888888888, \"#fdca26\"], [1.0, \"#f0f921\"]], \"type\": \"surface\"}], \"table\": [{\"cells\": {\"fill\": {\"color\": \"#EBF0F8\"}, \"line\": {\"color\": \"white\"}}, \"header\": {\"fill\": {\"color\": \"#C8D4E3\"}, \"line\": {\"color\": \"white\"}}, \"type\": \"table\"}]}, \"layout\": {\"annotationdefaults\": {\"arrowcolor\": \"#2a3f5f\", \"arrowhead\": 0, \"arrowwidth\": 1}, \"coloraxis\": {\"colorbar\": {\"outlinewidth\": 0, \"ticks\": \"\"}}, \"colorscale\": {\"diverging\": [[0, \"#8e0152\"], [0.1, \"#c51b7d\"], [0.2, \"#de77ae\"], [0.3, \"#f1b6da\"], [0.4, \"#fde0ef\"], [0.5, \"#f7f7f7\"], [0.6, \"#e6f5d0\"], [0.7, \"#b8e186\"], [0.8, \"#7fbc41\"], [0.9, \"#4d9221\"], [1, \"#276419\"]], \"sequential\": [[0.0, \"#0d0887\"], [0.1111111111111111, \"#46039f\"], [0.2222222222222222, \"#7201a8\"], [0.3333333333333333, \"#9c179e\"], [0.4444444444444444, \"#bd3786\"], [0.5555555555555556, \"#d8576b\"], [0.6666666666666666, \"#ed7953\"], [0.7777777777777778, \"#fb9f3a\"], [0.8888888888888888, \"#fdca26\"], [1.0, \"#f0f921\"]], \"sequentialminus\": [[0.0, \"#0d0887\"], [0.1111111111111111, \"#46039f\"], [0.2222222222222222, \"#7201a8\"], [0.3333333333333333, \"#9c179e\"], [0.4444444444444444, \"#bd3786\"], [0.5555555555555556, \"#d8576b\"], [0.6666666666666666, \"#ed7953\"], [0.7777777777777778, \"#fb9f3a\"], [0.8888888888888888, \"#fdca26\"], [1.0, \"#f0f921\"]]}, \"colorway\": [\"#636efa\", \"#EF553B\", \"#00cc96\", \"#ab63fa\", \"#FFA15A\", \"#19d3f3\", \"#FF6692\", \"#B6E880\", \"#FF97FF\", \"#FECB52\"], \"font\": {\"color\": \"#2a3f5f\"}, \"geo\": {\"bgcolor\": \"white\", \"lakecolor\": \"white\", \"landcolor\": \"white\", \"showlakes\": true, \"showland\": true, \"subunitcolor\": \"#C8D4E3\"}, \"hoverlabel\": {\"align\": \"left\"}, \"hovermode\": \"closest\", \"mapbox\": {\"style\": \"light\"}, \"paper_bgcolor\": \"white\", \"plot_bgcolor\": \"white\", \"polar\": {\"angularaxis\": {\"gridcolor\": \"#EBF0F8\", \"linecolor\": \"#EBF0F8\", \"ticks\": \"\"}, \"bgcolor\": \"white\", \"radialaxis\": {\"gridcolor\": \"#EBF0F8\", \"linecolor\": \"#EBF0F8\", \"ticks\": \"\"}}, \"scene\": {\"xaxis\": {\"backgroundcolor\": \"white\", \"gridcolor\": \"#DFE8F3\", \"gridwidth\": 2, \"linecolor\": \"#EBF0F8\", \"showbackground\": true, \"ticks\": \"\", \"zerolinecolor\": \"#EBF0F8\"}, \"yaxis\": {\"backgroundcolor\": \"white\", \"gridcolor\": \"#DFE8F3\", \"gridwidth\": 2, \"linecolor\": \"#EBF0F8\", \"showbackground\": true, \"ticks\": \"\", \"zerolinecolor\": \"#EBF0F8\"}, \"zaxis\": {\"backgroundcolor\": \"white\", \"gridcolor\": \"#DFE8F3\", \"gridwidth\": 2, \"linecolor\": \"#EBF0F8\", \"showbackground\": true, \"ticks\": \"\", \"zerolinecolor\": \"#EBF0F8\"}}, \"shapedefaults\": {\"line\": {\"color\": \"#2a3f5f\"}}, \"ternary\": {\"aaxis\": {\"gridcolor\": \"#DFE8F3\", \"linecolor\": \"#A2B1C6\", \"ticks\": \"\"}, \"baxis\": {\"gridcolor\": \"#DFE8F3\", \"linecolor\": \"#A2B1C6\", \"ticks\": \"\"}, \"bgcolor\": \"white\", \"caxis\": {\"gridcolor\": \"#DFE8F3\", \"linecolor\": \"#A2B1C6\", \"ticks\": \"\"}}, \"title\": {\"x\": 0.05}, \"xaxis\": {\"automargin\": true, \"gridcolor\": \"#EBF0F8\", \"linecolor\": \"#EBF0F8\", \"ticks\": \"\", \"title\": {\"standoff\": 15}, \"zerolinecolor\": \"#EBF0F8\", \"zerolinewidth\": 2}, \"yaxis\": {\"automargin\": true, \"gridcolor\": \"#EBF0F8\", \"linecolor\": \"#EBF0F8\", \"ticks\": \"\", \"title\": {\"standoff\": 15}, \"zerolinecolor\": \"#EBF0F8\", \"zerolinewidth\": 2}}}, \"title\": {\"text\": \"Jabar Covid Cases\"}, \"xaxis\": {\"title\": {\"text\": \"Date\"}}, \"yaxis\": {\"title\": {\"text\": \"Total Cases\"}}},\n",
              "                        {\"responsive\": true}\n",
              "                    ).then(function(){\n",
              "                            \n",
              "var gd = document.getElementById('7f7a9437-e03b-4e62-833b-f05036f70b04');\n",
              "var x = new MutationObserver(function (mutations, observer) {{\n",
              "        var display = window.getComputedStyle(gd).display;\n",
              "        if (!display || display === 'none') {{\n",
              "            console.log([gd, 'removed!']);\n",
              "            Plotly.purge(gd);\n",
              "            observer.disconnect();\n",
              "        }}\n",
              "}});\n",
              "\n",
              "// Listen for the removal of the full notebook cells\n",
              "var notebookContainer = gd.closest('#notebook-container');\n",
              "if (notebookContainer) {{\n",
              "    x.observe(notebookContainer, {childList: true});\n",
              "}}\n",
              "\n",
              "// Listen for the clearing of the current output cell\n",
              "var outputEl = gd.closest('.output');\n",
              "if (outputEl) {{\n",
              "    x.observe(outputEl, {childList: true});\n",
              "}}\n",
              "\n",
              "                        })\n",
              "                };\n",
              "                \n",
              "            </script>\n",
              "        </div>\n",
              "</body>\n",
              "</html>"
            ]
          },
          "metadata": {
            "tags": []
          }
        }
      ]
    },
    {
      "cell_type": "code",
      "metadata": {
        "id": "cwDd-WgYeeT1",
        "outputId": "1962ba04-9cfe-46bb-83fe-bef0a73627d4",
        "colab": {
          "base_uri": "https://localhost:8080/",
          "height": 542
        }
      },
      "source": [
        "# plot Active Cases\n",
        "fig = go.Figure(go.Bar(x=Jb_covid_total['Date'],\n",
        "                       y=Jb_covid_total['Total Active Cases'],\n",
        "                       marker_color='red'\n",
        "                      ))\n",
        "\n",
        "fig.update_layout(title='Jabar Active Cases',\n",
        "                 template='plotly_white',\n",
        "                 xaxis_title='Date',\n",
        "                 yaxis_title='Total Cases'\n",
        "                 )\n",
        "\n",
        "fig.show()"
      ],
      "execution_count": 40,
      "outputs": [
        {
          "output_type": "display_data",
          "data": {
            "text/html": [
              "<html>\n",
              "<head><meta charset=\"utf-8\" /></head>\n",
              "<body>\n",
              "    <div>\n",
              "            <script src=\"https://cdnjs.cloudflare.com/ajax/libs/mathjax/2.7.5/MathJax.js?config=TeX-AMS-MML_SVG\"></script><script type=\"text/javascript\">if (window.MathJax) {MathJax.Hub.Config({SVG: {font: \"STIX-Web\"}});}</script>\n",
              "                <script type=\"text/javascript\">window.PlotlyConfig = {MathJaxConfig: 'local'};</script>\n",
              "        <script src=\"https://cdn.plot.ly/plotly-latest.min.js\"></script>    \n",
              "            <div id=\"f0acfb95-4ac4-413b-8a0a-4435a9275033\" class=\"plotly-graph-div\" style=\"height:525px; width:100%;\"></div>\n",
              "            <script type=\"text/javascript\">\n",
              "                \n",
              "                    window.PLOTLYENV=window.PLOTLYENV || {};\n",
              "                    \n",
              "                if (document.getElementById(\"f0acfb95-4ac4-413b-8a0a-4435a9275033\")) {\n",
              "                    Plotly.newPlot(\n",
              "                        'f0acfb95-4ac4-413b-8a0a-4435a9275033',\n",
              "                        [{\"marker\": {\"color\": \"red\"}, \"type\": \"bar\", \"x\": [\"2020-03-02T00:00:00\", \"2020-03-03T00:00:00\", \"2020-03-04T00:00:00\", \"2020-03-05T00:00:00\", \"2020-03-06T00:00:00\", \"2020-03-07T00:00:00\", \"2020-03-08T00:00:00\", \"2020-03-09T00:00:00\", \"2020-03-10T00:00:00\", \"2020-03-11T00:00:00\", \"2020-03-12T00:00:00\", \"2020-03-13T00:00:00\", \"2020-03-14T00:00:00\", \"2020-03-15T00:00:00\", \"2020-03-16T00:00:00\", \"2020-03-17T00:00:00\", \"2020-03-18T00:00:00\", \"2020-03-19T00:00:00\", \"2020-03-20T00:00:00\", \"2020-03-21T00:00:00\", \"2020-03-22T00:00:00\", \"2020-03-23T00:00:00\", \"2020-03-24T00:00:00\", \"2020-03-25T00:00:00\", \"2020-03-26T00:00:00\", \"2020-03-27T00:00:00\", \"2020-03-28T00:00:00\", \"2020-03-29T00:00:00\", \"2020-03-30T00:00:00\", \"2020-03-31T00:00:00\", \"2020-04-01T00:00:00\", \"2020-04-02T00:00:00\", \"2020-04-03T00:00:00\", \"2020-04-04T00:00:00\", \"2020-04-05T00:00:00\", \"2020-04-06T00:00:00\", \"2020-04-07T00:00:00\", \"2020-04-08T00:00:00\", \"2020-04-09T00:00:00\", \"2020-04-10T00:00:00\", \"2020-04-11T00:00:00\", \"2020-04-12T00:00:00\", \"2020-04-13T00:00:00\", \"2020-04-14T00:00:00\", \"2020-04-15T00:00:00\", \"2020-04-16T00:00:00\", \"2020-04-17T00:00:00\", \"2020-04-18T00:00:00\", \"2020-04-19T00:00:00\", \"2020-04-20T00:00:00\", \"2020-04-21T00:00:00\", \"2020-04-22T00:00:00\", \"2020-04-23T00:00:00\", \"2020-04-24T00:00:00\", \"2020-04-25T00:00:00\", \"2020-04-26T00:00:00\", \"2020-04-27T00:00:00\", \"2020-04-28T00:00:00\", \"2020-04-29T00:00:00\", \"2020-04-30T00:00:00\", \"2020-05-01T00:00:00\", \"2020-05-02T00:00:00\", \"2020-05-03T00:00:00\", \"2020-05-04T00:00:00\", \"2020-05-05T00:00:00\", \"2020-05-06T00:00:00\", \"2020-05-07T00:00:00\", \"2020-05-08T00:00:00\", \"2020-05-09T00:00:00\", \"2020-05-10T00:00:00\", \"2020-05-11T00:00:00\", \"2020-05-12T00:00:00\", \"2020-05-13T00:00:00\", \"2020-05-14T00:00:00\", \"2020-05-15T00:00:00\", \"2020-05-16T00:00:00\", \"2020-05-17T00:00:00\", \"2020-05-18T00:00:00\", \"2020-05-19T00:00:00\", \"2020-05-20T00:00:00\", \"2020-05-21T00:00:00\", \"2020-05-22T00:00:00\", \"2020-05-23T00:00:00\", \"2020-05-24T00:00:00\", \"2020-05-25T00:00:00\", \"2020-05-26T00:00:00\", \"2020-05-27T00:00:00\", \"2020-05-28T00:00:00\", \"2020-05-29T00:00:00\", \"2020-05-30T00:00:00\", \"2020-05-31T00:00:00\", \"2020-06-01T00:00:00\", \"2020-06-02T00:00:00\", \"2020-06-03T00:00:00\", \"2020-06-04T00:00:00\", \"2020-06-05T00:00:00\", \"2020-06-06T00:00:00\", \"2020-06-07T00:00:00\", \"2020-06-08T00:00:00\", \"2020-06-09T00:00:00\", \"2020-06-10T00:00:00\", \"2020-06-11T00:00:00\", \"2020-06-12T00:00:00\", \"2020-06-13T00:00:00\", \"2020-06-14T00:00:00\", \"2020-06-15T00:00:00\", \"2020-06-16T00:00:00\", \"2020-06-17T00:00:00\", \"2020-06-18T00:00:00\", \"2020-06-19T00:00:00\", \"2020-06-20T00:00:00\", \"2020-06-21T00:00:00\", \"2020-06-22T00:00:00\", \"2020-06-23T00:00:00\", \"2020-06-24T00:00:00\", \"2020-06-25T00:00:00\", \"2020-06-26T00:00:00\", \"2020-06-27T00:00:00\", \"2020-06-28T00:00:00\", \"2020-06-29T00:00:00\", \"2020-06-30T00:00:00\", \"2020-07-01T00:00:00\", \"2020-07-02T00:00:00\", \"2020-07-03T00:00:00\", \"2020-07-04T00:00:00\", \"2020-07-05T00:00:00\", \"2020-07-06T00:00:00\", \"2020-07-07T00:00:00\", \"2020-07-08T00:00:00\", \"2020-07-09T00:00:00\", \"2020-07-10T00:00:00\", \"2020-07-11T00:00:00\", \"2020-07-12T00:00:00\", \"2020-07-13T00:00:00\", \"2020-07-14T00:00:00\", \"2020-07-15T00:00:00\", \"2020-07-16T00:00:00\", \"2020-07-17T00:00:00\", \"2020-07-18T00:00:00\", \"2020-07-19T00:00:00\", \"2020-07-20T00:00:00\", \"2020-07-21T00:00:00\", \"2020-07-22T00:00:00\", \"2020-07-23T00:00:00\", \"2020-07-24T00:00:00\", \"2020-07-25T00:00:00\", \"2020-07-26T00:00:00\", \"2020-07-27T00:00:00\", \"2020-07-28T00:00:00\", \"2020-07-29T00:00:00\", \"2020-07-30T00:00:00\", \"2020-07-31T00:00:00\", \"2020-08-01T00:00:00\", \"2020-08-02T00:00:00\", \"2020-08-03T00:00:00\", \"2020-08-04T00:00:00\", \"2020-08-05T00:00:00\", \"2020-08-06T00:00:00\", \"2020-08-07T00:00:00\", \"2020-08-08T00:00:00\", \"2020-08-09T00:00:00\", \"2020-08-10T00:00:00\", \"2020-08-11T00:00:00\", \"2020-08-12T00:00:00\", \"2020-08-13T00:00:00\", \"2020-08-14T00:00:00\", \"2020-08-15T00:00:00\", \"2020-08-16T00:00:00\", \"2020-08-17T00:00:00\", \"2020-08-18T00:00:00\", \"2020-08-19T00:00:00\", \"2020-08-20T00:00:00\", \"2020-08-21T00:00:00\", \"2020-08-22T00:00:00\", \"2020-08-23T00:00:00\", \"2020-08-24T00:00:00\", \"2020-08-25T00:00:00\", \"2020-08-26T00:00:00\", \"2020-08-27T00:00:00\", \"2020-08-28T00:00:00\", \"2020-08-29T00:00:00\", \"2020-08-30T00:00:00\", \"2020-08-31T00:00:00\", \"2020-09-01T00:00:00\", \"2020-09-02T00:00:00\", \"2020-09-03T00:00:00\", \"2020-09-04T00:00:00\", \"2020-09-05T00:00:00\", \"2020-09-06T00:00:00\", \"2020-09-07T00:00:00\", \"2020-09-08T00:00:00\", \"2020-09-09T00:00:00\", \"2020-09-10T00:00:00\", \"2020-09-11T00:00:00\", \"2020-09-12T00:00:00\", \"2020-09-13T00:00:00\", \"2020-09-14T00:00:00\", \"2020-09-15T00:00:00\", \"2020-09-16T00:00:00\", \"2020-09-17T00:00:00\", \"2020-09-18T00:00:00\", \"2020-09-19T00:00:00\", \"2020-09-20T00:00:00\", \"2020-09-21T00:00:00\", \"2020-09-22T00:00:00\", \"2020-09-23T00:00:00\", \"2020-09-24T00:00:00\", \"2020-09-25T00:00:00\", \"2020-09-26T00:00:00\", \"2020-09-27T00:00:00\", \"2020-09-28T00:00:00\", \"2020-09-29T00:00:00\", \"2020-09-30T00:00:00\", \"2020-10-01T00:00:00\", \"2020-10-02T00:00:00\", \"2020-10-03T00:00:00\", \"2020-10-04T00:00:00\", \"2020-10-05T00:00:00\", \"2020-10-06T00:00:00\", \"2020-10-07T00:00:00\", \"2020-10-08T00:00:00\", \"2020-10-09T00:00:00\", \"2020-10-10T00:00:00\", \"2020-10-11T00:00:00\"], \"y\": [2, 2, 3, 4, 5, 5, 5, 5, 5, 4, 5, 5, 5, 5, 6, 17, 20, 26, 44, 49, 49, 54, 54, 58, 66, 89, 109, 139, 162, 171, 197, 216, 215, 238, 248, 266, 342, 360, 374, 384, 427, 453, 517, 522, 555, 571, 617, 632, 676, 696, 686, 688, 703, 770, 814, 825, 861, 872, 905, 869, 870, 902, 907, 1083, 1124, 1131, 1174, 1201, 1210, 1210, 1251, 1300, 1281, 1283, 1297, 1319, 1284, 1216, 1224, 1365, 1423, 1447, 1460, 1495, 1512, 1494, 1476, 1455, 1487, 1471, 1500, 1533, 1508, 1452, 1439, 1402, 1397, 1325, 1270, 1284, 1298, 1325, 1293, 1269, 1240, 1256, 1282, 1290, 1286, 1319, 1337, 1357, 1351, 1353, 1389, 1361, 1283, 1317, 1333, 1373, 1363, 1405, 1425, 1453, 1517, 1608, 1714, 1749, 1817, 2749, 2823, 2866, 2901, 2969, 3011, 2938, 2960, 2977, 3016, 3036, 3000, 3029, 3038, 3087, 3157, 3197, 3224, 2875, 2401, 2448, 2255, 2307, 2347, 2397, 2403, 2321, 2436, 2485, 2569, 2767, 2873, 2879, 2928, 2962, 3054, 3394, 3585, 3620, 3618, 3647, 3696, 3820, 3783, 3752, 3300, 3222, 3471, 3616, 3679, 4167, 4444, 4521, 4603, 4767, 4831, 5033, 5329, 5502, 5619, 5733, 5988, 6222, 6444, 6423, 6381, 6344, 6384, 6481, 6564, 6584, 6645, 6551, 6563, 7000, 6997, 7323, 7859, 7738, 7492, 7688, 7878, 8066, 8106, 8533, 8873, 9125, 9279, 8972, 9267, 9497, 9766, 9718, 9594, 9244]}],\n",
              "                        {\"template\": {\"data\": {\"bar\": [{\"error_x\": {\"color\": \"#2a3f5f\"}, \"error_y\": {\"color\": \"#2a3f5f\"}, \"marker\": {\"line\": {\"color\": \"white\", \"width\": 0.5}}, \"type\": \"bar\"}], \"barpolar\": [{\"marker\": {\"line\": {\"color\": \"white\", \"width\": 0.5}}, \"type\": \"barpolar\"}], \"carpet\": [{\"aaxis\": {\"endlinecolor\": \"#2a3f5f\", \"gridcolor\": \"#C8D4E3\", \"linecolor\": \"#C8D4E3\", \"minorgridcolor\": \"#C8D4E3\", \"startlinecolor\": \"#2a3f5f\"}, \"baxis\": {\"endlinecolor\": \"#2a3f5f\", \"gridcolor\": \"#C8D4E3\", \"linecolor\": \"#C8D4E3\", \"minorgridcolor\": \"#C8D4E3\", \"startlinecolor\": \"#2a3f5f\"}, \"type\": \"carpet\"}], \"choropleth\": [{\"colorbar\": {\"outlinewidth\": 0, \"ticks\": \"\"}, \"type\": \"choropleth\"}], \"contour\": [{\"colorbar\": {\"outlinewidth\": 0, \"ticks\": \"\"}, \"colorscale\": [[0.0, \"#0d0887\"], [0.1111111111111111, \"#46039f\"], [0.2222222222222222, \"#7201a8\"], [0.3333333333333333, \"#9c179e\"], [0.4444444444444444, \"#bd3786\"], [0.5555555555555556, \"#d8576b\"], [0.6666666666666666, \"#ed7953\"], [0.7777777777777778, \"#fb9f3a\"], [0.8888888888888888, \"#fdca26\"], [1.0, \"#f0f921\"]], \"type\": \"contour\"}], \"contourcarpet\": [{\"colorbar\": {\"outlinewidth\": 0, \"ticks\": \"\"}, \"type\": \"contourcarpet\"}], \"heatmap\": [{\"colorbar\": {\"outlinewidth\": 0, \"ticks\": \"\"}, \"colorscale\": [[0.0, \"#0d0887\"], [0.1111111111111111, \"#46039f\"], [0.2222222222222222, \"#7201a8\"], [0.3333333333333333, \"#9c179e\"], [0.4444444444444444, \"#bd3786\"], [0.5555555555555556, \"#d8576b\"], [0.6666666666666666, \"#ed7953\"], [0.7777777777777778, \"#fb9f3a\"], [0.8888888888888888, \"#fdca26\"], [1.0, \"#f0f921\"]], \"type\": \"heatmap\"}], \"heatmapgl\": [{\"colorbar\": {\"outlinewidth\": 0, \"ticks\": \"\"}, \"colorscale\": [[0.0, \"#0d0887\"], [0.1111111111111111, \"#46039f\"], [0.2222222222222222, \"#7201a8\"], [0.3333333333333333, \"#9c179e\"], [0.4444444444444444, \"#bd3786\"], [0.5555555555555556, \"#d8576b\"], [0.6666666666666666, \"#ed7953\"], [0.7777777777777778, \"#fb9f3a\"], [0.8888888888888888, \"#fdca26\"], [1.0, \"#f0f921\"]], \"type\": \"heatmapgl\"}], \"histogram\": [{\"marker\": {\"colorbar\": {\"outlinewidth\": 0, \"ticks\": \"\"}}, \"type\": \"histogram\"}], \"histogram2d\": [{\"colorbar\": {\"outlinewidth\": 0, \"ticks\": \"\"}, \"colorscale\": [[0.0, \"#0d0887\"], [0.1111111111111111, \"#46039f\"], [0.2222222222222222, \"#7201a8\"], [0.3333333333333333, \"#9c179e\"], [0.4444444444444444, \"#bd3786\"], [0.5555555555555556, \"#d8576b\"], [0.6666666666666666, \"#ed7953\"], [0.7777777777777778, \"#fb9f3a\"], [0.8888888888888888, \"#fdca26\"], [1.0, \"#f0f921\"]], \"type\": \"histogram2d\"}], \"histogram2dcontour\": [{\"colorbar\": {\"outlinewidth\": 0, \"ticks\": \"\"}, \"colorscale\": [[0.0, \"#0d0887\"], [0.1111111111111111, \"#46039f\"], [0.2222222222222222, \"#7201a8\"], [0.3333333333333333, \"#9c179e\"], [0.4444444444444444, \"#bd3786\"], [0.5555555555555556, \"#d8576b\"], [0.6666666666666666, \"#ed7953\"], [0.7777777777777778, \"#fb9f3a\"], [0.8888888888888888, \"#fdca26\"], [1.0, \"#f0f921\"]], \"type\": \"histogram2dcontour\"}], \"mesh3d\": [{\"colorbar\": {\"outlinewidth\": 0, \"ticks\": \"\"}, \"type\": \"mesh3d\"}], \"parcoords\": [{\"line\": {\"colorbar\": {\"outlinewidth\": 0, \"ticks\": \"\"}}, \"type\": \"parcoords\"}], \"pie\": [{\"automargin\": true, \"type\": \"pie\"}], \"scatter\": [{\"marker\": {\"colorbar\": {\"outlinewidth\": 0, \"ticks\": \"\"}}, \"type\": \"scatter\"}], \"scatter3d\": [{\"line\": {\"colorbar\": {\"outlinewidth\": 0, \"ticks\": \"\"}}, \"marker\": {\"colorbar\": {\"outlinewidth\": 0, \"ticks\": \"\"}}, \"type\": \"scatter3d\"}], \"scattercarpet\": [{\"marker\": {\"colorbar\": {\"outlinewidth\": 0, \"ticks\": \"\"}}, \"type\": \"scattercarpet\"}], \"scattergeo\": [{\"marker\": {\"colorbar\": {\"outlinewidth\": 0, \"ticks\": \"\"}}, \"type\": \"scattergeo\"}], \"scattergl\": [{\"marker\": {\"colorbar\": {\"outlinewidth\": 0, \"ticks\": \"\"}}, \"type\": \"scattergl\"}], \"scattermapbox\": [{\"marker\": {\"colorbar\": {\"outlinewidth\": 0, \"ticks\": \"\"}}, \"type\": \"scattermapbox\"}], \"scatterpolar\": [{\"marker\": {\"colorbar\": {\"outlinewidth\": 0, \"ticks\": \"\"}}, \"type\": \"scatterpolar\"}], \"scatterpolargl\": [{\"marker\": {\"colorbar\": {\"outlinewidth\": 0, \"ticks\": \"\"}}, \"type\": \"scatterpolargl\"}], \"scatterternary\": [{\"marker\": {\"colorbar\": {\"outlinewidth\": 0, \"ticks\": \"\"}}, \"type\": \"scatterternary\"}], \"surface\": [{\"colorbar\": {\"outlinewidth\": 0, \"ticks\": \"\"}, \"colorscale\": [[0.0, \"#0d0887\"], [0.1111111111111111, \"#46039f\"], [0.2222222222222222, \"#7201a8\"], [0.3333333333333333, \"#9c179e\"], [0.4444444444444444, \"#bd3786\"], [0.5555555555555556, \"#d8576b\"], [0.6666666666666666, \"#ed7953\"], [0.7777777777777778, \"#fb9f3a\"], [0.8888888888888888, \"#fdca26\"], [1.0, \"#f0f921\"]], \"type\": \"surface\"}], \"table\": [{\"cells\": {\"fill\": {\"color\": \"#EBF0F8\"}, \"line\": {\"color\": \"white\"}}, \"header\": {\"fill\": {\"color\": \"#C8D4E3\"}, \"line\": {\"color\": \"white\"}}, \"type\": \"table\"}]}, \"layout\": {\"annotationdefaults\": {\"arrowcolor\": \"#2a3f5f\", \"arrowhead\": 0, \"arrowwidth\": 1}, \"coloraxis\": {\"colorbar\": {\"outlinewidth\": 0, \"ticks\": \"\"}}, \"colorscale\": {\"diverging\": [[0, \"#8e0152\"], [0.1, \"#c51b7d\"], [0.2, \"#de77ae\"], [0.3, \"#f1b6da\"], [0.4, \"#fde0ef\"], [0.5, \"#f7f7f7\"], [0.6, \"#e6f5d0\"], [0.7, \"#b8e186\"], [0.8, \"#7fbc41\"], [0.9, \"#4d9221\"], [1, \"#276419\"]], \"sequential\": [[0.0, \"#0d0887\"], [0.1111111111111111, \"#46039f\"], [0.2222222222222222, \"#7201a8\"], [0.3333333333333333, \"#9c179e\"], [0.4444444444444444, \"#bd3786\"], [0.5555555555555556, \"#d8576b\"], [0.6666666666666666, \"#ed7953\"], [0.7777777777777778, \"#fb9f3a\"], [0.8888888888888888, \"#fdca26\"], [1.0, \"#f0f921\"]], \"sequentialminus\": [[0.0, \"#0d0887\"], [0.1111111111111111, \"#46039f\"], [0.2222222222222222, \"#7201a8\"], [0.3333333333333333, \"#9c179e\"], [0.4444444444444444, \"#bd3786\"], [0.5555555555555556, \"#d8576b\"], [0.6666666666666666, \"#ed7953\"], [0.7777777777777778, \"#fb9f3a\"], [0.8888888888888888, \"#fdca26\"], [1.0, \"#f0f921\"]]}, \"colorway\": [\"#636efa\", \"#EF553B\", \"#00cc96\", \"#ab63fa\", \"#FFA15A\", \"#19d3f3\", \"#FF6692\", \"#B6E880\", \"#FF97FF\", \"#FECB52\"], \"font\": {\"color\": \"#2a3f5f\"}, \"geo\": {\"bgcolor\": \"white\", \"lakecolor\": \"white\", \"landcolor\": \"white\", \"showlakes\": true, \"showland\": true, \"subunitcolor\": \"#C8D4E3\"}, \"hoverlabel\": {\"align\": \"left\"}, \"hovermode\": \"closest\", \"mapbox\": {\"style\": \"light\"}, \"paper_bgcolor\": \"white\", \"plot_bgcolor\": \"white\", \"polar\": {\"angularaxis\": {\"gridcolor\": \"#EBF0F8\", \"linecolor\": \"#EBF0F8\", \"ticks\": \"\"}, \"bgcolor\": \"white\", \"radialaxis\": {\"gridcolor\": \"#EBF0F8\", \"linecolor\": \"#EBF0F8\", \"ticks\": \"\"}}, \"scene\": {\"xaxis\": {\"backgroundcolor\": \"white\", \"gridcolor\": \"#DFE8F3\", \"gridwidth\": 2, \"linecolor\": \"#EBF0F8\", \"showbackground\": true, \"ticks\": \"\", \"zerolinecolor\": \"#EBF0F8\"}, \"yaxis\": {\"backgroundcolor\": \"white\", \"gridcolor\": \"#DFE8F3\", \"gridwidth\": 2, \"linecolor\": \"#EBF0F8\", \"showbackground\": true, \"ticks\": \"\", \"zerolinecolor\": \"#EBF0F8\"}, \"zaxis\": {\"backgroundcolor\": \"white\", \"gridcolor\": \"#DFE8F3\", \"gridwidth\": 2, \"linecolor\": \"#EBF0F8\", \"showbackground\": true, \"ticks\": \"\", \"zerolinecolor\": \"#EBF0F8\"}}, \"shapedefaults\": {\"line\": {\"color\": \"#2a3f5f\"}}, \"ternary\": {\"aaxis\": {\"gridcolor\": \"#DFE8F3\", \"linecolor\": \"#A2B1C6\", \"ticks\": \"\"}, \"baxis\": {\"gridcolor\": \"#DFE8F3\", \"linecolor\": \"#A2B1C6\", \"ticks\": \"\"}, \"bgcolor\": \"white\", \"caxis\": {\"gridcolor\": \"#DFE8F3\", \"linecolor\": \"#A2B1C6\", \"ticks\": \"\"}}, \"title\": {\"x\": 0.05}, \"xaxis\": {\"automargin\": true, \"gridcolor\": \"#EBF0F8\", \"linecolor\": \"#EBF0F8\", \"ticks\": \"\", \"title\": {\"standoff\": 15}, \"zerolinecolor\": \"#EBF0F8\", \"zerolinewidth\": 2}, \"yaxis\": {\"automargin\": true, \"gridcolor\": \"#EBF0F8\", \"linecolor\": \"#EBF0F8\", \"ticks\": \"\", \"title\": {\"standoff\": 15}, \"zerolinecolor\": \"#EBF0F8\", \"zerolinewidth\": 2}}}, \"title\": {\"text\": \"Jabar Active Cases\"}, \"xaxis\": {\"title\": {\"text\": \"Date\"}}, \"yaxis\": {\"title\": {\"text\": \"Total Cases\"}}},\n",
              "                        {\"responsive\": true}\n",
              "                    ).then(function(){\n",
              "                            \n",
              "var gd = document.getElementById('f0acfb95-4ac4-413b-8a0a-4435a9275033');\n",
              "var x = new MutationObserver(function (mutations, observer) {{\n",
              "        var display = window.getComputedStyle(gd).display;\n",
              "        if (!display || display === 'none') {{\n",
              "            console.log([gd, 'removed!']);\n",
              "            Plotly.purge(gd);\n",
              "            observer.disconnect();\n",
              "        }}\n",
              "}});\n",
              "\n",
              "// Listen for the removal of the full notebook cells\n",
              "var notebookContainer = gd.closest('#notebook-container');\n",
              "if (notebookContainer) {{\n",
              "    x.observe(notebookContainer, {childList: true});\n",
              "}}\n",
              "\n",
              "// Listen for the clearing of the current output cell\n",
              "var outputEl = gd.closest('.output');\n",
              "if (outputEl) {{\n",
              "    x.observe(outputEl, {childList: true});\n",
              "}}\n",
              "\n",
              "                        })\n",
              "                };\n",
              "                \n",
              "            </script>\n",
              "        </div>\n",
              "</body>\n",
              "</html>"
            ]
          },
          "metadata": {
            "tags": []
          }
        }
      ]
    },
    {
      "cell_type": "code",
      "metadata": {
        "id": "dS22fV9NerU6",
        "outputId": "bf59b990-812a-4314-c214-586f41dc034c",
        "colab": {
          "base_uri": "https://localhost:8080/",
          "height": 542
        }
      },
      "source": [
        "# plot Death Cases\n",
        "fig = go.Figure(go.Bar(x=Jb_covid_total['Date'],\n",
        "                       y=Jb_covid_total['Total Deaths'],\n",
        "                       marker_color='black'\n",
        "                      ))\n",
        "fig.update_layout(title='Jabar Death Cases',\n",
        "                  template='plotly_white',\n",
        "                  xaxis_title='Date',\n",
        "                  yaxis_title='Total Cases'\n",
        "                 )\n",
        "fig.show()"
      ],
      "execution_count": 41,
      "outputs": [
        {
          "output_type": "display_data",
          "data": {
            "text/html": [
              "<html>\n",
              "<head><meta charset=\"utf-8\" /></head>\n",
              "<body>\n",
              "    <div>\n",
              "            <script src=\"https://cdnjs.cloudflare.com/ajax/libs/mathjax/2.7.5/MathJax.js?config=TeX-AMS-MML_SVG\"></script><script type=\"text/javascript\">if (window.MathJax) {MathJax.Hub.Config({SVG: {font: \"STIX-Web\"}});}</script>\n",
              "                <script type=\"text/javascript\">window.PlotlyConfig = {MathJaxConfig: 'local'};</script>\n",
              "        <script src=\"https://cdn.plot.ly/plotly-latest.min.js\"></script>    \n",
              "            <div id=\"8554ad04-4849-4bcc-8802-a328984dc5c2\" class=\"plotly-graph-div\" style=\"height:525px; width:100%;\"></div>\n",
              "            <script type=\"text/javascript\">\n",
              "                \n",
              "                    window.PLOTLYENV=window.PLOTLYENV || {};\n",
              "                    \n",
              "                if (document.getElementById(\"8554ad04-4849-4bcc-8802-a328984dc5c2\")) {\n",
              "                    Plotly.newPlot(\n",
              "                        '8554ad04-4849-4bcc-8802-a328984dc5c2',\n",
              "                        [{\"marker\": {\"color\": \"black\"}, \"type\": \"bar\", \"x\": [\"2020-03-02T00:00:00\", \"2020-03-03T00:00:00\", \"2020-03-04T00:00:00\", \"2020-03-05T00:00:00\", \"2020-03-06T00:00:00\", \"2020-03-07T00:00:00\", \"2020-03-08T00:00:00\", \"2020-03-09T00:00:00\", \"2020-03-10T00:00:00\", \"2020-03-11T00:00:00\", \"2020-03-12T00:00:00\", \"2020-03-13T00:00:00\", \"2020-03-14T00:00:00\", \"2020-03-15T00:00:00\", \"2020-03-16T00:00:00\", \"2020-03-17T00:00:00\", \"2020-03-18T00:00:00\", \"2020-03-19T00:00:00\", \"2020-03-20T00:00:00\", \"2020-03-21T00:00:00\", \"2020-03-22T00:00:00\", \"2020-03-23T00:00:00\", \"2020-03-24T00:00:00\", \"2020-03-25T00:00:00\", \"2020-03-26T00:00:00\", \"2020-03-27T00:00:00\", \"2020-03-28T00:00:00\", \"2020-03-29T00:00:00\", \"2020-03-30T00:00:00\", \"2020-03-31T00:00:00\", \"2020-04-01T00:00:00\", \"2020-04-02T00:00:00\", \"2020-04-03T00:00:00\", \"2020-04-04T00:00:00\", \"2020-04-05T00:00:00\", \"2020-04-06T00:00:00\", \"2020-04-07T00:00:00\", \"2020-04-08T00:00:00\", \"2020-04-09T00:00:00\", \"2020-04-10T00:00:00\", \"2020-04-11T00:00:00\", \"2020-04-12T00:00:00\", \"2020-04-13T00:00:00\", \"2020-04-14T00:00:00\", \"2020-04-15T00:00:00\", \"2020-04-16T00:00:00\", \"2020-04-17T00:00:00\", \"2020-04-18T00:00:00\", \"2020-04-19T00:00:00\", \"2020-04-20T00:00:00\", \"2020-04-21T00:00:00\", \"2020-04-22T00:00:00\", \"2020-04-23T00:00:00\", \"2020-04-24T00:00:00\", \"2020-04-25T00:00:00\", \"2020-04-26T00:00:00\", \"2020-04-27T00:00:00\", \"2020-04-28T00:00:00\", \"2020-04-29T00:00:00\", \"2020-04-30T00:00:00\", \"2020-05-01T00:00:00\", \"2020-05-02T00:00:00\", \"2020-05-03T00:00:00\", \"2020-05-04T00:00:00\", \"2020-05-05T00:00:00\", \"2020-05-06T00:00:00\", \"2020-05-07T00:00:00\", \"2020-05-08T00:00:00\", \"2020-05-09T00:00:00\", \"2020-05-10T00:00:00\", \"2020-05-11T00:00:00\", \"2020-05-12T00:00:00\", \"2020-05-13T00:00:00\", \"2020-05-14T00:00:00\", \"2020-05-15T00:00:00\", \"2020-05-16T00:00:00\", \"2020-05-17T00:00:00\", \"2020-05-18T00:00:00\", \"2020-05-19T00:00:00\", \"2020-05-20T00:00:00\", \"2020-05-21T00:00:00\", \"2020-05-22T00:00:00\", \"2020-05-23T00:00:00\", \"2020-05-24T00:00:00\", \"2020-05-25T00:00:00\", \"2020-05-26T00:00:00\", \"2020-05-27T00:00:00\", \"2020-05-28T00:00:00\", \"2020-05-29T00:00:00\", \"2020-05-30T00:00:00\", \"2020-05-31T00:00:00\", \"2020-06-01T00:00:00\", \"2020-06-02T00:00:00\", \"2020-06-03T00:00:00\", \"2020-06-04T00:00:00\", \"2020-06-05T00:00:00\", \"2020-06-06T00:00:00\", \"2020-06-07T00:00:00\", \"2020-06-08T00:00:00\", \"2020-06-09T00:00:00\", \"2020-06-10T00:00:00\", \"2020-06-11T00:00:00\", \"2020-06-12T00:00:00\", \"2020-06-13T00:00:00\", \"2020-06-14T00:00:00\", \"2020-06-15T00:00:00\", \"2020-06-16T00:00:00\", \"2020-06-17T00:00:00\", \"2020-06-18T00:00:00\", \"2020-06-19T00:00:00\", \"2020-06-20T00:00:00\", \"2020-06-21T00:00:00\", \"2020-06-22T00:00:00\", \"2020-06-23T00:00:00\", \"2020-06-24T00:00:00\", \"2020-06-25T00:00:00\", \"2020-06-26T00:00:00\", \"2020-06-27T00:00:00\", \"2020-06-28T00:00:00\", \"2020-06-29T00:00:00\", \"2020-06-30T00:00:00\", \"2020-07-01T00:00:00\", \"2020-07-02T00:00:00\", \"2020-07-03T00:00:00\", \"2020-07-04T00:00:00\", \"2020-07-05T00:00:00\", \"2020-07-06T00:00:00\", \"2020-07-07T00:00:00\", \"2020-07-08T00:00:00\", \"2020-07-09T00:00:00\", \"2020-07-10T00:00:00\", \"2020-07-11T00:00:00\", \"2020-07-12T00:00:00\", \"2020-07-13T00:00:00\", \"2020-07-14T00:00:00\", \"2020-07-15T00:00:00\", \"2020-07-16T00:00:00\", \"2020-07-17T00:00:00\", \"2020-07-18T00:00:00\", \"2020-07-19T00:00:00\", \"2020-07-20T00:00:00\", \"2020-07-21T00:00:00\", \"2020-07-22T00:00:00\", \"2020-07-23T00:00:00\", \"2020-07-24T00:00:00\", \"2020-07-25T00:00:00\", \"2020-07-26T00:00:00\", \"2020-07-27T00:00:00\", \"2020-07-28T00:00:00\", \"2020-07-29T00:00:00\", \"2020-07-30T00:00:00\", \"2020-07-31T00:00:00\", \"2020-08-01T00:00:00\", \"2020-08-02T00:00:00\", \"2020-08-03T00:00:00\", \"2020-08-04T00:00:00\", \"2020-08-05T00:00:00\", \"2020-08-06T00:00:00\", \"2020-08-07T00:00:00\", \"2020-08-08T00:00:00\", \"2020-08-09T00:00:00\", \"2020-08-10T00:00:00\", \"2020-08-11T00:00:00\", \"2020-08-12T00:00:00\", \"2020-08-13T00:00:00\", \"2020-08-14T00:00:00\", \"2020-08-15T00:00:00\", \"2020-08-16T00:00:00\", \"2020-08-17T00:00:00\", \"2020-08-18T00:00:00\", \"2020-08-19T00:00:00\", \"2020-08-20T00:00:00\", \"2020-08-21T00:00:00\", \"2020-08-22T00:00:00\", \"2020-08-23T00:00:00\", \"2020-08-24T00:00:00\", \"2020-08-25T00:00:00\", \"2020-08-26T00:00:00\", \"2020-08-27T00:00:00\", \"2020-08-28T00:00:00\", \"2020-08-29T00:00:00\", \"2020-08-30T00:00:00\", \"2020-08-31T00:00:00\", \"2020-09-01T00:00:00\", \"2020-09-02T00:00:00\", \"2020-09-03T00:00:00\", \"2020-09-04T00:00:00\", \"2020-09-05T00:00:00\", \"2020-09-06T00:00:00\", \"2020-09-07T00:00:00\", \"2020-09-08T00:00:00\", \"2020-09-09T00:00:00\", \"2020-09-10T00:00:00\", \"2020-09-11T00:00:00\", \"2020-09-12T00:00:00\", \"2020-09-13T00:00:00\", \"2020-09-14T00:00:00\", \"2020-09-15T00:00:00\", \"2020-09-16T00:00:00\", \"2020-09-17T00:00:00\", \"2020-09-18T00:00:00\", \"2020-09-19T00:00:00\", \"2020-09-20T00:00:00\", \"2020-09-21T00:00:00\", \"2020-09-22T00:00:00\", \"2020-09-23T00:00:00\", \"2020-09-24T00:00:00\", \"2020-09-25T00:00:00\", \"2020-09-26T00:00:00\", \"2020-09-27T00:00:00\", \"2020-09-28T00:00:00\", \"2020-09-29T00:00:00\", \"2020-09-30T00:00:00\", \"2020-10-01T00:00:00\", \"2020-10-02T00:00:00\", \"2020-10-03T00:00:00\", \"2020-10-04T00:00:00\", \"2020-10-05T00:00:00\", \"2020-10-06T00:00:00\", \"2020-10-07T00:00:00\", \"2020-10-08T00:00:00\", \"2020-10-09T00:00:00\", \"2020-10-10T00:00:00\", \"2020-10-11T00:00:00\"], \"y\": [5, 6, 6, 6, 6, 6, 6, 6, 6, 7, 7, 7, 7, 7, 7, 7, 8, 9, 11, 11, 14, 16, 17, 17, 17, 21, 23, 25, 25, 25, 25, 29, 30, 32, 32, 33, 33, 38, 44, 44, 45, 49, 59, 59, 62, 63, 66, 66, 67, 70, 75, 78, 81, 83, 83, 83, 84, 85, 85, 89, 89, 90, 91, 94, 95, 98, 98, 100, 103, 103, 106, 106, 106, 107, 108, 108, 118, 131, 132, 132, 132, 134, 136, 137, 137, 146, 151, 151, 152, 154, 154, 154, 161, 164, 165, 168, 168, 168, 171, 171, 171, 171, 171, 171, 171, 172, 172, 179, 181, 181, 181, 181, 181, 181, 181, 183, 185, 185, 185, 185, 186, 187, 187, 187, 187, 187, 188, 190, 192, 196, 196, 197, 197, 197, 198, 199, 199, 200, 201, 201, 201, 205, 205, 206, 206, 206, 206, 206, 206, 208, 210, 210, 210, 210, 210, 215, 215, 216, 220, 223, 227, 227, 231, 232, 233, 234, 234, 236, 237, 237, 242, 244, 252, 258, 259, 262, 263, 263, 263, 265, 265, 265, 273, 274, 275, 279, 280, 280, 280, 280, 282, 285, 285, 292, 293, 298, 298, 305, 306, 309, 311, 311, 317, 319, 329, 342, 354, 367, 384, 386, 388, 403, 419, 435, 450, 465, 480, 495, 511, 524, 527, 529, 530, 530]}],\n",
              "                        {\"template\": {\"data\": {\"bar\": [{\"error_x\": {\"color\": \"#2a3f5f\"}, \"error_y\": {\"color\": \"#2a3f5f\"}, \"marker\": {\"line\": {\"color\": \"white\", \"width\": 0.5}}, \"type\": \"bar\"}], \"barpolar\": [{\"marker\": {\"line\": {\"color\": \"white\", \"width\": 0.5}}, \"type\": \"barpolar\"}], \"carpet\": [{\"aaxis\": {\"endlinecolor\": \"#2a3f5f\", \"gridcolor\": \"#C8D4E3\", \"linecolor\": \"#C8D4E3\", \"minorgridcolor\": \"#C8D4E3\", \"startlinecolor\": \"#2a3f5f\"}, \"baxis\": {\"endlinecolor\": \"#2a3f5f\", \"gridcolor\": \"#C8D4E3\", \"linecolor\": \"#C8D4E3\", \"minorgridcolor\": \"#C8D4E3\", \"startlinecolor\": \"#2a3f5f\"}, \"type\": \"carpet\"}], \"choropleth\": [{\"colorbar\": {\"outlinewidth\": 0, \"ticks\": \"\"}, \"type\": \"choropleth\"}], \"contour\": [{\"colorbar\": {\"outlinewidth\": 0, \"ticks\": \"\"}, \"colorscale\": [[0.0, \"#0d0887\"], [0.1111111111111111, \"#46039f\"], [0.2222222222222222, \"#7201a8\"], [0.3333333333333333, \"#9c179e\"], [0.4444444444444444, \"#bd3786\"], [0.5555555555555556, \"#d8576b\"], [0.6666666666666666, \"#ed7953\"], [0.7777777777777778, \"#fb9f3a\"], [0.8888888888888888, \"#fdca26\"], [1.0, \"#f0f921\"]], \"type\": \"contour\"}], \"contourcarpet\": [{\"colorbar\": {\"outlinewidth\": 0, \"ticks\": \"\"}, \"type\": \"contourcarpet\"}], \"heatmap\": [{\"colorbar\": {\"outlinewidth\": 0, \"ticks\": \"\"}, \"colorscale\": [[0.0, \"#0d0887\"], [0.1111111111111111, \"#46039f\"], [0.2222222222222222, \"#7201a8\"], [0.3333333333333333, \"#9c179e\"], [0.4444444444444444, \"#bd3786\"], [0.5555555555555556, \"#d8576b\"], [0.6666666666666666, \"#ed7953\"], [0.7777777777777778, \"#fb9f3a\"], [0.8888888888888888, \"#fdca26\"], [1.0, \"#f0f921\"]], \"type\": \"heatmap\"}], \"heatmapgl\": [{\"colorbar\": {\"outlinewidth\": 0, \"ticks\": \"\"}, \"colorscale\": [[0.0, \"#0d0887\"], [0.1111111111111111, \"#46039f\"], [0.2222222222222222, \"#7201a8\"], [0.3333333333333333, \"#9c179e\"], [0.4444444444444444, \"#bd3786\"], [0.5555555555555556, \"#d8576b\"], [0.6666666666666666, \"#ed7953\"], [0.7777777777777778, \"#fb9f3a\"], [0.8888888888888888, \"#fdca26\"], [1.0, \"#f0f921\"]], \"type\": \"heatmapgl\"}], \"histogram\": [{\"marker\": {\"colorbar\": {\"outlinewidth\": 0, \"ticks\": \"\"}}, \"type\": \"histogram\"}], \"histogram2d\": [{\"colorbar\": {\"outlinewidth\": 0, \"ticks\": \"\"}, \"colorscale\": [[0.0, \"#0d0887\"], [0.1111111111111111, \"#46039f\"], [0.2222222222222222, \"#7201a8\"], [0.3333333333333333, \"#9c179e\"], [0.4444444444444444, \"#bd3786\"], [0.5555555555555556, \"#d8576b\"], [0.6666666666666666, \"#ed7953\"], [0.7777777777777778, \"#fb9f3a\"], [0.8888888888888888, \"#fdca26\"], [1.0, \"#f0f921\"]], \"type\": \"histogram2d\"}], \"histogram2dcontour\": [{\"colorbar\": {\"outlinewidth\": 0, \"ticks\": \"\"}, \"colorscale\": [[0.0, \"#0d0887\"], [0.1111111111111111, \"#46039f\"], [0.2222222222222222, \"#7201a8\"], [0.3333333333333333, \"#9c179e\"], [0.4444444444444444, \"#bd3786\"], [0.5555555555555556, \"#d8576b\"], [0.6666666666666666, \"#ed7953\"], [0.7777777777777778, \"#fb9f3a\"], [0.8888888888888888, \"#fdca26\"], [1.0, \"#f0f921\"]], \"type\": \"histogram2dcontour\"}], \"mesh3d\": [{\"colorbar\": {\"outlinewidth\": 0, \"ticks\": \"\"}, \"type\": \"mesh3d\"}], \"parcoords\": [{\"line\": {\"colorbar\": {\"outlinewidth\": 0, \"ticks\": \"\"}}, \"type\": \"parcoords\"}], \"pie\": [{\"automargin\": true, \"type\": \"pie\"}], \"scatter\": [{\"marker\": {\"colorbar\": {\"outlinewidth\": 0, \"ticks\": \"\"}}, \"type\": \"scatter\"}], \"scatter3d\": [{\"line\": {\"colorbar\": {\"outlinewidth\": 0, \"ticks\": \"\"}}, \"marker\": {\"colorbar\": {\"outlinewidth\": 0, \"ticks\": \"\"}}, \"type\": \"scatter3d\"}], \"scattercarpet\": [{\"marker\": {\"colorbar\": {\"outlinewidth\": 0, \"ticks\": \"\"}}, \"type\": \"scattercarpet\"}], \"scattergeo\": [{\"marker\": {\"colorbar\": {\"outlinewidth\": 0, \"ticks\": \"\"}}, \"type\": \"scattergeo\"}], \"scattergl\": [{\"marker\": {\"colorbar\": {\"outlinewidth\": 0, \"ticks\": \"\"}}, \"type\": \"scattergl\"}], \"scattermapbox\": [{\"marker\": {\"colorbar\": {\"outlinewidth\": 0, \"ticks\": \"\"}}, \"type\": \"scattermapbox\"}], \"scatterpolar\": [{\"marker\": {\"colorbar\": {\"outlinewidth\": 0, \"ticks\": \"\"}}, \"type\": \"scatterpolar\"}], \"scatterpolargl\": [{\"marker\": {\"colorbar\": {\"outlinewidth\": 0, \"ticks\": \"\"}}, \"type\": \"scatterpolargl\"}], \"scatterternary\": [{\"marker\": {\"colorbar\": {\"outlinewidth\": 0, \"ticks\": \"\"}}, \"type\": \"scatterternary\"}], \"surface\": [{\"colorbar\": {\"outlinewidth\": 0, \"ticks\": \"\"}, \"colorscale\": [[0.0, \"#0d0887\"], [0.1111111111111111, \"#46039f\"], [0.2222222222222222, \"#7201a8\"], [0.3333333333333333, \"#9c179e\"], [0.4444444444444444, \"#bd3786\"], [0.5555555555555556, \"#d8576b\"], [0.6666666666666666, \"#ed7953\"], [0.7777777777777778, \"#fb9f3a\"], [0.8888888888888888, \"#fdca26\"], [1.0, \"#f0f921\"]], \"type\": \"surface\"}], \"table\": [{\"cells\": {\"fill\": {\"color\": \"#EBF0F8\"}, \"line\": {\"color\": \"white\"}}, \"header\": {\"fill\": {\"color\": \"#C8D4E3\"}, \"line\": {\"color\": \"white\"}}, \"type\": \"table\"}]}, \"layout\": {\"annotationdefaults\": {\"arrowcolor\": \"#2a3f5f\", \"arrowhead\": 0, \"arrowwidth\": 1}, \"coloraxis\": {\"colorbar\": {\"outlinewidth\": 0, \"ticks\": \"\"}}, \"colorscale\": {\"diverging\": [[0, \"#8e0152\"], [0.1, \"#c51b7d\"], [0.2, \"#de77ae\"], [0.3, \"#f1b6da\"], [0.4, \"#fde0ef\"], [0.5, \"#f7f7f7\"], [0.6, \"#e6f5d0\"], [0.7, \"#b8e186\"], [0.8, \"#7fbc41\"], [0.9, \"#4d9221\"], [1, \"#276419\"]], \"sequential\": [[0.0, \"#0d0887\"], [0.1111111111111111, \"#46039f\"], [0.2222222222222222, \"#7201a8\"], [0.3333333333333333, \"#9c179e\"], [0.4444444444444444, \"#bd3786\"], [0.5555555555555556, \"#d8576b\"], [0.6666666666666666, \"#ed7953\"], [0.7777777777777778, \"#fb9f3a\"], [0.8888888888888888, \"#fdca26\"], [1.0, \"#f0f921\"]], \"sequentialminus\": [[0.0, \"#0d0887\"], [0.1111111111111111, \"#46039f\"], [0.2222222222222222, \"#7201a8\"], [0.3333333333333333, \"#9c179e\"], [0.4444444444444444, \"#bd3786\"], [0.5555555555555556, \"#d8576b\"], [0.6666666666666666, \"#ed7953\"], [0.7777777777777778, \"#fb9f3a\"], [0.8888888888888888, \"#fdca26\"], [1.0, \"#f0f921\"]]}, \"colorway\": [\"#636efa\", \"#EF553B\", \"#00cc96\", \"#ab63fa\", \"#FFA15A\", \"#19d3f3\", \"#FF6692\", \"#B6E880\", \"#FF97FF\", \"#FECB52\"], \"font\": {\"color\": \"#2a3f5f\"}, \"geo\": {\"bgcolor\": \"white\", \"lakecolor\": \"white\", \"landcolor\": \"white\", \"showlakes\": true, \"showland\": true, \"subunitcolor\": \"#C8D4E3\"}, \"hoverlabel\": {\"align\": \"left\"}, \"hovermode\": \"closest\", \"mapbox\": {\"style\": \"light\"}, \"paper_bgcolor\": \"white\", \"plot_bgcolor\": \"white\", \"polar\": {\"angularaxis\": {\"gridcolor\": \"#EBF0F8\", \"linecolor\": \"#EBF0F8\", \"ticks\": \"\"}, \"bgcolor\": \"white\", \"radialaxis\": {\"gridcolor\": \"#EBF0F8\", \"linecolor\": \"#EBF0F8\", \"ticks\": \"\"}}, \"scene\": {\"xaxis\": {\"backgroundcolor\": \"white\", \"gridcolor\": \"#DFE8F3\", \"gridwidth\": 2, \"linecolor\": \"#EBF0F8\", \"showbackground\": true, \"ticks\": \"\", \"zerolinecolor\": \"#EBF0F8\"}, \"yaxis\": {\"backgroundcolor\": \"white\", \"gridcolor\": \"#DFE8F3\", \"gridwidth\": 2, \"linecolor\": \"#EBF0F8\", \"showbackground\": true, \"ticks\": \"\", \"zerolinecolor\": \"#EBF0F8\"}, \"zaxis\": {\"backgroundcolor\": \"white\", \"gridcolor\": \"#DFE8F3\", \"gridwidth\": 2, \"linecolor\": \"#EBF0F8\", \"showbackground\": true, \"ticks\": \"\", \"zerolinecolor\": \"#EBF0F8\"}}, \"shapedefaults\": {\"line\": {\"color\": \"#2a3f5f\"}}, \"ternary\": {\"aaxis\": {\"gridcolor\": \"#DFE8F3\", \"linecolor\": \"#A2B1C6\", \"ticks\": \"\"}, \"baxis\": {\"gridcolor\": \"#DFE8F3\", \"linecolor\": \"#A2B1C6\", \"ticks\": \"\"}, \"bgcolor\": \"white\", \"caxis\": {\"gridcolor\": \"#DFE8F3\", \"linecolor\": \"#A2B1C6\", \"ticks\": \"\"}}, \"title\": {\"x\": 0.05}, \"xaxis\": {\"automargin\": true, \"gridcolor\": \"#EBF0F8\", \"linecolor\": \"#EBF0F8\", \"ticks\": \"\", \"title\": {\"standoff\": 15}, \"zerolinecolor\": \"#EBF0F8\", \"zerolinewidth\": 2}, \"yaxis\": {\"automargin\": true, \"gridcolor\": \"#EBF0F8\", \"linecolor\": \"#EBF0F8\", \"ticks\": \"\", \"title\": {\"standoff\": 15}, \"zerolinecolor\": \"#EBF0F8\", \"zerolinewidth\": 2}}}, \"title\": {\"text\": \"Jabar Death Cases\"}, \"xaxis\": {\"title\": {\"text\": \"Date\"}}, \"yaxis\": {\"title\": {\"text\": \"Total Cases\"}}},\n",
              "                        {\"responsive\": true}\n",
              "                    ).then(function(){\n",
              "                            \n",
              "var gd = document.getElementById('8554ad04-4849-4bcc-8802-a328984dc5c2');\n",
              "var x = new MutationObserver(function (mutations, observer) {{\n",
              "        var display = window.getComputedStyle(gd).display;\n",
              "        if (!display || display === 'none') {{\n",
              "            console.log([gd, 'removed!']);\n",
              "            Plotly.purge(gd);\n",
              "            observer.disconnect();\n",
              "        }}\n",
              "}});\n",
              "\n",
              "// Listen for the removal of the full notebook cells\n",
              "var notebookContainer = gd.closest('#notebook-container');\n",
              "if (notebookContainer) {{\n",
              "    x.observe(notebookContainer, {childList: true});\n",
              "}}\n",
              "\n",
              "// Listen for the clearing of the current output cell\n",
              "var outputEl = gd.closest('.output');\n",
              "if (outputEl) {{\n",
              "    x.observe(outputEl, {childList: true});\n",
              "}}\n",
              "\n",
              "                        })\n",
              "                };\n",
              "                \n",
              "            </script>\n",
              "        </div>\n",
              "</body>\n",
              "</html>"
            ]
          },
          "metadata": {
            "tags": []
          }
        }
      ]
    },
    {
      "cell_type": "code",
      "metadata": {
        "id": "jeTbT9H8e03b",
        "outputId": "74736116-7f9b-4c6e-b9f7-40bd9a473a12",
        "colab": {
          "base_uri": "https://localhost:8080/",
          "height": 542
        }
      },
      "source": [
        "# plot Recovered\n",
        "fig = go.Figure(go.Bar(x=Jb_covid_total['Date'],\n",
        "                       y=Jb_covid_total['Total Recovered'],\n",
        "                       marker_color='green'\n",
        "                      ))\n",
        "\n",
        "fig.update_layout(title='Jabar Recovered Cases',\n",
        "                  template='plotly_white',\n",
        "                  xaxis_title='Date',\n",
        "                  yaxis_title='Total Case'\n",
        "                 )\n",
        "fig.show()"
      ],
      "execution_count": 42,
      "outputs": [
        {
          "output_type": "display_data",
          "data": {
            "text/html": [
              "<html>\n",
              "<head><meta charset=\"utf-8\" /></head>\n",
              "<body>\n",
              "    <div>\n",
              "            <script src=\"https://cdnjs.cloudflare.com/ajax/libs/mathjax/2.7.5/MathJax.js?config=TeX-AMS-MML_SVG\"></script><script type=\"text/javascript\">if (window.MathJax) {MathJax.Hub.Config({SVG: {font: \"STIX-Web\"}});}</script>\n",
              "                <script type=\"text/javascript\">window.PlotlyConfig = {MathJaxConfig: 'local'};</script>\n",
              "        <script src=\"https://cdn.plot.ly/plotly-latest.min.js\"></script>    \n",
              "            <div id=\"1c4020cb-9d34-45e1-9028-14754ba3ecc3\" class=\"plotly-graph-div\" style=\"height:525px; width:100%;\"></div>\n",
              "            <script type=\"text/javascript\">\n",
              "                \n",
              "                    window.PLOTLYENV=window.PLOTLYENV || {};\n",
              "                    \n",
              "                if (document.getElementById(\"1c4020cb-9d34-45e1-9028-14754ba3ecc3\")) {\n",
              "                    Plotly.newPlot(\n",
              "                        '1c4020cb-9d34-45e1-9028-14754ba3ecc3',\n",
              "                        [{\"marker\": {\"color\": \"green\"}, \"type\": \"bar\", \"x\": [\"2020-03-02T00:00:00\", \"2020-03-03T00:00:00\", \"2020-03-04T00:00:00\", \"2020-03-05T00:00:00\", \"2020-03-06T00:00:00\", \"2020-03-07T00:00:00\", \"2020-03-08T00:00:00\", \"2020-03-09T00:00:00\", \"2020-03-10T00:00:00\", \"2020-03-11T00:00:00\", \"2020-03-12T00:00:00\", \"2020-03-13T00:00:00\", \"2020-03-14T00:00:00\", \"2020-03-15T00:00:00\", \"2020-03-16T00:00:00\", \"2020-03-17T00:00:00\", \"2020-03-18T00:00:00\", \"2020-03-19T00:00:00\", \"2020-03-20T00:00:00\", \"2020-03-21T00:00:00\", \"2020-03-22T00:00:00\", \"2020-03-23T00:00:00\", \"2020-03-24T00:00:00\", \"2020-03-25T00:00:00\", \"2020-03-26T00:00:00\", \"2020-03-27T00:00:00\", \"2020-03-28T00:00:00\", \"2020-03-29T00:00:00\", \"2020-03-30T00:00:00\", \"2020-03-31T00:00:00\", \"2020-04-01T00:00:00\", \"2020-04-02T00:00:00\", \"2020-04-03T00:00:00\", \"2020-04-04T00:00:00\", \"2020-04-05T00:00:00\", \"2020-04-06T00:00:00\", \"2020-04-07T00:00:00\", \"2020-04-08T00:00:00\", \"2020-04-09T00:00:00\", \"2020-04-10T00:00:00\", \"2020-04-11T00:00:00\", \"2020-04-12T00:00:00\", \"2020-04-13T00:00:00\", \"2020-04-14T00:00:00\", \"2020-04-15T00:00:00\", \"2020-04-16T00:00:00\", \"2020-04-17T00:00:00\", \"2020-04-18T00:00:00\", \"2020-04-19T00:00:00\", \"2020-04-20T00:00:00\", \"2020-04-21T00:00:00\", \"2020-04-22T00:00:00\", \"2020-04-23T00:00:00\", \"2020-04-24T00:00:00\", \"2020-04-25T00:00:00\", \"2020-04-26T00:00:00\", \"2020-04-27T00:00:00\", \"2020-04-28T00:00:00\", \"2020-04-29T00:00:00\", \"2020-04-30T00:00:00\", \"2020-05-01T00:00:00\", \"2020-05-02T00:00:00\", \"2020-05-03T00:00:00\", \"2020-05-04T00:00:00\", \"2020-05-05T00:00:00\", \"2020-05-06T00:00:00\", \"2020-05-07T00:00:00\", \"2020-05-08T00:00:00\", \"2020-05-09T00:00:00\", \"2020-05-10T00:00:00\", \"2020-05-11T00:00:00\", \"2020-05-12T00:00:00\", \"2020-05-13T00:00:00\", \"2020-05-14T00:00:00\", \"2020-05-15T00:00:00\", \"2020-05-16T00:00:00\", \"2020-05-17T00:00:00\", \"2020-05-18T00:00:00\", \"2020-05-19T00:00:00\", \"2020-05-20T00:00:00\", \"2020-05-21T00:00:00\", \"2020-05-22T00:00:00\", \"2020-05-23T00:00:00\", \"2020-05-24T00:00:00\", \"2020-05-25T00:00:00\", \"2020-05-26T00:00:00\", \"2020-05-27T00:00:00\", \"2020-05-28T00:00:00\", \"2020-05-29T00:00:00\", \"2020-05-30T00:00:00\", \"2020-05-31T00:00:00\", \"2020-06-01T00:00:00\", \"2020-06-02T00:00:00\", \"2020-06-03T00:00:00\", \"2020-06-04T00:00:00\", \"2020-06-05T00:00:00\", \"2020-06-06T00:00:00\", \"2020-06-07T00:00:00\", \"2020-06-08T00:00:00\", \"2020-06-09T00:00:00\", \"2020-06-10T00:00:00\", \"2020-06-11T00:00:00\", \"2020-06-12T00:00:00\", \"2020-06-13T00:00:00\", \"2020-06-14T00:00:00\", \"2020-06-15T00:00:00\", \"2020-06-16T00:00:00\", \"2020-06-17T00:00:00\", \"2020-06-18T00:00:00\", \"2020-06-19T00:00:00\", \"2020-06-20T00:00:00\", \"2020-06-21T00:00:00\", \"2020-06-22T00:00:00\", \"2020-06-23T00:00:00\", \"2020-06-24T00:00:00\", \"2020-06-25T00:00:00\", \"2020-06-26T00:00:00\", \"2020-06-27T00:00:00\", \"2020-06-28T00:00:00\", \"2020-06-29T00:00:00\", \"2020-06-30T00:00:00\", \"2020-07-01T00:00:00\", \"2020-07-02T00:00:00\", \"2020-07-03T00:00:00\", \"2020-07-04T00:00:00\", \"2020-07-05T00:00:00\", \"2020-07-06T00:00:00\", \"2020-07-07T00:00:00\", \"2020-07-08T00:00:00\", \"2020-07-09T00:00:00\", \"2020-07-10T00:00:00\", \"2020-07-11T00:00:00\", \"2020-07-12T00:00:00\", \"2020-07-13T00:00:00\", \"2020-07-14T00:00:00\", \"2020-07-15T00:00:00\", \"2020-07-16T00:00:00\", \"2020-07-17T00:00:00\", \"2020-07-18T00:00:00\", \"2020-07-19T00:00:00\", \"2020-07-20T00:00:00\", \"2020-07-21T00:00:00\", \"2020-07-22T00:00:00\", \"2020-07-23T00:00:00\", \"2020-07-24T00:00:00\", \"2020-07-25T00:00:00\", \"2020-07-26T00:00:00\", \"2020-07-27T00:00:00\", \"2020-07-28T00:00:00\", \"2020-07-29T00:00:00\", \"2020-07-30T00:00:00\", \"2020-07-31T00:00:00\", \"2020-08-01T00:00:00\", \"2020-08-02T00:00:00\", \"2020-08-03T00:00:00\", \"2020-08-04T00:00:00\", \"2020-08-05T00:00:00\", \"2020-08-06T00:00:00\", \"2020-08-07T00:00:00\", \"2020-08-08T00:00:00\", \"2020-08-09T00:00:00\", \"2020-08-10T00:00:00\", \"2020-08-11T00:00:00\", \"2020-08-12T00:00:00\", \"2020-08-13T00:00:00\", \"2020-08-14T00:00:00\", \"2020-08-15T00:00:00\", \"2020-08-16T00:00:00\", \"2020-08-17T00:00:00\", \"2020-08-18T00:00:00\", \"2020-08-19T00:00:00\", \"2020-08-20T00:00:00\", \"2020-08-21T00:00:00\", \"2020-08-22T00:00:00\", \"2020-08-23T00:00:00\", \"2020-08-24T00:00:00\", \"2020-08-25T00:00:00\", \"2020-08-26T00:00:00\", \"2020-08-27T00:00:00\", \"2020-08-28T00:00:00\", \"2020-08-29T00:00:00\", \"2020-08-30T00:00:00\", \"2020-08-31T00:00:00\", \"2020-09-01T00:00:00\", \"2020-09-02T00:00:00\", \"2020-09-03T00:00:00\", \"2020-09-04T00:00:00\", \"2020-09-05T00:00:00\", \"2020-09-06T00:00:00\", \"2020-09-07T00:00:00\", \"2020-09-08T00:00:00\", \"2020-09-09T00:00:00\", \"2020-09-10T00:00:00\", \"2020-09-11T00:00:00\", \"2020-09-12T00:00:00\", \"2020-09-13T00:00:00\", \"2020-09-14T00:00:00\", \"2020-09-15T00:00:00\", \"2020-09-16T00:00:00\", \"2020-09-17T00:00:00\", \"2020-09-18T00:00:00\", \"2020-09-19T00:00:00\", \"2020-09-20T00:00:00\", \"2020-09-21T00:00:00\", \"2020-09-22T00:00:00\", \"2020-09-23T00:00:00\", \"2020-09-24T00:00:00\", \"2020-09-25T00:00:00\", \"2020-09-26T00:00:00\", \"2020-09-27T00:00:00\", \"2020-09-28T00:00:00\", \"2020-09-29T00:00:00\", \"2020-09-30T00:00:00\", \"2020-10-01T00:00:00\", \"2020-10-02T00:00:00\", \"2020-10-03T00:00:00\", \"2020-10-04T00:00:00\", \"2020-10-05T00:00:00\", \"2020-10-06T00:00:00\", \"2020-10-07T00:00:00\", \"2020-10-08T00:00:00\", \"2020-10-09T00:00:00\", \"2020-10-10T00:00:00\", \"2020-10-11T00:00:00\"], \"y\": [5, 5, 5, 5, 5, 5, 5, 5, 5, 5, 5, 9, 9, 9, 9, 9, 10, 10, 10, 10, 10, 10, 11, 11, 11, 11, 12, 13, 16, 16, 16, 17, 19, 19, 19, 20, 23, 24, 26, 26, 27, 30, 33, 34, 35, 40, 56, 56, 65, 69, 92, 95, 104, 107, 110, 111, 114, 121, 128, 165, 168, 171, 179, 186, 196, 207, 215, 216, 235, 235, 246, 250, 277, 284, 302, 304, 361, 437, 451, 453, 464, 477, 518, 529, 533, 559, 595, 641, 648, 682, 691, 699, 735, 792, 812, 861, 879, 985, 1060, 1075, 1113, 1134, 1181, 1217, 1261, 1268, 1279, 1307, 1360, 1390, 1391, 1393, 1417, 1447, 1457, 1524, 1635, 1650, 1659, 1662, 1746, 1761, 1806, 1810, 1832, 1849, 1871, 1915, 1940, 1968, 2002, 2031, 2040, 2059, 2093, 2239, 2257, 2290, 2308, 2312, 2407, 2439, 2462, 2475, 2494, 2526, 2549, 2955, 3561, 3609, 3942, 3959, 3978, 3985, 4032, 4202, 4211, 4243, 4306, 4346, 4412, 4439, 4478, 4549, 4566, 4587, 4623, 4664, 4709, 4725, 4774, 4845, 4967, 5146, 5665, 5872, 5878, 5909, 5999, 6066, 6074, 6098, 6155, 6203, 6340, 6370, 6456, 6501, 6555, 6643, 6719, 6766, 6876, 7161, 7490, 7682, 7848, 8099, 8314, 8645, 8929, 9481, 9886, 10137, 10733, 10907, 11157, 11997, 12618, 12855, 13155, 13268, 13642, 13773, 13958, 14053, 14131, 14927, 15128, 15641, 15966, 16516, 16907, 17462]}],\n",
              "                        {\"template\": {\"data\": {\"bar\": [{\"error_x\": {\"color\": \"#2a3f5f\"}, \"error_y\": {\"color\": \"#2a3f5f\"}, \"marker\": {\"line\": {\"color\": \"white\", \"width\": 0.5}}, \"type\": \"bar\"}], \"barpolar\": [{\"marker\": {\"line\": {\"color\": \"white\", \"width\": 0.5}}, \"type\": \"barpolar\"}], \"carpet\": [{\"aaxis\": {\"endlinecolor\": \"#2a3f5f\", \"gridcolor\": \"#C8D4E3\", \"linecolor\": \"#C8D4E3\", \"minorgridcolor\": \"#C8D4E3\", \"startlinecolor\": \"#2a3f5f\"}, \"baxis\": {\"endlinecolor\": \"#2a3f5f\", \"gridcolor\": \"#C8D4E3\", \"linecolor\": \"#C8D4E3\", \"minorgridcolor\": \"#C8D4E3\", \"startlinecolor\": \"#2a3f5f\"}, \"type\": \"carpet\"}], \"choropleth\": [{\"colorbar\": {\"outlinewidth\": 0, \"ticks\": \"\"}, \"type\": \"choropleth\"}], \"contour\": [{\"colorbar\": {\"outlinewidth\": 0, \"ticks\": \"\"}, \"colorscale\": [[0.0, \"#0d0887\"], [0.1111111111111111, \"#46039f\"], [0.2222222222222222, \"#7201a8\"], [0.3333333333333333, \"#9c179e\"], [0.4444444444444444, \"#bd3786\"], [0.5555555555555556, \"#d8576b\"], [0.6666666666666666, \"#ed7953\"], [0.7777777777777778, \"#fb9f3a\"], [0.8888888888888888, \"#fdca26\"], [1.0, \"#f0f921\"]], \"type\": \"contour\"}], \"contourcarpet\": [{\"colorbar\": {\"outlinewidth\": 0, \"ticks\": \"\"}, \"type\": \"contourcarpet\"}], \"heatmap\": [{\"colorbar\": {\"outlinewidth\": 0, \"ticks\": \"\"}, \"colorscale\": [[0.0, \"#0d0887\"], [0.1111111111111111, \"#46039f\"], [0.2222222222222222, \"#7201a8\"], [0.3333333333333333, \"#9c179e\"], [0.4444444444444444, \"#bd3786\"], [0.5555555555555556, \"#d8576b\"], [0.6666666666666666, \"#ed7953\"], [0.7777777777777778, \"#fb9f3a\"], [0.8888888888888888, \"#fdca26\"], [1.0, \"#f0f921\"]], \"type\": \"heatmap\"}], \"heatmapgl\": [{\"colorbar\": {\"outlinewidth\": 0, \"ticks\": \"\"}, \"colorscale\": [[0.0, \"#0d0887\"], [0.1111111111111111, \"#46039f\"], [0.2222222222222222, \"#7201a8\"], [0.3333333333333333, \"#9c179e\"], [0.4444444444444444, \"#bd3786\"], [0.5555555555555556, \"#d8576b\"], [0.6666666666666666, \"#ed7953\"], [0.7777777777777778, \"#fb9f3a\"], [0.8888888888888888, \"#fdca26\"], [1.0, \"#f0f921\"]], \"type\": \"heatmapgl\"}], \"histogram\": [{\"marker\": {\"colorbar\": {\"outlinewidth\": 0, \"ticks\": \"\"}}, \"type\": \"histogram\"}], \"histogram2d\": [{\"colorbar\": {\"outlinewidth\": 0, \"ticks\": \"\"}, \"colorscale\": [[0.0, \"#0d0887\"], [0.1111111111111111, \"#46039f\"], [0.2222222222222222, \"#7201a8\"], [0.3333333333333333, \"#9c179e\"], [0.4444444444444444, \"#bd3786\"], [0.5555555555555556, \"#d8576b\"], [0.6666666666666666, \"#ed7953\"], [0.7777777777777778, \"#fb9f3a\"], [0.8888888888888888, \"#fdca26\"], [1.0, \"#f0f921\"]], \"type\": \"histogram2d\"}], \"histogram2dcontour\": [{\"colorbar\": {\"outlinewidth\": 0, \"ticks\": \"\"}, \"colorscale\": [[0.0, \"#0d0887\"], [0.1111111111111111, \"#46039f\"], [0.2222222222222222, \"#7201a8\"], [0.3333333333333333, \"#9c179e\"], [0.4444444444444444, \"#bd3786\"], [0.5555555555555556, \"#d8576b\"], [0.6666666666666666, \"#ed7953\"], [0.7777777777777778, \"#fb9f3a\"], [0.8888888888888888, \"#fdca26\"], [1.0, \"#f0f921\"]], \"type\": \"histogram2dcontour\"}], \"mesh3d\": [{\"colorbar\": {\"outlinewidth\": 0, \"ticks\": \"\"}, \"type\": \"mesh3d\"}], \"parcoords\": [{\"line\": {\"colorbar\": {\"outlinewidth\": 0, \"ticks\": \"\"}}, \"type\": \"parcoords\"}], \"pie\": [{\"automargin\": true, \"type\": \"pie\"}], \"scatter\": [{\"marker\": {\"colorbar\": {\"outlinewidth\": 0, \"ticks\": \"\"}}, \"type\": \"scatter\"}], \"scatter3d\": [{\"line\": {\"colorbar\": {\"outlinewidth\": 0, \"ticks\": \"\"}}, \"marker\": {\"colorbar\": {\"outlinewidth\": 0, \"ticks\": \"\"}}, \"type\": \"scatter3d\"}], \"scattercarpet\": [{\"marker\": {\"colorbar\": {\"outlinewidth\": 0, \"ticks\": \"\"}}, \"type\": \"scattercarpet\"}], \"scattergeo\": [{\"marker\": {\"colorbar\": {\"outlinewidth\": 0, \"ticks\": \"\"}}, \"type\": \"scattergeo\"}], \"scattergl\": [{\"marker\": {\"colorbar\": {\"outlinewidth\": 0, \"ticks\": \"\"}}, \"type\": \"scattergl\"}], \"scattermapbox\": [{\"marker\": {\"colorbar\": {\"outlinewidth\": 0, \"ticks\": \"\"}}, \"type\": \"scattermapbox\"}], \"scatterpolar\": [{\"marker\": {\"colorbar\": {\"outlinewidth\": 0, \"ticks\": \"\"}}, \"type\": \"scatterpolar\"}], \"scatterpolargl\": [{\"marker\": {\"colorbar\": {\"outlinewidth\": 0, \"ticks\": \"\"}}, \"type\": \"scatterpolargl\"}], \"scatterternary\": [{\"marker\": {\"colorbar\": {\"outlinewidth\": 0, \"ticks\": \"\"}}, \"type\": \"scatterternary\"}], \"surface\": [{\"colorbar\": {\"outlinewidth\": 0, \"ticks\": \"\"}, \"colorscale\": [[0.0, \"#0d0887\"], [0.1111111111111111, \"#46039f\"], [0.2222222222222222, \"#7201a8\"], [0.3333333333333333, \"#9c179e\"], [0.4444444444444444, \"#bd3786\"], [0.5555555555555556, \"#d8576b\"], [0.6666666666666666, \"#ed7953\"], [0.7777777777777778, \"#fb9f3a\"], [0.8888888888888888, \"#fdca26\"], [1.0, \"#f0f921\"]], \"type\": \"surface\"}], \"table\": [{\"cells\": {\"fill\": {\"color\": \"#EBF0F8\"}, \"line\": {\"color\": \"white\"}}, \"header\": {\"fill\": {\"color\": \"#C8D4E3\"}, \"line\": {\"color\": \"white\"}}, \"type\": \"table\"}]}, \"layout\": {\"annotationdefaults\": {\"arrowcolor\": \"#2a3f5f\", \"arrowhead\": 0, \"arrowwidth\": 1}, \"coloraxis\": {\"colorbar\": {\"outlinewidth\": 0, \"ticks\": \"\"}}, \"colorscale\": {\"diverging\": [[0, \"#8e0152\"], [0.1, \"#c51b7d\"], [0.2, \"#de77ae\"], [0.3, \"#f1b6da\"], [0.4, \"#fde0ef\"], [0.5, \"#f7f7f7\"], [0.6, \"#e6f5d0\"], [0.7, \"#b8e186\"], [0.8, \"#7fbc41\"], [0.9, \"#4d9221\"], [1, \"#276419\"]], \"sequential\": [[0.0, \"#0d0887\"], [0.1111111111111111, \"#46039f\"], [0.2222222222222222, \"#7201a8\"], [0.3333333333333333, \"#9c179e\"], [0.4444444444444444, \"#bd3786\"], [0.5555555555555556, \"#d8576b\"], [0.6666666666666666, \"#ed7953\"], [0.7777777777777778, \"#fb9f3a\"], [0.8888888888888888, \"#fdca26\"], [1.0, \"#f0f921\"]], \"sequentialminus\": [[0.0, \"#0d0887\"], [0.1111111111111111, \"#46039f\"], [0.2222222222222222, \"#7201a8\"], [0.3333333333333333, \"#9c179e\"], [0.4444444444444444, \"#bd3786\"], [0.5555555555555556, \"#d8576b\"], [0.6666666666666666, \"#ed7953\"], [0.7777777777777778, \"#fb9f3a\"], [0.8888888888888888, \"#fdca26\"], [1.0, \"#f0f921\"]]}, \"colorway\": [\"#636efa\", \"#EF553B\", \"#00cc96\", \"#ab63fa\", \"#FFA15A\", \"#19d3f3\", \"#FF6692\", \"#B6E880\", \"#FF97FF\", \"#FECB52\"], \"font\": {\"color\": \"#2a3f5f\"}, \"geo\": {\"bgcolor\": \"white\", \"lakecolor\": \"white\", \"landcolor\": \"white\", \"showlakes\": true, \"showland\": true, \"subunitcolor\": \"#C8D4E3\"}, \"hoverlabel\": {\"align\": \"left\"}, \"hovermode\": \"closest\", \"mapbox\": {\"style\": \"light\"}, \"paper_bgcolor\": \"white\", \"plot_bgcolor\": \"white\", \"polar\": {\"angularaxis\": {\"gridcolor\": \"#EBF0F8\", \"linecolor\": \"#EBF0F8\", \"ticks\": \"\"}, \"bgcolor\": \"white\", \"radialaxis\": {\"gridcolor\": \"#EBF0F8\", \"linecolor\": \"#EBF0F8\", \"ticks\": \"\"}}, \"scene\": {\"xaxis\": {\"backgroundcolor\": \"white\", \"gridcolor\": \"#DFE8F3\", \"gridwidth\": 2, \"linecolor\": \"#EBF0F8\", \"showbackground\": true, \"ticks\": \"\", \"zerolinecolor\": \"#EBF0F8\"}, \"yaxis\": {\"backgroundcolor\": \"white\", \"gridcolor\": \"#DFE8F3\", \"gridwidth\": 2, \"linecolor\": \"#EBF0F8\", \"showbackground\": true, \"ticks\": \"\", \"zerolinecolor\": \"#EBF0F8\"}, \"zaxis\": {\"backgroundcolor\": \"white\", \"gridcolor\": \"#DFE8F3\", \"gridwidth\": 2, \"linecolor\": \"#EBF0F8\", \"showbackground\": true, \"ticks\": \"\", \"zerolinecolor\": \"#EBF0F8\"}}, \"shapedefaults\": {\"line\": {\"color\": \"#2a3f5f\"}}, \"ternary\": {\"aaxis\": {\"gridcolor\": \"#DFE8F3\", \"linecolor\": \"#A2B1C6\", \"ticks\": \"\"}, \"baxis\": {\"gridcolor\": \"#DFE8F3\", \"linecolor\": \"#A2B1C6\", \"ticks\": \"\"}, \"bgcolor\": \"white\", \"caxis\": {\"gridcolor\": \"#DFE8F3\", \"linecolor\": \"#A2B1C6\", \"ticks\": \"\"}}, \"title\": {\"x\": 0.05}, \"xaxis\": {\"automargin\": true, \"gridcolor\": \"#EBF0F8\", \"linecolor\": \"#EBF0F8\", \"ticks\": \"\", \"title\": {\"standoff\": 15}, \"zerolinecolor\": \"#EBF0F8\", \"zerolinewidth\": 2}, \"yaxis\": {\"automargin\": true, \"gridcolor\": \"#EBF0F8\", \"linecolor\": \"#EBF0F8\", \"ticks\": \"\", \"title\": {\"standoff\": 15}, \"zerolinecolor\": \"#EBF0F8\", \"zerolinewidth\": 2}}}, \"title\": {\"text\": \"Jabar Recovered Cases\"}, \"xaxis\": {\"title\": {\"text\": \"Date\"}}, \"yaxis\": {\"title\": {\"text\": \"Total Case\"}}},\n",
              "                        {\"responsive\": true}\n",
              "                    ).then(function(){\n",
              "                            \n",
              "var gd = document.getElementById('1c4020cb-9d34-45e1-9028-14754ba3ecc3');\n",
              "var x = new MutationObserver(function (mutations, observer) {{\n",
              "        var display = window.getComputedStyle(gd).display;\n",
              "        if (!display || display === 'none') {{\n",
              "            console.log([gd, 'removed!']);\n",
              "            Plotly.purge(gd);\n",
              "            observer.disconnect();\n",
              "        }}\n",
              "}});\n",
              "\n",
              "// Listen for the removal of the full notebook cells\n",
              "var notebookContainer = gd.closest('#notebook-container');\n",
              "if (notebookContainer) {{\n",
              "    x.observe(notebookContainer, {childList: true});\n",
              "}}\n",
              "\n",
              "// Listen for the clearing of the current output cell\n",
              "var outputEl = gd.closest('.output');\n",
              "if (outputEl) {{\n",
              "    x.observe(outputEl, {childList: true});\n",
              "}}\n",
              "\n",
              "                        })\n",
              "                };\n",
              "                \n",
              "            </script>\n",
              "        </div>\n",
              "</body>\n",
              "</html>"
            ]
          },
          "metadata": {
            "tags": []
          }
        }
      ]
    },
    {
      "cell_type": "code",
      "metadata": {
        "id": "4ivdEoJ3e-U6",
        "outputId": "9cb2d779-0cd3-4057-a222-c98850859a0b",
        "colab": {
          "base_uri": "https://localhost:8080/",
          "height": 714
        }
      },
      "source": [
        "data.info()"
      ],
      "execution_count": 43,
      "outputs": [
        {
          "output_type": "stream",
          "text": [
            "<class 'pandas.core.frame.DataFrame'>\n",
            "RangeIndex: 7097 entries, 0 to 7096\n",
            "Data columns (total 34 columns):\n",
            " #   Column                       Non-Null Count  Dtype         \n",
            "---  ------                       --------------  -----         \n",
            " 0   Date                         7097 non-null   datetime64[ns]\n",
            " 1   Location ISO Code            7097 non-null   object        \n",
            " 2   New Cases                    7097 non-null   int64         \n",
            " 3   New Deaths                   7097 non-null   int64         \n",
            " 4   New Recovered                7097 non-null   int64         \n",
            " 5   New Active Cases             7097 non-null   int64         \n",
            " 6   Total Cases                  7097 non-null   int64         \n",
            " 7   Total Deaths                 7097 non-null   int64         \n",
            " 8   Total Recovered              7097 non-null   int64         \n",
            " 9   Total Active Cases           7097 non-null   int64         \n",
            " 10  Location Level               7097 non-null   object        \n",
            " 11  Province                     7097 non-null   object        \n",
            " 12  Country                      7097 non-null   object        \n",
            " 13  Continent                    7097 non-null   object        \n",
            " 14  Island                       7097 non-null   object        \n",
            " 15  Time Zone                    7097 non-null   object        \n",
            " 16  Total Regencies              7097 non-null   int64         \n",
            " 17  Total Cities                 7097 non-null   float64       \n",
            " 18  Total Districts              7097 non-null   int64         \n",
            " 19  Total Urban Villages         7097 non-null   float64       \n",
            " 20  Total Rural Villages         7097 non-null   float64       \n",
            " 21  Area (km2)                   7097 non-null   int64         \n",
            " 22  Population                   7097 non-null   int64         \n",
            " 23  Population Density           7097 non-null   float64       \n",
            " 24  Longitude                    7097 non-null   float64       \n",
            " 25  Latitude                     7097 non-null   float64       \n",
            " 26  New Cases per Million        7097 non-null   float64       \n",
            " 27  Total Cases per Million      7097 non-null   float64       \n",
            " 28  New Deaths per Million       7097 non-null   float64       \n",
            " 29  Total Deaths per Million     7097 non-null   float64       \n",
            " 30  Case Fatality Rate           7097 non-null   object        \n",
            " 31  Case Recovered Rate          7097 non-null   object        \n",
            " 32  Growth Factor of New Cases   7097 non-null   float64       \n",
            " 33  Growth Factor of New Deaths  7097 non-null   float64       \n",
            "dtypes: datetime64[ns](1), float64(12), int64(12), object(9)\n",
            "memory usage: 1.8+ MB\n"
          ],
          "name": "stdout"
        }
      ]
    },
    {
      "cell_type": "code",
      "metadata": {
        "id": "BcXj5J0nOr0n",
        "outputId": "9c7b3a3e-9174-4403-f682-796577d8ac2c",
        "colab": {
          "base_uri": "https://localhost:8080/",
          "height": 360
        }
      },
      "source": [
        "data.head()"
      ],
      "execution_count": 44,
      "outputs": [
        {
          "output_type": "execute_result",
          "data": {
            "text/html": [
              "<div>\n",
              "<style scoped>\n",
              "    .dataframe tbody tr th:only-of-type {\n",
              "        vertical-align: middle;\n",
              "    }\n",
              "\n",
              "    .dataframe tbody tr th {\n",
              "        vertical-align: top;\n",
              "    }\n",
              "\n",
              "    .dataframe thead th {\n",
              "        text-align: right;\n",
              "    }\n",
              "</style>\n",
              "<table border=\"1\" class=\"dataframe\">\n",
              "  <thead>\n",
              "    <tr style=\"text-align: right;\">\n",
              "      <th></th>\n",
              "      <th>Date</th>\n",
              "      <th>Location ISO Code</th>\n",
              "      <th>New Cases</th>\n",
              "      <th>New Deaths</th>\n",
              "      <th>New Recovered</th>\n",
              "      <th>New Active Cases</th>\n",
              "      <th>Total Cases</th>\n",
              "      <th>Total Deaths</th>\n",
              "      <th>Total Recovered</th>\n",
              "      <th>Total Active Cases</th>\n",
              "      <th>Location Level</th>\n",
              "      <th>Province</th>\n",
              "      <th>Country</th>\n",
              "      <th>Continent</th>\n",
              "      <th>Island</th>\n",
              "      <th>Time Zone</th>\n",
              "      <th>Total Regencies</th>\n",
              "      <th>Total Cities</th>\n",
              "      <th>Total Districts</th>\n",
              "      <th>Total Urban Villages</th>\n",
              "      <th>Total Rural Villages</th>\n",
              "      <th>Area (km2)</th>\n",
              "      <th>Population</th>\n",
              "      <th>Population Density</th>\n",
              "      <th>Longitude</th>\n",
              "      <th>Latitude</th>\n",
              "      <th>New Cases per Million</th>\n",
              "      <th>Total Cases per Million</th>\n",
              "      <th>New Deaths per Million</th>\n",
              "      <th>Total Deaths per Million</th>\n",
              "      <th>Case Fatality Rate</th>\n",
              "      <th>Case Recovered Rate</th>\n",
              "      <th>Growth Factor of New Cases</th>\n",
              "      <th>Growth Factor of New Deaths</th>\n",
              "    </tr>\n",
              "  </thead>\n",
              "  <tbody>\n",
              "    <tr>\n",
              "      <th>0</th>\n",
              "      <td>2020-03-01</td>\n",
              "      <td>ID-JK</td>\n",
              "      <td>2</td>\n",
              "      <td>0</td>\n",
              "      <td>0</td>\n",
              "      <td>2</td>\n",
              "      <td>489</td>\n",
              "      <td>20</td>\n",
              "      <td>39</td>\n",
              "      <td>430</td>\n",
              "      <td>Province</td>\n",
              "      <td>DKI Jakarta</td>\n",
              "      <td>Indonesia</td>\n",
              "      <td>Asia</td>\n",
              "      <td>Jawa</td>\n",
              "      <td>UTC+07:00</td>\n",
              "      <td>1</td>\n",
              "      <td>5.0</td>\n",
              "      <td>44</td>\n",
              "      <td>267.0</td>\n",
              "      <td>0.0</td>\n",
              "      <td>664</td>\n",
              "      <td>10846145</td>\n",
              "      <td>16334.31</td>\n",
              "      <td>106.836118</td>\n",
              "      <td>-6.204699</td>\n",
              "      <td>0.18</td>\n",
              "      <td>45.09</td>\n",
              "      <td>0.0</td>\n",
              "      <td>1.84</td>\n",
              "      <td>4.09%</td>\n",
              "      <td>7.98%</td>\n",
              "      <td>0.0</td>\n",
              "      <td>0.0</td>\n",
              "    </tr>\n",
              "    <tr>\n",
              "      <th>1</th>\n",
              "      <td>2020-03-02</td>\n",
              "      <td>ID-JK</td>\n",
              "      <td>2</td>\n",
              "      <td>0</td>\n",
              "      <td>0</td>\n",
              "      <td>2</td>\n",
              "      <td>491</td>\n",
              "      <td>20</td>\n",
              "      <td>39</td>\n",
              "      <td>432</td>\n",
              "      <td>Province</td>\n",
              "      <td>DKI Jakarta</td>\n",
              "      <td>Indonesia</td>\n",
              "      <td>Asia</td>\n",
              "      <td>Jawa</td>\n",
              "      <td>UTC+07:00</td>\n",
              "      <td>1</td>\n",
              "      <td>5.0</td>\n",
              "      <td>44</td>\n",
              "      <td>267.0</td>\n",
              "      <td>0.0</td>\n",
              "      <td>664</td>\n",
              "      <td>10846145</td>\n",
              "      <td>16334.31</td>\n",
              "      <td>106.836118</td>\n",
              "      <td>-6.204699</td>\n",
              "      <td>0.18</td>\n",
              "      <td>45.27</td>\n",
              "      <td>0.0</td>\n",
              "      <td>1.84</td>\n",
              "      <td>4.07%</td>\n",
              "      <td>7.94%</td>\n",
              "      <td>1.0</td>\n",
              "      <td>1.0</td>\n",
              "    </tr>\n",
              "    <tr>\n",
              "      <th>2</th>\n",
              "      <td>2020-03-02</td>\n",
              "      <td>IDN</td>\n",
              "      <td>2</td>\n",
              "      <td>0</td>\n",
              "      <td>0</td>\n",
              "      <td>2</td>\n",
              "      <td>2</td>\n",
              "      <td>0</td>\n",
              "      <td>0</td>\n",
              "      <td>2</td>\n",
              "      <td>Country</td>\n",
              "      <td>Unknown</td>\n",
              "      <td>Indonesia</td>\n",
              "      <td>Asia</td>\n",
              "      <td>Unknown</td>\n",
              "      <td>Unknown</td>\n",
              "      <td>416</td>\n",
              "      <td>98.0</td>\n",
              "      <td>7230</td>\n",
              "      <td>8488.0</td>\n",
              "      <td>74953.0</td>\n",
              "      <td>1916907</td>\n",
              "      <td>265185520</td>\n",
              "      <td>138.34</td>\n",
              "      <td>113.921327</td>\n",
              "      <td>-0.789275</td>\n",
              "      <td>0.01</td>\n",
              "      <td>0.01</td>\n",
              "      <td>0.0</td>\n",
              "      <td>0.00</td>\n",
              "      <td>0.00%</td>\n",
              "      <td>0.00%</td>\n",
              "      <td>0.0</td>\n",
              "      <td>0.0</td>\n",
              "    </tr>\n",
              "    <tr>\n",
              "      <th>3</th>\n",
              "      <td>2020-03-02</td>\n",
              "      <td>ID-JB</td>\n",
              "      <td>3</td>\n",
              "      <td>0</td>\n",
              "      <td>0</td>\n",
              "      <td>3</td>\n",
              "      <td>12</td>\n",
              "      <td>5</td>\n",
              "      <td>5</td>\n",
              "      <td>2</td>\n",
              "      <td>Province</td>\n",
              "      <td>Jawa Barat</td>\n",
              "      <td>Indonesia</td>\n",
              "      <td>Asia</td>\n",
              "      <td>Jawa</td>\n",
              "      <td>UTC+07:00</td>\n",
              "      <td>18</td>\n",
              "      <td>9.0</td>\n",
              "      <td>627</td>\n",
              "      <td>645.0</td>\n",
              "      <td>5312.0</td>\n",
              "      <td>35378</td>\n",
              "      <td>45161325</td>\n",
              "      <td>1276.55</td>\n",
              "      <td>107.603708</td>\n",
              "      <td>-6.920432</td>\n",
              "      <td>0.07</td>\n",
              "      <td>0.27</td>\n",
              "      <td>0.0</td>\n",
              "      <td>0.11</td>\n",
              "      <td>41.67%</td>\n",
              "      <td>41.67%</td>\n",
              "      <td>0.0</td>\n",
              "      <td>0.0</td>\n",
              "    </tr>\n",
              "    <tr>\n",
              "      <th>4</th>\n",
              "      <td>2020-03-03</td>\n",
              "      <td>ID-JK</td>\n",
              "      <td>2</td>\n",
              "      <td>0</td>\n",
              "      <td>0</td>\n",
              "      <td>2</td>\n",
              "      <td>493</td>\n",
              "      <td>20</td>\n",
              "      <td>39</td>\n",
              "      <td>434</td>\n",
              "      <td>Province</td>\n",
              "      <td>DKI Jakarta</td>\n",
              "      <td>Indonesia</td>\n",
              "      <td>Asia</td>\n",
              "      <td>Jawa</td>\n",
              "      <td>UTC+07:00</td>\n",
              "      <td>1</td>\n",
              "      <td>5.0</td>\n",
              "      <td>44</td>\n",
              "      <td>267.0</td>\n",
              "      <td>0.0</td>\n",
              "      <td>664</td>\n",
              "      <td>10846145</td>\n",
              "      <td>16334.31</td>\n",
              "      <td>106.836118</td>\n",
              "      <td>-6.204699</td>\n",
              "      <td>0.18</td>\n",
              "      <td>45.45</td>\n",
              "      <td>0.0</td>\n",
              "      <td>1.84</td>\n",
              "      <td>4.06%</td>\n",
              "      <td>7.91%</td>\n",
              "      <td>1.0</td>\n",
              "      <td>1.0</td>\n",
              "    </tr>\n",
              "  </tbody>\n",
              "</table>\n",
              "</div>"
            ],
            "text/plain": [
              "        Date  ... Growth Factor of New Deaths\n",
              "0 2020-03-01  ...                         0.0\n",
              "1 2020-03-02  ...                         1.0\n",
              "2 2020-03-02  ...                         0.0\n",
              "3 2020-03-02  ...                         0.0\n",
              "4 2020-03-03  ...                         1.0\n",
              "\n",
              "[5 rows x 34 columns]"
            ]
          },
          "metadata": {
            "tags": []
          },
          "execution_count": 44
        }
      ]
    },
    {
      "cell_type": "code",
      "metadata": {
        "id": "Xg2vlm1SQhx4",
        "outputId": "6f17425a-0318-4543-e91d-d3d07b8bb365",
        "colab": {
          "base_uri": "https://localhost:8080/",
          "height": 612
        }
      },
      "source": [
        "data.isnull().sum()"
      ],
      "execution_count": 45,
      "outputs": [
        {
          "output_type": "execute_result",
          "data": {
            "text/plain": [
              "Date                           0\n",
              "Location ISO Code              0\n",
              "New Cases                      0\n",
              "New Deaths                     0\n",
              "New Recovered                  0\n",
              "New Active Cases               0\n",
              "Total Cases                    0\n",
              "Total Deaths                   0\n",
              "Total Recovered                0\n",
              "Total Active Cases             0\n",
              "Location Level                 0\n",
              "Province                       0\n",
              "Country                        0\n",
              "Continent                      0\n",
              "Island                         0\n",
              "Time Zone                      0\n",
              "Total Regencies                0\n",
              "Total Cities                   0\n",
              "Total Districts                0\n",
              "Total Urban Villages           0\n",
              "Total Rural Villages           0\n",
              "Area (km2)                     0\n",
              "Population                     0\n",
              "Population Density             0\n",
              "Longitude                      0\n",
              "Latitude                       0\n",
              "New Cases per Million          0\n",
              "Total Cases per Million        0\n",
              "New Deaths per Million         0\n",
              "Total Deaths per Million       0\n",
              "Case Fatality Rate             0\n",
              "Case Recovered Rate            0\n",
              "Growth Factor of New Cases     0\n",
              "Growth Factor of New Deaths    0\n",
              "dtype: int64"
            ]
          },
          "metadata": {
            "tags": []
          },
          "execution_count": 45
        }
      ]
    },
    {
      "cell_type": "markdown",
      "metadata": {
        "id": "z6tYCUDEQoPb"
      },
      "source": [
        "# Specialized Visualization Tools"
      ]
    },
    {
      "cell_type": "code",
      "metadata": {
        "id": "uB6DciXSQ_nT",
        "outputId": "81c34967-bcba-4240-98be-9ce228fc7465",
        "colab": {
          "base_uri": "https://localhost:8080/",
          "height": 281
        }
      },
      "source": [
        "#@title Box Plots\n",
        "import matplotlib.pyplot as plt\n",
        "Jb_covid_total.plot(kind='box')\n",
        "plt.ylabel(\"Casus\")\n",
        "plt.title(\"total\")\n",
        "plt.show()"
      ],
      "execution_count": 46,
      "outputs": [
        {
          "output_type": "display_data",
          "data": {
            "image/png": "[encoded data removed]",
            "text/plain": [
              "<Figure size 432x288 with 1 Axes>"
            ]
          },
          "metadata": {
            "tags": [],
            "needs_background": "light"
          }
        }
      ]
    },
    {
      "cell_type": "code",
      "metadata": {
        "id": "6YzaZ4L3vX0w",
        "outputId": "f7d8aa8c-b773-4909-8b55-12f5e2f1a7eb",
        "colab": {
          "base_uri": "https://localhost:8080/",
          "height": 279
        }
      },
      "source": [
        "ax = sns.regplot(x='Total Deaths', y='Total Recovered', data=Jb_covid_total, marker='+', color='green')"
      ],
      "execution_count": 47,
      "outputs": [
        {
          "output_type": "display_data",
          "data": {
            "image/png": "[encoded data removed]",
            "text/plain": [
              "<Figure size 432x288 with 1 Axes>"
            ]
          },
          "metadata": {
            "tags": [],
            "needs_background": "light"
          }
        }
      ]
    },
    {
      "cell_type": "code",
      "metadata": {
        "id": "SPF_t-z0Box2",
        "outputId": "ecdee594-b40d-4e56-8859-d7e78299c8b6",
        "colab": {
          "base_uri": "https://localhost:8080/",
          "height": 714
        }
      },
      "source": [
        "data.info()"
      ],
      "execution_count": 48,
      "outputs": [
        {
          "output_type": "stream",
          "text": [
            "<class 'pandas.core.frame.DataFrame'>\n",
            "RangeIndex: 7097 entries, 0 to 7096\n",
            "Data columns (total 34 columns):\n",
            " #   Column                       Non-Null Count  Dtype         \n",
            "---  ------                       --------------  -----         \n",
            " 0   Date                         7097 non-null   datetime64[ns]\n",
            " 1   Location ISO Code            7097 non-null   object        \n",
            " 2   New Cases                    7097 non-null   int64         \n",
            " 3   New Deaths                   7097 non-null   int64         \n",
            " 4   New Recovered                7097 non-null   int64         \n",
            " 5   New Active Cases             7097 non-null   int64         \n",
            " 6   Total Cases                  7097 non-null   int64         \n",
            " 7   Total Deaths                 7097 non-null   int64         \n",
            " 8   Total Recovered              7097 non-null   int64         \n",
            " 9   Total Active Cases           7097 non-null   int64         \n",
            " 10  Location Level               7097 non-null   object        \n",
            " 11  Province                     7097 non-null   object        \n",
            " 12  Country                      7097 non-null   object        \n",
            " 13  Continent                    7097 non-null   object        \n",
            " 14  Island                       7097 non-null   object        \n",
            " 15  Time Zone                    7097 non-null   object        \n",
            " 16  Total Regencies              7097 non-null   int64         \n",
            " 17  Total Cities                 7097 non-null   float64       \n",
            " 18  Total Districts              7097 non-null   int64         \n",
            " 19  Total Urban Villages         7097 non-null   float64       \n",
            " 20  Total Rural Villages         7097 non-null   float64       \n",
            " 21  Area (km2)                   7097 non-null   int64         \n",
            " 22  Population                   7097 non-null   int64         \n",
            " 23  Population Density           7097 non-null   float64       \n",
            " 24  Longitude                    7097 non-null   float64       \n",
            " 25  Latitude                     7097 non-null   float64       \n",
            " 26  New Cases per Million        7097 non-null   float64       \n",
            " 27  Total Cases per Million      7097 non-null   float64       \n",
            " 28  New Deaths per Million       7097 non-null   float64       \n",
            " 29  Total Deaths per Million     7097 non-null   float64       \n",
            " 30  Case Fatality Rate           7097 non-null   object        \n",
            " 31  Case Recovered Rate          7097 non-null   object        \n",
            " 32  Growth Factor of New Cases   7097 non-null   float64       \n",
            " 33  Growth Factor of New Deaths  7097 non-null   float64       \n",
            "dtypes: datetime64[ns](1), float64(12), int64(12), object(9)\n",
            "memory usage: 1.8+ MB\n"
          ],
          "name": "stdout"
        }
      ]
    },
    {
      "cell_type": "code",
      "metadata": {
        "id": "EZVgYphIAn6t",
        "outputId": "2125535a-5d0d-4dca-d9e6-17d94e0f1bc4",
        "colab": {
          "base_uri": "https://localhost:8080/",
          "height": 428
        }
      },
      "source": [
        "plt.figure(figsize=(10,6))\n",
        "plt.scatter(data['Total Recovered'],data['Total Deaths'],c=data['Total Active Cases'],edgecolors='k',alpha=0.8,s=100)\n",
        "plt.grid(True)\n",
        "plt.title(\"Scatter plot Cases Covid\",fontsize=15)\n",
        "plt.xlabel(\"Total Aktive Cases\",fontsize=15)\n",
        "plt.ylabel(\"Covid\",fontsize=15)"
      ],
      "execution_count": 49,
      "outputs": [
        {
          "output_type": "execute_result",
          "data": {
            "text/plain": [
              "Text(0, 0.5, 'Covid')"
            ]
          },
          "metadata": {
            "tags": []
          },
          "execution_count": 49
        },
        {
          "output_type": "display_data",
          "data": {
            "image/png": "[encoded data removed]",
            "text/plain": [
              "<Figure size 720x432 with 1 Axes>"
            ]
          },
          "metadata": {
            "tags": [],
            "needs_background": "light"
          }
        }
      ]
    },
    {
      "cell_type": "code",
      "metadata": {
        "id": "mhVQe0NKCJX6",
        "outputId": "1be2da0a-eed5-4ef4-e182-780159908dc8",
        "colab": {
          "base_uri": "https://localhost:8080/",
          "height": 735
        }
      },
      "source": [
        "def correlation_matrix(data):\n",
        "    from matplotlib import pyplot as plt\n",
        "    from matplotlib import cm as cm\n",
        "\n",
        "    fig = plt.figure(figsize=(16,12))\n",
        "    ax1 = fig.add_subplot(111)\n",
        "    cmap = cm.get_cmap('jet', 30)\n",
        "    cax = ax1.imshow(data.corr(), interpolation=\"nearest\", cmap=cmap)\n",
        "    ax1.grid(True)\n",
        "    plt.title('Covid data set features correlation\\n',fontsize=15)\n",
        "    labels=data.columns\n",
        "    ax1.set_xticklabels(labels,fontsize=9)\n",
        "    ax1.set_yticklabels(labels,fontsize=9)\n",
        "    # Add colorbar, make sure to specify tick locations to match desired ticklabels\n",
        "    fig.colorbar(cax, ticks=[0.1*i for i in range(-11,11)])\n",
        "    plt.show()\n",
        "\n",
        "correlation_matrix(data)"
      ],
      "execution_count": 50,
      "outputs": [
        {
          "output_type": "display_data",
          "data": {
            "image/png": "[encoded data removed]",
            "text/plain": [
              "<Figure size 1152x864 with 2 Axes>"
            ]
          },
          "metadata": {
            "tags": [],
            "needs_background": "light"
          }
        }
      ]
    },
    {
      "cell_type": "markdown",
      "metadata": {
        "id": "_w3xa_REUqGW"
      },
      "source": [
        "# DecisionTrees"
      ]
    },
    {
      "cell_type": "code",
      "metadata": {
        "id": "qz3v7Y-WXpHN",
        "outputId": "78c73140-5985-4d3d-e9df-22f23a39b024",
        "colab": {
          "base_uri": "https://localhost:8080/",
          "height": 958
        }
      },
      "source": [
        "sns.jointplot(x='Total Active Cases',y='Total Cases',data=Jb_covid_total, color='purple', size=12)"
      ],
      "execution_count": 54,
      "outputs": [
        {
          "output_type": "stream",
          "text": [
            "/usr/local/lib/python3.6/dist-packages/seaborn/axisgrid.py:2015: UserWarning:\n",
            "\n",
            "The `size` parameter has been renamed to `height`; please update your code.\n",
            "\n"
          ],
          "name": "stderr"
        },
        {
          "output_type": "execute_result",
          "data": {
            "text/plain": [
              "<seaborn.axisgrid.JointGrid at 0x7f4675c23438>"
            ]
          },
          "metadata": {
            "tags": []
          },
          "execution_count": 54
        },
        {
          "output_type": "display_data",
          "data": {
            "image/png": "[encoded data removed]",
            "text/plain": [
              "<Figure size 864x864 with 3 Axes>"
            ]
          },
          "metadata": {
            "tags": [],
            "needs_background": "light"
          }
        }
      ]
    },
    {
      "cell_type": "code",
      "metadata": {
        "id": "QDzUPd9lZOi8"
      },
      "source": [
        "from sklearn.model_selection import train_test_split\n",
        "X = Jb_covid_total.drop('Date',axis=1)\n",
        "y = Jb_covid_total['Date']\n",
        "X_train, X_test, y_train, y_test = train_test_split(X, y, test_size=0.30)"
      ],
      "execution_count": 57,
      "outputs": []
    },
    {
      "cell_type": "code",
      "metadata": {
        "id": "pDA87Z__Zy81",
        "outputId": "686375a7-a201-413c-c932-71955d6a48b9",
        "colab": {
          "base_uri": "https://localhost:8080/",
          "height": 119
        }
      },
      "source": [
        "x.head()"
      ],
      "execution_count": 60,
      "outputs": [
        {
          "output_type": "execute_result",
          "data": {
            "text/plain": [
              "0    2\n",
              "1    2\n",
              "2    2\n",
              "3    2\n",
              "4    4\n",
              "Name: Total Active Cases, dtype: int64"
            ]
          },
          "metadata": {
            "tags": []
          },
          "execution_count": 60
        }
      ]
    },
    {
      "cell_type": "code",
      "metadata": {
        "id": "HGgD9I9AaRb1"
      },
      "source": [
        "from sklearn.tree import DecisionTreeClassifier"
      ],
      "execution_count": 61,
      "outputs": []
    },
    {
      "cell_type": "code",
      "metadata": {
        "id": "TecuoStBZ61q"
      },
      "source": [
        "dtree = DecisionTreeClassifier(criterion='gini',max_depth=None)"
      ],
      "execution_count": 62,
      "outputs": []
    },
    {
      "cell_type": "code",
      "metadata": {
        "id": "jJ4i8ZdWapk7",
        "outputId": "d38bf70f-ec49-473f-af5d-96d57ce2bc7e",
        "colab": {
          "base_uri": "https://localhost:8080/",
          "height": 119
        }
      },
      "source": [
        "dtree.fit(X_train,y_train)"
      ],
      "execution_count": 63,
      "outputs": [
        {
          "output_type": "execute_result",
          "data": {
            "text/plain": [
              "DecisionTreeClassifier(ccp_alpha=0.0, class_weight=None, criterion='gini',\n",
              "                       max_depth=None, max_features=None, max_leaf_nodes=None,\n",
              "                       min_impurity_decrease=0.0, min_impurity_split=None,\n",
              "                       min_samples_leaf=1, min_samples_split=2,\n",
              "                       min_weight_fraction_leaf=0.0, presort='deprecated',\n",
              "                       random_state=None, splitter='best')"
            ]
          },
          "metadata": {
            "tags": []
          },
          "execution_count": 63
        }
      ]
    },
    {
      "cell_type": "code",
      "metadata": {
        "id": "cnbaLABOat11"
      },
      "source": [
        "predictions = dtree.predict(X_test)"
      ],
      "execution_count": 64,
      "outputs": []
    },
    {
      "cell_type": "code",
      "metadata": {
        "id": "94ICDlzeauwy"
      },
      "source": [
        "from sklearn.metrics import classification_report,confusion_matrix"
      ],
      "execution_count": 65,
      "outputs": []
    },
    {
      "cell_type": "code",
      "metadata": {
        "id": "AZWXj6opawag",
        "outputId": "d65b8159-23b8-49f8-d3c6-b9ba8946d3d3",
        "colab": {
          "base_uri": "https://localhost:8080/",
          "height": 1000
        }
      },
      "source": [
        "print(classification_report(y_test,predictions))"
      ],
      "execution_count": 66,
      "outputs": [
        {
          "output_type": "stream",
          "text": [
            "                               precision    recall  f1-score   support\n",
            "\n",
            "2020-03-03T00:00:00.000000000       0.00      0.00      0.00       1.0\n",
            "2020-03-04T00:00:00.000000000       0.00      0.00      0.00       1.0\n",
            "2020-03-05T00:00:00.000000000       0.00      0.00      0.00       0.0\n",
            "2020-03-06T00:00:00.000000000       0.00      0.00      0.00       0.0\n",
            "2020-03-08T00:00:00.000000000       0.00      0.00      0.00       1.0\n",
            "2020-03-11T00:00:00.000000000       0.00      0.00      0.00       1.0\n",
            "2020-03-12T00:00:00.000000000       0.00      0.00      0.00       1.0\n",
            "2020-03-13T00:00:00.000000000       0.00      0.00      0.00       0.0\n",
            "2020-03-16T00:00:00.000000000       0.00      0.00      0.00       1.0\n",
            "2020-03-21T00:00:00.000000000       0.00      0.00      0.00       0.0\n",
            "2020-03-22T00:00:00.000000000       0.00      0.00      0.00       1.0\n",
            "2020-03-24T00:00:00.000000000       0.00      0.00      0.00       0.0\n",
            "2020-03-25T00:00:00.000000000       0.00      0.00      0.00       1.0\n",
            "2020-03-29T00:00:00.000000000       0.00      0.00      0.00       0.0\n",
            "2020-03-30T00:00:00.000000000       0.00      0.00      0.00       1.0\n",
            "2020-03-31T00:00:00.000000000       0.00      0.00      0.00       1.0\n",
            "2020-04-01T00:00:00.000000000       0.00      0.00      0.00       1.0\n",
            "2020-04-02T00:00:00.000000000       0.00      0.00      0.00       1.0\n",
            "2020-04-03T00:00:00.000000000       0.00      0.00      0.00       0.0\n",
            "2020-04-04T00:00:00.000000000       0.00      0.00      0.00       1.0\n",
            "2020-04-05T00:00:00.000000000       0.00      0.00      0.00       0.0\n",
            "2020-04-07T00:00:00.000000000       0.00      0.00      0.00       0.0\n",
            "2020-04-08T00:00:00.000000000       0.00      0.00      0.00       1.0\n",
            "2020-04-19T00:00:00.000000000       0.00      0.00      0.00       0.0\n",
            "2020-04-20T00:00:00.000000000       0.00      0.00      0.00       1.0\n",
            "2020-04-25T00:00:00.000000000       0.00      0.00      0.00       0.0\n",
            "2020-04-26T00:00:00.000000000       0.00      0.00      0.00       1.0\n",
            "2020-05-01T00:00:00.000000000       0.00      0.00      0.00       0.0\n",
            "2020-05-02T00:00:00.000000000       0.00      0.00      0.00       1.0\n",
            "2020-05-05T00:00:00.000000000       0.00      0.00      0.00       0.0\n",
            "2020-05-06T00:00:00.000000000       0.00      0.00      0.00       1.0\n",
            "2020-05-07T00:00:00.000000000       0.00      0.00      0.00       1.0\n",
            "2020-05-08T00:00:00.000000000       0.00      0.00      0.00       1.0\n",
            "2020-05-09T00:00:00.000000000       0.00      0.00      0.00       0.0\n",
            "2020-05-15T00:00:00.000000000       0.00      0.00      0.00       0.0\n",
            "2020-05-16T00:00:00.000000000       0.00      0.00      0.00       1.0\n",
            "2020-05-18T00:00:00.000000000       0.00      0.00      0.00       1.0\n",
            "2020-05-19T00:00:00.000000000       0.00      0.00      0.00       1.0\n",
            "2020-05-21T00:00:00.000000000       0.00      0.00      0.00       0.0\n",
            "2020-05-22T00:00:00.000000000       0.00      0.00      0.00       1.0\n",
            "2020-05-23T00:00:00.000000000       0.00      0.00      0.00       1.0\n",
            "2020-05-24T00:00:00.000000000       0.00      0.00      0.00       0.0\n",
            "2020-06-01T00:00:00.000000000       0.00      0.00      0.00       0.0\n",
            "2020-06-02T00:00:00.000000000       0.00      0.00      0.00       1.0\n",
            "2020-06-03T00:00:00.000000000       0.00      0.00      0.00       1.0\n",
            "2020-06-04T00:00:00.000000000       0.00      0.00      0.00       1.0\n",
            "2020-06-05T00:00:00.000000000       0.00      0.00      0.00       0.0\n",
            "2020-06-07T00:00:00.000000000       0.00      0.00      0.00       1.0\n",
            "2020-06-09T00:00:00.000000000       0.00      0.00      0.00       0.0\n",
            "2020-06-11T00:00:00.000000000       0.00      0.00      0.00       1.0\n",
            "2020-06-12T00:00:00.000000000       0.00      0.00      0.00       0.0\n",
            "2020-06-13T00:00:00.000000000       0.00      0.00      0.00       0.0\n",
            "2020-06-14T00:00:00.000000000       0.00      0.00      0.00       1.0\n",
            "2020-06-15T00:00:00.000000000       0.00      0.00      0.00       1.0\n",
            "2020-06-16T00:00:00.000000000       0.00      0.00      0.00       0.0\n",
            "2020-06-17T00:00:00.000000000       0.00      0.00      0.00       1.0\n",
            "2020-06-18T00:00:00.000000000       0.00      0.00      0.00       1.0\n",
            "2020-06-19T00:00:00.000000000       0.00      0.00      0.00       0.0\n",
            "2020-06-21T00:00:00.000000000       0.00      0.00      0.00       0.0\n",
            "2020-06-22T00:00:00.000000000       0.00      0.00      0.00       1.0\n",
            "2020-06-23T00:00:00.000000000       0.00      0.00      0.00       0.0\n",
            "2020-06-24T00:00:00.000000000       0.00      0.00      0.00       1.0\n",
            "2020-06-26T00:00:00.000000000       0.00      0.00      0.00       1.0\n",
            "2020-07-07T00:00:00.000000000       0.00      0.00      0.00       0.0\n",
            "2020-07-08T00:00:00.000000000       0.00      0.00      0.00       1.0\n",
            "2020-07-11T00:00:00.000000000       0.00      0.00      0.00       1.0\n",
            "2020-07-12T00:00:00.000000000       0.00      0.00      0.00       0.0\n",
            "2020-07-18T00:00:00.000000000       0.00      0.00      0.00       0.0\n",
            "2020-07-19T00:00:00.000000000       0.00      0.00      0.00       1.0\n",
            "2020-07-23T00:00:00.000000000       0.00      0.00      0.00       1.0\n",
            "2020-07-24T00:00:00.000000000       0.00      0.00      0.00       0.0\n",
            "2020-07-25T00:00:00.000000000       0.00      0.00      0.00       0.0\n",
            "2020-07-26T00:00:00.000000000       0.00      0.00      0.00       1.0\n",
            "2020-07-29T00:00:00.000000000       0.00      0.00      0.00       1.0\n",
            "2020-07-31T00:00:00.000000000       0.00      0.00      0.00       1.0\n",
            "2020-08-03T00:00:00.000000000       0.00      0.00      0.00       0.0\n",
            "2020-08-04T00:00:00.000000000       0.00      0.00      0.00       0.0\n",
            "2020-08-05T00:00:00.000000000       0.00      0.00      0.00       1.0\n",
            "2020-08-06T00:00:00.000000000       0.00      0.00      0.00       1.0\n",
            "2020-08-09T00:00:00.000000000       0.00      0.00      0.00       1.0\n",
            "2020-08-10T00:00:00.000000000       0.00      0.00      0.00       0.0\n",
            "2020-08-12T00:00:00.000000000       0.00      0.00      0.00       0.0\n",
            "2020-08-13T00:00:00.000000000       0.00      0.00      0.00       1.0\n",
            "2020-08-14T00:00:00.000000000       0.00      0.00      0.00       0.0\n",
            "2020-08-15T00:00:00.000000000       0.00      0.00      0.00       1.0\n",
            "2020-08-17T00:00:00.000000000       0.00      0.00      0.00       0.0\n",
            "2020-08-18T00:00:00.000000000       0.00      0.00      0.00       1.0\n",
            "2020-08-19T00:00:00.000000000       0.00      0.00      0.00       0.0\n",
            "2020-08-21T00:00:00.000000000       0.00      0.00      0.00       0.0\n",
            "2020-08-22T00:00:00.000000000       0.00      0.00      0.00       1.0\n",
            "2020-08-23T00:00:00.000000000       0.00      0.00      0.00       1.0\n",
            "2020-08-24T00:00:00.000000000       0.00      0.00      0.00       1.0\n",
            "2020-08-25T00:00:00.000000000       0.00      0.00      0.00       1.0\n",
            "2020-08-26T00:00:00.000000000       0.00      0.00      0.00       1.0\n",
            "2020-08-27T00:00:00.000000000       0.00      0.00      0.00       1.0\n",
            "2020-08-28T00:00:00.000000000       0.00      0.00      0.00       1.0\n",
            "2020-08-29T00:00:00.000000000       0.00      0.00      0.00       0.0\n",
            "2020-09-01T00:00:00.000000000       0.00      0.00      0.00       0.0\n",
            "2020-09-02T00:00:00.000000000       0.00      0.00      0.00       1.0\n",
            "2020-09-06T00:00:00.000000000       0.00      0.00      0.00       0.0\n",
            "2020-09-07T00:00:00.000000000       0.00      0.00      0.00       1.0\n",
            "2020-09-08T00:00:00.000000000       0.00      0.00      0.00       0.0\n",
            "2020-09-09T00:00:00.000000000       0.00      0.00      0.00       1.0\n",
            "2020-09-12T00:00:00.000000000       0.00      0.00      0.00       0.0\n",
            "2020-09-13T00:00:00.000000000       0.00      0.00      0.00       1.0\n",
            "2020-09-14T00:00:00.000000000       0.00      0.00      0.00       1.0\n",
            "2020-09-26T00:00:00.000000000       0.00      0.00      0.00       0.0\n",
            "2020-09-27T00:00:00.000000000       0.00      0.00      0.00       1.0\n",
            "2020-09-28T00:00:00.000000000       0.00      0.00      0.00       1.0\n",
            "2020-09-29T00:00:00.000000000       0.00      0.00      0.00       1.0\n",
            "2020-09-30T00:00:00.000000000       0.00      0.00      0.00       0.0\n",
            "2020-10-04T00:00:00.000000000       0.00      0.00      0.00       0.0\n",
            "2020-10-06T00:00:00.000000000       0.00      0.00      0.00       1.0\n",
            "2020-10-07T00:00:00.000000000       0.00      0.00      0.00       1.0\n",
            "2020-10-08T00:00:00.000000000       0.00      0.00      0.00       0.0\n",
            "2020-10-10T00:00:00.000000000       0.00      0.00      0.00       0.0\n",
            "2020-10-11T00:00:00.000000000       0.00      0.00      0.00       1.0\n",
            "\n",
            "                     accuracy                           0.00      68.0\n",
            "                    macro avg       0.00      0.00      0.00      68.0\n",
            "                 weighted avg       0.00      0.00      0.00      68.0\n",
            "\n"
          ],
          "name": "stdout"
        },
        {
          "output_type": "stream",
          "text": [
            "/usr/local/lib/python3.6/dist-packages/sklearn/metrics/_classification.py:1272: UndefinedMetricWarning:\n",
            "\n",
            "Precision and F-score are ill-defined and being set to 0.0 in labels with no predicted samples. Use `zero_division` parameter to control this behavior.\n",
            "\n",
            "/usr/local/lib/python3.6/dist-packages/sklearn/metrics/_classification.py:1272: UndefinedMetricWarning:\n",
            "\n",
            "Recall and F-score are ill-defined and being set to 0.0 in labels with no true samples. Use `zero_division` parameter to control this behavior.\n",
            "\n"
          ],
          "name": "stderr"
        }
      ]
    },
    {
      "cell_type": "code",
      "metadata": {
        "id": "P5qW5lzga1tf",
        "outputId": "2c0c5b46-f5fb-4758-8d43-d741898204c5",
        "colab": {
          "base_uri": "https://localhost:8080/",
          "height": 153
        }
      },
      "source": [
        "cm=confusion_matrix(y_test,predictions)\n",
        "print(cm)\n",
        "print (\"Accuracy of prediction:\",round((cm[0,0]+cm[1,1])/cm.sum(),3))"
      ],
      "execution_count": 67,
      "outputs": [
        {
          "output_type": "stream",
          "text": [
            "[[0 0 1 ... 0 0 0]\n",
            " [0 0 1 ... 0 0 0]\n",
            " [0 0 0 ... 0 0 0]\n",
            " ...\n",
            " [0 0 0 ... 0 0 0]\n",
            " [0 0 0 ... 0 0 0]\n",
            " [0 0 0 ... 0 1 0]]\n",
            "Accuracy of prediction: 0.0\n"
          ],
          "name": "stdout"
        }
      ]
    },
    {
      "cell_type": "code",
      "metadata": {
        "id": "uZjiI4OMa-nb"
      },
      "source": [
        "from sklearn.ensemble import RandomForestClassifier"
      ],
      "execution_count": 68,
      "outputs": []
    },
    {
      "cell_type": "code",
      "metadata": {
        "id": "vqx9c5o1bNBK"
      },
      "source": [
        "rfc = RandomForestClassifier(n_estimators=600)"
      ],
      "execution_count": 69,
      "outputs": []
    },
    {
      "cell_type": "code",
      "metadata": {
        "id": "QKJjP4ibbPEv",
        "outputId": "4b8c6859-10f1-4d16-d95d-f226aceaca6a",
        "colab": {
          "base_uri": "https://localhost:8080/",
          "height": 153
        }
      },
      "source": [
        "rfc.fit(X_train, y_train)"
      ],
      "execution_count": 70,
      "outputs": [
        {
          "output_type": "execute_result",
          "data": {
            "text/plain": [
              "RandomForestClassifier(bootstrap=True, ccp_alpha=0.0, class_weight=None,\n",
              "                       criterion='gini', max_depth=None, max_features='auto',\n",
              "                       max_leaf_nodes=None, max_samples=None,\n",
              "                       min_impurity_decrease=0.0, min_impurity_split=None,\n",
              "                       min_samples_leaf=1, min_samples_split=2,\n",
              "                       min_weight_fraction_leaf=0.0, n_estimators=600,\n",
              "                       n_jobs=None, oob_score=False, random_state=None,\n",
              "                       verbose=0, warm_start=False)"
            ]
          },
          "metadata": {
            "tags": []
          },
          "execution_count": 70
        }
      ]
    },
    {
      "cell_type": "code",
      "metadata": {
        "id": "zpUjPL_-bRhh"
      },
      "source": [
        "rfc_pred = rfc.predict(X_test)"
      ],
      "execution_count": 71,
      "outputs": []
    },
    {
      "cell_type": "code",
      "metadata": {
        "id": "1a8RLC7DbUDB",
        "outputId": "531050f5-4bf9-4a34-dac7-dd03eb2f67e8",
        "colab": {
          "base_uri": "https://localhost:8080/",
          "height": 173
        }
      },
      "source": [
        "cr = classification_report(y_test,predictions)"
      ],
      "execution_count": 72,
      "outputs": [
        {
          "output_type": "stream",
          "text": [
            "/usr/local/lib/python3.6/dist-packages/sklearn/metrics/_classification.py:1272: UndefinedMetricWarning:\n",
            "\n",
            "Precision and F-score are ill-defined and being set to 0.0 in labels with no predicted samples. Use `zero_division` parameter to control this behavior.\n",
            "\n",
            "/usr/local/lib/python3.6/dist-packages/sklearn/metrics/_classification.py:1272: UndefinedMetricWarning:\n",
            "\n",
            "Recall and F-score are ill-defined and being set to 0.0 in labels with no true samples. Use `zero_division` parameter to control this behavior.\n",
            "\n"
          ],
          "name": "stderr"
        }
      ]
    },
    {
      "cell_type": "code",
      "metadata": {
        "id": "md7FVGi2bW0h",
        "outputId": "a9313407-9195-4334-f0a7-38658359bea7",
        "colab": {
          "base_uri": "https://localhost:8080/",
          "height": 1000
        }
      },
      "source": [
        "print(cr)"
      ],
      "execution_count": 73,
      "outputs": [
        {
          "output_type": "stream",
          "text": [
            "                               precision    recall  f1-score   support\n",
            "\n",
            "2020-03-03T00:00:00.000000000       0.00      0.00      0.00       1.0\n",
            "2020-03-04T00:00:00.000000000       0.00      0.00      0.00       1.0\n",
            "2020-03-05T00:00:00.000000000       0.00      0.00      0.00       0.0\n",
            "2020-03-06T00:00:00.000000000       0.00      0.00      0.00       0.0\n",
            "2020-03-08T00:00:00.000000000       0.00      0.00      0.00       1.0\n",
            "2020-03-11T00:00:00.000000000       0.00      0.00      0.00       1.0\n",
            "2020-03-12T00:00:00.000000000       0.00      0.00      0.00       1.0\n",
            "2020-03-13T00:00:00.000000000       0.00      0.00      0.00       0.0\n",
            "2020-03-16T00:00:00.000000000       0.00      0.00      0.00       1.0\n",
            "2020-03-21T00:00:00.000000000       0.00      0.00      0.00       0.0\n",
            "2020-03-22T00:00:00.000000000       0.00      0.00      0.00       1.0\n",
            "2020-03-24T00:00:00.000000000       0.00      0.00      0.00       0.0\n",
            "2020-03-25T00:00:00.000000000       0.00      0.00      0.00       1.0\n",
            "2020-03-29T00:00:00.000000000       0.00      0.00      0.00       0.0\n",
            "2020-03-30T00:00:00.000000000       0.00      0.00      0.00       1.0\n",
            "2020-03-31T00:00:00.000000000       0.00      0.00      0.00       1.0\n",
            "2020-04-01T00:00:00.000000000       0.00      0.00      0.00       1.0\n",
            "2020-04-02T00:00:00.000000000       0.00      0.00      0.00       1.0\n",
            "2020-04-03T00:00:00.000000000       0.00      0.00      0.00       0.0\n",
            "2020-04-04T00:00:00.000000000       0.00      0.00      0.00       1.0\n",
            "2020-04-05T00:00:00.000000000       0.00      0.00      0.00       0.0\n",
            "2020-04-07T00:00:00.000000000       0.00      0.00      0.00       0.0\n",
            "2020-04-08T00:00:00.000000000       0.00      0.00      0.00       1.0\n",
            "2020-04-19T00:00:00.000000000       0.00      0.00      0.00       0.0\n",
            "2020-04-20T00:00:00.000000000       0.00      0.00      0.00       1.0\n",
            "2020-04-25T00:00:00.000000000       0.00      0.00      0.00       0.0\n",
            "2020-04-26T00:00:00.000000000       0.00      0.00      0.00       1.0\n",
            "2020-05-01T00:00:00.000000000       0.00      0.00      0.00       0.0\n",
            "2020-05-02T00:00:00.000000000       0.00      0.00      0.00       1.0\n",
            "2020-05-05T00:00:00.000000000       0.00      0.00      0.00       0.0\n",
            "2020-05-06T00:00:00.000000000       0.00      0.00      0.00       1.0\n",
            "2020-05-07T00:00:00.000000000       0.00      0.00      0.00       1.0\n",
            "2020-05-08T00:00:00.000000000       0.00      0.00      0.00       1.0\n",
            "2020-05-09T00:00:00.000000000       0.00      0.00      0.00       0.0\n",
            "2020-05-15T00:00:00.000000000       0.00      0.00      0.00       0.0\n",
            "2020-05-16T00:00:00.000000000       0.00      0.00      0.00       1.0\n",
            "2020-05-18T00:00:00.000000000       0.00      0.00      0.00       1.0\n",
            "2020-05-19T00:00:00.000000000       0.00      0.00      0.00       1.0\n",
            "2020-05-21T00:00:00.000000000       0.00      0.00      0.00       0.0\n",
            "2020-05-22T00:00:00.000000000       0.00      0.00      0.00       1.0\n",
            "2020-05-23T00:00:00.000000000       0.00      0.00      0.00       1.0\n",
            "2020-05-24T00:00:00.000000000       0.00      0.00      0.00       0.0\n",
            "2020-06-01T00:00:00.000000000       0.00      0.00      0.00       0.0\n",
            "2020-06-02T00:00:00.000000000       0.00      0.00      0.00       1.0\n",
            "2020-06-03T00:00:00.000000000       0.00      0.00      0.00       1.0\n",
            "2020-06-04T00:00:00.000000000       0.00      0.00      0.00       1.0\n",
            "2020-06-05T00:00:00.000000000       0.00      0.00      0.00       0.0\n",
            "2020-06-07T00:00:00.000000000       0.00      0.00      0.00       1.0\n",
            "2020-06-09T00:00:00.000000000       0.00      0.00      0.00       0.0\n",
            "2020-06-11T00:00:00.000000000       0.00      0.00      0.00       1.0\n",
            "2020-06-12T00:00:00.000000000       0.00      0.00      0.00       0.0\n",
            "2020-06-13T00:00:00.000000000       0.00      0.00      0.00       0.0\n",
            "2020-06-14T00:00:00.000000000       0.00      0.00      0.00       1.0\n",
            "2020-06-15T00:00:00.000000000       0.00      0.00      0.00       1.0\n",
            "2020-06-16T00:00:00.000000000       0.00      0.00      0.00       0.0\n",
            "2020-06-17T00:00:00.000000000       0.00      0.00      0.00       1.0\n",
            "2020-06-18T00:00:00.000000000       0.00      0.00      0.00       1.0\n",
            "2020-06-19T00:00:00.000000000       0.00      0.00      0.00       0.0\n",
            "2020-06-21T00:00:00.000000000       0.00      0.00      0.00       0.0\n",
            "2020-06-22T00:00:00.000000000       0.00      0.00      0.00       1.0\n",
            "2020-06-23T00:00:00.000000000       0.00      0.00      0.00       0.0\n",
            "2020-06-24T00:00:00.000000000       0.00      0.00      0.00       1.0\n",
            "2020-06-26T00:00:00.000000000       0.00      0.00      0.00       1.0\n",
            "2020-07-07T00:00:00.000000000       0.00      0.00      0.00       0.0\n",
            "2020-07-08T00:00:00.000000000       0.00      0.00      0.00       1.0\n",
            "2020-07-11T00:00:00.000000000       0.00      0.00      0.00       1.0\n",
            "2020-07-12T00:00:00.000000000       0.00      0.00      0.00       0.0\n",
            "2020-07-18T00:00:00.000000000       0.00      0.00      0.00       0.0\n",
            "2020-07-19T00:00:00.000000000       0.00      0.00      0.00       1.0\n",
            "2020-07-23T00:00:00.000000000       0.00      0.00      0.00       1.0\n",
            "2020-07-24T00:00:00.000000000       0.00      0.00      0.00       0.0\n",
            "2020-07-25T00:00:00.000000000       0.00      0.00      0.00       0.0\n",
            "2020-07-26T00:00:00.000000000       0.00      0.00      0.00       1.0\n",
            "2020-07-29T00:00:00.000000000       0.00      0.00      0.00       1.0\n",
            "2020-07-31T00:00:00.000000000       0.00      0.00      0.00       1.0\n",
            "2020-08-03T00:00:00.000000000       0.00      0.00      0.00       0.0\n",
            "2020-08-04T00:00:00.000000000       0.00      0.00      0.00       0.0\n",
            "2020-08-05T00:00:00.000000000       0.00      0.00      0.00       1.0\n",
            "2020-08-06T00:00:00.000000000       0.00      0.00      0.00       1.0\n",
            "2020-08-09T00:00:00.000000000       0.00      0.00      0.00       1.0\n",
            "2020-08-10T00:00:00.000000000       0.00      0.00      0.00       0.0\n",
            "2020-08-12T00:00:00.000000000       0.00      0.00      0.00       0.0\n",
            "2020-08-13T00:00:00.000000000       0.00      0.00      0.00       1.0\n",
            "2020-08-14T00:00:00.000000000       0.00      0.00      0.00       0.0\n",
            "2020-08-15T00:00:00.000000000       0.00      0.00      0.00       1.0\n",
            "2020-08-17T00:00:00.000000000       0.00      0.00      0.00       0.0\n",
            "2020-08-18T00:00:00.000000000       0.00      0.00      0.00       1.0\n",
            "2020-08-19T00:00:00.000000000       0.00      0.00      0.00       0.0\n",
            "2020-08-21T00:00:00.000000000       0.00      0.00      0.00       0.0\n",
            "2020-08-22T00:00:00.000000000       0.00      0.00      0.00       1.0\n",
            "2020-08-23T00:00:00.000000000       0.00      0.00      0.00       1.0\n",
            "2020-08-24T00:00:00.000000000       0.00      0.00      0.00       1.0\n",
            "2020-08-25T00:00:00.000000000       0.00      0.00      0.00       1.0\n",
            "2020-08-26T00:00:00.000000000       0.00      0.00      0.00       1.0\n",
            "2020-08-27T00:00:00.000000000       0.00      0.00      0.00       1.0\n",
            "2020-08-28T00:00:00.000000000       0.00      0.00      0.00       1.0\n",
            "2020-08-29T00:00:00.000000000       0.00      0.00      0.00       0.0\n",
            "2020-09-01T00:00:00.000000000       0.00      0.00      0.00       0.0\n",
            "2020-09-02T00:00:00.000000000       0.00      0.00      0.00       1.0\n",
            "2020-09-06T00:00:00.000000000       0.00      0.00      0.00       0.0\n",
            "2020-09-07T00:00:00.000000000       0.00      0.00      0.00       1.0\n",
            "2020-09-08T00:00:00.000000000       0.00      0.00      0.00       0.0\n",
            "2020-09-09T00:00:00.000000000       0.00      0.00      0.00       1.0\n",
            "2020-09-12T00:00:00.000000000       0.00      0.00      0.00       0.0\n",
            "2020-09-13T00:00:00.000000000       0.00      0.00      0.00       1.0\n",
            "2020-09-14T00:00:00.000000000       0.00      0.00      0.00       1.0\n",
            "2020-09-26T00:00:00.000000000       0.00      0.00      0.00       0.0\n",
            "2020-09-27T00:00:00.000000000       0.00      0.00      0.00       1.0\n",
            "2020-09-28T00:00:00.000000000       0.00      0.00      0.00       1.0\n",
            "2020-09-29T00:00:00.000000000       0.00      0.00      0.00       1.0\n",
            "2020-09-30T00:00:00.000000000       0.00      0.00      0.00       0.0\n",
            "2020-10-04T00:00:00.000000000       0.00      0.00      0.00       0.0\n",
            "2020-10-06T00:00:00.000000000       0.00      0.00      0.00       1.0\n",
            "2020-10-07T00:00:00.000000000       0.00      0.00      0.00       1.0\n",
            "2020-10-08T00:00:00.000000000       0.00      0.00      0.00       0.0\n",
            "2020-10-10T00:00:00.000000000       0.00      0.00      0.00       0.0\n",
            "2020-10-11T00:00:00.000000000       0.00      0.00      0.00       1.0\n",
            "\n",
            "                     accuracy                           0.00      68.0\n",
            "                    macro avg       0.00      0.00      0.00      68.0\n",
            "                 weighted avg       0.00      0.00      0.00      68.0\n",
            "\n"
          ],
          "name": "stdout"
        }
      ]
    },
    {
      "cell_type": "code",
      "metadata": {
        "id": "fsFFWQnmbfRe",
        "outputId": "ef0b9ae1-9d65-4baa-8ccd-2d1ee362feeb",
        "colab": {
          "base_uri": "https://localhost:8080/",
          "height": 136
        }
      },
      "source": [
        "cm = confusion_matrix(y_test,rfc_pred)\n",
        "print(cm)"
      ],
      "execution_count": 74,
      "outputs": [
        {
          "output_type": "stream",
          "text": [
            "[[0 0 0 ... 0 0 0]\n",
            " [1 0 0 ... 0 0 0]\n",
            " [0 0 0 ... 0 0 0]\n",
            " ...\n",
            " [0 0 0 ... 0 0 0]\n",
            " [0 0 0 ... 0 0 0]\n",
            " [0 0 0 ... 0 1 0]]\n"
          ],
          "name": "stdout"
        }
      ]
    },
    {
      "cell_type": "code",
      "metadata": {
        "id": "DDO196FYbiaX"
      },
      "source": [
        "nsimu = 21\n",
        "accuracy=[0]*nsimu\n",
        "ntree = [0]*nsimu\n",
        "for i in range(1,nsimu):\n",
        "    rfc = RandomForestClassifier(n_estimators=i*5,min_samples_split=10,max_depth=None,criterion='gini')\n",
        "    rfc.fit(X_train, y_train)\n",
        "    rfc_pred = rfc.predict(X_test)\n",
        "    cm = confusion_matrix(y_test,rfc_pred)\n",
        "    accuracy[i] = (cm[0,0]+cm[1,1])/cm.sum()\n",
        "    ntree[i]=i*5"
      ],
      "execution_count": 75,
      "outputs": []
    },
    {
      "cell_type": "code",
      "metadata": {
        "id": "_kNYXa-kbmSW",
        "outputId": "461dcd28-a551-4b1e-874d-7ceb5d2857d4",
        "colab": {
          "base_uri": "https://localhost:8080/",
          "height": 430
        }
      },
      "source": [
        "plt.figure(figsize=(10,6))\n",
        "plt.scatter(x=ntree[1:nsimu],y=accuracy[1:nsimu],s=60,c='red')\n",
        "plt.title(\"Number of trees in the Random Forest vs. prediction accuracy (criterion: 'gini')\", fontsize=18)\n",
        "plt.xlabel(\"Number of trees\", fontsize=15)\n",
        "plt.ylabel(\"Prediction accuracy from confusion matrix\", fontsize=15)"
      ],
      "execution_count": 76,
      "outputs": [
        {
          "output_type": "execute_result",
          "data": {
            "text/plain": [
              "Text(0, 0.5, 'Prediction accuracy from confusion matrix')"
            ]
          },
          "metadata": {
            "tags": []
          },
          "execution_count": 76
        },
        {
          "output_type": "display_data",
          "data": {
            "image/png": "[encoded data removed]",
            "text/plain": [
              "<Figure size 720x432 with 1 Axes>"
            ]
          },
          "metadata": {
            "tags": [],
            "needs_background": "light"
          }
        }
      ]
    },
    {
      "cell_type": "code",
      "metadata": {
        "id": "1RintEHqb1Q3"
      },
      "source": [
        "nsimu = 21\n",
        "accuracy=[0]*nsimu\n",
        "ntree = [0]*nsimu\n",
        "for i in range(1,nsimu):\n",
        "    rfc = RandomForestClassifier(n_estimators=i*5,min_samples_split=10,max_depth=None,criterion='entropy')\n",
        "    rfc.fit(X_train, y_train)\n",
        "    rfc_pred = rfc.predict(X_test)\n",
        "    cm = confusion_matrix(y_test,rfc_pred)\n",
        "    accuracy[i] = (cm[0,0]+cm[1,1])/cm.sum()\n",
        "    ntree[i]=i*5"
      ],
      "execution_count": 77,
      "outputs": []
    },
    {
      "cell_type": "code",
      "metadata": {
        "id": "4_1dRFdTb3C1",
        "outputId": "0d21e897-d17d-437f-940d-371e1549d92c",
        "colab": {
          "base_uri": "https://localhost:8080/",
          "height": 430
        }
      },
      "source": [
        "plt.figure(figsize=(10,6))\n",
        "plt.scatter(x=ntree[1:nsimu],y=accuracy[1:nsimu],s=60,c='red')\n",
        "plt.title(\"Number of trees in the Random Forest vs. prediction accuracy (criterion: 'entropy')\", fontsize=18)\n",
        "plt.xlabel(\"Number of trees\", fontsize=15)\n",
        "plt.ylabel(\"Prediction accuracy from confusion matrix\", fontsize=15)"
      ],
      "execution_count": 78,
      "outputs": [
        {
          "output_type": "execute_result",
          "data": {
            "text/plain": [
              "Text(0, 0.5, 'Prediction accuracy from confusion matrix')"
            ]
          },
          "metadata": {
            "tags": []
          },
          "execution_count": 78
        },
        {
          "output_type": "display_data",
          "data": {
            "image/png": "[encoded data removed]",
            "text/plain": [
              "<Figure size 720x432 with 1 Axes>"
            ]
          },
          "metadata": {
            "tags": [],
            "needs_background": "light"
          }
        }
      ]
    },
    {
      "cell_type": "code",
      "metadata": {
        "id": "wf2hX5WWb80k"
      },
      "source": [
        "nsimu = 21\n",
        "accuracy=[0]*nsimu\n",
        "ntree = [0]*nsimu\n",
        "for i in range(1,nsimu):\n",
        "    rfc = RandomForestClassifier(n_estimators=i*5,min_samples_split=10,max_depth=None,criterion='gini')\n",
        "    rfc.fit(X_train, y_train)\n",
        "    rfc_pred = rfc.predict(X_test)\n",
        "    cm = confusion_matrix(y_test,rfc_pred)\n",
        "    accuracy[i] = (cm[0,0]+cm[1,1])/cm.sum()\n",
        "    ntree[i]=i*5"
      ],
      "execution_count": 79,
      "outputs": []
    },
    {
      "cell_type": "code",
      "metadata": {
        "id": "1nAFgl6Sb-f_",
        "outputId": "a28530d7-9088-4302-c7d1-5b374061ab6c",
        "colab": {
          "base_uri": "https://localhost:8080/",
          "height": 430
        }
      },
      "source": [
        "plt.figure(figsize=(10,6))\n",
        "plt.scatter(x=ntree[1:nsimu],y=accuracy[1:nsimu],s=60,c='red')\n",
        "plt.title(\"Number of trees in the Random Forest vs. prediction accuracy (max depth: None)\", fontsize=18)\n",
        "plt.xlabel(\"Number of trees\", fontsize=15)\n",
        "plt.ylabel(\"Prediction accuracy from confusion matrix\", fontsize=15)"
      ],
      "execution_count": 80,
      "outputs": [
        {
          "output_type": "execute_result",
          "data": {
            "text/plain": [
              "Text(0, 0.5, 'Prediction accuracy from confusion matrix')"
            ]
          },
          "metadata": {
            "tags": []
          },
          "execution_count": 80
        },
        {
          "output_type": "display_data",
          "data": {
            "image/png": "[encoded data removed]",
            "text/plain": [
              "<Figure size 720x432 with 1 Axes>"
            ]
          },
          "metadata": {
            "tags": [],
            "needs_background": "light"
          }
        }
      ]
    },
    {
      "cell_type": "code",
      "metadata": {
        "id": "OfC_0XkTcC3z"
      },
      "source": [
        "nsimu = 21\n",
        "accuracy=[0]*nsimu\n",
        "ntree = [0]*nsimu\n",
        "for i in range(1,nsimu):\n",
        "    rfc = RandomForestClassifier(n_estimators=i*5,min_samples_split=10,max_depth=5,criterion='gini')\n",
        "    rfc.fit(X_train, y_train)\n",
        "    rfc_pred = rfc.predict(X_test)\n",
        "    cm = confusion_matrix(y_test,rfc_pred)\n",
        "    accuracy[i] = (cm[0,0]+cm[1,1])/cm.sum()\n",
        "    ntree[i]=i*5"
      ],
      "execution_count": 81,
      "outputs": []
    },
    {
      "cell_type": "code",
      "metadata": {
        "id": "HdcyBtatcEMh",
        "outputId": "b20a5cba-4032-42ab-c2a9-b030078e2aa7",
        "colab": {
          "base_uri": "https://localhost:8080/",
          "height": 430
        }
      },
      "source": [
        "plt.figure(figsize=(10,6))\n",
        "plt.scatter(x=ntree[1:nsimu],y=accuracy[1:nsimu],s=60,c='red')\n",
        "plt.title(\"Number of trees in the Random Forest vs. prediction accuracy (max depth: 5)\", fontsize=18)\n",
        "plt.xlabel(\"Number of trees\", fontsize=15)\n",
        "plt.ylabel(\"Prediction accuracy from confusion matrix\", fontsize=15)"
      ],
      "execution_count": 82,
      "outputs": [
        {
          "output_type": "execute_result",
          "data": {
            "text/plain": [
              "Text(0, 0.5, 'Prediction accuracy from confusion matrix')"
            ]
          },
          "metadata": {
            "tags": []
          },
          "execution_count": 82
        },
        {
          "output_type": "display_data",
          "data": {
            "image/png": "[encoded data removed]",
            "text/plain": [
              "<Figure size 720x432 with 1 Axes>"
            ]
          },
          "metadata": {
            "tags": [],
            "needs_background": "light"
          }
        }
      ]
    },
    {
      "cell_type": "code",
      "metadata": {
        "id": "w0KYMODRcGT1"
      },
      "source": [
        "nsimu = 21\n",
        "accuracy=[0]*nsimu\n",
        "ntree = [0]*nsimu\n",
        "for i in range(1,nsimu):\n",
        "    rfc = RandomForestClassifier(n_estimators=i*5,min_samples_split=2,max_depth=None,criterion='gini')\n",
        "    rfc.fit(X_train, y_train)\n",
        "    rfc_pred = rfc.predict(X_test)\n",
        "    cm = confusion_matrix(y_test,rfc_pred)\n",
        "    accuracy[i] = (cm[0,0]+cm[1,1])/cm.sum()\n",
        "    ntree[i]=i*5"
      ],
      "execution_count": 83,
      "outputs": []
    },
    {
      "cell_type": "code",
      "metadata": {
        "id": "Tw5SA4TOcLiY",
        "outputId": "33782a09-54d9-46d1-a957-43de5cd9c08f",
        "colab": {
          "base_uri": "https://localhost:8080/",
          "height": 430
        }
      },
      "source": [
        "plt.figure(figsize=(10,6))\n",
        "plt.scatter(x=ntree[1:nsimu],y=accuracy[1:nsimu],s=60,c='red')\n",
        "plt.title(\"Number of trees in the Random Forest vs. prediction accuracy (minimum sample split: 2)\", fontsize=18)\n",
        "plt.xlabel(\"Number of trees\", fontsize=15)\n",
        "plt.ylabel(\"Prediction accuracy from confusion matrix\", fontsize=15)"
      ],
      "execution_count": 84,
      "outputs": [
        {
          "output_type": "execute_result",
          "data": {
            "text/plain": [
              "Text(0, 0.5, 'Prediction accuracy from confusion matrix')"
            ]
          },
          "metadata": {
            "tags": []
          },
          "execution_count": 84
        },
        {
          "output_type": "display_data",
          "data": {
            "image/png": "[encoded data removed]",
            "text/plain": [
              "<Figure size 720x432 with 1 Axes>"
            ]
          },
          "metadata": {
            "tags": [],
            "needs_background": "light"
          }
        }
      ]
    },
    {
      "cell_type": "code",
      "metadata": {
        "id": "4-cvIuaTcNsK"
      },
      "source": [
        "nsimu = 21\n",
        "accuracy=[0]*nsimu\n",
        "ntree = [0]*nsimu\n",
        "for i in range(1,nsimu):\n",
        "    rfc = RandomForestClassifier(n_estimators=i*5,min_samples_split=20,max_depth=None,criterion='gini')\n",
        "    rfc.fit(X_train, y_train)\n",
        "    rfc_pred = rfc.predict(X_test)\n",
        "    cm = confusion_matrix(y_test,rfc_pred)\n",
        "    accuracy[i] = (cm[0,0]+cm[1,1])/cm.sum()\n",
        "    ntree[i]=i*5"
      ],
      "execution_count": 85,
      "outputs": []
    },
    {
      "cell_type": "code",
      "metadata": {
        "id": "xcK5e7fScSnz",
        "outputId": "3d86a06b-0fc2-4f8d-8488-2321bcf977b4",
        "colab": {
          "base_uri": "https://localhost:8080/",
          "height": 430
        }
      },
      "source": [
        "plt.figure(figsize=(10,6))\n",
        "plt.scatter(x=ntree[1:nsimu],y=accuracy[1:nsimu],s=60,c='red')\n",
        "plt.title(\"Number of trees in the Random Forest vs. prediction accuracy (minimum sample split: 20)\", fontsize=18)\n",
        "plt.xlabel(\"Number of trees\", fontsize=15)\n",
        "plt.ylabel(\"Prediction accuracy from confusion matrix\", fontsize=15)"
      ],
      "execution_count": 86,
      "outputs": [
        {
          "output_type": "execute_result",
          "data": {
            "text/plain": [
              "Text(0, 0.5, 'Prediction accuracy from confusion matrix')"
            ]
          },
          "metadata": {
            "tags": []
          },
          "execution_count": 86
        },
        {
          "output_type": "display_data",
          "data": {
            "image/png": "[encoded data removed]",
            "text/plain": [
              "<Figure size 720x432 with 1 Axes>"
            ]
          },
          "metadata": {
            "tags": [],
            "needs_background": "light"
          }
        }
      ]
    },
    {
      "cell_type": "markdown",
      "metadata": {
        "id": "5zQFjQ4YCtc4"
      },
      "source": [
        "# Naive Bayes Classification"
      ]
    },
    {
      "cell_type": "code",
      "metadata": {
        "id": "Co8BSPrrCvld"
      },
      "source": [
        "from sklearn.model_selection import train_test_split\n",
        "\n",
        "test_size=0.3 # Test-set fraction"
      ],
      "execution_count": 62,
      "outputs": []
    },
    {
      "cell_type": "code",
      "metadata": {
        "id": "xPyms8rJFZIJ",
        "outputId": "bca62e37-69ed-46ad-d4bb-9c83baaad75c",
        "colab": {
          "base_uri": "https://localhost:8080/",
          "height": 0
        }
      },
      "source": [
        "Jb_covid_total.info()"
      ],
      "execution_count": 107,
      "outputs": [
        {
          "output_type": "stream",
          "text": [
            "<class 'pandas.core.frame.DataFrame'>\n",
            "RangeIndex: 224 entries, 0 to 223\n",
            "Data columns (total 5 columns):\n",
            " #   Column              Non-Null Count  Dtype         \n",
            "---  ------              --------------  -----         \n",
            " 0   Date                224 non-null    datetime64[ns]\n",
            " 1   Total Cases         224 non-null    int64         \n",
            " 2   Total Deaths        224 non-null    int64         \n",
            " 3   Total Recovered     224 non-null    int64         \n",
            " 4   Total Active Cases  224 non-null    int64         \n",
            "dtypes: datetime64[ns](1), int64(4)\n",
            "memory usage: 8.9 KB\n"
          ],
          "name": "stdout"
        }
      ]
    },
    {
      "cell_type": "code",
      "metadata": {
        "id": "AsMkQ-EpDLNV"
      },
      "source": [
        "X = Jb_covid_total.drop('Date', axis=1) \n",
        "y = Jb_covid_total['Date']\n",
        "X_train, X_test, y_train, y_test = train_test_split(X, y, test_size=test_size)"
      ],
      "execution_count": 135,
      "outputs": []
    },
    {
      "cell_type": "code",
      "metadata": {
        "id": "oVYj0fh6CzAn",
        "outputId": "1dc5c98f-87b0-4d2b-c11e-7893bdc4aede",
        "colab": {
          "base_uri": "https://localhost:8080/",
          "height": 0
        }
      },
      "source": [
        "X_train.shape"
      ],
      "execution_count": 136,
      "outputs": [
        {
          "output_type": "execute_result",
          "data": {
            "text/plain": [
              "(156, 4)"
            ]
          },
          "metadata": {
            "tags": []
          },
          "execution_count": 136
        }
      ]
    },
    {
      "cell_type": "code",
      "metadata": {
        "id": "puVVwBQWDaEQ",
        "outputId": "6eb37fb0-4e4c-450c-9f0e-75f23074ce8e",
        "colab": {
          "base_uri": "https://localhost:8080/",
          "height": 0
        }
      },
      "source": [
        "X_train.head()"
      ],
      "execution_count": 137,
      "outputs": [
        {
          "output_type": "execute_result",
          "data": {
            "text/html": [
              "<div>\n",
              "<style scoped>\n",
              "    .dataframe tbody tr th:only-of-type {\n",
              "        vertical-align: middle;\n",
              "    }\n",
              "\n",
              "    .dataframe tbody tr th {\n",
              "        vertical-align: top;\n",
              "    }\n",
              "\n",
              "    .dataframe thead th {\n",
              "        text-align: right;\n",
              "    }\n",
              "</style>\n",
              "<table border=\"1\" class=\"dataframe\">\n",
              "  <thead>\n",
              "    <tr style=\"text-align: right;\">\n",
              "      <th></th>\n",
              "      <th>Total Cases</th>\n",
              "      <th>Total Deaths</th>\n",
              "      <th>Total Recovered</th>\n",
              "      <th>Total Active Cases</th>\n",
              "    </tr>\n",
              "  </thead>\n",
              "  <tbody>\n",
              "    <tr>\n",
              "      <th>215</th>\n",
              "      <td>2.596467</td>\n",
              "      <td>2.362480</td>\n",
              "      <td>2.590685</td>\n",
              "      <td>2.567008</td>\n",
              "    </tr>\n",
              "    <tr>\n",
              "      <th>103</th>\n",
              "      <td>-0.483009</td>\n",
              "      <td>-0.049106</td>\n",
              "      <td>-0.471491</td>\n",
              "      <td>-0.513352</td>\n",
              "    </tr>\n",
              "    <tr>\n",
              "      <th>78</th>\n",
              "      <td>-0.607738</td>\n",
              "      <td>-0.369010</td>\n",
              "      <td>-0.654230</td>\n",
              "      <td>-0.530997</td>\n",
              "    </tr>\n",
              "    <tr>\n",
              "      <th>72</th>\n",
              "      <td>-0.628721</td>\n",
              "      <td>-0.582280</td>\n",
              "      <td>-0.695739</td>\n",
              "      <td>-0.508647</td>\n",
              "    </tr>\n",
              "    <tr>\n",
              "      <th>129</th>\n",
              "      <td>-0.151965</td>\n",
              "      <td>0.155961</td>\n",
              "      <td>-0.292332</td>\n",
              "      <td>0.066960</td>\n",
              "    </tr>\n",
              "  </tbody>\n",
              "</table>\n",
              "</div>"
            ],
            "text/plain": [
              "     Total Cases  Total Deaths  Total Recovered  Total Active Cases\n",
              "215     2.596467      2.362480         2.590685            2.567008\n",
              "103    -0.483009     -0.049106        -0.471491           -0.513352\n",
              "78     -0.607738     -0.369010        -0.654230           -0.530997\n",
              "72     -0.628721     -0.582280        -0.695739           -0.508647\n",
              "129    -0.151965      0.155961        -0.292332            0.066960"
            ]
          },
          "metadata": {
            "tags": []
          },
          "execution_count": 137
        }
      ]
    },
    {
      "cell_type": "code",
      "metadata": {
        "id": "igyI-fdkDg1J"
      },
      "source": [
        "from sklearn.naive_bayes import GaussianNB"
      ],
      "execution_count": 138,
      "outputs": []
    },
    {
      "cell_type": "code",
      "metadata": {
        "id": "hXlzgxNvDkqo"
      },
      "source": [
        "nbc = GaussianNB()"
      ],
      "execution_count": 139,
      "outputs": []
    },
    {
      "cell_type": "code",
      "metadata": {
        "id": "1ryPvVRuDnMm",
        "outputId": "b62219bd-b659-41e5-cb71-9fa626feefcf",
        "colab": {
          "base_uri": "https://localhost:8080/",
          "height": 0
        }
      },
      "source": [
        "nbc.fit(X_train,y_train)"
      ],
      "execution_count": 140,
      "outputs": [
        {
          "output_type": "execute_result",
          "data": {
            "text/plain": [
              "GaussianNB(priors=None, var_smoothing=1e-09)"
            ]
          },
          "metadata": {
            "tags": []
          },
          "execution_count": 140
        }
      ]
    },
    {
      "cell_type": "code",
      "metadata": {
        "id": "aN7-U_i5D4WD",
        "outputId": "3bec4e0c-0b69-4e57-bfee-1d4ef3696214",
        "colab": {
          "base_uri": "https://localhost:8080/",
          "height": 0
        }
      },
      "source": [
        "y_pred = nbc.predict(X_test)\n",
        "mislabel = np.sum((y_test!=y_pred))\n",
        "print(\"Total number of mislabelled data points from {} test samples is {}\".format(len(y_test),mislabel))"
      ],
      "execution_count": 141,
      "outputs": [
        {
          "output_type": "stream",
          "text": [
            "Total number of mislabelled data points from 68 test samples is 68\n"
          ],
          "name": "stdout"
        }
      ]
    },
    {
      "cell_type": "code",
      "metadata": {
        "id": "BCch2parFmrw"
      },
      "source": [
        "from sklearn.metrics import classification_report"
      ],
      "execution_count": 142,
      "outputs": []
    },
    {
      "cell_type": "code",
      "metadata": {
        "id": "zEQ0ZMgLFsrx",
        "outputId": "c8999760-b20c-4963-f700-3e2a42332f2c",
        "colab": {
          "base_uri": "https://localhost:8080/",
          "height": 1000
        }
      },
      "source": [
        "print(\"The classification report is as follows...\\n\")\n",
        "print(classification_report(y_pred,y_test))"
      ],
      "execution_count": 143,
      "outputs": [
        {
          "output_type": "stream",
          "text": [
            "The classification report is as follows...\n",
            "\n",
            "                               precision    recall  f1-score   support\n",
            "\n",
            "2020-03-02T00:00:00.000000000       0.00      0.00      0.00       0.0\n",
            "2020-03-03T00:00:00.000000000       0.00      0.00      0.00       0.0\n",
            "2020-03-04T00:00:00.000000000       0.00      0.00      0.00       2.0\n",
            "2020-03-05T00:00:00.000000000       0.00      0.00      0.00       0.0\n",
            "2020-03-06T00:00:00.000000000       0.00      0.00      0.00       0.0\n",
            "2020-03-07T00:00:00.000000000       0.00      0.00      0.00       2.0\n",
            "2020-03-11T00:00:00.000000000       0.00      0.00      0.00       0.0\n",
            "2020-03-12T00:00:00.000000000       0.00      0.00      0.00       1.0\n",
            "2020-03-16T00:00:00.000000000       0.00      0.00      0.00       1.0\n",
            "2020-03-17T00:00:00.000000000       0.00      0.00      0.00       0.0\n",
            "2020-03-18T00:00:00.000000000       0.00      0.00      0.00       1.0\n",
            "2020-03-19T00:00:00.000000000       0.00      0.00      0.00       0.0\n",
            "2020-03-22T00:00:00.000000000       0.00      0.00      0.00       0.0\n",
            "2020-03-23T00:00:00.000000000       0.00      0.00      0.00       1.0\n",
            "2020-03-24T00:00:00.000000000       0.00      0.00      0.00       1.0\n",
            "2020-03-25T00:00:00.000000000       0.00      0.00      0.00       0.0\n",
            "2020-03-27T00:00:00.000000000       0.00      0.00      0.00       0.0\n",
            "2020-03-28T00:00:00.000000000       0.00      0.00      0.00       1.0\n",
            "2020-03-29T00:00:00.000000000       0.00      0.00      0.00       0.0\n",
            "2020-03-30T00:00:00.000000000       0.00      0.00      0.00       1.0\n",
            "2020-04-04T00:00:00.000000000       0.00      0.00      0.00       1.0\n",
            "2020-04-05T00:00:00.000000000       0.00      0.00      0.00       0.0\n",
            "2020-04-06T00:00:00.000000000       0.00      0.00      0.00       2.0\n",
            "2020-04-07T00:00:00.000000000       0.00      0.00      0.00       0.0\n",
            "2020-04-08T00:00:00.000000000       0.00      0.00      0.00       0.0\n",
            "2020-04-09T00:00:00.000000000       0.00      0.00      0.00       0.0\n",
            "2020-04-10T00:00:00.000000000       0.00      0.00      0.00       0.0\n",
            "2020-04-11T00:00:00.000000000       0.00      0.00      0.00       2.0\n",
            "2020-04-17T00:00:00.000000000       0.00      0.00      0.00       0.0\n",
            "2020-04-18T00:00:00.000000000       0.00      0.00      0.00       1.0\n",
            "2020-04-22T00:00:00.000000000       0.00      0.00      0.00       1.0\n",
            "2020-04-23T00:00:00.000000000       0.00      0.00      0.00       0.0\n",
            "2020-04-25T00:00:00.000000000       0.00      0.00      0.00       1.0\n",
            "2020-04-26T00:00:00.000000000       0.00      0.00      0.00       0.0\n",
            "2020-04-27T00:00:00.000000000       0.00      0.00      0.00       1.0\n",
            "2020-04-28T00:00:00.000000000       0.00      0.00      0.00       0.0\n",
            "2020-04-30T00:00:00.000000000       0.00      0.00      0.00       0.0\n",
            "2020-05-01T00:00:00.000000000       0.00      0.00      0.00       0.0\n",
            "2020-05-02T00:00:00.000000000       0.00      0.00      0.00       3.0\n",
            "2020-05-03T00:00:00.000000000       0.00      0.00      0.00       0.0\n",
            "2020-05-04T00:00:00.000000000       0.00      0.00      0.00       1.0\n",
            "2020-05-05T00:00:00.000000000       0.00      0.00      0.00       0.0\n",
            "2020-05-06T00:00:00.000000000       0.00      0.00      0.00       0.0\n",
            "2020-05-07T00:00:00.000000000       0.00      0.00      0.00       2.0\n",
            "2020-05-08T00:00:00.000000000       0.00      0.00      0.00       0.0\n",
            "2020-05-09T00:00:00.000000000       0.00      0.00      0.00       1.0\n",
            "2020-05-10T00:00:00.000000000       0.00      0.00      0.00       0.0\n",
            "2020-05-13T00:00:00.000000000       0.00      0.00      0.00       1.0\n",
            "2020-05-14T00:00:00.000000000       0.00      0.00      0.00       0.0\n",
            "2020-05-15T00:00:00.000000000       0.00      0.00      0.00       1.0\n",
            "2020-05-17T00:00:00.000000000       0.00      0.00      0.00       0.0\n",
            "2020-05-21T00:00:00.000000000       0.00      0.00      0.00       0.0\n",
            "2020-05-22T00:00:00.000000000       0.00      0.00      0.00       1.0\n",
            "2020-05-23T00:00:00.000000000       0.00      0.00      0.00       2.0\n",
            "2020-05-24T00:00:00.000000000       0.00      0.00      0.00       0.0\n",
            "2020-05-25T00:00:00.000000000       0.00      0.00      0.00       0.0\n",
            "2020-05-26T00:00:00.000000000       0.00      0.00      0.00       0.0\n",
            "2020-05-27T00:00:00.000000000       0.00      0.00      0.00       1.0\n",
            "2020-05-28T00:00:00.000000000       0.00      0.00      0.00       1.0\n",
            "2020-05-29T00:00:00.000000000       0.00      0.00      0.00       0.0\n",
            "2020-06-03T00:00:00.000000000       0.00      0.00      0.00       0.0\n",
            "2020-06-04T00:00:00.000000000       0.00      0.00      0.00       1.0\n",
            "2020-06-05T00:00:00.000000000       0.00      0.00      0.00       1.0\n",
            "2020-06-06T00:00:00.000000000       0.00      0.00      0.00       0.0\n",
            "2020-06-07T00:00:00.000000000       0.00      0.00      0.00       0.0\n",
            "2020-06-08T00:00:00.000000000       0.00      0.00      0.00       0.0\n",
            "2020-06-09T00:00:00.000000000       0.00      0.00      0.00       2.0\n",
            "2020-06-10T00:00:00.000000000       0.00      0.00      0.00       1.0\n",
            "2020-06-11T00:00:00.000000000       0.00      0.00      0.00       0.0\n",
            "2020-06-14T00:00:00.000000000       0.00      0.00      0.00       0.0\n",
            "2020-06-15T00:00:00.000000000       0.00      0.00      0.00       1.0\n",
            "2020-06-21T00:00:00.000000000       0.00      0.00      0.00       1.0\n",
            "2020-06-22T00:00:00.000000000       0.00      0.00      0.00       0.0\n",
            "2020-06-28T00:00:00.000000000       0.00      0.00      0.00       1.0\n",
            "2020-06-29T00:00:00.000000000       0.00      0.00      0.00       0.0\n",
            "2020-07-11T00:00:00.000000000       0.00      0.00      0.00       1.0\n",
            "2020-07-12T00:00:00.000000000       0.00      0.00      0.00       0.0\n",
            "2020-07-14T00:00:00.000000000       0.00      0.00      0.00       1.0\n",
            "2020-07-15T00:00:00.000000000       0.00      0.00      0.00       0.0\n",
            "2020-07-16T00:00:00.000000000       0.00      0.00      0.00       0.0\n",
            "2020-07-17T00:00:00.000000000       0.00      0.00      0.00       0.0\n",
            "2020-07-18T00:00:00.000000000       0.00      0.00      0.00       0.0\n",
            "2020-07-19T00:00:00.000000000       0.00      0.00      0.00       4.0\n",
            "2020-07-20T00:00:00.000000000       0.00      0.00      0.00       0.0\n",
            "2020-07-21T00:00:00.000000000       0.00      0.00      0.00       2.0\n",
            "2020-07-22T00:00:00.000000000       0.00      0.00      0.00       0.0\n",
            "2020-07-23T00:00:00.000000000       0.00      0.00      0.00       0.0\n",
            "2020-07-24T00:00:00.000000000       0.00      0.00      0.00       0.0\n",
            "2020-07-25T00:00:00.000000000       0.00      0.00      0.00       0.0\n",
            "2020-07-26T00:00:00.000000000       0.00      0.00      0.00       2.0\n",
            "2020-07-30T00:00:00.000000000       0.00      0.00      0.00       0.0\n",
            "2020-07-31T00:00:00.000000000       0.00      0.00      0.00       1.0\n",
            "2020-08-05T00:00:00.000000000       0.00      0.00      0.00       0.0\n",
            "2020-08-06T00:00:00.000000000       0.00      0.00      0.00       1.0\n",
            "2020-08-09T00:00:00.000000000       0.00      0.00      0.00       0.0\n",
            "2020-08-10T00:00:00.000000000       0.00      0.00      0.00       1.0\n",
            "2020-08-25T00:00:00.000000000       0.00      0.00      0.00       0.0\n",
            "2020-08-26T00:00:00.000000000       0.00      0.00      0.00       2.0\n",
            "2020-08-27T00:00:00.000000000       0.00      0.00      0.00       0.0\n",
            "2020-08-29T00:00:00.000000000       0.00      0.00      0.00       0.0\n",
            "2020-08-30T00:00:00.000000000       0.00      0.00      0.00       1.0\n",
            "2020-09-04T00:00:00.000000000       0.00      0.00      0.00       0.0\n",
            "2020-09-05T00:00:00.000000000       0.00      0.00      0.00       1.0\n",
            "2020-09-09T00:00:00.000000000       0.00      0.00      0.00       0.0\n",
            "2020-09-10T00:00:00.000000000       0.00      0.00      0.00       1.0\n",
            "2020-09-13T00:00:00.000000000       0.00      0.00      0.00       1.0\n",
            "2020-09-14T00:00:00.000000000       0.00      0.00      0.00       0.0\n",
            "2020-09-18T00:00:00.000000000       0.00      0.00      0.00       1.0\n",
            "2020-09-19T00:00:00.000000000       0.00      0.00      0.00       0.0\n",
            "2020-09-20T00:00:00.000000000       0.00      0.00      0.00       0.0\n",
            "2020-09-21T00:00:00.000000000       0.00      0.00      0.00       1.0\n",
            "2020-09-24T00:00:00.000000000       0.00      0.00      0.00       0.0\n",
            "2020-09-25T00:00:00.000000000       0.00      0.00      0.00       1.0\n",
            "2020-09-28T00:00:00.000000000       0.00      0.00      0.00       1.0\n",
            "2020-09-29T00:00:00.000000000       0.00      0.00      0.00       0.0\n",
            "2020-10-02T00:00:00.000000000       0.00      0.00      0.00       0.0\n",
            "2020-10-03T00:00:00.000000000       0.00      0.00      0.00       1.0\n",
            "2020-10-05T00:00:00.000000000       0.00      0.00      0.00       1.0\n",
            "2020-10-06T00:00:00.000000000       0.00      0.00      0.00       0.0\n",
            "2020-10-07T00:00:00.000000000       0.00      0.00      0.00       0.0\n",
            "2020-10-08T00:00:00.000000000       0.00      0.00      0.00       1.0\n",
            "\n",
            "                     accuracy                           0.00      68.0\n",
            "                    macro avg       0.00      0.00      0.00      68.0\n",
            "                 weighted avg       0.00      0.00      0.00      68.0\n",
            "\n"
          ],
          "name": "stdout"
        },
        {
          "output_type": "stream",
          "text": [
            "/usr/local/lib/python3.6/dist-packages/sklearn/metrics/_classification.py:1272: UndefinedMetricWarning:\n",
            "\n",
            "Precision and F-score are ill-defined and being set to 0.0 in labels with no predicted samples. Use `zero_division` parameter to control this behavior.\n",
            "\n",
            "/usr/local/lib/python3.6/dist-packages/sklearn/metrics/_classification.py:1272: UndefinedMetricWarning:\n",
            "\n",
            "Recall and F-score are ill-defined and being set to 0.0 in labels with no true samples. Use `zero_division` parameter to control this behavior.\n",
            "\n"
          ],
          "name": "stderr"
        }
      ]
    },
    {
      "cell_type": "code",
      "metadata": {
        "id": "K4OSjm6rFzsq"
      },
      "source": [
        "from sklearn.metrics import confusion_matrix"
      ],
      "execution_count": 144,
      "outputs": []
    },
    {
      "cell_type": "code",
      "metadata": {
        "id": "3VaFRGXsH0gQ",
        "outputId": "b92fa83f-f5db-46c4-cddc-15ce26eaa48e",
        "colab": {
          "base_uri": "https://localhost:8080/",
          "height": 0
        }
      },
      "source": [
        "cm = (confusion_matrix(y_test,y_pred))\n",
        "cmdf = pd.DataFrame(cm,index=['Class 1','Class 2',' Class 3'],columns=['Class 1','Class 2',' Class 3'])\n",
        "print(\"The confusion matrix looks like following...\\n\")\n",
        "cmdf"
      ],
      "execution_count": 145,
      "outputs": [
        {
          "output_type": "error",
          "ename": "ValueError",
          "evalue": "ignored",
          "traceback": [
            "\u001b[0;31m---------------------------------------------------------------------------\u001b[0m",
            "\u001b[0;31mValueError\u001b[0m                                Traceback (most recent call last)",
            "\u001b[0;32m/usr/local/lib/python3.6/dist-packages/pandas/core/internals/managers.py\u001b[0m in \u001b[0;36mcreate_block_manager_from_blocks\u001b[0;34m(blocks, axes)\u001b[0m\n\u001b[1;32m   1661\u001b[0m                 blocks = [\n\u001b[0;32m-> 1662\u001b[0;31m                     \u001b[0mmake_block\u001b[0m\u001b[0;34m(\u001b[0m\u001b[0mvalues\u001b[0m\u001b[0;34m=\u001b[0m\u001b[0mblocks\u001b[0m\u001b[0;34m[\u001b[0m\u001b[0;36m0\u001b[0m\u001b[0;34m]\u001b[0m\u001b[0;34m,\u001b[0m \u001b[0mplacement\u001b[0m\u001b[0;34m=\u001b[0m\u001b[0mslice\u001b[0m\u001b[0;34m(\u001b[0m\u001b[0;36m0\u001b[0m\u001b[0;34m,\u001b[0m \u001b[0mlen\u001b[0m\u001b[0;34m(\u001b[0m\u001b[0maxes\u001b[0m\u001b[0;34m[\u001b[0m\u001b[0;36m0\u001b[0m\u001b[0;34m]\u001b[0m\u001b[0;34m)\u001b[0m\u001b[0;34m)\u001b[0m\u001b[0;34m)\u001b[0m\u001b[0;34m\u001b[0m\u001b[0;34m\u001b[0m\u001b[0m\n\u001b[0m\u001b[1;32m   1663\u001b[0m                 ]\n",
            "\u001b[0;32m/usr/local/lib/python3.6/dist-packages/pandas/core/internals/blocks.py\u001b[0m in \u001b[0;36mmake_block\u001b[0;34m(values, placement, klass, ndim, dtype)\u001b[0m\n\u001b[1;32m   2718\u001b[0m \u001b[0;34m\u001b[0m\u001b[0m\n\u001b[0;32m-> 2719\u001b[0;31m     \u001b[0;32mreturn\u001b[0m \u001b[0mklass\u001b[0m\u001b[0;34m(\u001b[0m\u001b[0mvalues\u001b[0m\u001b[0;34m,\u001b[0m \u001b[0mndim\u001b[0m\u001b[0;34m=\u001b[0m\u001b[0mndim\u001b[0m\u001b[0;34m,\u001b[0m \u001b[0mplacement\u001b[0m\u001b[0;34m=\u001b[0m\u001b[0mplacement\u001b[0m\u001b[0;34m)\u001b[0m\u001b[0;34m\u001b[0m\u001b[0;34m\u001b[0m\u001b[0m\n\u001b[0m\u001b[1;32m   2720\u001b[0m \u001b[0;34m\u001b[0m\u001b[0m\n",
            "\u001b[0;32m/usr/local/lib/python3.6/dist-packages/pandas/core/internals/blocks.py\u001b[0m in \u001b[0;36m__init__\u001b[0;34m(self, values, placement, ndim)\u001b[0m\n\u001b[1;32m    129\u001b[0m             raise ValueError(\n\u001b[0;32m--> 130\u001b[0;31m                 \u001b[0;34mf\"Wrong number of items passed {len(self.values)}, \"\u001b[0m\u001b[0;34m\u001b[0m\u001b[0;34m\u001b[0m\u001b[0m\n\u001b[0m\u001b[1;32m    131\u001b[0m                 \u001b[0;34mf\"placement implies {len(self.mgr_locs)}\"\u001b[0m\u001b[0;34m\u001b[0m\u001b[0;34m\u001b[0m\u001b[0m\n",
            "\u001b[0;31mValueError\u001b[0m: Wrong number of items passed 121, placement implies 3",
            "\nDuring handling of the above exception, another exception occurred:\n",
            "\u001b[0;31mValueError\u001b[0m                                Traceback (most recent call last)",
            "\u001b[0;32m<ipython-input-145-1ac520876d39>\u001b[0m in \u001b[0;36m<module>\u001b[0;34m()\u001b[0m\n\u001b[1;32m      1\u001b[0m \u001b[0mcm\u001b[0m \u001b[0;34m=\u001b[0m \u001b[0;34m(\u001b[0m\u001b[0mconfusion_matrix\u001b[0m\u001b[0;34m(\u001b[0m\u001b[0my_test\u001b[0m\u001b[0;34m,\u001b[0m\u001b[0my_pred\u001b[0m\u001b[0;34m)\u001b[0m\u001b[0;34m)\u001b[0m\u001b[0;34m\u001b[0m\u001b[0;34m\u001b[0m\u001b[0m\n\u001b[0;32m----> 2\u001b[0;31m \u001b[0mcmdf\u001b[0m \u001b[0;34m=\u001b[0m \u001b[0mpd\u001b[0m\u001b[0;34m.\u001b[0m\u001b[0mDataFrame\u001b[0m\u001b[0;34m(\u001b[0m\u001b[0mcm\u001b[0m\u001b[0;34m,\u001b[0m\u001b[0mindex\u001b[0m\u001b[0;34m=\u001b[0m\u001b[0;34m[\u001b[0m\u001b[0;34m'Class 1'\u001b[0m\u001b[0;34m,\u001b[0m\u001b[0;34m'Class 2'\u001b[0m\u001b[0;34m,\u001b[0m\u001b[0;34m' Class 3'\u001b[0m\u001b[0;34m]\u001b[0m\u001b[0;34m,\u001b[0m\u001b[0mcolumns\u001b[0m\u001b[0;34m=\u001b[0m\u001b[0;34m[\u001b[0m\u001b[0;34m'Class 1'\u001b[0m\u001b[0;34m,\u001b[0m\u001b[0;34m'Class 2'\u001b[0m\u001b[0;34m,\u001b[0m\u001b[0;34m' Class 3'\u001b[0m\u001b[0;34m]\u001b[0m\u001b[0;34m)\u001b[0m\u001b[0;34m\u001b[0m\u001b[0;34m\u001b[0m\u001b[0m\n\u001b[0m\u001b[1;32m      3\u001b[0m \u001b[0mprint\u001b[0m\u001b[0;34m(\u001b[0m\u001b[0;34m\"The confusion matrix looks like following...\\n\"\u001b[0m\u001b[0;34m)\u001b[0m\u001b[0;34m\u001b[0m\u001b[0;34m\u001b[0m\u001b[0m\n\u001b[1;32m      4\u001b[0m \u001b[0mcmdf\u001b[0m\u001b[0;34m\u001b[0m\u001b[0;34m\u001b[0m\u001b[0m\n",
            "\u001b[0;32m/usr/local/lib/python3.6/dist-packages/pandas/core/frame.py\u001b[0m in \u001b[0;36m__init__\u001b[0;34m(self, data, index, columns, dtype, copy)\u001b[0m\n\u001b[1;32m    495\u001b[0m                 \u001b[0mmgr\u001b[0m \u001b[0;34m=\u001b[0m \u001b[0minit_dict\u001b[0m\u001b[0;34m(\u001b[0m\u001b[0;34m{\u001b[0m\u001b[0mdata\u001b[0m\u001b[0;34m.\u001b[0m\u001b[0mname\u001b[0m\u001b[0;34m:\u001b[0m \u001b[0mdata\u001b[0m\u001b[0;34m}\u001b[0m\u001b[0;34m,\u001b[0m \u001b[0mindex\u001b[0m\u001b[0;34m,\u001b[0m \u001b[0mcolumns\u001b[0m\u001b[0;34m,\u001b[0m \u001b[0mdtype\u001b[0m\u001b[0;34m=\u001b[0m\u001b[0mdtype\u001b[0m\u001b[0;34m)\u001b[0m\u001b[0;34m\u001b[0m\u001b[0;34m\u001b[0m\u001b[0m\n\u001b[1;32m    496\u001b[0m             \u001b[0;32melse\u001b[0m\u001b[0;34m:\u001b[0m\u001b[0;34m\u001b[0m\u001b[0;34m\u001b[0m\u001b[0m\n\u001b[0;32m--> 497\u001b[0;31m                 \u001b[0mmgr\u001b[0m \u001b[0;34m=\u001b[0m \u001b[0minit_ndarray\u001b[0m\u001b[0;34m(\u001b[0m\u001b[0mdata\u001b[0m\u001b[0;34m,\u001b[0m \u001b[0mindex\u001b[0m\u001b[0;34m,\u001b[0m \u001b[0mcolumns\u001b[0m\u001b[0;34m,\u001b[0m \u001b[0mdtype\u001b[0m\u001b[0;34m=\u001b[0m\u001b[0mdtype\u001b[0m\u001b[0;34m,\u001b[0m \u001b[0mcopy\u001b[0m\u001b[0;34m=\u001b[0m\u001b[0mcopy\u001b[0m\u001b[0;34m)\u001b[0m\u001b[0;34m\u001b[0m\u001b[0;34m\u001b[0m\u001b[0m\n\u001b[0m\u001b[1;32m    498\u001b[0m \u001b[0;34m\u001b[0m\u001b[0m\n\u001b[1;32m    499\u001b[0m         \u001b[0;31m# For data is list-like, or Iterable (will consume into list)\u001b[0m\u001b[0;34m\u001b[0m\u001b[0;34m\u001b[0m\u001b[0;34m\u001b[0m\u001b[0m\n",
            "\u001b[0;32m/usr/local/lib/python3.6/dist-packages/pandas/core/internals/construction.py\u001b[0m in \u001b[0;36minit_ndarray\u001b[0;34m(values, index, columns, dtype, copy)\u001b[0m\n\u001b[1;32m    232\u001b[0m         \u001b[0mblock_values\u001b[0m \u001b[0;34m=\u001b[0m \u001b[0;34m[\u001b[0m\u001b[0mvalues\u001b[0m\u001b[0;34m]\u001b[0m\u001b[0;34m\u001b[0m\u001b[0;34m\u001b[0m\u001b[0m\n\u001b[1;32m    233\u001b[0m \u001b[0;34m\u001b[0m\u001b[0m\n\u001b[0;32m--> 234\u001b[0;31m     \u001b[0;32mreturn\u001b[0m \u001b[0mcreate_block_manager_from_blocks\u001b[0m\u001b[0;34m(\u001b[0m\u001b[0mblock_values\u001b[0m\u001b[0;34m,\u001b[0m \u001b[0;34m[\u001b[0m\u001b[0mcolumns\u001b[0m\u001b[0;34m,\u001b[0m \u001b[0mindex\u001b[0m\u001b[0;34m]\u001b[0m\u001b[0;34m)\u001b[0m\u001b[0;34m\u001b[0m\u001b[0;34m\u001b[0m\u001b[0m\n\u001b[0m\u001b[1;32m    235\u001b[0m \u001b[0;34m\u001b[0m\u001b[0m\n\u001b[1;32m    236\u001b[0m \u001b[0;34m\u001b[0m\u001b[0m\n",
            "\u001b[0;32m/usr/local/lib/python3.6/dist-packages/pandas/core/internals/managers.py\u001b[0m in \u001b[0;36mcreate_block_manager_from_blocks\u001b[0;34m(blocks, axes)\u001b[0m\n\u001b[1;32m   1670\u001b[0m         \u001b[0mblocks\u001b[0m \u001b[0;34m=\u001b[0m \u001b[0;34m[\u001b[0m\u001b[0mgetattr\u001b[0m\u001b[0;34m(\u001b[0m\u001b[0mb\u001b[0m\u001b[0;34m,\u001b[0m \u001b[0;34m\"values\"\u001b[0m\u001b[0;34m,\u001b[0m \u001b[0mb\u001b[0m\u001b[0;34m)\u001b[0m \u001b[0;32mfor\u001b[0m \u001b[0mb\u001b[0m \u001b[0;32min\u001b[0m \u001b[0mblocks\u001b[0m\u001b[0;34m]\u001b[0m\u001b[0;34m\u001b[0m\u001b[0;34m\u001b[0m\u001b[0m\n\u001b[1;32m   1671\u001b[0m         \u001b[0mtot_items\u001b[0m \u001b[0;34m=\u001b[0m \u001b[0msum\u001b[0m\u001b[0;34m(\u001b[0m\u001b[0mb\u001b[0m\u001b[0;34m.\u001b[0m\u001b[0mshape\u001b[0m\u001b[0;34m[\u001b[0m\u001b[0;36m0\u001b[0m\u001b[0;34m]\u001b[0m \u001b[0;32mfor\u001b[0m \u001b[0mb\u001b[0m \u001b[0;32min\u001b[0m \u001b[0mblocks\u001b[0m\u001b[0;34m)\u001b[0m\u001b[0;34m\u001b[0m\u001b[0;34m\u001b[0m\u001b[0m\n\u001b[0;32m-> 1672\u001b[0;31m         \u001b[0;32mraise\u001b[0m \u001b[0mconstruction_error\u001b[0m\u001b[0;34m(\u001b[0m\u001b[0mtot_items\u001b[0m\u001b[0;34m,\u001b[0m \u001b[0mblocks\u001b[0m\u001b[0;34m[\u001b[0m\u001b[0;36m0\u001b[0m\u001b[0;34m]\u001b[0m\u001b[0;34m.\u001b[0m\u001b[0mshape\u001b[0m\u001b[0;34m[\u001b[0m\u001b[0;36m1\u001b[0m\u001b[0;34m:\u001b[0m\u001b[0;34m]\u001b[0m\u001b[0;34m,\u001b[0m \u001b[0maxes\u001b[0m\u001b[0;34m,\u001b[0m \u001b[0me\u001b[0m\u001b[0;34m)\u001b[0m\u001b[0;34m\u001b[0m\u001b[0;34m\u001b[0m\u001b[0m\n\u001b[0m\u001b[1;32m   1673\u001b[0m \u001b[0;34m\u001b[0m\u001b[0m\n\u001b[1;32m   1674\u001b[0m \u001b[0;34m\u001b[0m\u001b[0m\n",
            "\u001b[0;31mValueError\u001b[0m: Shape of passed values is (121, 121), indices imply (3, 3)"
          ]
        }
      ]
    }
  ]
}