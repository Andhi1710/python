{
  "nbformat": 4,
  "nbformat_minor": 0,
  "metadata": {
    "colab": {
      "name": "Kelompok_1.ipynb",
      "provenance": [],
      "collapsed_sections": [],
      "include_colab_link": true
    },
    "kernelspec": {
      "name": "python3",
      "display_name": "Python 3"
    }
  },
  "cells": [
    {
      "cell_type": "markdown",
      "metadata": {
        "id": "view-in-github",
        "colab_type": "text"
      },
      "source": [
        "<a href=\"https://colab.research.google.com/github/Andhi1710/python/blob/main/Kelompok_1.ipynb\" target=\"_parent\"><img src=\"https://colab.research.google.com/assets/colab-badge.svg\" alt=\"Open In Colab\"/></a>"
      ]
    },
    {
      "cell_type": "code",
      "metadata": {
        "id": "hGxSz38QCa7s",
        "outputId": "c261329e-a494-417d-ea81-bacd86ada73d",
        "colab": {
          "base_uri": "https://localhost:8080/"
        }
      },
      "source": [
        "nama_kelompok = (\"Andhi\",\"Deka\",\"Dimas\",\"Ditha\",\"Dwi\")\n",
        "print(nama_kelompok)"
      ],
      "execution_count": null,
      "outputs": [
        {
          "output_type": "stream",
          "text": [
            "('Andhi', 'Deka', 'Dimas', 'Ditha', 'Dwi')\n"
          ],
          "name": "stdout"
        }
      ]
    },
    {
      "cell_type": "code",
      "metadata": {
        "id": "9VYMR5frZsBs",
        "outputId": "bc644753-990b-4e04-9022-77942291e509",
        "colab": {
          "base_uri": "https://localhost:8080/"
        }
      },
      "source": [
        "import pandas as pd\n",
        "import numpy as np\n",
        "import matplotlib.pylab as plt\n",
        "path = (\"/content/drive/My Drive/Colab Notebooks/train.csv\")\n",
        "df=pd.read_csv(path)\n",
        "print(df)"
      ],
      "execution_count": null,
      "outputs": [
        {
          "output_type": "stream",
          "text": [
            "          Id  Product_Info_1  ... Medical_Keyword_48  Response\n",
            "0          2               1  ...                  0         8\n",
            "1          5               1  ...                  0         4\n",
            "2          6               1  ...                  0         8\n",
            "3          7               1  ...                  0         8\n",
            "4          8               1  ...                  0         8\n",
            "...      ...             ...  ...                ...       ...\n",
            "59376  79142               1  ...                  0         4\n",
            "59377  79143               1  ...                  0         7\n",
            "59378  79144               1  ...                  0         8\n",
            "59379  79145               1  ...                  0         8\n",
            "59380  79146               1  ...                  0         7\n",
            "\n",
            "[59381 rows x 128 columns]\n"
          ],
          "name": "stdout"
        }
      ]
    },
    {
      "cell_type": "code",
      "metadata": {
        "id": "x1Bk915SB_oy",
        "outputId": "2ccb1382-fafd-44cd-e61d-1552b4a00ad0",
        "colab": {
          "base_uri": "https://localhost:8080/"
        }
      },
      "source": [
        "from google.colab import drive\n",
        "drive.mount('/content/drive')"
      ],
      "execution_count": null,
      "outputs": [
        {
          "output_type": "stream",
          "text": [
            "Drive already mounted at /content/drive; to attempt to forcibly remount, call drive.mount(\"/content/drive\", force_remount=True).\n"
          ],
          "name": "stdout"
        }
      ]
    },
    {
      "cell_type": "code",
      "metadata": {
        "id": "A2Vr9O7A3MnS",
        "outputId": "298d51d6-c560-44a0-d96d-9617634c03bc",
        "colab": {
          "base_uri": "https://localhost:8080/",
          "height": 297
        }
      },
      "source": [
        "#@title Data Understanding\n",
        "responsex = df[['Response']]\n",
        "responsex.describe()"
      ],
      "execution_count": null,
      "outputs": [
        {
          "output_type": "execute_result",
          "data": {
            "text/html": [
              "<div>\n",
              "<style scoped>\n",
              "    .dataframe tbody tr th:only-of-type {\n",
              "        vertical-align: middle;\n",
              "    }\n",
              "\n",
              "    .dataframe tbody tr th {\n",
              "        vertical-align: top;\n",
              "    }\n",
              "\n",
              "    .dataframe thead th {\n",
              "        text-align: right;\n",
              "    }\n",
              "</style>\n",
              "<table border=\"1\" class=\"dataframe\">\n",
              "  <thead>\n",
              "    <tr style=\"text-align: right;\">\n",
              "      <th></th>\n",
              "      <th>Response</th>\n",
              "    </tr>\n",
              "  </thead>\n",
              "  <tbody>\n",
              "    <tr>\n",
              "      <th>count</th>\n",
              "      <td>59381.000000</td>\n",
              "    </tr>\n",
              "    <tr>\n",
              "      <th>mean</th>\n",
              "      <td>5.636837</td>\n",
              "    </tr>\n",
              "    <tr>\n",
              "      <th>std</th>\n",
              "      <td>2.456833</td>\n",
              "    </tr>\n",
              "    <tr>\n",
              "      <th>min</th>\n",
              "      <td>1.000000</td>\n",
              "    </tr>\n",
              "    <tr>\n",
              "      <th>25%</th>\n",
              "      <td>4.000000</td>\n",
              "    </tr>\n",
              "    <tr>\n",
              "      <th>50%</th>\n",
              "      <td>6.000000</td>\n",
              "    </tr>\n",
              "    <tr>\n",
              "      <th>75%</th>\n",
              "      <td>8.000000</td>\n",
              "    </tr>\n",
              "    <tr>\n",
              "      <th>max</th>\n",
              "      <td>8.000000</td>\n",
              "    </tr>\n",
              "  </tbody>\n",
              "</table>\n",
              "</div>"
            ],
            "text/plain": [
              "           Response\n",
              "count  59381.000000\n",
              "mean       5.636837\n",
              "std        2.456833\n",
              "min        1.000000\n",
              "25%        4.000000\n",
              "50%        6.000000\n",
              "75%        8.000000\n",
              "max        8.000000"
            ]
          },
          "metadata": {
            "tags": []
          },
          "execution_count": 4
        }
      ]
    },
    {
      "cell_type": "code",
      "metadata": {
        "id": "DX8g8wUpMvlx",
        "outputId": "001a42d0-95e3-457e-ac4f-6c893f848fc3",
        "colab": {
          "base_uri": "https://localhost:8080/"
        }
      },
      "source": [
        "df= pd.read_csv(path,nrows=10)\n",
        "print(df)"
      ],
      "execution_count": null,
      "outputs": [
        {
          "output_type": "stream",
          "text": [
            "   Id  Product_Info_1  ... Medical_Keyword_48  Response\n",
            "0   2               1  ...                  0         8\n",
            "1   5               1  ...                  0         4\n",
            "2   6               1  ...                  0         8\n",
            "3   7               1  ...                  0         8\n",
            "4   8               1  ...                  0         8\n",
            "5  10               1  ...                  0         8\n",
            "6  11               1  ...                  0         8\n",
            "7  14               1  ...                  0         1\n",
            "8  15               1  ...                  0         8\n",
            "9  16               1  ...                  0         1\n",
            "\n",
            "[10 rows x 128 columns]\n"
          ],
          "name": "stdout"
        }
      ]
    },
    {
      "cell_type": "code",
      "metadata": {
        "id": "DeFSLd-DnWn5",
        "outputId": "3f9f04f4-5e33-407b-f370-0c9349f0fc68",
        "colab": {
          "base_uri": "https://localhost:8080/"
        }
      },
      "source": [
        "headers = [\"Product_Info_1\",\"Ins_Age\",\"BMI\"]\n",
        "df = pd.read_csv(path, names = headers)"
      ],
      "execution_count": null,
      "outputs": [
        {
          "output_type": "stream",
          "text": [
            "/usr/local/lib/python3.6/dist-packages/IPython/core/interactiveshell.py:2718: DtypeWarning: Columns (0,1,3,4,5,6,7,8,9,10,11,12,13,14,15,16,17,18,19,20,21,22,23,24,25,26,27,28,29,30,31,32,33,34,35,36,37,38,39,40,41,42,43,44,45,46,47,48,49,50,51,52,53,54,55,56,57,58,59,60,61,62,63,64,65,66,67,68,69,70,71,72,73,74,75,76,77,78,79,80,81,82,83,84,85,86,87,88,89,90,91,92,93,94,95,96,97,98,99,100,101,102,103,104,105,106,107,108,109,110,111,112,113,114,115,116,117,118,119,120,121,122,123,124,125,126,127) have mixed types.Specify dtype option on import or set low_memory=False.\n",
            "  interactivity=interactivity, compiler=compiler, result=result)\n"
          ],
          "name": "stderr"
        }
      ]
    },
    {
      "cell_type": "code",
      "metadata": {
        "id": "b_yhUAsZ4eiE",
        "outputId": "a34ab449-3d4e-4d50-c1ee-d28e894d2116",
        "colab": {
          "base_uri": "https://localhost:8080/"
        }
      },
      "source": [
        "kolum = [\"Product_Info_1\",\"Ins_Age\",\"BMI\"]\n",
        "df= pd.read_csv(path, usecols=kolum)\n",
        "print(df)"
      ],
      "execution_count": null,
      "outputs": [
        {
          "output_type": "stream",
          "text": [
            "       Product_Info_1   Ins_Age       BMI\n",
            "0                   1  0.641791  0.323008\n",
            "1                   1  0.059701  0.272288\n",
            "2                   1  0.029851  0.428780\n",
            "3                   1  0.164179  0.352438\n",
            "4                   1  0.417910  0.424046\n",
            "...               ...       ...       ...\n",
            "59376               1  0.074627  0.519103\n",
            "59377               1  0.432836  0.551119\n",
            "59378               1  0.104478  0.360969\n",
            "59379               1  0.507463  0.462452\n",
            "59380               1  0.447761  0.539563\n",
            "\n",
            "[59381 rows x 3 columns]\n"
          ],
          "name": "stdout"
        }
      ]
    },
    {
      "cell_type": "code",
      "metadata": {
        "id": "g49pqp0YoBbR",
        "outputId": "29d8c4ff-c28d-40ca-d3b7-ccf9aa36b100",
        "colab": {
          "base_uri": "https://localhost:8080/",
          "height": 419
        }
      },
      "source": [
        "df"
      ],
      "execution_count": null,
      "outputs": [
        {
          "output_type": "execute_result",
          "data": {
            "text/html": [
              "<div>\n",
              "<style scoped>\n",
              "    .dataframe tbody tr th:only-of-type {\n",
              "        vertical-align: middle;\n",
              "    }\n",
              "\n",
              "    .dataframe tbody tr th {\n",
              "        vertical-align: top;\n",
              "    }\n",
              "\n",
              "    .dataframe thead th {\n",
              "        text-align: right;\n",
              "    }\n",
              "</style>\n",
              "<table border=\"1\" class=\"dataframe\">\n",
              "  <thead>\n",
              "    <tr style=\"text-align: right;\">\n",
              "      <th></th>\n",
              "      <th>Product_Info_1</th>\n",
              "      <th>Ins_Age</th>\n",
              "      <th>BMI</th>\n",
              "    </tr>\n",
              "  </thead>\n",
              "  <tbody>\n",
              "    <tr>\n",
              "      <th>0</th>\n",
              "      <td>1</td>\n",
              "      <td>0.641791</td>\n",
              "      <td>0.323008</td>\n",
              "    </tr>\n",
              "    <tr>\n",
              "      <th>1</th>\n",
              "      <td>1</td>\n",
              "      <td>0.059701</td>\n",
              "      <td>0.272288</td>\n",
              "    </tr>\n",
              "    <tr>\n",
              "      <th>2</th>\n",
              "      <td>1</td>\n",
              "      <td>0.029851</td>\n",
              "      <td>0.428780</td>\n",
              "    </tr>\n",
              "    <tr>\n",
              "      <th>3</th>\n",
              "      <td>1</td>\n",
              "      <td>0.164179</td>\n",
              "      <td>0.352438</td>\n",
              "    </tr>\n",
              "    <tr>\n",
              "      <th>4</th>\n",
              "      <td>1</td>\n",
              "      <td>0.417910</td>\n",
              "      <td>0.424046</td>\n",
              "    </tr>\n",
              "    <tr>\n",
              "      <th>...</th>\n",
              "      <td>...</td>\n",
              "      <td>...</td>\n",
              "      <td>...</td>\n",
              "    </tr>\n",
              "    <tr>\n",
              "      <th>59376</th>\n",
              "      <td>1</td>\n",
              "      <td>0.074627</td>\n",
              "      <td>0.519103</td>\n",
              "    </tr>\n",
              "    <tr>\n",
              "      <th>59377</th>\n",
              "      <td>1</td>\n",
              "      <td>0.432836</td>\n",
              "      <td>0.551119</td>\n",
              "    </tr>\n",
              "    <tr>\n",
              "      <th>59378</th>\n",
              "      <td>1</td>\n",
              "      <td>0.104478</td>\n",
              "      <td>0.360969</td>\n",
              "    </tr>\n",
              "    <tr>\n",
              "      <th>59379</th>\n",
              "      <td>1</td>\n",
              "      <td>0.507463</td>\n",
              "      <td>0.462452</td>\n",
              "    </tr>\n",
              "    <tr>\n",
              "      <th>59380</th>\n",
              "      <td>1</td>\n",
              "      <td>0.447761</td>\n",
              "      <td>0.539563</td>\n",
              "    </tr>\n",
              "  </tbody>\n",
              "</table>\n",
              "<p>59381 rows × 3 columns</p>\n",
              "</div>"
            ],
            "text/plain": [
              "       Product_Info_1   Ins_Age       BMI\n",
              "0                   1  0.641791  0.323008\n",
              "1                   1  0.059701  0.272288\n",
              "2                   1  0.029851  0.428780\n",
              "3                   1  0.164179  0.352438\n",
              "4                   1  0.417910  0.424046\n",
              "...               ...       ...       ...\n",
              "59376               1  0.074627  0.519103\n",
              "59377               1  0.432836  0.551119\n",
              "59378               1  0.104478  0.360969\n",
              "59379               1  0.507463  0.462452\n",
              "59380               1  0.447761  0.539563\n",
              "\n",
              "[59381 rows x 3 columns]"
            ]
          },
          "metadata": {
            "tags": []
          },
          "execution_count": 8
        }
      ]
    },
    {
      "cell_type": "code",
      "metadata": {
        "id": "gSRooXhH58AJ",
        "outputId": "b24bee69-4641-4079-f742-9e46987e0aac",
        "colab": {
          "base_uri": "https://localhost:8080/"
        }
      },
      "source": [
        "df.dtypes"
      ],
      "execution_count": null,
      "outputs": [
        {
          "output_type": "execute_result",
          "data": {
            "text/plain": [
              "Product_Info_1      int64\n",
              "Ins_Age           float64\n",
              "BMI               float64\n",
              "dtype: object"
            ]
          },
          "metadata": {
            "tags": []
          },
          "execution_count": 9
        }
      ]
    },
    {
      "cell_type": "code",
      "metadata": {
        "id": "n9nP4bXB5-st",
        "outputId": "9614d1d8-d1a6-4542-9cec-ed648b17098c",
        "colab": {
          "base_uri": "https://localhost:8080/"
        }
      },
      "source": [
        "df.info()"
      ],
      "execution_count": null,
      "outputs": [
        {
          "output_type": "stream",
          "text": [
            "<class 'pandas.core.frame.DataFrame'>\n",
            "RangeIndex: 59381 entries, 0 to 59380\n",
            "Data columns (total 3 columns):\n",
            " #   Column          Non-Null Count  Dtype  \n",
            "---  ------          --------------  -----  \n",
            " 0   Product_Info_1  59381 non-null  int64  \n",
            " 1   Ins_Age         59381 non-null  float64\n",
            " 2   BMI             59381 non-null  float64\n",
            "dtypes: float64(2), int64(1)\n",
            "memory usage: 1.4 MB\n"
          ],
          "name": "stdout"
        }
      ]
    },
    {
      "cell_type": "code",
      "metadata": {
        "id": "cjsmRQeSoUMV",
        "outputId": "aa82fef7-67a0-4ef5-b4db-da94be81d377",
        "colab": {
          "base_uri": "https://localhost:8080/",
          "height": 204
        }
      },
      "source": [
        "#@title Data Preparation\n",
        "df.replace(\"?\", np.nan, inplace = True)\n",
        "df.head(5)"
      ],
      "execution_count": null,
      "outputs": [
        {
          "output_type": "execute_result",
          "data": {
            "text/html": [
              "<div>\n",
              "<style scoped>\n",
              "    .dataframe tbody tr th:only-of-type {\n",
              "        vertical-align: middle;\n",
              "    }\n",
              "\n",
              "    .dataframe tbody tr th {\n",
              "        vertical-align: top;\n",
              "    }\n",
              "\n",
              "    .dataframe thead th {\n",
              "        text-align: right;\n",
              "    }\n",
              "</style>\n",
              "<table border=\"1\" class=\"dataframe\">\n",
              "  <thead>\n",
              "    <tr style=\"text-align: right;\">\n",
              "      <th></th>\n",
              "      <th>Product_Info_1</th>\n",
              "      <th>Ins_Age</th>\n",
              "      <th>BMI</th>\n",
              "    </tr>\n",
              "  </thead>\n",
              "  <tbody>\n",
              "    <tr>\n",
              "      <th>0</th>\n",
              "      <td>1</td>\n",
              "      <td>0.641791</td>\n",
              "      <td>0.323008</td>\n",
              "    </tr>\n",
              "    <tr>\n",
              "      <th>1</th>\n",
              "      <td>1</td>\n",
              "      <td>0.059701</td>\n",
              "      <td>0.272288</td>\n",
              "    </tr>\n",
              "    <tr>\n",
              "      <th>2</th>\n",
              "      <td>1</td>\n",
              "      <td>0.029851</td>\n",
              "      <td>0.428780</td>\n",
              "    </tr>\n",
              "    <tr>\n",
              "      <th>3</th>\n",
              "      <td>1</td>\n",
              "      <td>0.164179</td>\n",
              "      <td>0.352438</td>\n",
              "    </tr>\n",
              "    <tr>\n",
              "      <th>4</th>\n",
              "      <td>1</td>\n",
              "      <td>0.417910</td>\n",
              "      <td>0.424046</td>\n",
              "    </tr>\n",
              "  </tbody>\n",
              "</table>\n",
              "</div>"
            ],
            "text/plain": [
              "   Product_Info_1   Ins_Age       BMI\n",
              "0               1  0.641791  0.323008\n",
              "1               1  0.059701  0.272288\n",
              "2               1  0.029851  0.428780\n",
              "3               1  0.164179  0.352438\n",
              "4               1  0.417910  0.424046"
            ]
          },
          "metadata": {
            "tags": []
          },
          "execution_count": 11
        }
      ]
    },
    {
      "cell_type": "code",
      "metadata": {
        "id": "4JnPTMD6orZr",
        "outputId": "cb85ab41-e915-4a85-84a4-240ead5aad74",
        "colab": {
          "base_uri": "https://localhost:8080/",
          "height": 204
        }
      },
      "source": [
        "missing_data = df.isnull()\n",
        "missing_data.head(5)"
      ],
      "execution_count": null,
      "outputs": [
        {
          "output_type": "execute_result",
          "data": {
            "text/html": [
              "<div>\n",
              "<style scoped>\n",
              "    .dataframe tbody tr th:only-of-type {\n",
              "        vertical-align: middle;\n",
              "    }\n",
              "\n",
              "    .dataframe tbody tr th {\n",
              "        vertical-align: top;\n",
              "    }\n",
              "\n",
              "    .dataframe thead th {\n",
              "        text-align: right;\n",
              "    }\n",
              "</style>\n",
              "<table border=\"1\" class=\"dataframe\">\n",
              "  <thead>\n",
              "    <tr style=\"text-align: right;\">\n",
              "      <th></th>\n",
              "      <th>Product_Info_1</th>\n",
              "      <th>Ins_Age</th>\n",
              "      <th>BMI</th>\n",
              "    </tr>\n",
              "  </thead>\n",
              "  <tbody>\n",
              "    <tr>\n",
              "      <th>0</th>\n",
              "      <td>False</td>\n",
              "      <td>False</td>\n",
              "      <td>False</td>\n",
              "    </tr>\n",
              "    <tr>\n",
              "      <th>1</th>\n",
              "      <td>False</td>\n",
              "      <td>False</td>\n",
              "      <td>False</td>\n",
              "    </tr>\n",
              "    <tr>\n",
              "      <th>2</th>\n",
              "      <td>False</td>\n",
              "      <td>False</td>\n",
              "      <td>False</td>\n",
              "    </tr>\n",
              "    <tr>\n",
              "      <th>3</th>\n",
              "      <td>False</td>\n",
              "      <td>False</td>\n",
              "      <td>False</td>\n",
              "    </tr>\n",
              "    <tr>\n",
              "      <th>4</th>\n",
              "      <td>False</td>\n",
              "      <td>False</td>\n",
              "      <td>False</td>\n",
              "    </tr>\n",
              "  </tbody>\n",
              "</table>\n",
              "</div>"
            ],
            "text/plain": [
              "   Product_Info_1  Ins_Age    BMI\n",
              "0           False    False  False\n",
              "1           False    False  False\n",
              "2           False    False  False\n",
              "3           False    False  False\n",
              "4           False    False  False"
            ]
          },
          "metadata": {
            "tags": []
          },
          "execution_count": 12
        }
      ]
    },
    {
      "cell_type": "code",
      "metadata": {
        "id": "9ANOlt116GP5"
      },
      "source": [
        "df.dropna(subset=[\"Product_Info_1\"], axis=0, inplace= True)"
      ],
      "execution_count": null,
      "outputs": []
    },
    {
      "cell_type": "code",
      "metadata": {
        "id": "D9Z9tZudo0F8",
        "outputId": "24705439-7c0b-48d8-cd03-27564acd1593",
        "colab": {
          "base_uri": "https://localhost:8080/"
        }
      },
      "source": [
        "avg_norm_loss = df[\"Product_Info_1\"].astype(\"float\").mean(axis=0)\n",
        "print(\"Average of Product_Info_1:\", avg_norm_loss)"
      ],
      "execution_count": null,
      "outputs": [
        {
          "output_type": "stream",
          "text": [
            "Average of Product_Info_1: 1.026355231471346\n"
          ],
          "name": "stdout"
        }
      ]
    },
    {
      "cell_type": "code",
      "metadata": {
        "id": "Xr0k1IDqpHHl"
      },
      "source": [
        "df[\"Product_Info_1\"].replace(np.nan, avg_norm_loss, inplace=True)"
      ],
      "execution_count": null,
      "outputs": []
    },
    {
      "cell_type": "code",
      "metadata": {
        "id": "twaH54jx_HnN",
        "outputId": "4636de84-5e39-42d8-ad23-3dc4201b6e0d",
        "colab": {
          "base_uri": "https://localhost:8080/"
        }
      },
      "source": [
        "df[\"Product_Info_1\"].tail()"
      ],
      "execution_count": null,
      "outputs": [
        {
          "output_type": "execute_result",
          "data": {
            "text/plain": [
              "59376    1\n",
              "59377    1\n",
              "59378    1\n",
              "59379    1\n",
              "59380    1\n",
              "Name: Product_Info_1, dtype: int64"
            ]
          },
          "metadata": {
            "tags": []
          },
          "execution_count": 16
        }
      ]
    },
    {
      "cell_type": "code",
      "metadata": {
        "id": "wdlAKemSpY_m"
      },
      "source": [
        "# simply drop whole row with NaN in \"price\" column\n",
        "df.dropna(subset=[\"Product_Info_1\"], axis=0, inplace=True)\n",
        "\n",
        "# reset index, because we droped two rows\n",
        "df.reset_index(drop=True, inplace=True)"
      ],
      "execution_count": null,
      "outputs": []
    },
    {
      "cell_type": "code",
      "metadata": {
        "id": "JW4IrBg__f9Y"
      },
      "source": [
        "df[\"Product_Info_1\"] = df[\"Product_Info_1\"].astype(\"int\")"
      ],
      "execution_count": null,
      "outputs": []
    },
    {
      "cell_type": "code",
      "metadata": {
        "id": "QB6jHrmd_zFl"
      },
      "source": [
        "#@title Normalisasi\n",
        "df[\"Product_Info_1\"] = (df[\"Product_Info_1\"]-df[\"Product_Info_1\"].min())/(df[\"Product_Info_1\"].max()-df[\"Product_Info_1\"].min())"
      ],
      "execution_count": null,
      "outputs": []
    },
    {
      "cell_type": "code",
      "metadata": {
        "id": "BbhrEBl7BqAK"
      },
      "source": [
        "df[\"Product_Info_1\"] = (df[\"Product_Info_1\"].mean())/df[\"Product_Info_1\"].std()"
      ],
      "execution_count": null,
      "outputs": []
    },
    {
      "cell_type": "code",
      "metadata": {
        "id": "Y9kZCD-IqIwK",
        "outputId": "78dc7d7f-c4c9-48bc-9329-6026561c0fc8",
        "colab": {
          "base_uri": "https://localhost:8080/",
          "height": 419
        }
      },
      "source": [
        "df"
      ],
      "execution_count": null,
      "outputs": [
        {
          "output_type": "execute_result",
          "data": {
            "text/html": [
              "<div>\n",
              "<style scoped>\n",
              "    .dataframe tbody tr th:only-of-type {\n",
              "        vertical-align: middle;\n",
              "    }\n",
              "\n",
              "    .dataframe tbody tr th {\n",
              "        vertical-align: top;\n",
              "    }\n",
              "\n",
              "    .dataframe thead th {\n",
              "        text-align: right;\n",
              "    }\n",
              "</style>\n",
              "<table border=\"1\" class=\"dataframe\">\n",
              "  <thead>\n",
              "    <tr style=\"text-align: right;\">\n",
              "      <th></th>\n",
              "      <th>Product_Info_1</th>\n",
              "      <th>Ins_Age</th>\n",
              "      <th>BMI</th>\n",
              "    </tr>\n",
              "  </thead>\n",
              "  <tbody>\n",
              "    <tr>\n",
              "      <th>0</th>\n",
              "      <td>0.164524</td>\n",
              "      <td>0.641791</td>\n",
              "      <td>0.323008</td>\n",
              "    </tr>\n",
              "    <tr>\n",
              "      <th>1</th>\n",
              "      <td>0.164524</td>\n",
              "      <td>0.059701</td>\n",
              "      <td>0.272288</td>\n",
              "    </tr>\n",
              "    <tr>\n",
              "      <th>2</th>\n",
              "      <td>0.164524</td>\n",
              "      <td>0.029851</td>\n",
              "      <td>0.428780</td>\n",
              "    </tr>\n",
              "    <tr>\n",
              "      <th>3</th>\n",
              "      <td>0.164524</td>\n",
              "      <td>0.164179</td>\n",
              "      <td>0.352438</td>\n",
              "    </tr>\n",
              "    <tr>\n",
              "      <th>4</th>\n",
              "      <td>0.164524</td>\n",
              "      <td>0.417910</td>\n",
              "      <td>0.424046</td>\n",
              "    </tr>\n",
              "    <tr>\n",
              "      <th>...</th>\n",
              "      <td>...</td>\n",
              "      <td>...</td>\n",
              "      <td>...</td>\n",
              "    </tr>\n",
              "    <tr>\n",
              "      <th>59376</th>\n",
              "      <td>0.164524</td>\n",
              "      <td>0.074627</td>\n",
              "      <td>0.519103</td>\n",
              "    </tr>\n",
              "    <tr>\n",
              "      <th>59377</th>\n",
              "      <td>0.164524</td>\n",
              "      <td>0.432836</td>\n",
              "      <td>0.551119</td>\n",
              "    </tr>\n",
              "    <tr>\n",
              "      <th>59378</th>\n",
              "      <td>0.164524</td>\n",
              "      <td>0.104478</td>\n",
              "      <td>0.360969</td>\n",
              "    </tr>\n",
              "    <tr>\n",
              "      <th>59379</th>\n",
              "      <td>0.164524</td>\n",
              "      <td>0.507463</td>\n",
              "      <td>0.462452</td>\n",
              "    </tr>\n",
              "    <tr>\n",
              "      <th>59380</th>\n",
              "      <td>0.164524</td>\n",
              "      <td>0.447761</td>\n",
              "      <td>0.539563</td>\n",
              "    </tr>\n",
              "  </tbody>\n",
              "</table>\n",
              "<p>59381 rows × 3 columns</p>\n",
              "</div>"
            ],
            "text/plain": [
              "       Product_Info_1   Ins_Age       BMI\n",
              "0            0.164524  0.641791  0.323008\n",
              "1            0.164524  0.059701  0.272288\n",
              "2            0.164524  0.029851  0.428780\n",
              "3            0.164524  0.164179  0.352438\n",
              "4            0.164524  0.417910  0.424046\n",
              "...               ...       ...       ...\n",
              "59376        0.164524  0.074627  0.519103\n",
              "59377        0.164524  0.432836  0.551119\n",
              "59378        0.164524  0.104478  0.360969\n",
              "59379        0.164524  0.507463  0.462452\n",
              "59380        0.164524  0.447761  0.539563\n",
              "\n",
              "[59381 rows x 3 columns]"
            ]
          },
          "metadata": {
            "tags": []
          },
          "execution_count": 21
        }
      ]
    },
    {
      "cell_type": "code",
      "metadata": {
        "id": "TQE2LMg3-Rof"
      },
      "source": [
        ""
      ],
      "execution_count": null,
      "outputs": []
    },
    {
      "cell_type": "code",
      "metadata": {
        "id": "xg1GyZx7qMOt",
        "cellView": "both",
        "outputId": "0923a1a9-5da2-4c87-a4f2-dd73d960b2f7",
        "colab": {
          "base_uri": "https://localhost:8080/",
          "height": 313
        }
      },
      "source": [
        "#@title Data visualisation\n",
        "%matplotlib inline\n",
        "import matplotlib as plt\n",
        "from matplotlib import pyplot\n",
        "plt.pyplot.hist(df[\"Ins_Age\"])\n",
        "\n",
        "# set x/y labels and plot title\n",
        "plt.pyplot.xlabel(\"Ins_Age\")\n",
        "plt.pyplot.ylabel(\"count\")\n",
        "plt.pyplot.title(\"Ins_Age bins\")"
      ],
      "execution_count": null,
      "outputs": [
        {
          "output_type": "execute_result",
          "data": {
            "text/plain": [
              "Text(0.5, 1.0, 'Ins_Age bins')"
            ]
          },
          "metadata": {
            "tags": []
          },
          "execution_count": 22
        },
        {
          "output_type": "display_data",
          "data": {
            "image/png": "[encoded data removed]",
            "text/plain": [
              "<Figure size 432x288 with 1 Axes>"
            ]
          },
          "metadata": {
            "tags": [],
            "needs_background": "light"
          }
        }
      ]
    },
    {
      "cell_type": "code",
      "metadata": {
        "id": "HwvjQJkhqfVh",
        "outputId": "1284d483-0dd7-4e33-91d6-3439f76c4ac9",
        "colab": {
          "base_uri": "https://localhost:8080/"
        }
      },
      "source": [
        "bins = np.linspace(min(df[\"Ins_Age\"]), max(df[\"Ins_Age\"]), 4)\n",
        "bins"
      ],
      "execution_count": null,
      "outputs": [
        {
          "output_type": "execute_result",
          "data": {
            "text/plain": [
              "array([0.        , 0.33333333, 0.66666667, 1.        ])"
            ]
          },
          "metadata": {
            "tags": []
          },
          "execution_count": 23
        }
      ]
    },
    {
      "cell_type": "code",
      "metadata": {
        "id": "P-TVrZXHqm3I"
      },
      "source": [
        "group_names = ['Low', 'Medium', 'High']"
      ],
      "execution_count": null,
      "outputs": []
    },
    {
      "cell_type": "code",
      "metadata": {
        "id": "c_JS4R1Gqq7z",
        "outputId": "34680152-1dd1-42bd-94f2-863110d02084",
        "colab": {
          "base_uri": "https://localhost:8080/",
          "height": 669
        }
      },
      "source": [
        "df['Ins_Age-binned'] = pd.cut(df['Ins_Age'], bins, labels=group_names, include_lowest=True )\n",
        "df[['Ins_Age','Ins_Age-binned']].head(20)"
      ],
      "execution_count": null,
      "outputs": [
        {
          "output_type": "execute_result",
          "data": {
            "text/html": [
              "<div>\n",
              "<style scoped>\n",
              "    .dataframe tbody tr th:only-of-type {\n",
              "        vertical-align: middle;\n",
              "    }\n",
              "\n",
              "    .dataframe tbody tr th {\n",
              "        vertical-align: top;\n",
              "    }\n",
              "\n",
              "    .dataframe thead th {\n",
              "        text-align: right;\n",
              "    }\n",
              "</style>\n",
              "<table border=\"1\" class=\"dataframe\">\n",
              "  <thead>\n",
              "    <tr style=\"text-align: right;\">\n",
              "      <th></th>\n",
              "      <th>Ins_Age</th>\n",
              "      <th>Ins_Age-binned</th>\n",
              "    </tr>\n",
              "  </thead>\n",
              "  <tbody>\n",
              "    <tr>\n",
              "      <th>0</th>\n",
              "      <td>0.641791</td>\n",
              "      <td>Medium</td>\n",
              "    </tr>\n",
              "    <tr>\n",
              "      <th>1</th>\n",
              "      <td>0.059701</td>\n",
              "      <td>Low</td>\n",
              "    </tr>\n",
              "    <tr>\n",
              "      <th>2</th>\n",
              "      <td>0.029851</td>\n",
              "      <td>Low</td>\n",
              "    </tr>\n",
              "    <tr>\n",
              "      <th>3</th>\n",
              "      <td>0.164179</td>\n",
              "      <td>Low</td>\n",
              "    </tr>\n",
              "    <tr>\n",
              "      <th>4</th>\n",
              "      <td>0.417910</td>\n",
              "      <td>Medium</td>\n",
              "    </tr>\n",
              "    <tr>\n",
              "      <th>5</th>\n",
              "      <td>0.507463</td>\n",
              "      <td>Medium</td>\n",
              "    </tr>\n",
              "    <tr>\n",
              "      <th>6</th>\n",
              "      <td>0.373134</td>\n",
              "      <td>Medium</td>\n",
              "    </tr>\n",
              "    <tr>\n",
              "      <th>7</th>\n",
              "      <td>0.611940</td>\n",
              "      <td>Medium</td>\n",
              "    </tr>\n",
              "    <tr>\n",
              "      <th>8</th>\n",
              "      <td>0.522388</td>\n",
              "      <td>Medium</td>\n",
              "    </tr>\n",
              "    <tr>\n",
              "      <th>9</th>\n",
              "      <td>0.552239</td>\n",
              "      <td>Medium</td>\n",
              "    </tr>\n",
              "    <tr>\n",
              "      <th>10</th>\n",
              "      <td>0.537313</td>\n",
              "      <td>Medium</td>\n",
              "    </tr>\n",
              "    <tr>\n",
              "      <th>11</th>\n",
              "      <td>0.298507</td>\n",
              "      <td>Low</td>\n",
              "    </tr>\n",
              "    <tr>\n",
              "      <th>12</th>\n",
              "      <td>0.567164</td>\n",
              "      <td>Medium</td>\n",
              "    </tr>\n",
              "    <tr>\n",
              "      <th>13</th>\n",
              "      <td>0.223881</td>\n",
              "      <td>Low</td>\n",
              "    </tr>\n",
              "    <tr>\n",
              "      <th>14</th>\n",
              "      <td>0.328358</td>\n",
              "      <td>Low</td>\n",
              "    </tr>\n",
              "    <tr>\n",
              "      <th>15</th>\n",
              "      <td>0.626866</td>\n",
              "      <td>Medium</td>\n",
              "    </tr>\n",
              "    <tr>\n",
              "      <th>16</th>\n",
              "      <td>0.208955</td>\n",
              "      <td>Low</td>\n",
              "    </tr>\n",
              "    <tr>\n",
              "      <th>17</th>\n",
              "      <td>0.268657</td>\n",
              "      <td>Low</td>\n",
              "    </tr>\n",
              "    <tr>\n",
              "      <th>18</th>\n",
              "      <td>0.388060</td>\n",
              "      <td>Medium</td>\n",
              "    </tr>\n",
              "    <tr>\n",
              "      <th>19</th>\n",
              "      <td>0.223881</td>\n",
              "      <td>Low</td>\n",
              "    </tr>\n",
              "  </tbody>\n",
              "</table>\n",
              "</div>"
            ],
            "text/plain": [
              "     Ins_Age Ins_Age-binned\n",
              "0   0.641791         Medium\n",
              "1   0.059701            Low\n",
              "2   0.029851            Low\n",
              "3   0.164179            Low\n",
              "4   0.417910         Medium\n",
              "5   0.507463         Medium\n",
              "6   0.373134         Medium\n",
              "7   0.611940         Medium\n",
              "8   0.522388         Medium\n",
              "9   0.552239         Medium\n",
              "10  0.537313         Medium\n",
              "11  0.298507            Low\n",
              "12  0.567164         Medium\n",
              "13  0.223881            Low\n",
              "14  0.328358            Low\n",
              "15  0.626866         Medium\n",
              "16  0.208955            Low\n",
              "17  0.268657            Low\n",
              "18  0.388060         Medium\n",
              "19  0.223881            Low"
            ]
          },
          "metadata": {
            "tags": []
          },
          "execution_count": 25
        }
      ]
    },
    {
      "cell_type": "code",
      "metadata": {
        "id": "3khaFa6ZqxWh",
        "outputId": "77051e49-6ab5-461d-d71c-7612aeff749e",
        "colab": {
          "base_uri": "https://localhost:8080/"
        }
      },
      "source": [
        "df[\"Ins_Age\"].value_counts()"
      ],
      "execution_count": null,
      "outputs": [
        {
          "output_type": "execute_result",
          "data": {
            "text/plain": [
              "0.537313    1556\n",
              "0.447761    1551\n",
              "0.522388    1551\n",
              "0.223881    1503\n",
              "0.194030    1481\n",
              "            ... \n",
              "0.895522      18\n",
              "0.910448      11\n",
              "0.925373       3\n",
              "0.970149       1\n",
              "1.000000       1\n",
              "Name: Ins_Age, Length: 65, dtype: int64"
            ]
          },
          "metadata": {
            "tags": []
          },
          "execution_count": 26
        }
      ]
    },
    {
      "cell_type": "code",
      "metadata": {
        "id": "LNSpOA1Tq37I",
        "outputId": "04cc5a37-9a94-4b77-e6a2-fc540d1db5f7",
        "colab": {
          "base_uri": "https://localhost:8080/",
          "height": 313
        }
      },
      "source": [
        "%matplotlib inline\n",
        "import matplotlib as plt\n",
        "from matplotlib import pyplot\n",
        "pyplot.bar(group_names, df[\"Ins_Age-binned\"].value_counts())\n",
        "\n",
        "# set x/y labels and plot title\n",
        "plt.pyplot.xlabel(\"Ins_Age\")\n",
        "plt.pyplot.ylabel(\"count\")\n",
        "plt.pyplot.title(\"Ins_Age bins\")"
      ],
      "execution_count": null,
      "outputs": [
        {
          "output_type": "execute_result",
          "data": {
            "text/plain": [
              "Text(0.5, 1.0, 'Ins_Age bins')"
            ]
          },
          "metadata": {
            "tags": []
          },
          "execution_count": 27
        },
        {
          "output_type": "display_data",
          "data": {
            "image/png": "[encoded data removed]",
            "text/plain": [
              "<Figure size 432x288 with 1 Axes>"
            ]
          },
          "metadata": {
            "tags": [],
            "needs_background": "light"
          }
        }
      ]
    },
    {
      "cell_type": "code",
      "metadata": {
        "id": "5kklfG4_q_pe",
        "outputId": "d1259ac6-1a9a-4ce9-e31e-788be62ede1b",
        "colab": {
          "base_uri": "https://localhost:8080/",
          "height": 313
        }
      },
      "source": [
        "%matplotlib inline\n",
        "import matplotlib as plt\n",
        "from matplotlib import pyplot\n",
        "\n",
        "a = (0,1,2)\n",
        "\n",
        "# draw historgram of attribute \"horsepower\" with bins = 3\n",
        "plt.pyplot.hist(df[\"Ins_Age\"], bins = 3)\n",
        "\n",
        "# set x/y labels and plot title\n",
        "plt.pyplot.xlabel(\"Ins_Age\")\n",
        "plt.pyplot.ylabel(\"count\")\n",
        "plt.pyplot.title(\"Ins_Age bins\")"
      ],
      "execution_count": null,
      "outputs": [
        {
          "output_type": "execute_result",
          "data": {
            "text/plain": [
              "Text(0.5, 1.0, 'Ins_Age bins')"
            ]
          },
          "metadata": {
            "tags": []
          },
          "execution_count": 28
        },
        {
          "output_type": "display_data",
          "data": {
            "image/png": "[encoded data removed]",
            "text/plain": [
              "<Figure size 432x288 with 1 Axes>"
            ]
          },
          "metadata": {
            "tags": [],
            "needs_background": "light"
          }
        }
      ]
    },
    {
      "cell_type": "code",
      "metadata": {
        "id": "aff8T3N7rNBr",
        "outputId": "1c72bd10-419d-461a-ec97-74de28ee23e5",
        "colab": {
          "base_uri": "https://localhost:8080/"
        }
      },
      "source": [
        "df.columns"
      ],
      "execution_count": null,
      "outputs": [
        {
          "output_type": "execute_result",
          "data": {
            "text/plain": [
              "Index(['Product_Info_1', 'Ins_Age', 'BMI', 'Ins_Age-binned'], dtype='object')"
            ]
          },
          "metadata": {
            "tags": []
          },
          "execution_count": 29
        }
      ]
    }
  ]
}